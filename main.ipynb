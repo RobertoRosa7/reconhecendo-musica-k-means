{
 "cells": [
  {
   "cell_type": "code",
   "execution_count": 1,
   "metadata": {},
   "outputs": [],
   "source": [
    "import pandas as pd\n",
    "import numpy as np\n",
    "import spotipy as spy\n",
    "import plotly.express as px\n",
    "import os\n",
    "import matplotlib.pyplot as plt\n",
    "\n",
    "from sklearn.cluster import KMeans\n",
    "from sklearn.pipeline import Pipeline\n",
    "from sklearn.preprocessing import StandardScaler\n",
    "from sklearn.decomposition import PCA\n",
    "from sklearn.metrics.pairwise import euclidean_distances\n",
    "from spotipy.oauth2 import SpotifyOAuth\n",
    "from spotipy.oauth2 import SpotifyClientCredentials\n",
    "from skimage import io\n"
   ]
  },
  {
   "cell_type": "code",
   "execution_count": 2,
   "metadata": {},
   "outputs": [],
   "source": [
    "with open('../.env') as file:\n",
    "    for line in file:\n",
    "        if line.startswith('#') or not line.strip():\n",
    "            continue\n",
    "\n",
    "        key, value = line.strip().split('=', 1)\n",
    "        os.environ[key] = value\n"
   ]
  },
  {
   "cell_type": "code",
   "execution_count": 3,
   "metadata": {},
   "outputs": [],
   "source": [
    "dados = pd.read_csv(\"../data/files/dados_reduzidos.csv\",\n",
    "                    sep=\",\", encoding=\"utf-8\")\n",
    "\n",
    "dados_generos = pd.read_csv(\n",
    "    \"../data/files/data_by_genres.csv\", sep=\",\", encoding=\"utf-8\")\n",
    "\n",
    "dados_anos = pd.read_csv(\n",
    "    \"../data/files/data_by_year.csv\", sep=\",\", encoding=\"utf-8\")"
   ]
  },
  {
   "cell_type": "code",
   "execution_count": 4,
   "metadata": {},
   "outputs": [
    {
     "data": {
      "text/html": [
       "<div>\n",
       "<style scoped>\n",
       "    .dataframe tbody tr th:only-of-type {\n",
       "        vertical-align: middle;\n",
       "    }\n",
       "\n",
       "    .dataframe tbody tr th {\n",
       "        vertical-align: top;\n",
       "    }\n",
       "\n",
       "    .dataframe thead th {\n",
       "        text-align: right;\n",
       "    }\n",
       "</style>\n",
       "<table border=\"1\" class=\"dataframe\">\n",
       "  <thead>\n",
       "    <tr style=\"text-align: right;\">\n",
       "      <th></th>\n",
       "      <th>mode</th>\n",
       "      <th>genres</th>\n",
       "      <th>acousticness</th>\n",
       "      <th>danceability</th>\n",
       "      <th>duration_ms</th>\n",
       "      <th>energy</th>\n",
       "      <th>instrumentalness</th>\n",
       "      <th>liveness</th>\n",
       "      <th>loudness</th>\n",
       "      <th>speechiness</th>\n",
       "      <th>tempo</th>\n",
       "      <th>valence</th>\n",
       "      <th>popularity</th>\n",
       "      <th>key</th>\n",
       "    </tr>\n",
       "  </thead>\n",
       "  <tbody>\n",
       "    <tr>\n",
       "      <th>0</th>\n",
       "      <td>1</td>\n",
       "      <td>21st century classical</td>\n",
       "      <td>0.979333</td>\n",
       "      <td>0.162883</td>\n",
       "      <td>1.602977e+05</td>\n",
       "      <td>0.071317</td>\n",
       "      <td>0.606834</td>\n",
       "      <td>0.3616</td>\n",
       "      <td>-31.514333</td>\n",
       "      <td>0.040567</td>\n",
       "      <td>75.336500</td>\n",
       "      <td>0.103783</td>\n",
       "      <td>27.833333</td>\n",
       "      <td>6</td>\n",
       "    </tr>\n",
       "    <tr>\n",
       "      <th>1</th>\n",
       "      <td>1</td>\n",
       "      <td>432hz</td>\n",
       "      <td>0.494780</td>\n",
       "      <td>0.299333</td>\n",
       "      <td>1.048887e+06</td>\n",
       "      <td>0.450678</td>\n",
       "      <td>0.477762</td>\n",
       "      <td>0.1310</td>\n",
       "      <td>-16.854000</td>\n",
       "      <td>0.076817</td>\n",
       "      <td>120.285667</td>\n",
       "      <td>0.221750</td>\n",
       "      <td>52.500000</td>\n",
       "      <td>5</td>\n",
       "    </tr>\n",
       "  </tbody>\n",
       "</table>\n",
       "</div>"
      ],
      "text/plain": [
       "   mode                  genres  acousticness  danceability   duration_ms  \\\n",
       "0     1  21st century classical      0.979333      0.162883  1.602977e+05   \n",
       "1     1                   432hz      0.494780      0.299333  1.048887e+06   \n",
       "\n",
       "     energy  instrumentalness  liveness   loudness  speechiness       tempo  \\\n",
       "0  0.071317          0.606834    0.3616 -31.514333     0.040567   75.336500   \n",
       "1  0.450678          0.477762    0.1310 -16.854000     0.076817  120.285667   \n",
       "\n",
       "    valence  popularity  key  \n",
       "0  0.103783   27.833333    6  \n",
       "1  0.221750   52.500000    5  "
      ]
     },
     "execution_count": 4,
     "metadata": {},
     "output_type": "execute_result"
    }
   ],
   "source": [
    "dados_generos.head(2)\n"
   ]
  },
  {
   "cell_type": "code",
   "execution_count": 5,
   "metadata": {},
   "outputs": [
    {
     "data": {
      "text/html": [
       "<div>\n",
       "<style scoped>\n",
       "    .dataframe tbody tr th:only-of-type {\n",
       "        vertical-align: middle;\n",
       "    }\n",
       "\n",
       "    .dataframe tbody tr th {\n",
       "        vertical-align: top;\n",
       "    }\n",
       "\n",
       "    .dataframe thead th {\n",
       "        text-align: right;\n",
       "    }\n",
       "</style>\n",
       "<table border=\"1\" class=\"dataframe\">\n",
       "  <thead>\n",
       "    <tr style=\"text-align: right;\">\n",
       "      <th></th>\n",
       "      <th>mode</th>\n",
       "      <th>year</th>\n",
       "      <th>acousticness</th>\n",
       "      <th>danceability</th>\n",
       "      <th>duration_ms</th>\n",
       "      <th>energy</th>\n",
       "      <th>instrumentalness</th>\n",
       "      <th>liveness</th>\n",
       "      <th>loudness</th>\n",
       "      <th>speechiness</th>\n",
       "      <th>tempo</th>\n",
       "      <th>valence</th>\n",
       "      <th>popularity</th>\n",
       "      <th>key</th>\n",
       "    </tr>\n",
       "  </thead>\n",
       "  <tbody>\n",
       "    <tr>\n",
       "      <th>0</th>\n",
       "      <td>1</td>\n",
       "      <td>1921</td>\n",
       "      <td>0.886896</td>\n",
       "      <td>0.418597</td>\n",
       "      <td>260537.166667</td>\n",
       "      <td>0.231815</td>\n",
       "      <td>0.344878</td>\n",
       "      <td>0.20571</td>\n",
       "      <td>-17.048667</td>\n",
       "      <td>0.073662</td>\n",
       "      <td>101.531493</td>\n",
       "      <td>0.379327</td>\n",
       "      <td>0.653333</td>\n",
       "      <td>2</td>\n",
       "    </tr>\n",
       "    <tr>\n",
       "      <th>1</th>\n",
       "      <td>1</td>\n",
       "      <td>1922</td>\n",
       "      <td>0.938592</td>\n",
       "      <td>0.482042</td>\n",
       "      <td>165469.746479</td>\n",
       "      <td>0.237815</td>\n",
       "      <td>0.434195</td>\n",
       "      <td>0.24072</td>\n",
       "      <td>-19.275282</td>\n",
       "      <td>0.116655</td>\n",
       "      <td>100.884521</td>\n",
       "      <td>0.535549</td>\n",
       "      <td>0.140845</td>\n",
       "      <td>10</td>\n",
       "    </tr>\n",
       "  </tbody>\n",
       "</table>\n",
       "</div>"
      ],
      "text/plain": [
       "   mode  year  acousticness  danceability    duration_ms    energy  \\\n",
       "0     1  1921      0.886896      0.418597  260537.166667  0.231815   \n",
       "1     1  1922      0.938592      0.482042  165469.746479  0.237815   \n",
       "\n",
       "   instrumentalness  liveness   loudness  speechiness       tempo   valence  \\\n",
       "0          0.344878   0.20571 -17.048667     0.073662  101.531493  0.379327   \n",
       "1          0.434195   0.24072 -19.275282     0.116655  100.884521  0.535549   \n",
       "\n",
       "   popularity  key  \n",
       "0    0.653333    2  \n",
       "1    0.140845   10  "
      ]
     },
     "execution_count": 5,
     "metadata": {},
     "output_type": "execute_result"
    }
   ],
   "source": [
    "dados_anos.head(2)\n"
   ]
  },
  {
   "cell_type": "code",
   "execution_count": 6,
   "metadata": {},
   "outputs": [
    {
     "data": {
      "text/html": [
       "<div>\n",
       "<style scoped>\n",
       "    .dataframe tbody tr th:only-of-type {\n",
       "        vertical-align: middle;\n",
       "    }\n",
       "\n",
       "    .dataframe tbody tr th {\n",
       "        vertical-align: top;\n",
       "    }\n",
       "\n",
       "    .dataframe thead th {\n",
       "        text-align: right;\n",
       "    }\n",
       "</style>\n",
       "<table border=\"1\" class=\"dataframe\">\n",
       "  <thead>\n",
       "    <tr style=\"text-align: right;\">\n",
       "      <th></th>\n",
       "      <th>valence</th>\n",
       "      <th>year</th>\n",
       "      <th>acousticness</th>\n",
       "      <th>artists</th>\n",
       "      <th>danceability</th>\n",
       "      <th>duration_ms</th>\n",
       "      <th>energy</th>\n",
       "      <th>explicit</th>\n",
       "      <th>id</th>\n",
       "      <th>instrumentalness</th>\n",
       "      <th>key</th>\n",
       "      <th>liveness</th>\n",
       "      <th>loudness</th>\n",
       "      <th>mode</th>\n",
       "      <th>name</th>\n",
       "      <th>popularity</th>\n",
       "      <th>release_date</th>\n",
       "      <th>speechiness</th>\n",
       "      <th>tempo</th>\n",
       "      <th>artists_song</th>\n",
       "    </tr>\n",
       "  </thead>\n",
       "  <tbody>\n",
       "    <tr>\n",
       "      <th>0</th>\n",
       "      <td>0.0594</td>\n",
       "      <td>1921</td>\n",
       "      <td>0.982</td>\n",
       "      <td>Sergei Rachmaninoff</td>\n",
       "      <td>0.279</td>\n",
       "      <td>831667</td>\n",
       "      <td>0.211</td>\n",
       "      <td>0</td>\n",
       "      <td>4BJqT0PrAfrxzMOxytFOIz</td>\n",
       "      <td>0.878</td>\n",
       "      <td>10</td>\n",
       "      <td>0.665</td>\n",
       "      <td>-20.096</td>\n",
       "      <td>1</td>\n",
       "      <td>Piano Concerto No. 3 in D Minor, Op. 30: III. ...</td>\n",
       "      <td>4</td>\n",
       "      <td>1921</td>\n",
       "      <td>0.0366</td>\n",
       "      <td>80.954</td>\n",
       "      <td>Sergei Rachmaninoff - Piano Concerto No. 3 in ...</td>\n",
       "    </tr>\n",
       "    <tr>\n",
       "      <th>1</th>\n",
       "      <td>0.0394</td>\n",
       "      <td>1921</td>\n",
       "      <td>0.961</td>\n",
       "      <td>KHP Kridhamardawa Karaton Ngayogyakarta Hadini...</td>\n",
       "      <td>0.328</td>\n",
       "      <td>500062</td>\n",
       "      <td>0.166</td>\n",
       "      <td>0</td>\n",
       "      <td>1o6I8BglA6ylDMrIELygv1</td>\n",
       "      <td>0.913</td>\n",
       "      <td>3</td>\n",
       "      <td>0.101</td>\n",
       "      <td>-14.850</td>\n",
       "      <td>1</td>\n",
       "      <td>Gati Bali</td>\n",
       "      <td>5</td>\n",
       "      <td>1921</td>\n",
       "      <td>0.0339</td>\n",
       "      <td>110.339</td>\n",
       "      <td>KHP Kridhamardawa Karaton Ngayogyakarta Hadini...</td>\n",
       "    </tr>\n",
       "  </tbody>\n",
       "</table>\n",
       "</div>"
      ],
      "text/plain": [
       "   valence  year  acousticness  \\\n",
       "0   0.0594  1921         0.982   \n",
       "1   0.0394  1921         0.961   \n",
       "\n",
       "                                             artists  danceability  \\\n",
       "0                                Sergei Rachmaninoff         0.279   \n",
       "1  KHP Kridhamardawa Karaton Ngayogyakarta Hadini...         0.328   \n",
       "\n",
       "   duration_ms  energy  explicit                      id  instrumentalness  \\\n",
       "0       831667   0.211         0  4BJqT0PrAfrxzMOxytFOIz             0.878   \n",
       "1       500062   0.166         0  1o6I8BglA6ylDMrIELygv1             0.913   \n",
       "\n",
       "   key  liveness  loudness  mode  \\\n",
       "0   10     0.665   -20.096     1   \n",
       "1    3     0.101   -14.850     1   \n",
       "\n",
       "                                                name  popularity release_date  \\\n",
       "0  Piano Concerto No. 3 in D Minor, Op. 30: III. ...           4         1921   \n",
       "1                                          Gati Bali           5         1921   \n",
       "\n",
       "   speechiness    tempo                                       artists_song  \n",
       "0       0.0366   80.954  Sergei Rachmaninoff - Piano Concerto No. 3 in ...  \n",
       "1       0.0339  110.339  KHP Kridhamardawa Karaton Ngayogyakarta Hadini...  "
      ]
     },
     "execution_count": 6,
     "metadata": {},
     "output_type": "execute_result"
    }
   ],
   "source": [
    "dados.head(2)\n"
   ]
  },
  {
   "cell_type": "code",
   "execution_count": 7,
   "metadata": {},
   "outputs": [
    {
     "data": {
      "text/plain": [
       "array([2000, 2001, 2002, 2003, 2004, 2005, 2006, 2007, 2008, 2009, 2010,\n",
       "       2011, 2012, 2013, 2014, 2015, 2016, 2017, 2018, 2019, 2020],\n",
       "      dtype=int64)"
      ]
     },
     "execution_count": 7,
     "metadata": {},
     "output_type": "execute_result"
    }
   ],
   "source": [
    "dados = dados[dados.year >= 2000]\n",
    "dados[\"year\"].unique()\n"
   ]
  },
  {
   "cell_type": "code",
   "execution_count": 8,
   "metadata": {},
   "outputs": [
    {
     "data": {
      "text/plain": [
       "(21546, 20)"
      ]
     },
     "execution_count": 8,
     "metadata": {},
     "output_type": "execute_result"
    }
   ],
   "source": [
    "dados.shape\n"
   ]
  },
  {
   "cell_type": "code",
   "execution_count": 9,
   "metadata": {},
   "outputs": [],
   "source": [
    "dados = dados.drop([\"explicit\", \"key\", \"mode\"], axis=1)\n"
   ]
  },
  {
   "cell_type": "code",
   "execution_count": 10,
   "metadata": {},
   "outputs": [
    {
     "data": {
      "text/plain": [
       "(21546, 17)"
      ]
     },
     "execution_count": 10,
     "metadata": {},
     "output_type": "execute_result"
    }
   ],
   "source": [
    "dados.shape\n"
   ]
  },
  {
   "cell_type": "code",
   "execution_count": 11,
   "metadata": {},
   "outputs": [
    {
     "data": {
      "text/plain": [
       "valence             0\n",
       "year                0\n",
       "acousticness        0\n",
       "artists             0\n",
       "danceability        0\n",
       "duration_ms         0\n",
       "energy              0\n",
       "id                  0\n",
       "instrumentalness    0\n",
       "liveness            0\n",
       "loudness            0\n",
       "name                0\n",
       "popularity          0\n",
       "release_date        0\n",
       "speechiness         0\n",
       "tempo               0\n",
       "artists_song        0\n",
       "dtype: int64"
      ]
     },
     "execution_count": 11,
     "metadata": {},
     "output_type": "execute_result"
    }
   ],
   "source": [
    "dados.isnull().sum()\n"
   ]
  },
  {
   "cell_type": "code",
   "execution_count": 12,
   "metadata": {},
   "outputs": [
    {
     "data": {
      "text/plain": [
       "valence             0\n",
       "year                0\n",
       "acousticness        0\n",
       "artists             0\n",
       "danceability        0\n",
       "duration_ms         0\n",
       "energy              0\n",
       "id                  0\n",
       "instrumentalness    0\n",
       "liveness            0\n",
       "loudness            0\n",
       "name                0\n",
       "popularity          0\n",
       "release_date        0\n",
       "speechiness         0\n",
       "tempo               0\n",
       "artists_song        0\n",
       "dtype: int64"
      ]
     },
     "execution_count": 12,
     "metadata": {},
     "output_type": "execute_result"
    }
   ],
   "source": [
    "dados.isna().sum()\n"
   ]
  },
  {
   "cell_type": "code",
   "execution_count": 13,
   "metadata": {},
   "outputs": [
    {
     "data": {
      "text/html": [
       "<div>\n",
       "<style scoped>\n",
       "    .dataframe tbody tr th:only-of-type {\n",
       "        vertical-align: middle;\n",
       "    }\n",
       "\n",
       "    .dataframe tbody tr th {\n",
       "        vertical-align: top;\n",
       "    }\n",
       "\n",
       "    .dataframe thead th {\n",
       "        text-align: right;\n",
       "    }\n",
       "</style>\n",
       "<table border=\"1\" class=\"dataframe\">\n",
       "  <thead>\n",
       "    <tr style=\"text-align: right;\">\n",
       "      <th></th>\n",
       "      <th>mode</th>\n",
       "      <th>genres</th>\n",
       "      <th>acousticness</th>\n",
       "      <th>danceability</th>\n",
       "      <th>duration_ms</th>\n",
       "      <th>energy</th>\n",
       "      <th>instrumentalness</th>\n",
       "      <th>liveness</th>\n",
       "      <th>loudness</th>\n",
       "      <th>speechiness</th>\n",
       "      <th>tempo</th>\n",
       "      <th>valence</th>\n",
       "      <th>popularity</th>\n",
       "      <th>key</th>\n",
       "    </tr>\n",
       "  </thead>\n",
       "  <tbody>\n",
       "    <tr>\n",
       "      <th>0</th>\n",
       "      <td>1</td>\n",
       "      <td>21st century classical</td>\n",
       "      <td>0.979333</td>\n",
       "      <td>0.162883</td>\n",
       "      <td>1.602977e+05</td>\n",
       "      <td>0.071317</td>\n",
       "      <td>0.606834</td>\n",
       "      <td>0.3616</td>\n",
       "      <td>-31.514333</td>\n",
       "      <td>0.040567</td>\n",
       "      <td>75.336500</td>\n",
       "      <td>0.103783</td>\n",
       "      <td>27.833333</td>\n",
       "      <td>6</td>\n",
       "    </tr>\n",
       "    <tr>\n",
       "      <th>1</th>\n",
       "      <td>1</td>\n",
       "      <td>432hz</td>\n",
       "      <td>0.494780</td>\n",
       "      <td>0.299333</td>\n",
       "      <td>1.048887e+06</td>\n",
       "      <td>0.450678</td>\n",
       "      <td>0.477762</td>\n",
       "      <td>0.1310</td>\n",
       "      <td>-16.854000</td>\n",
       "      <td>0.076817</td>\n",
       "      <td>120.285667</td>\n",
       "      <td>0.221750</td>\n",
       "      <td>52.500000</td>\n",
       "      <td>5</td>\n",
       "    </tr>\n",
       "  </tbody>\n",
       "</table>\n",
       "</div>"
      ],
      "text/plain": [
       "   mode                  genres  acousticness  danceability   duration_ms  \\\n",
       "0     1  21st century classical      0.979333      0.162883  1.602977e+05   \n",
       "1     1                   432hz      0.494780      0.299333  1.048887e+06   \n",
       "\n",
       "     energy  instrumentalness  liveness   loudness  speechiness       tempo  \\\n",
       "0  0.071317          0.606834    0.3616 -31.514333     0.040567   75.336500   \n",
       "1  0.450678          0.477762    0.1310 -16.854000     0.076817  120.285667   \n",
       "\n",
       "    valence  popularity  key  \n",
       "0  0.103783   27.833333    6  \n",
       "1  0.221750   52.500000    5  "
      ]
     },
     "execution_count": 13,
     "metadata": {},
     "output_type": "execute_result"
    }
   ],
   "source": [
    "dados_generos.head(2)\n"
   ]
  },
  {
   "cell_type": "code",
   "execution_count": 14,
   "metadata": {},
   "outputs": [
    {
     "data": {
      "text/html": [
       "<div>\n",
       "<style scoped>\n",
       "    .dataframe tbody tr th:only-of-type {\n",
       "        vertical-align: middle;\n",
       "    }\n",
       "\n",
       "    .dataframe tbody tr th {\n",
       "        vertical-align: top;\n",
       "    }\n",
       "\n",
       "    .dataframe thead th {\n",
       "        text-align: right;\n",
       "    }\n",
       "</style>\n",
       "<table border=\"1\" class=\"dataframe\">\n",
       "  <thead>\n",
       "    <tr style=\"text-align: right;\">\n",
       "      <th></th>\n",
       "      <th>genres</th>\n",
       "      <th>acousticness</th>\n",
       "      <th>danceability</th>\n",
       "      <th>duration_ms</th>\n",
       "      <th>energy</th>\n",
       "      <th>instrumentalness</th>\n",
       "      <th>liveness</th>\n",
       "      <th>loudness</th>\n",
       "      <th>speechiness</th>\n",
       "      <th>tempo</th>\n",
       "      <th>valence</th>\n",
       "      <th>popularity</th>\n",
       "    </tr>\n",
       "  </thead>\n",
       "  <tbody>\n",
       "    <tr>\n",
       "      <th>0</th>\n",
       "      <td>21st century classical</td>\n",
       "      <td>0.979333</td>\n",
       "      <td>0.162883</td>\n",
       "      <td>1.602977e+05</td>\n",
       "      <td>0.071317</td>\n",
       "      <td>0.606834</td>\n",
       "      <td>0.3616</td>\n",
       "      <td>-31.514333</td>\n",
       "      <td>0.040567</td>\n",
       "      <td>75.336500</td>\n",
       "      <td>0.103783</td>\n",
       "      <td>27.833333</td>\n",
       "    </tr>\n",
       "    <tr>\n",
       "      <th>1</th>\n",
       "      <td>432hz</td>\n",
       "      <td>0.494780</td>\n",
       "      <td>0.299333</td>\n",
       "      <td>1.048887e+06</td>\n",
       "      <td>0.450678</td>\n",
       "      <td>0.477762</td>\n",
       "      <td>0.1310</td>\n",
       "      <td>-16.854000</td>\n",
       "      <td>0.076817</td>\n",
       "      <td>120.285667</td>\n",
       "      <td>0.221750</td>\n",
       "      <td>52.500000</td>\n",
       "    </tr>\n",
       "  </tbody>\n",
       "</table>\n",
       "</div>"
      ],
      "text/plain": [
       "                   genres  acousticness  danceability   duration_ms    energy  \\\n",
       "0  21st century classical      0.979333      0.162883  1.602977e+05  0.071317   \n",
       "1                   432hz      0.494780      0.299333  1.048887e+06  0.450678   \n",
       "\n",
       "   instrumentalness  liveness   loudness  speechiness       tempo   valence  \\\n",
       "0          0.606834    0.3616 -31.514333     0.040567   75.336500  0.103783   \n",
       "1          0.477762    0.1310 -16.854000     0.076817  120.285667  0.221750   \n",
       "\n",
       "   popularity  \n",
       "0   27.833333  \n",
       "1   52.500000  "
      ]
     },
     "execution_count": 14,
     "metadata": {},
     "output_type": "execute_result"
    }
   ],
   "source": [
    "dados_generos = dados_generos.drop([\"key\", \"mode\"], axis=1)\n",
    "dados_generos.head(2)\n"
   ]
  },
  {
   "cell_type": "code",
   "execution_count": 15,
   "metadata": {},
   "outputs": [
    {
     "data": {
      "text/plain": [
       "genres              0\n",
       "acousticness        0\n",
       "danceability        0\n",
       "duration_ms         0\n",
       "energy              0\n",
       "instrumentalness    0\n",
       "liveness            0\n",
       "loudness            0\n",
       "speechiness         0\n",
       "tempo               0\n",
       "valence             0\n",
       "popularity          0\n",
       "dtype: int64"
      ]
     },
     "execution_count": 15,
     "metadata": {},
     "output_type": "execute_result"
    }
   ],
   "source": [
    "dados_generos.isna().sum()\n"
   ]
  },
  {
   "cell_type": "code",
   "execution_count": 16,
   "metadata": {},
   "outputs": [
    {
     "data": {
      "text/plain": [
       "genres              0\n",
       "acousticness        0\n",
       "danceability        0\n",
       "duration_ms         0\n",
       "energy              0\n",
       "instrumentalness    0\n",
       "liveness            0\n",
       "loudness            0\n",
       "speechiness         0\n",
       "tempo               0\n",
       "valence             0\n",
       "popularity          0\n",
       "dtype: int64"
      ]
     },
     "execution_count": 16,
     "metadata": {},
     "output_type": "execute_result"
    }
   ],
   "source": [
    "dados_generos.isnull().sum()\n"
   ]
  },
  {
   "cell_type": "code",
   "execution_count": 17,
   "metadata": {},
   "outputs": [
    {
     "data": {
      "text/html": [
       "<div>\n",
       "<style scoped>\n",
       "    .dataframe tbody tr th:only-of-type {\n",
       "        vertical-align: middle;\n",
       "    }\n",
       "\n",
       "    .dataframe tbody tr th {\n",
       "        vertical-align: top;\n",
       "    }\n",
       "\n",
       "    .dataframe thead th {\n",
       "        text-align: right;\n",
       "    }\n",
       "</style>\n",
       "<table border=\"1\" class=\"dataframe\">\n",
       "  <thead>\n",
       "    <tr style=\"text-align: right;\">\n",
       "      <th></th>\n",
       "      <th>mode</th>\n",
       "      <th>year</th>\n",
       "      <th>acousticness</th>\n",
       "      <th>danceability</th>\n",
       "      <th>duration_ms</th>\n",
       "      <th>energy</th>\n",
       "      <th>instrumentalness</th>\n",
       "      <th>liveness</th>\n",
       "      <th>loudness</th>\n",
       "      <th>speechiness</th>\n",
       "      <th>tempo</th>\n",
       "      <th>valence</th>\n",
       "      <th>popularity</th>\n",
       "      <th>key</th>\n",
       "    </tr>\n",
       "  </thead>\n",
       "  <tbody>\n",
       "    <tr>\n",
       "      <th>0</th>\n",
       "      <td>1</td>\n",
       "      <td>1921</td>\n",
       "      <td>0.886896</td>\n",
       "      <td>0.418597</td>\n",
       "      <td>260537.166667</td>\n",
       "      <td>0.231815</td>\n",
       "      <td>0.344878</td>\n",
       "      <td>0.205710</td>\n",
       "      <td>-17.048667</td>\n",
       "      <td>0.073662</td>\n",
       "      <td>101.531493</td>\n",
       "      <td>0.379327</td>\n",
       "      <td>0.653333</td>\n",
       "      <td>2</td>\n",
       "    </tr>\n",
       "    <tr>\n",
       "      <th>1</th>\n",
       "      <td>1</td>\n",
       "      <td>1922</td>\n",
       "      <td>0.938592</td>\n",
       "      <td>0.482042</td>\n",
       "      <td>165469.746479</td>\n",
       "      <td>0.237815</td>\n",
       "      <td>0.434195</td>\n",
       "      <td>0.240720</td>\n",
       "      <td>-19.275282</td>\n",
       "      <td>0.116655</td>\n",
       "      <td>100.884521</td>\n",
       "      <td>0.535549</td>\n",
       "      <td>0.140845</td>\n",
       "      <td>10</td>\n",
       "    </tr>\n",
       "    <tr>\n",
       "      <th>2</th>\n",
       "      <td>1</td>\n",
       "      <td>1923</td>\n",
       "      <td>0.957247</td>\n",
       "      <td>0.577341</td>\n",
       "      <td>177942.362162</td>\n",
       "      <td>0.262406</td>\n",
       "      <td>0.371733</td>\n",
       "      <td>0.227462</td>\n",
       "      <td>-14.129211</td>\n",
       "      <td>0.093949</td>\n",
       "      <td>114.010730</td>\n",
       "      <td>0.625492</td>\n",
       "      <td>5.389189</td>\n",
       "      <td>0</td>\n",
       "    </tr>\n",
       "    <tr>\n",
       "      <th>3</th>\n",
       "      <td>1</td>\n",
       "      <td>1924</td>\n",
       "      <td>0.940200</td>\n",
       "      <td>0.549894</td>\n",
       "      <td>191046.707627</td>\n",
       "      <td>0.344347</td>\n",
       "      <td>0.581701</td>\n",
       "      <td>0.235219</td>\n",
       "      <td>-14.231343</td>\n",
       "      <td>0.092089</td>\n",
       "      <td>120.689572</td>\n",
       "      <td>0.663725</td>\n",
       "      <td>0.661017</td>\n",
       "      <td>10</td>\n",
       "    </tr>\n",
       "    <tr>\n",
       "      <th>4</th>\n",
       "      <td>1</td>\n",
       "      <td>1925</td>\n",
       "      <td>0.962607</td>\n",
       "      <td>0.573863</td>\n",
       "      <td>184986.924460</td>\n",
       "      <td>0.278594</td>\n",
       "      <td>0.418297</td>\n",
       "      <td>0.237668</td>\n",
       "      <td>-14.146414</td>\n",
       "      <td>0.111918</td>\n",
       "      <td>115.521921</td>\n",
       "      <td>0.621929</td>\n",
       "      <td>2.604317</td>\n",
       "      <td>5</td>\n",
       "    </tr>\n",
       "  </tbody>\n",
       "</table>\n",
       "</div>"
      ],
      "text/plain": [
       "   mode  year  acousticness  danceability    duration_ms    energy  \\\n",
       "0     1  1921      0.886896      0.418597  260537.166667  0.231815   \n",
       "1     1  1922      0.938592      0.482042  165469.746479  0.237815   \n",
       "2     1  1923      0.957247      0.577341  177942.362162  0.262406   \n",
       "3     1  1924      0.940200      0.549894  191046.707627  0.344347   \n",
       "4     1  1925      0.962607      0.573863  184986.924460  0.278594   \n",
       "\n",
       "   instrumentalness  liveness   loudness  speechiness       tempo   valence  \\\n",
       "0          0.344878  0.205710 -17.048667     0.073662  101.531493  0.379327   \n",
       "1          0.434195  0.240720 -19.275282     0.116655  100.884521  0.535549   \n",
       "2          0.371733  0.227462 -14.129211     0.093949  114.010730  0.625492   \n",
       "3          0.581701  0.235219 -14.231343     0.092089  120.689572  0.663725   \n",
       "4          0.418297  0.237668 -14.146414     0.111918  115.521921  0.621929   \n",
       "\n",
       "   popularity  key  \n",
       "0    0.653333    2  \n",
       "1    0.140845   10  \n",
       "2    5.389189    0  \n",
       "3    0.661017   10  \n",
       "4    2.604317    5  "
      ]
     },
     "execution_count": 17,
     "metadata": {},
     "output_type": "execute_result"
    }
   ],
   "source": [
    "dados_anos.head()\n"
   ]
  },
  {
   "cell_type": "code",
   "execution_count": 18,
   "metadata": {},
   "outputs": [
    {
     "data": {
      "text/plain": [
       "array([1921, 1922, 1923, 1924, 1925, 1926, 1927, 1928, 1929, 1930, 1931,\n",
       "       1932, 1933, 1934, 1935, 1936, 1937, 1938, 1939, 1940, 1941, 1942,\n",
       "       1943, 1944, 1945, 1946, 1947, 1948, 1949, 1950, 1951, 1952, 1953,\n",
       "       1954, 1955, 1956, 1957, 1958, 1959, 1960, 1961, 1962, 1963, 1964,\n",
       "       1965, 1966, 1967, 1968, 1969, 1970, 1971, 1972, 1973, 1974, 1975,\n",
       "       1976, 1977, 1978, 1979, 1980, 1981, 1982, 1983, 1984, 1985, 1986,\n",
       "       1987, 1988, 1989, 1990, 1991, 1992, 1993, 1994, 1995, 1996, 1997,\n",
       "       1998, 1999, 2000, 2001, 2002, 2003, 2004, 2005, 2006, 2007, 2008,\n",
       "       2009, 2010, 2011, 2012, 2013, 2014, 2015, 2016, 2017, 2018, 2019,\n",
       "       2020], dtype=int64)"
      ]
     },
     "execution_count": 18,
     "metadata": {},
     "output_type": "execute_result"
    }
   ],
   "source": [
    "dados_anos.year.unique()\n"
   ]
  },
  {
   "cell_type": "code",
   "execution_count": 19,
   "metadata": {},
   "outputs": [
    {
     "data": {
      "text/plain": [
       "array([2000, 2001, 2002, 2003, 2004, 2005, 2006, 2007, 2008, 2009, 2010,\n",
       "       2011, 2012, 2013, 2014, 2015, 2016, 2017, 2018, 2019, 2020],\n",
       "      dtype=int64)"
      ]
     },
     "execution_count": 19,
     "metadata": {},
     "output_type": "execute_result"
    }
   ],
   "source": [
    "dados_anos = dados_anos[dados_anos.year >= 2000]\n",
    "dados_anos = dados_anos.drop([\"key\", \"mode\"], axis=1)\n",
    "dados_anos.year.unique()\n"
   ]
  },
  {
   "cell_type": "code",
   "execution_count": 20,
   "metadata": {},
   "outputs": [
    {
     "data": {
      "text/html": [
       "<div>\n",
       "<style scoped>\n",
       "    .dataframe tbody tr th:only-of-type {\n",
       "        vertical-align: middle;\n",
       "    }\n",
       "\n",
       "    .dataframe tbody tr th {\n",
       "        vertical-align: top;\n",
       "    }\n",
       "\n",
       "    .dataframe thead th {\n",
       "        text-align: right;\n",
       "    }\n",
       "</style>\n",
       "<table border=\"1\" class=\"dataframe\">\n",
       "  <thead>\n",
       "    <tr style=\"text-align: right;\">\n",
       "      <th></th>\n",
       "      <th>index</th>\n",
       "      <th>year</th>\n",
       "      <th>acousticness</th>\n",
       "      <th>danceability</th>\n",
       "      <th>duration_ms</th>\n",
       "      <th>energy</th>\n",
       "      <th>instrumentalness</th>\n",
       "      <th>liveness</th>\n",
       "      <th>loudness</th>\n",
       "      <th>speechiness</th>\n",
       "      <th>tempo</th>\n",
       "      <th>valence</th>\n",
       "      <th>popularity</th>\n",
       "    </tr>\n",
       "  </thead>\n",
       "  <tbody>\n",
       "    <tr>\n",
       "      <th>0</th>\n",
       "      <td>79</td>\n",
       "      <td>2000</td>\n",
       "      <td>0.289323</td>\n",
       "      <td>0.590918</td>\n",
       "      <td>242724.642638</td>\n",
       "      <td>0.625413</td>\n",
       "      <td>0.101168</td>\n",
       "      <td>0.197686</td>\n",
       "      <td>-8.247766</td>\n",
       "      <td>0.089205</td>\n",
       "      <td>118.999323</td>\n",
       "      <td>0.559475</td>\n",
       "      <td>46.684049</td>\n",
       "    </tr>\n",
       "    <tr>\n",
       "      <th>1</th>\n",
       "      <td>80</td>\n",
       "      <td>2001</td>\n",
       "      <td>0.286842</td>\n",
       "      <td>0.583318</td>\n",
       "      <td>240307.796010</td>\n",
       "      <td>0.626986</td>\n",
       "      <td>0.107214</td>\n",
       "      <td>0.187026</td>\n",
       "      <td>-8.305095</td>\n",
       "      <td>0.089182</td>\n",
       "      <td>117.765399</td>\n",
       "      <td>0.541479</td>\n",
       "      <td>48.750125</td>\n",
       "    </tr>\n",
       "    <tr>\n",
       "      <th>2</th>\n",
       "      <td>81</td>\n",
       "      <td>2002</td>\n",
       "      <td>0.282624</td>\n",
       "      <td>0.576160</td>\n",
       "      <td>239503.283000</td>\n",
       "      <td>0.641270</td>\n",
       "      <td>0.088048</td>\n",
       "      <td>0.193911</td>\n",
       "      <td>-7.686640</td>\n",
       "      <td>0.084308</td>\n",
       "      <td>119.239738</td>\n",
       "      <td>0.542397</td>\n",
       "      <td>48.655500</td>\n",
       "    </tr>\n",
       "    <tr>\n",
       "      <th>3</th>\n",
       "      <td>82</td>\n",
       "      <td>2003</td>\n",
       "      <td>0.256471</td>\n",
       "      <td>0.575763</td>\n",
       "      <td>244670.575230</td>\n",
       "      <td>0.660165</td>\n",
       "      <td>0.083049</td>\n",
       "      <td>0.196976</td>\n",
       "      <td>-7.485545</td>\n",
       "      <td>0.093926</td>\n",
       "      <td>120.914622</td>\n",
       "      <td>0.530504</td>\n",
       "      <td>48.626407</td>\n",
       "    </tr>\n",
       "    <tr>\n",
       "      <th>4</th>\n",
       "      <td>83</td>\n",
       "      <td>2004</td>\n",
       "      <td>0.280559</td>\n",
       "      <td>0.567680</td>\n",
       "      <td>237378.708037</td>\n",
       "      <td>0.648868</td>\n",
       "      <td>0.077934</td>\n",
       "      <td>0.202199</td>\n",
       "      <td>-7.601655</td>\n",
       "      <td>0.094239</td>\n",
       "      <td>121.290346</td>\n",
       "      <td>0.524489</td>\n",
       "      <td>49.273143</td>\n",
       "    </tr>\n",
       "    <tr>\n",
       "      <th>5</th>\n",
       "      <td>84</td>\n",
       "      <td>2005</td>\n",
       "      <td>0.255764</td>\n",
       "      <td>0.572281</td>\n",
       "      <td>237229.588205</td>\n",
       "      <td>0.653209</td>\n",
       "      <td>0.090194</td>\n",
       "      <td>0.190082</td>\n",
       "      <td>-7.466159</td>\n",
       "      <td>0.093334</td>\n",
       "      <td>121.617967</td>\n",
       "      <td>0.532531</td>\n",
       "      <td>50.953333</td>\n",
       "    </tr>\n",
       "    <tr>\n",
       "      <th>6</th>\n",
       "      <td>85</td>\n",
       "      <td>2006</td>\n",
       "      <td>0.279986</td>\n",
       "      <td>0.568230</td>\n",
       "      <td>234042.914359</td>\n",
       "      <td>0.650326</td>\n",
       "      <td>0.077701</td>\n",
       "      <td>0.188289</td>\n",
       "      <td>-7.265501</td>\n",
       "      <td>0.085847</td>\n",
       "      <td>121.798615</td>\n",
       "      <td>0.520028</td>\n",
       "      <td>51.313846</td>\n",
       "    </tr>\n",
       "    <tr>\n",
       "      <th>7</th>\n",
       "      <td>86</td>\n",
       "      <td>2007</td>\n",
       "      <td>0.254081</td>\n",
       "      <td>0.563414</td>\n",
       "      <td>241049.962564</td>\n",
       "      <td>0.668305</td>\n",
       "      <td>0.072957</td>\n",
       "      <td>0.196127</td>\n",
       "      <td>-7.044536</td>\n",
       "      <td>0.084347</td>\n",
       "      <td>124.087516</td>\n",
       "      <td>0.516794</td>\n",
       "      <td>51.075897</td>\n",
       "    </tr>\n",
       "    <tr>\n",
       "      <th>8</th>\n",
       "      <td>87</td>\n",
       "      <td>2008</td>\n",
       "      <td>0.249192</td>\n",
       "      <td>0.579193</td>\n",
       "      <td>240107.315601</td>\n",
       "      <td>0.671461</td>\n",
       "      <td>0.063662</td>\n",
       "      <td>0.198431</td>\n",
       "      <td>-6.843804</td>\n",
       "      <td>0.077356</td>\n",
       "      <td>123.509934</td>\n",
       "      <td>0.527542</td>\n",
       "      <td>50.630179</td>\n",
       "    </tr>\n",
       "    <tr>\n",
       "      <th>9</th>\n",
       "      <td>88</td>\n",
       "      <td>2009</td>\n",
       "      <td>0.261929</td>\n",
       "      <td>0.564190</td>\n",
       "      <td>238140.013265</td>\n",
       "      <td>0.670749</td>\n",
       "      <td>0.075872</td>\n",
       "      <td>0.205252</td>\n",
       "      <td>-7.046015</td>\n",
       "      <td>0.085458</td>\n",
       "      <td>123.463808</td>\n",
       "      <td>0.507170</td>\n",
       "      <td>51.440816</td>\n",
       "    </tr>\n",
       "    <tr>\n",
       "      <th>10</th>\n",
       "      <td>89</td>\n",
       "      <td>2010</td>\n",
       "      <td>0.242687</td>\n",
       "      <td>0.572488</td>\n",
       "      <td>242811.804563</td>\n",
       "      <td>0.681778</td>\n",
       "      <td>0.082981</td>\n",
       "      <td>0.199701</td>\n",
       "      <td>-6.909904</td>\n",
       "      <td>0.081031</td>\n",
       "      <td>123.570215</td>\n",
       "      <td>0.520895</td>\n",
       "      <td>52.730159</td>\n",
       "    </tr>\n",
       "    <tr>\n",
       "      <th>11</th>\n",
       "      <td>90</td>\n",
       "      <td>2011</td>\n",
       "      <td>0.273183</td>\n",
       "      <td>0.552867</td>\n",
       "      <td>236998.787308</td>\n",
       "      <td>0.648301</td>\n",
       "      <td>0.103772</td>\n",
       "      <td>0.203309</td>\n",
       "      <td>-7.574986</td>\n",
       "      <td>0.087479</td>\n",
       "      <td>121.483997</td>\n",
       "      <td>0.472454</td>\n",
       "      <td>53.307387</td>\n",
       "    </tr>\n",
       "    <tr>\n",
       "      <th>12</th>\n",
       "      <td>91</td>\n",
       "      <td>2012</td>\n",
       "      <td>0.249953</td>\n",
       "      <td>0.570882</td>\n",
       "      <td>245807.457584</td>\n",
       "      <td>0.656571</td>\n",
       "      <td>0.085206</td>\n",
       "      <td>0.189733</td>\n",
       "      <td>-7.260550</td>\n",
       "      <td>0.081742</td>\n",
       "      <td>121.781736</td>\n",
       "      <td>0.462709</td>\n",
       "      <td>52.655013</td>\n",
       "    </tr>\n",
       "    <tr>\n",
       "      <th>13</th>\n",
       "      <td>92</td>\n",
       "      <td>2013</td>\n",
       "      <td>0.257488</td>\n",
       "      <td>0.571148</td>\n",
       "      <td>242267.661437</td>\n",
       "      <td>0.645597</td>\n",
       "      <td>0.098365</td>\n",
       "      <td>0.199631</td>\n",
       "      <td>-7.472039</td>\n",
       "      <td>0.093849</td>\n",
       "      <td>120.806829</td>\n",
       "      <td>0.454741</td>\n",
       "      <td>54.047065</td>\n",
       "    </tr>\n",
       "    <tr>\n",
       "      <th>14</th>\n",
       "      <td>93</td>\n",
       "      <td>2014</td>\n",
       "      <td>0.249313</td>\n",
       "      <td>0.589948</td>\n",
       "      <td>233728.314713</td>\n",
       "      <td>0.648795</td>\n",
       "      <td>0.076570</td>\n",
       "      <td>0.191822</td>\n",
       "      <td>-7.067440</td>\n",
       "      <td>0.084061</td>\n",
       "      <td>122.305263</td>\n",
       "      <td>0.463049</td>\n",
       "      <td>55.543142</td>\n",
       "    </tr>\n",
       "    <tr>\n",
       "      <th>15</th>\n",
       "      <td>94</td>\n",
       "      <td>2015</td>\n",
       "      <td>0.253952</td>\n",
       "      <td>0.593774</td>\n",
       "      <td>230029.046606</td>\n",
       "      <td>0.627064</td>\n",
       "      <td>0.106787</td>\n",
       "      <td>0.188856</td>\n",
       "      <td>-7.625639</td>\n",
       "      <td>0.096779</td>\n",
       "      <td>120.115411</td>\n",
       "      <td>0.432098</td>\n",
       "      <td>56.700608</td>\n",
       "    </tr>\n",
       "    <tr>\n",
       "      <th>16</th>\n",
       "      <td>95</td>\n",
       "      <td>2016</td>\n",
       "      <td>0.284171</td>\n",
       "      <td>0.600202</td>\n",
       "      <td>221396.510295</td>\n",
       "      <td>0.592855</td>\n",
       "      <td>0.093984</td>\n",
       "      <td>0.181170</td>\n",
       "      <td>-8.061056</td>\n",
       "      <td>0.104313</td>\n",
       "      <td>118.652630</td>\n",
       "      <td>0.431532</td>\n",
       "      <td>59.647190</td>\n",
       "    </tr>\n",
       "    <tr>\n",
       "      <th>17</th>\n",
       "      <td>96</td>\n",
       "      <td>2017</td>\n",
       "      <td>0.286099</td>\n",
       "      <td>0.612217</td>\n",
       "      <td>211115.696787</td>\n",
       "      <td>0.590421</td>\n",
       "      <td>0.097091</td>\n",
       "      <td>0.191713</td>\n",
       "      <td>-8.312630</td>\n",
       "      <td>0.110536</td>\n",
       "      <td>117.202740</td>\n",
       "      <td>0.416476</td>\n",
       "      <td>63.263554</td>\n",
       "    </tr>\n",
       "    <tr>\n",
       "      <th>18</th>\n",
       "      <td>97</td>\n",
       "      <td>2018</td>\n",
       "      <td>0.267633</td>\n",
       "      <td>0.663500</td>\n",
       "      <td>206001.007133</td>\n",
       "      <td>0.602435</td>\n",
       "      <td>0.054217</td>\n",
       "      <td>0.176326</td>\n",
       "      <td>-7.168785</td>\n",
       "      <td>0.127176</td>\n",
       "      <td>121.922308</td>\n",
       "      <td>0.447921</td>\n",
       "      <td>63.296243</td>\n",
       "    </tr>\n",
       "    <tr>\n",
       "      <th>19</th>\n",
       "      <td>98</td>\n",
       "      <td>2019</td>\n",
       "      <td>0.278299</td>\n",
       "      <td>0.644814</td>\n",
       "      <td>201024.788096</td>\n",
       "      <td>0.593224</td>\n",
       "      <td>0.077640</td>\n",
       "      <td>0.172616</td>\n",
       "      <td>-7.722192</td>\n",
       "      <td>0.121043</td>\n",
       "      <td>120.235644</td>\n",
       "      <td>0.458818</td>\n",
       "      <td>65.256542</td>\n",
       "    </tr>\n",
       "    <tr>\n",
       "      <th>20</th>\n",
       "      <td>99</td>\n",
       "      <td>2020</td>\n",
       "      <td>0.219931</td>\n",
       "      <td>0.692904</td>\n",
       "      <td>193728.397537</td>\n",
       "      <td>0.631232</td>\n",
       "      <td>0.016376</td>\n",
       "      <td>0.178535</td>\n",
       "      <td>-6.595067</td>\n",
       "      <td>0.141384</td>\n",
       "      <td>124.283129</td>\n",
       "      <td>0.501048</td>\n",
       "      <td>64.301970</td>\n",
       "    </tr>\n",
       "  </tbody>\n",
       "</table>\n",
       "</div>"
      ],
      "text/plain": [
       "    index  year  acousticness  danceability    duration_ms    energy  \\\n",
       "0      79  2000      0.289323      0.590918  242724.642638  0.625413   \n",
       "1      80  2001      0.286842      0.583318  240307.796010  0.626986   \n",
       "2      81  2002      0.282624      0.576160  239503.283000  0.641270   \n",
       "3      82  2003      0.256471      0.575763  244670.575230  0.660165   \n",
       "4      83  2004      0.280559      0.567680  237378.708037  0.648868   \n",
       "5      84  2005      0.255764      0.572281  237229.588205  0.653209   \n",
       "6      85  2006      0.279986      0.568230  234042.914359  0.650326   \n",
       "7      86  2007      0.254081      0.563414  241049.962564  0.668305   \n",
       "8      87  2008      0.249192      0.579193  240107.315601  0.671461   \n",
       "9      88  2009      0.261929      0.564190  238140.013265  0.670749   \n",
       "10     89  2010      0.242687      0.572488  242811.804563  0.681778   \n",
       "11     90  2011      0.273183      0.552867  236998.787308  0.648301   \n",
       "12     91  2012      0.249953      0.570882  245807.457584  0.656571   \n",
       "13     92  2013      0.257488      0.571148  242267.661437  0.645597   \n",
       "14     93  2014      0.249313      0.589948  233728.314713  0.648795   \n",
       "15     94  2015      0.253952      0.593774  230029.046606  0.627064   \n",
       "16     95  2016      0.284171      0.600202  221396.510295  0.592855   \n",
       "17     96  2017      0.286099      0.612217  211115.696787  0.590421   \n",
       "18     97  2018      0.267633      0.663500  206001.007133  0.602435   \n",
       "19     98  2019      0.278299      0.644814  201024.788096  0.593224   \n",
       "20     99  2020      0.219931      0.692904  193728.397537  0.631232   \n",
       "\n",
       "    instrumentalness  liveness  loudness  speechiness       tempo   valence  \\\n",
       "0           0.101168  0.197686 -8.247766     0.089205  118.999323  0.559475   \n",
       "1           0.107214  0.187026 -8.305095     0.089182  117.765399  0.541479   \n",
       "2           0.088048  0.193911 -7.686640     0.084308  119.239738  0.542397   \n",
       "3           0.083049  0.196976 -7.485545     0.093926  120.914622  0.530504   \n",
       "4           0.077934  0.202199 -7.601655     0.094239  121.290346  0.524489   \n",
       "5           0.090194  0.190082 -7.466159     0.093334  121.617967  0.532531   \n",
       "6           0.077701  0.188289 -7.265501     0.085847  121.798615  0.520028   \n",
       "7           0.072957  0.196127 -7.044536     0.084347  124.087516  0.516794   \n",
       "8           0.063662  0.198431 -6.843804     0.077356  123.509934  0.527542   \n",
       "9           0.075872  0.205252 -7.046015     0.085458  123.463808  0.507170   \n",
       "10          0.082981  0.199701 -6.909904     0.081031  123.570215  0.520895   \n",
       "11          0.103772  0.203309 -7.574986     0.087479  121.483997  0.472454   \n",
       "12          0.085206  0.189733 -7.260550     0.081742  121.781736  0.462709   \n",
       "13          0.098365  0.199631 -7.472039     0.093849  120.806829  0.454741   \n",
       "14          0.076570  0.191822 -7.067440     0.084061  122.305263  0.463049   \n",
       "15          0.106787  0.188856 -7.625639     0.096779  120.115411  0.432098   \n",
       "16          0.093984  0.181170 -8.061056     0.104313  118.652630  0.431532   \n",
       "17          0.097091  0.191713 -8.312630     0.110536  117.202740  0.416476   \n",
       "18          0.054217  0.176326 -7.168785     0.127176  121.922308  0.447921   \n",
       "19          0.077640  0.172616 -7.722192     0.121043  120.235644  0.458818   \n",
       "20          0.016376  0.178535 -6.595067     0.141384  124.283129  0.501048   \n",
       "\n",
       "    popularity  \n",
       "0    46.684049  \n",
       "1    48.750125  \n",
       "2    48.655500  \n",
       "3    48.626407  \n",
       "4    49.273143  \n",
       "5    50.953333  \n",
       "6    51.313846  \n",
       "7    51.075897  \n",
       "8    50.630179  \n",
       "9    51.440816  \n",
       "10   52.730159  \n",
       "11   53.307387  \n",
       "12   52.655013  \n",
       "13   54.047065  \n",
       "14   55.543142  \n",
       "15   56.700608  \n",
       "16   59.647190  \n",
       "17   63.263554  \n",
       "18   63.296243  \n",
       "19   65.256542  \n",
       "20   64.301970  "
      ]
     },
     "execution_count": 20,
     "metadata": {},
     "output_type": "execute_result"
    }
   ],
   "source": [
    "dados_anos.reset_index()\n"
   ]
  },
  {
   "cell_type": "code",
   "execution_count": 21,
   "metadata": {},
   "outputs": [
    {
     "data": {
      "application/vnd.plotly.v1+json": {
       "config": {
        "plotlyServerURL": "https://plot.ly"
       },
       "data": [
        {
         "hovertemplate": "year=%{x}<br>loudness=%{y}<extra></extra>",
         "legendgroup": "",
         "line": {
          "color": "#636efa",
          "dash": "solid"
         },
         "marker": {
          "symbol": "circle"
         },
         "mode": "lines",
         "name": "",
         "orientation": "v",
         "showlegend": false,
         "type": "scatter",
         "x": [
          2000,
          2001,
          2002,
          2003,
          2004,
          2005,
          2006,
          2007,
          2008,
          2009,
          2010,
          2011,
          2012,
          2013,
          2014,
          2015,
          2016,
          2017,
          2018,
          2019,
          2020
         ],
         "xaxis": "x",
         "y": [
          -8.247765848670758,
          -8.305095261845384,
          -7.686639500000013,
          -7.485545035823955,
          -7.601655137334684,
          -7.46615897435897,
          -7.265500512820514,
          -7.044535897435892,
          -6.8438040920716166,
          -7.0460147959183645,
          -6.9099042658730125,
          -7.574986117997006,
          -7.260549614395888,
          -7.472039473684207,
          -7.06743990024938,
          -7.625639311043569,
          -8.061056204785759,
          -8.31262951807228,
          -7.168785068949124,
          -7.722191893278596,
          -6.595066995073878
         ],
         "yaxis": "y"
        }
       ],
       "layout": {
        "legend": {
         "tracegroupgap": 0
        },
        "template": {
         "data": {
          "bar": [
           {
            "error_x": {
             "color": "#2a3f5f"
            },
            "error_y": {
             "color": "#2a3f5f"
            },
            "marker": {
             "line": {
              "color": "#E5ECF6",
              "width": 0.5
             },
             "pattern": {
              "fillmode": "overlay",
              "size": 10,
              "solidity": 0.2
             }
            },
            "type": "bar"
           }
          ],
          "barpolar": [
           {
            "marker": {
             "line": {
              "color": "#E5ECF6",
              "width": 0.5
             },
             "pattern": {
              "fillmode": "overlay",
              "size": 10,
              "solidity": 0.2
             }
            },
            "type": "barpolar"
           }
          ],
          "carpet": [
           {
            "aaxis": {
             "endlinecolor": "#2a3f5f",
             "gridcolor": "white",
             "linecolor": "white",
             "minorgridcolor": "white",
             "startlinecolor": "#2a3f5f"
            },
            "baxis": {
             "endlinecolor": "#2a3f5f",
             "gridcolor": "white",
             "linecolor": "white",
             "minorgridcolor": "white",
             "startlinecolor": "#2a3f5f"
            },
            "type": "carpet"
           }
          ],
          "choropleth": [
           {
            "colorbar": {
             "outlinewidth": 0,
             "ticks": ""
            },
            "type": "choropleth"
           }
          ],
          "contour": [
           {
            "colorbar": {
             "outlinewidth": 0,
             "ticks": ""
            },
            "colorscale": [
             [
              0,
              "#0d0887"
             ],
             [
              0.1111111111111111,
              "#46039f"
             ],
             [
              0.2222222222222222,
              "#7201a8"
             ],
             [
              0.3333333333333333,
              "#9c179e"
             ],
             [
              0.4444444444444444,
              "#bd3786"
             ],
             [
              0.5555555555555556,
              "#d8576b"
             ],
             [
              0.6666666666666666,
              "#ed7953"
             ],
             [
              0.7777777777777778,
              "#fb9f3a"
             ],
             [
              0.8888888888888888,
              "#fdca26"
             ],
             [
              1,
              "#f0f921"
             ]
            ],
            "type": "contour"
           }
          ],
          "contourcarpet": [
           {
            "colorbar": {
             "outlinewidth": 0,
             "ticks": ""
            },
            "type": "contourcarpet"
           }
          ],
          "heatmap": [
           {
            "colorbar": {
             "outlinewidth": 0,
             "ticks": ""
            },
            "colorscale": [
             [
              0,
              "#0d0887"
             ],
             [
              0.1111111111111111,
              "#46039f"
             ],
             [
              0.2222222222222222,
              "#7201a8"
             ],
             [
              0.3333333333333333,
              "#9c179e"
             ],
             [
              0.4444444444444444,
              "#bd3786"
             ],
             [
              0.5555555555555556,
              "#d8576b"
             ],
             [
              0.6666666666666666,
              "#ed7953"
             ],
             [
              0.7777777777777778,
              "#fb9f3a"
             ],
             [
              0.8888888888888888,
              "#fdca26"
             ],
             [
              1,
              "#f0f921"
             ]
            ],
            "type": "heatmap"
           }
          ],
          "heatmapgl": [
           {
            "colorbar": {
             "outlinewidth": 0,
             "ticks": ""
            },
            "colorscale": [
             [
              0,
              "#0d0887"
             ],
             [
              0.1111111111111111,
              "#46039f"
             ],
             [
              0.2222222222222222,
              "#7201a8"
             ],
             [
              0.3333333333333333,
              "#9c179e"
             ],
             [
              0.4444444444444444,
              "#bd3786"
             ],
             [
              0.5555555555555556,
              "#d8576b"
             ],
             [
              0.6666666666666666,
              "#ed7953"
             ],
             [
              0.7777777777777778,
              "#fb9f3a"
             ],
             [
              0.8888888888888888,
              "#fdca26"
             ],
             [
              1,
              "#f0f921"
             ]
            ],
            "type": "heatmapgl"
           }
          ],
          "histogram": [
           {
            "marker": {
             "pattern": {
              "fillmode": "overlay",
              "size": 10,
              "solidity": 0.2
             }
            },
            "type": "histogram"
           }
          ],
          "histogram2d": [
           {
            "colorbar": {
             "outlinewidth": 0,
             "ticks": ""
            },
            "colorscale": [
             [
              0,
              "#0d0887"
             ],
             [
              0.1111111111111111,
              "#46039f"
             ],
             [
              0.2222222222222222,
              "#7201a8"
             ],
             [
              0.3333333333333333,
              "#9c179e"
             ],
             [
              0.4444444444444444,
              "#bd3786"
             ],
             [
              0.5555555555555556,
              "#d8576b"
             ],
             [
              0.6666666666666666,
              "#ed7953"
             ],
             [
              0.7777777777777778,
              "#fb9f3a"
             ],
             [
              0.8888888888888888,
              "#fdca26"
             ],
             [
              1,
              "#f0f921"
             ]
            ],
            "type": "histogram2d"
           }
          ],
          "histogram2dcontour": [
           {
            "colorbar": {
             "outlinewidth": 0,
             "ticks": ""
            },
            "colorscale": [
             [
              0,
              "#0d0887"
             ],
             [
              0.1111111111111111,
              "#46039f"
             ],
             [
              0.2222222222222222,
              "#7201a8"
             ],
             [
              0.3333333333333333,
              "#9c179e"
             ],
             [
              0.4444444444444444,
              "#bd3786"
             ],
             [
              0.5555555555555556,
              "#d8576b"
             ],
             [
              0.6666666666666666,
              "#ed7953"
             ],
             [
              0.7777777777777778,
              "#fb9f3a"
             ],
             [
              0.8888888888888888,
              "#fdca26"
             ],
             [
              1,
              "#f0f921"
             ]
            ],
            "type": "histogram2dcontour"
           }
          ],
          "mesh3d": [
           {
            "colorbar": {
             "outlinewidth": 0,
             "ticks": ""
            },
            "type": "mesh3d"
           }
          ],
          "parcoords": [
           {
            "line": {
             "colorbar": {
              "outlinewidth": 0,
              "ticks": ""
             }
            },
            "type": "parcoords"
           }
          ],
          "pie": [
           {
            "automargin": true,
            "type": "pie"
           }
          ],
          "scatter": [
           {
            "fillpattern": {
             "fillmode": "overlay",
             "size": 10,
             "solidity": 0.2
            },
            "type": "scatter"
           }
          ],
          "scatter3d": [
           {
            "line": {
             "colorbar": {
              "outlinewidth": 0,
              "ticks": ""
             }
            },
            "marker": {
             "colorbar": {
              "outlinewidth": 0,
              "ticks": ""
             }
            },
            "type": "scatter3d"
           }
          ],
          "scattercarpet": [
           {
            "marker": {
             "colorbar": {
              "outlinewidth": 0,
              "ticks": ""
             }
            },
            "type": "scattercarpet"
           }
          ],
          "scattergeo": [
           {
            "marker": {
             "colorbar": {
              "outlinewidth": 0,
              "ticks": ""
             }
            },
            "type": "scattergeo"
           }
          ],
          "scattergl": [
           {
            "marker": {
             "colorbar": {
              "outlinewidth": 0,
              "ticks": ""
             }
            },
            "type": "scattergl"
           }
          ],
          "scattermapbox": [
           {
            "marker": {
             "colorbar": {
              "outlinewidth": 0,
              "ticks": ""
             }
            },
            "type": "scattermapbox"
           }
          ],
          "scatterpolar": [
           {
            "marker": {
             "colorbar": {
              "outlinewidth": 0,
              "ticks": ""
             }
            },
            "type": "scatterpolar"
           }
          ],
          "scatterpolargl": [
           {
            "marker": {
             "colorbar": {
              "outlinewidth": 0,
              "ticks": ""
             }
            },
            "type": "scatterpolargl"
           }
          ],
          "scatterternary": [
           {
            "marker": {
             "colorbar": {
              "outlinewidth": 0,
              "ticks": ""
             }
            },
            "type": "scatterternary"
           }
          ],
          "surface": [
           {
            "colorbar": {
             "outlinewidth": 0,
             "ticks": ""
            },
            "colorscale": [
             [
              0,
              "#0d0887"
             ],
             [
              0.1111111111111111,
              "#46039f"
             ],
             [
              0.2222222222222222,
              "#7201a8"
             ],
             [
              0.3333333333333333,
              "#9c179e"
             ],
             [
              0.4444444444444444,
              "#bd3786"
             ],
             [
              0.5555555555555556,
              "#d8576b"
             ],
             [
              0.6666666666666666,
              "#ed7953"
             ],
             [
              0.7777777777777778,
              "#fb9f3a"
             ],
             [
              0.8888888888888888,
              "#fdca26"
             ],
             [
              1,
              "#f0f921"
             ]
            ],
            "type": "surface"
           }
          ],
          "table": [
           {
            "cells": {
             "fill": {
              "color": "#EBF0F8"
             },
             "line": {
              "color": "white"
             }
            },
            "header": {
             "fill": {
              "color": "#C8D4E3"
             },
             "line": {
              "color": "white"
             }
            },
            "type": "table"
           }
          ]
         },
         "layout": {
          "annotationdefaults": {
           "arrowcolor": "#2a3f5f",
           "arrowhead": 0,
           "arrowwidth": 1
          },
          "autotypenumbers": "strict",
          "coloraxis": {
           "colorbar": {
            "outlinewidth": 0,
            "ticks": ""
           }
          },
          "colorscale": {
           "diverging": [
            [
             0,
             "#8e0152"
            ],
            [
             0.1,
             "#c51b7d"
            ],
            [
             0.2,
             "#de77ae"
            ],
            [
             0.3,
             "#f1b6da"
            ],
            [
             0.4,
             "#fde0ef"
            ],
            [
             0.5,
             "#f7f7f7"
            ],
            [
             0.6,
             "#e6f5d0"
            ],
            [
             0.7,
             "#b8e186"
            ],
            [
             0.8,
             "#7fbc41"
            ],
            [
             0.9,
             "#4d9221"
            ],
            [
             1,
             "#276419"
            ]
           ],
           "sequential": [
            [
             0,
             "#0d0887"
            ],
            [
             0.1111111111111111,
             "#46039f"
            ],
            [
             0.2222222222222222,
             "#7201a8"
            ],
            [
             0.3333333333333333,
             "#9c179e"
            ],
            [
             0.4444444444444444,
             "#bd3786"
            ],
            [
             0.5555555555555556,
             "#d8576b"
            ],
            [
             0.6666666666666666,
             "#ed7953"
            ],
            [
             0.7777777777777778,
             "#fb9f3a"
            ],
            [
             0.8888888888888888,
             "#fdca26"
            ],
            [
             1,
             "#f0f921"
            ]
           ],
           "sequentialminus": [
            [
             0,
             "#0d0887"
            ],
            [
             0.1111111111111111,
             "#46039f"
            ],
            [
             0.2222222222222222,
             "#7201a8"
            ],
            [
             0.3333333333333333,
             "#9c179e"
            ],
            [
             0.4444444444444444,
             "#bd3786"
            ],
            [
             0.5555555555555556,
             "#d8576b"
            ],
            [
             0.6666666666666666,
             "#ed7953"
            ],
            [
             0.7777777777777778,
             "#fb9f3a"
            ],
            [
             0.8888888888888888,
             "#fdca26"
            ],
            [
             1,
             "#f0f921"
            ]
           ]
          },
          "colorway": [
           "#636efa",
           "#EF553B",
           "#00cc96",
           "#ab63fa",
           "#FFA15A",
           "#19d3f3",
           "#FF6692",
           "#B6E880",
           "#FF97FF",
           "#FECB52"
          ],
          "font": {
           "color": "#2a3f5f"
          },
          "geo": {
           "bgcolor": "white",
           "lakecolor": "white",
           "landcolor": "#E5ECF6",
           "showlakes": true,
           "showland": true,
           "subunitcolor": "white"
          },
          "hoverlabel": {
           "align": "left"
          },
          "hovermode": "closest",
          "mapbox": {
           "style": "light"
          },
          "paper_bgcolor": "white",
          "plot_bgcolor": "#E5ECF6",
          "polar": {
           "angularaxis": {
            "gridcolor": "white",
            "linecolor": "white",
            "ticks": ""
           },
           "bgcolor": "#E5ECF6",
           "radialaxis": {
            "gridcolor": "white",
            "linecolor": "white",
            "ticks": ""
           }
          },
          "scene": {
           "xaxis": {
            "backgroundcolor": "#E5ECF6",
            "gridcolor": "white",
            "gridwidth": 2,
            "linecolor": "white",
            "showbackground": true,
            "ticks": "",
            "zerolinecolor": "white"
           },
           "yaxis": {
            "backgroundcolor": "#E5ECF6",
            "gridcolor": "white",
            "gridwidth": 2,
            "linecolor": "white",
            "showbackground": true,
            "ticks": "",
            "zerolinecolor": "white"
           },
           "zaxis": {
            "backgroundcolor": "#E5ECF6",
            "gridcolor": "white",
            "gridwidth": 2,
            "linecolor": "white",
            "showbackground": true,
            "ticks": "",
            "zerolinecolor": "white"
           }
          },
          "shapedefaults": {
           "line": {
            "color": "#2a3f5f"
           }
          },
          "ternary": {
           "aaxis": {
            "gridcolor": "white",
            "linecolor": "white",
            "ticks": ""
           },
           "baxis": {
            "gridcolor": "white",
            "linecolor": "white",
            "ticks": ""
           },
           "bgcolor": "#E5ECF6",
           "caxis": {
            "gridcolor": "white",
            "linecolor": "white",
            "ticks": ""
           }
          },
          "title": {
           "x": 0.05
          },
          "xaxis": {
           "automargin": true,
           "gridcolor": "white",
           "linecolor": "white",
           "ticks": "",
           "title": {
            "standoff": 15
           },
           "zerolinecolor": "white",
           "zerolinewidth": 2
          },
          "yaxis": {
           "automargin": true,
           "gridcolor": "white",
           "linecolor": "white",
           "ticks": "",
           "title": {
            "standoff": 15
           },
           "zerolinecolor": "white",
           "zerolinewidth": 2
          }
         }
        },
        "title": {
         "text": "Variação do loudness conforme os anos"
        },
        "xaxis": {
         "anchor": "y",
         "domain": [
          0,
          1
         ],
         "title": {
          "text": "year"
         }
        },
        "yaxis": {
         "anchor": "x",
         "domain": [
          0,
          1
         ],
         "title": {
          "text": "loudness"
         }
        }
       }
      }
     },
     "metadata": {},
     "output_type": "display_data"
    }
   ],
   "source": [
    "fig = px.line(dados_anos, x=\"year\", y=\"loudness\",\n",
    "              title=\"Variação do loudness conforme os anos\")\n",
    "fig.show()\n"
   ]
  },
  {
   "cell_type": "code",
   "execution_count": 22,
   "metadata": {},
   "outputs": [],
   "source": [
    "import plotly.graph_objects as go\n"
   ]
  },
  {
   "cell_type": "code",
   "execution_count": 23,
   "metadata": {},
   "outputs": [],
   "source": [
    "fig = go.Figure()\n"
   ]
  },
  {
   "cell_type": "code",
   "execution_count": 24,
   "metadata": {},
   "outputs": [
    {
     "data": {
      "application/vnd.plotly.v1+json": {
       "config": {
        "plotlyServerURL": "https://plot.ly"
       },
       "data": [
        {
         "name": "Acousticness",
         "type": "scatter",
         "x": [
          2000,
          2001,
          2002,
          2003,
          2004,
          2005,
          2006,
          2007,
          2008,
          2009,
          2010,
          2011,
          2012,
          2013,
          2014,
          2015,
          2016,
          2017,
          2018,
          2019,
          2020
         ],
         "y": [
          0.2893227005163599,
          0.2868424748428934,
          0.282624289885001,
          0.2564705181729783,
          0.2805589466225845,
          0.2557635068666665,
          0.2799863520256408,
          0.2540809575538463,
          0.2491917627212275,
          0.261928619096939,
          0.2426866435515872,
          0.2731826625185919,
          0.2499530443804624,
          0.2574880859564779,
          0.249312645880299,
          0.2539522577102332,
          0.2841710299554814,
          0.2860990665261043,
          0.2676329907750836,
          0.2782985863365824,
          0.2199308880935964
         ]
        },
        {
         "name": "Valence",
         "type": "scatter",
         "x": [
          2000,
          2001,
          2002,
          2003,
          2004,
          2005,
          2006,
          2007,
          2008,
          2009,
          2010,
          2011,
          2012,
          2013,
          2014,
          2015,
          2016,
          2017,
          2018,
          2019,
          2020
         ],
         "y": [
          0.5594754601226991,
          0.541479107231919,
          0.5423971500000008,
          0.5305042476970324,
          0.5244885554425227,
          0.5325309230769236,
          0.5200283076923078,
          0.5167938461538473,
          0.5275418925831203,
          0.5071696617346935,
          0.5208951587301589,
          0.4724536787307882,
          0.4627090128534706,
          0.4547411943319834,
          0.4630487780548628,
          0.4320983687943254,
          0.4315320589872012,
          0.4164763112449793,
          0.4479212743699474,
          0.4588176295536167,
          0.5010478078817729
         ]
        },
        {
         "name": "Danceability",
         "type": "scatter",
         "x": [
          2000,
          2001,
          2002,
          2003,
          2004,
          2005,
          2006,
          2007,
          2008,
          2009,
          2010,
          2011,
          2012,
          2013,
          2014,
          2015,
          2016,
          2017,
          2018,
          2019,
          2020
         ],
         "y": [
          0.590918047034764,
          0.5833178553615969,
          0.5761602999999997,
          0.5757633060388944,
          0.5676803662258397,
          0.5722805641025652,
          0.5682301538461539,
          0.5634143589743592,
          0.5791928388746803,
          0.5641903571428577,
          0.5724883432539687,
          0.5528669806643526,
          0.5708818508997433,
          0.5711480263157896,
          0.5899476807980057,
          0.5937740628166152,
          0.6002023928770179,
          0.6122170180722886,
          0.6635004755111744,
          0.6448141097998967,
          0.6929043349753701
         ]
        },
        {
         "name": "Energy",
         "type": "scatter",
         "x": [
          2000,
          2001,
          2002,
          2003,
          2004,
          2005,
          2006,
          2007,
          2008,
          2009,
          2010,
          2011,
          2012,
          2013,
          2014,
          2015,
          2016,
          2017,
          2018,
          2019,
          2020
         ],
         "y": [
          0.6254128323108387,
          0.6269855221945144,
          0.6412697960000012,
          0.6601652610030712,
          0.6488679450661226,
          0.653208511282051,
          0.6503262820512825,
          0.6683047743589737,
          0.6714608207672623,
          0.6707487551020408,
          0.6817778026289684,
          0.6483008934060499,
          0.6565714601542408,
          0.6455968914473688,
          0.6487954437905223,
          0.6270642715298895,
          0.5928552316082347,
          0.5904210208835337,
          0.6024346220161672,
          0.5932240360184717,
          0.6312316354679793
         ]
        },
        {
         "name": "Instrumentalness",
         "type": "scatter",
         "x": [
          2000,
          2001,
          2002,
          2003,
          2004,
          2005,
          2006,
          2007,
          2008,
          2009,
          2010,
          2011,
          2012,
          2013,
          2014,
          2015,
          2016,
          2017,
          2018,
          2019,
          2020
         ],
         "y": [
          0.1011677687934559,
          0.1072140189925186,
          0.0880483503149999,
          0.0830492746673491,
          0.0779340349084435,
          0.0901943611846154,
          0.0777014718769231,
          0.0729572680512819,
          0.0636620903171356,
          0.0758720736836735,
          0.0829805682192461,
          0.103772332166584,
          0.0852055206786631,
          0.0983650539170038,
          0.0765695548379051,
          0.1067868780547114,
          0.0939843871174179,
          0.0970906090662649,
          0.0542171216690441,
          0.0776402469728064,
          0.0163755243054187
         ]
        },
        {
         "name": "Liveness",
         "type": "scatter",
         "x": [
          2000,
          2001,
          2002,
          2003,
          2004,
          2005,
          2006,
          2007,
          2008,
          2009,
          2010,
          2011,
          2012,
          2013,
          2014,
          2015,
          2016,
          2017,
          2018,
          2019,
          2020
         ],
         "y": [
          0.1976860429447853,
          0.1870256359102248,
          0.1939111999999998,
          0.196976305015353,
          0.2021994404883014,
          0.1900816256410258,
          0.1882892820512821,
          0.1961265641025642,
          0.1984314066496162,
          0.2052522959183674,
          0.1997006448412699,
          0.2033088249876056,
          0.1897330077120824,
          0.1996308198380571,
          0.1918215960099752,
          0.1888564336372847,
          0.181169894268225,
          0.1917126004016064,
          0.1763255349500711,
          0.1726164186762446,
          0.1785354187192117
         ]
        },
        {
         "name": "Speechiness",
         "type": "scatter",
         "x": [
          2000,
          2001,
          2002,
          2003,
          2004,
          2005,
          2006,
          2007,
          2008,
          2009,
          2010,
          2011,
          2012,
          2013,
          2014,
          2015,
          2016,
          2017,
          2018,
          2019,
          2020
         ],
         "y": [
          0.0892054192229039,
          0.0891822942643391,
          0.0843075999999999,
          0.0939257420675538,
          0.0942388097660224,
          0.093333692307692,
          0.0858467692307692,
          0.0843473333333333,
          0.077356368286445,
          0.0854578061224489,
          0.0810314980158731,
          0.087479276152702,
          0.081742467866324,
          0.0938488866396761,
          0.0840605486284289,
          0.0967792299898684,
          0.1043132999443518,
          0.1105364959839356,
          0.1271755587256302,
          0.1210433555669573,
          0.1413836945812805
         ]
        }
       ],
       "layout": {
        "template": {
         "data": {
          "bar": [
           {
            "error_x": {
             "color": "#2a3f5f"
            },
            "error_y": {
             "color": "#2a3f5f"
            },
            "marker": {
             "line": {
              "color": "#E5ECF6",
              "width": 0.5
             },
             "pattern": {
              "fillmode": "overlay",
              "size": 10,
              "solidity": 0.2
             }
            },
            "type": "bar"
           }
          ],
          "barpolar": [
           {
            "marker": {
             "line": {
              "color": "#E5ECF6",
              "width": 0.5
             },
             "pattern": {
              "fillmode": "overlay",
              "size": 10,
              "solidity": 0.2
             }
            },
            "type": "barpolar"
           }
          ],
          "carpet": [
           {
            "aaxis": {
             "endlinecolor": "#2a3f5f",
             "gridcolor": "white",
             "linecolor": "white",
             "minorgridcolor": "white",
             "startlinecolor": "#2a3f5f"
            },
            "baxis": {
             "endlinecolor": "#2a3f5f",
             "gridcolor": "white",
             "linecolor": "white",
             "minorgridcolor": "white",
             "startlinecolor": "#2a3f5f"
            },
            "type": "carpet"
           }
          ],
          "choropleth": [
           {
            "colorbar": {
             "outlinewidth": 0,
             "ticks": ""
            },
            "type": "choropleth"
           }
          ],
          "contour": [
           {
            "colorbar": {
             "outlinewidth": 0,
             "ticks": ""
            },
            "colorscale": [
             [
              0,
              "#0d0887"
             ],
             [
              0.1111111111111111,
              "#46039f"
             ],
             [
              0.2222222222222222,
              "#7201a8"
             ],
             [
              0.3333333333333333,
              "#9c179e"
             ],
             [
              0.4444444444444444,
              "#bd3786"
             ],
             [
              0.5555555555555556,
              "#d8576b"
             ],
             [
              0.6666666666666666,
              "#ed7953"
             ],
             [
              0.7777777777777778,
              "#fb9f3a"
             ],
             [
              0.8888888888888888,
              "#fdca26"
             ],
             [
              1,
              "#f0f921"
             ]
            ],
            "type": "contour"
           }
          ],
          "contourcarpet": [
           {
            "colorbar": {
             "outlinewidth": 0,
             "ticks": ""
            },
            "type": "contourcarpet"
           }
          ],
          "heatmap": [
           {
            "colorbar": {
             "outlinewidth": 0,
             "ticks": ""
            },
            "colorscale": [
             [
              0,
              "#0d0887"
             ],
             [
              0.1111111111111111,
              "#46039f"
             ],
             [
              0.2222222222222222,
              "#7201a8"
             ],
             [
              0.3333333333333333,
              "#9c179e"
             ],
             [
              0.4444444444444444,
              "#bd3786"
             ],
             [
              0.5555555555555556,
              "#d8576b"
             ],
             [
              0.6666666666666666,
              "#ed7953"
             ],
             [
              0.7777777777777778,
              "#fb9f3a"
             ],
             [
              0.8888888888888888,
              "#fdca26"
             ],
             [
              1,
              "#f0f921"
             ]
            ],
            "type": "heatmap"
           }
          ],
          "heatmapgl": [
           {
            "colorbar": {
             "outlinewidth": 0,
             "ticks": ""
            },
            "colorscale": [
             [
              0,
              "#0d0887"
             ],
             [
              0.1111111111111111,
              "#46039f"
             ],
             [
              0.2222222222222222,
              "#7201a8"
             ],
             [
              0.3333333333333333,
              "#9c179e"
             ],
             [
              0.4444444444444444,
              "#bd3786"
             ],
             [
              0.5555555555555556,
              "#d8576b"
             ],
             [
              0.6666666666666666,
              "#ed7953"
             ],
             [
              0.7777777777777778,
              "#fb9f3a"
             ],
             [
              0.8888888888888888,
              "#fdca26"
             ],
             [
              1,
              "#f0f921"
             ]
            ],
            "type": "heatmapgl"
           }
          ],
          "histogram": [
           {
            "marker": {
             "pattern": {
              "fillmode": "overlay",
              "size": 10,
              "solidity": 0.2
             }
            },
            "type": "histogram"
           }
          ],
          "histogram2d": [
           {
            "colorbar": {
             "outlinewidth": 0,
             "ticks": ""
            },
            "colorscale": [
             [
              0,
              "#0d0887"
             ],
             [
              0.1111111111111111,
              "#46039f"
             ],
             [
              0.2222222222222222,
              "#7201a8"
             ],
             [
              0.3333333333333333,
              "#9c179e"
             ],
             [
              0.4444444444444444,
              "#bd3786"
             ],
             [
              0.5555555555555556,
              "#d8576b"
             ],
             [
              0.6666666666666666,
              "#ed7953"
             ],
             [
              0.7777777777777778,
              "#fb9f3a"
             ],
             [
              0.8888888888888888,
              "#fdca26"
             ],
             [
              1,
              "#f0f921"
             ]
            ],
            "type": "histogram2d"
           }
          ],
          "histogram2dcontour": [
           {
            "colorbar": {
             "outlinewidth": 0,
             "ticks": ""
            },
            "colorscale": [
             [
              0,
              "#0d0887"
             ],
             [
              0.1111111111111111,
              "#46039f"
             ],
             [
              0.2222222222222222,
              "#7201a8"
             ],
             [
              0.3333333333333333,
              "#9c179e"
             ],
             [
              0.4444444444444444,
              "#bd3786"
             ],
             [
              0.5555555555555556,
              "#d8576b"
             ],
             [
              0.6666666666666666,
              "#ed7953"
             ],
             [
              0.7777777777777778,
              "#fb9f3a"
             ],
             [
              0.8888888888888888,
              "#fdca26"
             ],
             [
              1,
              "#f0f921"
             ]
            ],
            "type": "histogram2dcontour"
           }
          ],
          "mesh3d": [
           {
            "colorbar": {
             "outlinewidth": 0,
             "ticks": ""
            },
            "type": "mesh3d"
           }
          ],
          "parcoords": [
           {
            "line": {
             "colorbar": {
              "outlinewidth": 0,
              "ticks": ""
             }
            },
            "type": "parcoords"
           }
          ],
          "pie": [
           {
            "automargin": true,
            "type": "pie"
           }
          ],
          "scatter": [
           {
            "fillpattern": {
             "fillmode": "overlay",
             "size": 10,
             "solidity": 0.2
            },
            "type": "scatter"
           }
          ],
          "scatter3d": [
           {
            "line": {
             "colorbar": {
              "outlinewidth": 0,
              "ticks": ""
             }
            },
            "marker": {
             "colorbar": {
              "outlinewidth": 0,
              "ticks": ""
             }
            },
            "type": "scatter3d"
           }
          ],
          "scattercarpet": [
           {
            "marker": {
             "colorbar": {
              "outlinewidth": 0,
              "ticks": ""
             }
            },
            "type": "scattercarpet"
           }
          ],
          "scattergeo": [
           {
            "marker": {
             "colorbar": {
              "outlinewidth": 0,
              "ticks": ""
             }
            },
            "type": "scattergeo"
           }
          ],
          "scattergl": [
           {
            "marker": {
             "colorbar": {
              "outlinewidth": 0,
              "ticks": ""
             }
            },
            "type": "scattergl"
           }
          ],
          "scattermapbox": [
           {
            "marker": {
             "colorbar": {
              "outlinewidth": 0,
              "ticks": ""
             }
            },
            "type": "scattermapbox"
           }
          ],
          "scatterpolar": [
           {
            "marker": {
             "colorbar": {
              "outlinewidth": 0,
              "ticks": ""
             }
            },
            "type": "scatterpolar"
           }
          ],
          "scatterpolargl": [
           {
            "marker": {
             "colorbar": {
              "outlinewidth": 0,
              "ticks": ""
             }
            },
            "type": "scatterpolargl"
           }
          ],
          "scatterternary": [
           {
            "marker": {
             "colorbar": {
              "outlinewidth": 0,
              "ticks": ""
             }
            },
            "type": "scatterternary"
           }
          ],
          "surface": [
           {
            "colorbar": {
             "outlinewidth": 0,
             "ticks": ""
            },
            "colorscale": [
             [
              0,
              "#0d0887"
             ],
             [
              0.1111111111111111,
              "#46039f"
             ],
             [
              0.2222222222222222,
              "#7201a8"
             ],
             [
              0.3333333333333333,
              "#9c179e"
             ],
             [
              0.4444444444444444,
              "#bd3786"
             ],
             [
              0.5555555555555556,
              "#d8576b"
             ],
             [
              0.6666666666666666,
              "#ed7953"
             ],
             [
              0.7777777777777778,
              "#fb9f3a"
             ],
             [
              0.8888888888888888,
              "#fdca26"
             ],
             [
              1,
              "#f0f921"
             ]
            ],
            "type": "surface"
           }
          ],
          "table": [
           {
            "cells": {
             "fill": {
              "color": "#EBF0F8"
             },
             "line": {
              "color": "white"
             }
            },
            "header": {
             "fill": {
              "color": "#C8D4E3"
             },
             "line": {
              "color": "white"
             }
            },
            "type": "table"
           }
          ]
         },
         "layout": {
          "annotationdefaults": {
           "arrowcolor": "#2a3f5f",
           "arrowhead": 0,
           "arrowwidth": 1
          },
          "autotypenumbers": "strict",
          "coloraxis": {
           "colorbar": {
            "outlinewidth": 0,
            "ticks": ""
           }
          },
          "colorscale": {
           "diverging": [
            [
             0,
             "#8e0152"
            ],
            [
             0.1,
             "#c51b7d"
            ],
            [
             0.2,
             "#de77ae"
            ],
            [
             0.3,
             "#f1b6da"
            ],
            [
             0.4,
             "#fde0ef"
            ],
            [
             0.5,
             "#f7f7f7"
            ],
            [
             0.6,
             "#e6f5d0"
            ],
            [
             0.7,
             "#b8e186"
            ],
            [
             0.8,
             "#7fbc41"
            ],
            [
             0.9,
             "#4d9221"
            ],
            [
             1,
             "#276419"
            ]
           ],
           "sequential": [
            [
             0,
             "#0d0887"
            ],
            [
             0.1111111111111111,
             "#46039f"
            ],
            [
             0.2222222222222222,
             "#7201a8"
            ],
            [
             0.3333333333333333,
             "#9c179e"
            ],
            [
             0.4444444444444444,
             "#bd3786"
            ],
            [
             0.5555555555555556,
             "#d8576b"
            ],
            [
             0.6666666666666666,
             "#ed7953"
            ],
            [
             0.7777777777777778,
             "#fb9f3a"
            ],
            [
             0.8888888888888888,
             "#fdca26"
            ],
            [
             1,
             "#f0f921"
            ]
           ],
           "sequentialminus": [
            [
             0,
             "#0d0887"
            ],
            [
             0.1111111111111111,
             "#46039f"
            ],
            [
             0.2222222222222222,
             "#7201a8"
            ],
            [
             0.3333333333333333,
             "#9c179e"
            ],
            [
             0.4444444444444444,
             "#bd3786"
            ],
            [
             0.5555555555555556,
             "#d8576b"
            ],
            [
             0.6666666666666666,
             "#ed7953"
            ],
            [
             0.7777777777777778,
             "#fb9f3a"
            ],
            [
             0.8888888888888888,
             "#fdca26"
            ],
            [
             1,
             "#f0f921"
            ]
           ]
          },
          "colorway": [
           "#636efa",
           "#EF553B",
           "#00cc96",
           "#ab63fa",
           "#FFA15A",
           "#19d3f3",
           "#FF6692",
           "#B6E880",
           "#FF97FF",
           "#FECB52"
          ],
          "font": {
           "color": "#2a3f5f"
          },
          "geo": {
           "bgcolor": "white",
           "lakecolor": "white",
           "landcolor": "#E5ECF6",
           "showlakes": true,
           "showland": true,
           "subunitcolor": "white"
          },
          "hoverlabel": {
           "align": "left"
          },
          "hovermode": "closest",
          "mapbox": {
           "style": "light"
          },
          "paper_bgcolor": "white",
          "plot_bgcolor": "#E5ECF6",
          "polar": {
           "angularaxis": {
            "gridcolor": "white",
            "linecolor": "white",
            "ticks": ""
           },
           "bgcolor": "#E5ECF6",
           "radialaxis": {
            "gridcolor": "white",
            "linecolor": "white",
            "ticks": ""
           }
          },
          "scene": {
           "xaxis": {
            "backgroundcolor": "#E5ECF6",
            "gridcolor": "white",
            "gridwidth": 2,
            "linecolor": "white",
            "showbackground": true,
            "ticks": "",
            "zerolinecolor": "white"
           },
           "yaxis": {
            "backgroundcolor": "#E5ECF6",
            "gridcolor": "white",
            "gridwidth": 2,
            "linecolor": "white",
            "showbackground": true,
            "ticks": "",
            "zerolinecolor": "white"
           },
           "zaxis": {
            "backgroundcolor": "#E5ECF6",
            "gridcolor": "white",
            "gridwidth": 2,
            "linecolor": "white",
            "showbackground": true,
            "ticks": "",
            "zerolinecolor": "white"
           }
          },
          "shapedefaults": {
           "line": {
            "color": "#2a3f5f"
           }
          },
          "ternary": {
           "aaxis": {
            "gridcolor": "white",
            "linecolor": "white",
            "ticks": ""
           },
           "baxis": {
            "gridcolor": "white",
            "linecolor": "white",
            "ticks": ""
           },
           "bgcolor": "#E5ECF6",
           "caxis": {
            "gridcolor": "white",
            "linecolor": "white",
            "ticks": ""
           }
          },
          "title": {
           "x": 0.05
          },
          "xaxis": {
           "automargin": true,
           "gridcolor": "white",
           "linecolor": "white",
           "ticks": "",
           "title": {
            "standoff": 15
           },
           "zerolinecolor": "white",
           "zerolinewidth": 2
          },
          "yaxis": {
           "automargin": true,
           "gridcolor": "white",
           "linecolor": "white",
           "ticks": "",
           "title": {
            "standoff": 15
           },
           "zerolinecolor": "white",
           "zerolinewidth": 2
          }
         }
        }
       }
      }
     },
     "metadata": {},
     "output_type": "display_data"
    }
   ],
   "source": [
    "fig.add_trace(go.Scatter(\n",
    "    x=dados_anos[\"year\"], y=dados_anos[\"acousticness\"], name=\"Acousticness\"))\n",
    "fig.add_trace(go.Scatter(\n",
    "    x=dados_anos[\"year\"], y=dados_anos[\"valence\"], name=\"Valence\"))\n",
    "fig.add_trace(go.Scatter(\n",
    "    x=dados_anos[\"year\"], y=dados_anos[\"danceability\"], name=\"Danceability\"))\n",
    "fig.add_trace(go.Scatter(\n",
    "    x=dados_anos[\"year\"], y=dados_anos[\"energy\"], name=\"Energy\"))\n",
    "fig.add_trace(go.Scatter(\n",
    "    x=dados_anos[\"year\"], y=dados_anos[\"instrumentalness\"], name=\"Instrumentalness\"))\n",
    "fig.add_trace(go.Scatter(\n",
    "    x=dados_anos[\"year\"], y=dados_anos[\"liveness\"], name=\"Liveness\"))\n",
    "fig.add_trace(go.Scatter(\n",
    "    x=dados_anos[\"year\"], y=dados_anos[\"speechiness\"], name=\"Speechiness\"))\n",
    "fig.show()\n"
   ]
  },
  {
   "cell_type": "code",
   "execution_count": 25,
   "metadata": {},
   "outputs": [
    {
     "data": {
      "text/html": [
       "<div>\n",
       "<style scoped>\n",
       "    .dataframe tbody tr th:only-of-type {\n",
       "        vertical-align: middle;\n",
       "    }\n",
       "\n",
       "    .dataframe tbody tr th {\n",
       "        vertical-align: top;\n",
       "    }\n",
       "\n",
       "    .dataframe thead th {\n",
       "        text-align: right;\n",
       "    }\n",
       "</style>\n",
       "<table border=\"1\" class=\"dataframe\">\n",
       "  <thead>\n",
       "    <tr style=\"text-align: right;\">\n",
       "      <th></th>\n",
       "      <th>genres</th>\n",
       "      <th>acousticness</th>\n",
       "      <th>danceability</th>\n",
       "      <th>duration_ms</th>\n",
       "      <th>energy</th>\n",
       "      <th>instrumentalness</th>\n",
       "      <th>liveness</th>\n",
       "      <th>loudness</th>\n",
       "      <th>speechiness</th>\n",
       "      <th>tempo</th>\n",
       "      <th>valence</th>\n",
       "      <th>popularity</th>\n",
       "    </tr>\n",
       "  </thead>\n",
       "  <tbody>\n",
       "    <tr>\n",
       "      <th>0</th>\n",
       "      <td>21st century classical</td>\n",
       "      <td>0.979333</td>\n",
       "      <td>0.162883</td>\n",
       "      <td>1.602977e+05</td>\n",
       "      <td>0.071317</td>\n",
       "      <td>0.606834</td>\n",
       "      <td>0.3616</td>\n",
       "      <td>-31.514333</td>\n",
       "      <td>0.040567</td>\n",
       "      <td>75.336500</td>\n",
       "      <td>0.103783</td>\n",
       "      <td>27.833333</td>\n",
       "    </tr>\n",
       "    <tr>\n",
       "      <th>1</th>\n",
       "      <td>432hz</td>\n",
       "      <td>0.494780</td>\n",
       "      <td>0.299333</td>\n",
       "      <td>1.048887e+06</td>\n",
       "      <td>0.450678</td>\n",
       "      <td>0.477762</td>\n",
       "      <td>0.1310</td>\n",
       "      <td>-16.854000</td>\n",
       "      <td>0.076817</td>\n",
       "      <td>120.285667</td>\n",
       "      <td>0.221750</td>\n",
       "      <td>52.500000</td>\n",
       "    </tr>\n",
       "  </tbody>\n",
       "</table>\n",
       "</div>"
      ],
      "text/plain": [
       "                   genres  acousticness  danceability   duration_ms    energy  \\\n",
       "0  21st century classical      0.979333      0.162883  1.602977e+05  0.071317   \n",
       "1                   432hz      0.494780      0.299333  1.048887e+06  0.450678   \n",
       "\n",
       "   instrumentalness  liveness   loudness  speechiness       tempo   valence  \\\n",
       "0          0.606834    0.3616 -31.514333     0.040567   75.336500  0.103783   \n",
       "1          0.477762    0.1310 -16.854000     0.076817  120.285667  0.221750   \n",
       "\n",
       "   popularity  \n",
       "0   27.833333  \n",
       "1   52.500000  "
      ]
     },
     "execution_count": 25,
     "metadata": {},
     "output_type": "execute_result"
    }
   ],
   "source": [
    "dados_generos.head(2)\n"
   ]
  },
  {
   "cell_type": "code",
   "execution_count": 26,
   "metadata": {},
   "outputs": [
    {
     "data": {
      "text/plain": [
       "2973"
      ]
     },
     "execution_count": 26,
     "metadata": {},
     "output_type": "execute_result"
    }
   ],
   "source": [
    "dados_generos[\"genres\"].value_counts().sum()\n"
   ]
  },
  {
   "cell_type": "code",
   "execution_count": 27,
   "metadata": {},
   "outputs": [
    {
     "data": {
      "text/html": [
       "<div>\n",
       "<style scoped>\n",
       "    .dataframe tbody tr th:only-of-type {\n",
       "        vertical-align: middle;\n",
       "    }\n",
       "\n",
       "    .dataframe tbody tr th {\n",
       "        vertical-align: top;\n",
       "    }\n",
       "\n",
       "    .dataframe thead th {\n",
       "        text-align: right;\n",
       "    }\n",
       "</style>\n",
       "<table border=\"1\" class=\"dataframe\">\n",
       "  <thead>\n",
       "    <tr style=\"text-align: right;\">\n",
       "      <th></th>\n",
       "      <th>acousticness</th>\n",
       "      <th>danceability</th>\n",
       "      <th>duration_ms</th>\n",
       "      <th>energy</th>\n",
       "      <th>instrumentalness</th>\n",
       "      <th>liveness</th>\n",
       "      <th>loudness</th>\n",
       "      <th>speechiness</th>\n",
       "      <th>tempo</th>\n",
       "      <th>valence</th>\n",
       "      <th>popularity</th>\n",
       "    </tr>\n",
       "  </thead>\n",
       "  <tbody>\n",
       "    <tr>\n",
       "      <th>0</th>\n",
       "      <td>0.979333</td>\n",
       "      <td>0.162883</td>\n",
       "      <td>1.602977e+05</td>\n",
       "      <td>0.071317</td>\n",
       "      <td>0.606834</td>\n",
       "      <td>0.3616</td>\n",
       "      <td>-31.514333</td>\n",
       "      <td>0.040567</td>\n",
       "      <td>75.336500</td>\n",
       "      <td>0.103783</td>\n",
       "      <td>27.833333</td>\n",
       "    </tr>\n",
       "    <tr>\n",
       "      <th>1</th>\n",
       "      <td>0.494780</td>\n",
       "      <td>0.299333</td>\n",
       "      <td>1.048887e+06</td>\n",
       "      <td>0.450678</td>\n",
       "      <td>0.477762</td>\n",
       "      <td>0.1310</td>\n",
       "      <td>-16.854000</td>\n",
       "      <td>0.076817</td>\n",
       "      <td>120.285667</td>\n",
       "      <td>0.221750</td>\n",
       "      <td>52.500000</td>\n",
       "    </tr>\n",
       "  </tbody>\n",
       "</table>\n",
       "</div>"
      ],
      "text/plain": [
       "   acousticness  danceability   duration_ms    energy  instrumentalness  \\\n",
       "0      0.979333      0.162883  1.602977e+05  0.071317          0.606834   \n",
       "1      0.494780      0.299333  1.048887e+06  0.450678          0.477762   \n",
       "\n",
       "   liveness   loudness  speechiness       tempo   valence  popularity  \n",
       "0    0.3616 -31.514333     0.040567   75.336500  0.103783   27.833333  \n",
       "1    0.1310 -16.854000     0.076817  120.285667  0.221750   52.500000  "
      ]
     },
     "execution_count": 27,
     "metadata": {},
     "output_type": "execute_result"
    }
   ],
   "source": [
    "dados_generos1 = dados_generos.drop('genres', axis=1)\n",
    "dados_generos1.head(2)\n"
   ]
  },
  {
   "cell_type": "code",
   "execution_count": 28,
   "metadata": {},
   "outputs": [],
   "source": [
    "SEED = 1234\n",
    "np.random.seed(1224)\n",
    "\n",
    "pca_pipeline = Pipeline([('scaler', StandardScaler()),\n",
    "                        ('PCA', PCA(n_components=2, random_state=SEED))])\n",
    "\n",
    "genre_embedding_pca = pca_pipeline.fit_transform(dados_generos1)\n",
    "\n",
    "projection = pd.DataFrame(columns=['x', 'y'], data=genre_embedding_pca)\n"
   ]
  },
  {
   "cell_type": "code",
   "execution_count": 29,
   "metadata": {},
   "outputs": [
    {
     "name": "stdout",
     "output_type": "stream",
     "text": [
      "Projection: (2973, 2)\n"
     ]
    }
   ],
   "source": [
    "print(f\"Projection: {projection.shape}\")"
   ]
  },
  {
   "cell_type": "code",
   "execution_count": 30,
   "metadata": {},
   "outputs": [],
   "source": [
    "k_means_pca = KMeans(n_clusters=5, verbose=False, random_state=SEED)\n",
    "k_means_pca.fit(projection)\n",
    "\n",
    "dados_generos[\"cluster_pca\"] = k_means_pca.predict(projection)\n",
    "projection[\"cluster_pca\"] = k_means_pca.predict(projection)\n"
   ]
  },
  {
   "cell_type": "code",
   "execution_count": 31,
   "metadata": {},
   "outputs": [
    {
     "data": {
      "text/html": [
       "<div>\n",
       "<style scoped>\n",
       "    .dataframe tbody tr th:only-of-type {\n",
       "        vertical-align: middle;\n",
       "    }\n",
       "\n",
       "    .dataframe tbody tr th {\n",
       "        vertical-align: top;\n",
       "    }\n",
       "\n",
       "    .dataframe thead th {\n",
       "        text-align: right;\n",
       "    }\n",
       "</style>\n",
       "<table border=\"1\" class=\"dataframe\">\n",
       "  <thead>\n",
       "    <tr style=\"text-align: right;\">\n",
       "      <th></th>\n",
       "      <th>x</th>\n",
       "      <th>y</th>\n",
       "      <th>cluster_pca</th>\n",
       "      <th>generos</th>\n",
       "    </tr>\n",
       "  </thead>\n",
       "  <tbody>\n",
       "    <tr>\n",
       "      <th>0</th>\n",
       "      <td>5.910268</td>\n",
       "      <td>-0.011146</td>\n",
       "      <td>2</td>\n",
       "      <td>21st century classical</td>\n",
       "    </tr>\n",
       "    <tr>\n",
       "      <th>1</th>\n",
       "      <td>2.787093</td>\n",
       "      <td>4.498483</td>\n",
       "      <td>2</td>\n",
       "      <td>432hz</td>\n",
       "    </tr>\n",
       "    <tr>\n",
       "      <th>2</th>\n",
       "      <td>-0.757538</td>\n",
       "      <td>-1.258495</td>\n",
       "      <td>0</td>\n",
       "      <td>8-bit</td>\n",
       "    </tr>\n",
       "    <tr>\n",
       "      <th>3</th>\n",
       "      <td>1.020521</td>\n",
       "      <td>-0.931690</td>\n",
       "      <td>3</td>\n",
       "      <td>[]</td>\n",
       "    </tr>\n",
       "    <tr>\n",
       "      <th>4</th>\n",
       "      <td>0.753911</td>\n",
       "      <td>-0.999861</td>\n",
       "      <td>3</td>\n",
       "      <td>a cappella</td>\n",
       "    </tr>\n",
       "  </tbody>\n",
       "</table>\n",
       "</div>"
      ],
      "text/plain": [
       "          x         y  cluster_pca                 generos\n",
       "0  5.910268 -0.011146            2  21st century classical\n",
       "1  2.787093  4.498483            2                   432hz\n",
       "2 -0.757538 -1.258495            0                   8-bit\n",
       "3  1.020521 -0.931690            3                      []\n",
       "4  0.753911 -0.999861            3              a cappella"
      ]
     },
     "execution_count": 31,
     "metadata": {},
     "output_type": "execute_result"
    }
   ],
   "source": [
    "projection[\"generos\"] = dados_generos['genres']\n",
    "projection.head()\n"
   ]
  },
  {
   "cell_type": "code",
   "execution_count": 32,
   "metadata": {},
   "outputs": [
    {
     "data": {
      "application/vnd.plotly.v1+json": {
       "config": {
        "plotlyServerURL": "https://plot.ly"
       },
       "data": [
        {
         "customdata": [
          [
           "21st century classical"
          ],
          [
           "432hz"
          ],
          [
           "8-bit"
          ],
          [
           "[]"
          ],
          [
           "a cappella"
          ],
          [
           "abstract"
          ],
          [
           "abstract beats"
          ],
          [
           "abstract hip hop"
          ],
          [
           "accordeon"
          ],
          [
           "accordion"
          ],
          [
           "acid house"
          ],
          [
           "acid rock"
          ],
          [
           "acid trance"
          ],
          [
           "acousmatic"
          ],
          [
           "acoustic blues"
          ],
          [
           "acoustic pop"
          ],
          [
           "acoustic punk"
          ],
          [
           "acoustic rock"
          ],
          [
           "action rock"
          ],
          [
           "adoracion"
          ],
          [
           "adult standards"
          ],
          [
           "adventista"
          ],
          [
           "afghan pop"
          ],
          [
           "afghan traditional"
          ],
          [
           "african percussion"
          ],
          [
           "african reggae"
          ],
          [
           "african rock"
          ],
          [
           "african-american classical"
          ],
          [
           "afro dancehall"
          ],
          [
           "afro house"
          ],
          [
           "afro psych"
          ],
          [
           "afro soul"
          ],
          [
           "afro-funk"
          ],
          [
           "afrobeat"
          ],
          [
           "afrofuturism"
          ],
          [
           "afrofuturismo brasileiro"
          ],
          [
           "afropop"
          ],
          [
           "afroswing"
          ],
          [
           "aggrotech"
          ],
          [
           "alabama indie"
          ],
          [
           "alabama metal"
          ],
          [
           "alabama rap"
          ],
          [
           "alaska indie"
          ],
          [
           "albanian pop"
          ],
          [
           "albany ny indie"
          ],
          [
           "alberta country"
          ],
          [
           "alberta hip hop"
          ],
          [
           "album rock"
          ],
          [
           "albuquerque indie"
          ],
          [
           "alt-idol"
          ],
          [
           "alte"
          ],
          [
           "alternative americana"
          ],
          [
           "alternative country"
          ],
          [
           "alternative dance"
          ],
          [
           "alternative emo"
          ],
          [
           "alternative hip hop"
          ],
          [
           "alternative metal"
          ],
          [
           "alternative pop"
          ],
          [
           "alternative pop rock"
          ],
          [
           "alternative r&b"
          ],
          [
           "alternative rock"
          ],
          [
           "alternative roots rock"
          ],
          [
           "ambeat"
          ],
          [
           "ambient"
          ],
          [
           "ambient black metal"
          ],
          [
           "ambient folk"
          ],
          [
           "ambient house"
          ],
          [
           "ambient idm"
          ],
          [
           "ambient industrial"
          ],
          [
           "ambient pop"
          ],
          [
           "ambient techno"
          ],
          [
           "ambient worship"
          ],
          [
           "american 21st century classical"
          ],
          [
           "american choir"
          ],
          [
           "american classical piano"
          ],
          [
           "american contemporary classical"
          ],
          [
           "american early music"
          ],
          [
           "american folk revival"
          ],
          [
           "american metalcore"
          ],
          [
           "american modern classical"
          ],
          [
           "american oi"
          ],
          [
           "american orchestra"
          ],
          [
           "american post-rock"
          ],
          [
           "american primitive"
          ],
          [
           "american romanticism"
          ],
          [
           "american shoegaze"
          ],
          [
           "anadolu rock"
          ],
          [
           "anarcho-punk"
          ],
          [
           "anglican liturgy"
          ],
          [
           "animal singing"
          ],
          [
           "anime"
          ],
          [
           "anime latino"
          ],
          [
           "anime rock"
          ],
          [
           "anime score"
          ],
          [
           "ann arbor indie"
          ],
          [
           "anthem emo"
          ],
          [
           "anthem worship"
          ],
          [
           "anti-folk"
          ],
          [
           "antilliaanse folklore"
          ],
          [
           "antiviral pop"
          ],
          [
           "appalachian folk"
          ],
          [
           "arab folk"
          ],
          [
           "arab groove"
          ],
          [
           "arab pop"
          ],
          [
           "arabesk"
          ],
          [
           "arabic hip hop"
          ],
          [
           "arabic jazz"
          ],
          [
           "argentine ambient"
          ],
          [
           "argentine hardcore"
          ],
          [
           "argentine heavy metal"
          ],
          [
           "argentine hip hop"
          ],
          [
           "argentine indie"
          ],
          [
           "argentine metal"
          ],
          [
           "argentine punk"
          ],
          [
           "argentine reggae"
          ],
          [
           "argentine rock"
          ],
          [
           "argentine telepop"
          ],
          [
           "arizona punk"
          ],
          [
           "arkansas country"
          ],
          [
           "arkansas hip hop"
          ],
          [
           "arkansas indie"
          ],
          [
           "armenian folk"
          ],
          [
           "art pop"
          ],
          [
           "art punk"
          ],
          [
           "art rock"
          ],
          [
           "art song"
          ],
          [
           "asbury park indie"
          ],
          [
           "asheville indie"
          ],
          [
           "asian american hip hop"
          ],
          [
           "asmr"
          ],
          [
           "athens indie"
          ],
          [
           "atl hip hop"
          ],
          [
           "atl trap"
          ],
          [
           "atlanta indie"
          ],
          [
           "atlanta metal"
          ],
          [
           "atlanta punk"
          ],
          [
           "atmosphere"
          ],
          [
           "atmospheric black metal"
          ],
          [
           "atmospheric dnb"
          ],
          [
           "atmospheric post-metal"
          ],
          [
           "atmospheric post-rock"
          ],
          [
           "atmospheric sludge"
          ],
          [
           "auckland indie"
          ],
          [
           "audiophile vocal"
          ],
          [
           "aussietronica"
          ],
          [
           "austin americana"
          ],
          [
           "austin singer-songwriter"
          ],
          [
           "austindie"
          ],
          [
           "australian alternative pop"
          ],
          [
           "australian alternative rock"
          ],
          [
           "australian ambient"
          ],
          [
           "australian children's music"
          ],
          [
           "australian choir"
          ],
          [
           "australian classical"
          ],
          [
           "australian classical piano"
          ],
          [
           "australian country"
          ],
          [
           "australian dance"
          ],
          [
           "australian electropop"
          ],
          [
           "australian garage punk"
          ],
          [
           "australian hip hop"
          ],
          [
           "australian house"
          ],
          [
           "australian indie"
          ],
          [
           "australian indie folk"
          ],
          [
           "australian indie rock"
          ],
          [
           "australian indigenous"
          ],
          [
           "australian metal"
          ],
          [
           "australian metalcore"
          ],
          [
           "australian pop"
          ],
          [
           "australian post-hardcore"
          ],
          [
           "australian post-punk"
          ],
          [
           "australian psych"
          ],
          [
           "australian r&b"
          ],
          [
           "australian reggae fusion"
          ],
          [
           "australian rock"
          ],
          [
           "australian singer-songwriter"
          ],
          [
           "australian ska"
          ],
          [
           "australian talent show"
          ],
          [
           "australian trap"
          ],
          [
           "australian underground hip hop"
          ],
          [
           "austrian choir"
          ],
          [
           "austrian classical piano"
          ],
          [
           "austrian orchestra"
          ],
          [
           "austrian pop"
          ],
          [
           "austro-german modernism"
          ],
          [
           "austropop"
          ],
          [
           "autoharp"
          ],
          [
           "autonomous black metal"
          ],
          [
           "avant-garde"
          ],
          [
           "avant-garde jazz"
          ],
          [
           "avant-garde metal"
          ],
          [
           "axe"
          ],
          [
           "azeri traditional"
          ],
          [
           "azonto"
          ],
          [
           "azontobeats"
          ],
          [
           "bachata"
          ],
          [
           "bachata dominicana"
          ],
          [
           "background music"
          ],
          [
           "background piano"
          ],
          [
           "baglama"
          ],
          [
           "bahai"
          ],
          [
           "bahamian folk"
          ],
          [
           "bahamian pop"
          ],
          [
           "baiao"
          ],
          [
           "bajki"
          ],
          [
           "bakersfield sound"
          ],
          [
           "balearic"
          ],
          [
           "balkan brass"
          ],
          [
           "balkan classical piano"
          ],
          [
           "ballet class"
          ],
          [
           "ballroom"
          ],
          [
           "baltic classical"
          ],
          [
           "baltimore hip hop"
          ],
          [
           "baltimore indie"
          ],
          [
           "banda"
          ],
          [
           "banda caliente"
          ],
          [
           "banda carnavalera"
          ],
          [
           "bandinhas"
          ],
          [
           "bandolim"
          ],
          [
           "bandoneon"
          ],
          [
           "bangla"
          ],
          [
           "banjo"
          ],
          [
           "bansuri"
          ],
          [
           "barbadian pop"
          ],
          [
           "barbershop"
          ],
          [
           "bard"
          ],
          [
           "barnmusik"
          ],
          [
           "barockinterpreten"
          ],
          [
           "baroque"
          ],
          [
           "baroque brass"
          ],
          [
           "baroque ensemble"
          ],
          [
           "baroque pop"
          ],
          [
           "baroque singing"
          ],
          [
           "baroque violin"
          ],
          [
           "baroque woodwind"
          ],
          [
           "bass house"
          ],
          [
           "bass music"
          ],
          [
           "bass trap"
          ],
          [
           "basshall"
          ],
          [
           "bassline"
          ],
          [
           "bath indie"
          ],
          [
           "baton rouge indie"
          ],
          [
           "baton rouge rap"
          ],
          [
           "battle rap"
          ],
          [
           "bay area hip hop"
          ],
          [
           "bay area indie"
          ],
          [
           "bboy"
          ],
          [
           "bc underground hip hop"
          ],
          [
           "beach music"
          ],
          [
           "beat italiano"
          ],
          [
           "beat poetry"
          ],
          [
           "beatboxing"
          ],
          [
           "beatlesque"
          ],
          [
           "bebop"
          ],
          [
           "bedroom pop"
          ],
          [
           "bedroom soul"
          ],
          [
           "belarusian indie"
          ],
          [
           "belarusian pop"
          ],
          [
           "belarusian rock"
          ],
          [
           "belgian classical piano"
          ],
          [
           "belgian contemporary classical"
          ],
          [
           "belgian dance"
          ],
          [
           "belgian edm"
          ],
          [
           "belgian hardcore"
          ],
          [
           "belgian indie"
          ],
          [
           "belgian indie rock"
          ],
          [
           "belgian jazz"
          ],
          [
           "belgian new wave"
          ],
          [
           "belgian pop"
          ],
          [
           "belgian rock"
          ],
          [
           "belgian singer-songwriter"
          ],
          [
           "belgian techno"
          ],
          [
           "belly dance"
          ],
          [
           "bengali folk"
          ],
          [
           "beninese pop"
          ],
          [
           "bergen indie"
          ],
          [
           "berlin minimal techno"
          ],
          [
           "berlin school"
          ],
          [
           "bhajan"
          ],
          [
           "bhangra"
          ],
          [
           "bible"
          ],
          [
           "big band"
          ],
          [
           "big beat"
          ],
          [
           "big room"
          ],
          [
           "binaural"
          ],
          [
           "birdsong"
          ],
          [
           "birmingham grime"
          ],
          [
           "birmingham hip hop"
          ],
          [
           "birmingham metal"
          ],
          [
           "bitpop"
          ],
          [
           "black 'n' roll"
          ],
          [
           "black comedy"
          ],
          [
           "black metal"
          ],
          [
           "black punk"
          ],
          [
           "black thrash"
          ],
          [
           "blackened crust"
          ],
          [
           "blackgaze"
          ],
          [
           "bleep techno"
          ],
          [
           "bluegrass"
          ],
          [
           "bluegrass fiddle"
          ],
          [
           "bluegrass gospel"
          ],
          [
           "blues"
          ],
          [
           "blues latinoamericano"
          ],
          [
           "blues mexicano"
          ],
          [
           "blues rock"
          ],
          [
           "bmore"
          ],
          [
           "bolero"
          ],
          [
           "bolero cubano"
          ],
          [
           "boogaloo"
          ],
          [
           "boogie"
          ],
          [
           "boogie-woogie"
          ],
          [
           "boom bap"
          ],
          [
           "boom bap brasileiro"
          ],
          [
           "bossa nova"
          ],
          [
           "bossa nova jazz"
          ],
          [
           "boston folk"
          ],
          [
           "boston hardcore"
          ],
          [
           "boston hip hop"
          ],
          [
           "boston indie"
          ],
          [
           "boston metal"
          ],
          [
           "boston punk"
          ],
          [
           "boston rock"
          ],
          [
           "bounce"
          ],
          [
           "bouncy house"
          ],
          [
           "bouzouki"
          ],
          [
           "bow pop"
          ],
          [
           "boy band"
          ],
          [
           "boy pop"
          ],
          [
           "boy soprano"
          ],
          [
           "brain waves"
          ],
          [
           "braindance"
          ],
          [
           "brass band"
          ],
          [
           "brass ensemble"
          ],
          [
           "brass quintet"
          ],
          [
           "brazilian boogie"
          ],
          [
           "brazilian classical"
          ],
          [
           "brazilian classical piano"
          ],
          [
           "brazilian contemporary classical"
          ],
          [
           "brazilian edm"
          ],
          [
           "brazilian groove metal"
          ],
          [
           "brazilian hip hop"
          ],
          [
           "brazilian indie"
          ],
          [
           "brazilian jazz"
          ],
          [
           "brazilian metal"
          ],
          [
           "brazilian modern jazz"
          ],
          [
           "brazilian percussion"
          ],
          [
           "brazilian punk"
          ],
          [
           "brazilian reggae"
          ],
          [
           "brazilian rock"
          ],
          [
           "brazilian ska"
          ],
          [
           "brazilian soul"
          ],
          [
           "brazilian thrash metal"
          ],
          [
           "breakbeat"
          ],
          [
           "breakcore"
          ],
          [
           "brega"
          ],
          [
           "breton folk"
          ],
          [
           "brighton indie"
          ],
          [
           "brill building pop"
          ],
          [
           "brisbane indie"
          ],
          [
           "bristol electronic"
          ],
          [
           "bristol indie"
          ],
          [
           "brit funk"
          ],
          [
           "british alternative rock"
          ],
          [
           "british black metal"
          ],
          [
           "british blues"
          ],
          [
           "british children's music"
          ],
          [
           "british choir"
          ],
          [
           "british classical piano"
          ],
          [
           "british comedy"
          ],
          [
           "british contemporary classical"
          ],
          [
           "british dance band"
          ],
          [
           "british death metal"
          ],
          [
           "british experimental"
          ],
          [
           "british folk"
          ],
          [
           "british grindcore"
          ],
          [
           "british indie rock"
          ],
          [
           "british industrial"
          ],
          [
           "british invasion"
          ],
          [
           "british jazz"
          ],
          [
           "british modern classical"
          ],
          [
           "british orchestra"
          ],
          [
           "british post-rock"
          ],
          [
           "british power metal"
          ],
          [
           "british singer-songwriter"
          ],
          [
           "british soul"
          ],
          [
           "british soundtrack"
          ],
          [
           "britpop"
          ],
          [
           "broadway"
          ],
          [
           "broken beat"
          ],
          [
           "bronx hip hop"
          ],
          [
           "brooklyn drill"
          ],
          [
           "brooklyn indie"
          ],
          [
           "brostep"
          ],
          [
           "brutal death metal"
          ],
          [
           "brutal deathcore"
          ],
          [
           "bubble trance"
          ],
          [
           "bubblegrunge"
          ],
          [
           "bubblegum dance"
          ],
          [
           "bubblegum pop"
          ],
          [
           "buffalo hip hop"
          ],
          [
           "buffalo ny indie"
          ],
          [
           "buffalo ny metal"
          ],
          [
           "bulgarian experimental"
          ],
          [
           "burmese traditional"
          ],
          [
           "bush ballad"
          ],
          [
           "c-pop"
          ],
          [
           "c86"
          ],
          [
           "cabaret"
          ],
          [
           "cajun"
          ],
          [
           "calgary indie"
          ],
          [
           "cali rap"
          ],
          [
           "calming instrumental"
          ],
          [
           "calypso"
          ],
          [
           "cambodian rock"
          ],
          [
           "cambridge choir"
          ],
          [
           "cambridgeshire indie"
          ],
          [
           "cameroonian pop"
          ],
          [
           "canadian americana"
          ],
          [
           "canadian blues"
          ],
          [
           "canadian ccm"
          ],
          [
           "canadian celtic"
          ],
          [
           "canadian children's music"
          ],
          [
           "canadian choir"
          ],
          [
           "canadian classical"
          ],
          [
           "canadian classical piano"
          ],
          [
           "canadian comedy"
          ],
          [
           "canadian contemporary country"
          ],
          [
           "canadian contemporary r&b"
          ],
          [
           "canadian country"
          ],
          [
           "canadian electronic"
          ],
          [
           "canadian electropop"
          ],
          [
           "canadian experimental"
          ],
          [
           "canadian folk"
          ],
          [
           "canadian hardcore"
          ],
          [
           "canadian hip hop"
          ],
          [
           "canadian house"
          ],
          [
           "canadian indie"
          ],
          [
           "canadian indie folk"
          ],
          [
           "canadian indigenous"
          ],
          [
           "canadian indigenous hip hop"
          ],
          [
           "canadian latin"
          ],
          [
           "canadian metal"
          ],
          [
           "canadian metalcore"
          ],
          [
           "canadian modern jazz"
          ],
          [
           "canadian pop"
          ],
          [
           "canadian pop punk"
          ],
          [
           "canadian post-hardcore"
          ],
          [
           "canadian post-rock"
          ],
          [
           "canadian psychedelic"
          ],
          [
           "canadian punk"
          ],
          [
           "canadian rock"
          ],
          [
           "canadian rockabilly"
          ],
          [
           "canadian singer-songwriter"
          ],
          [
           "canadian soundtrack"
          ],
          [
           "cancion melodica"
          ],
          [
           "candy pop"
          ],
          [
           "cantautor"
          ],
          [
           "cante flamenco"
          ],
          [
           "canterbury scene"
          ],
          [
           "canto popular uruguayo"
          ],
          [
           "cantopop"
          ],
          [
           "canzone d'autore"
          ],
          [
           "canzone genovese"
          ],
          [
           "canzone napoletana"
          ],
          [
           "cape town indie"
          ],
          [
           "cape verdean folk"
          ],
          [
           "capoeira"
          ],
          [
           "caracas indie"
          ],
          [
           "carnatic"
          ],
          [
           "carnatic instrumental"
          ],
          [
           "carnatic vocal"
          ],
          [
           "cartoon"
          ],
          [
           "cathedral choir"
          ],
          [
           "caucasian classical"
          ],
          [
           "caucasian classical piano"
          ],
          [
           "ccm"
          ],
          [
           "cedm"
          ],
          [
           "cello"
          ],
          [
           "celtic"
          ],
          [
           "celtic harp"
          ],
          [
           "celtic metal"
          ],
          [
           "celtic punk"
          ],
          [
           "celtic rock"
          ],
          [
           "cha-cha-cha"
          ],
          [
           "chakra"
          ],
          [
           "chamame"
          ],
          [
           "chamber choir"
          ],
          [
           "chamber ensemble"
          ],
          [
           "chamber folk"
          ],
          [
           "chamber orchestra"
          ],
          [
           "chamber pop"
          ],
          [
           "chamber psych"
          ],
          [
           "champeta"
          ],
          [
           "channel islands indie"
          ],
          [
           "channel pop"
          ],
          [
           "chanson"
          ],
          [
           "chanson paillarde"
          ],
          [
           "chaotic hardcore"
          ],
          [
           "charanga"
          ],
          [
           "charango"
          ],
          [
           "charlotte nc indie"
          ],
          [
           "charlottesville indie"
          ],
          [
           "chattanooga indie"
          ],
          [
           "chicago blues"
          ],
          [
           "chicago drill"
          ],
          [
           "chicago hardcore"
          ],
          [
           "chicago house"
          ],
          [
           "chicago indie"
          ],
          [
           "chicago pop punk"
          ],
          [
           "chicago punk"
          ],
          [
           "chicago rap"
          ],
          [
           "chicago soul"
          ],
          [
           "chicano punk"
          ],
          [
           "chicano rap"
          ],
          [
           "chicha"
          ],
          [
           "chihuahua indie"
          ],
          [
           "children's choir"
          ],
          [
           "children's folk"
          ],
          [
           "children's music"
          ],
          [
           "children's story"
          ],
          [
           "chilean hardcore"
          ],
          [
           "chilean indie"
          ],
          [
           "chilean rock"
          ],
          [
           "chilena"
          ],
          [
           "chill beats"
          ],
          [
           "chill guitar"
          ],
          [
           "chill lounge"
          ],
          [
           "chill out"
          ],
          [
           "chill pop"
          ],
          [
           "chill r&b"
          ],
          [
           "chillhop"
          ],
          [
           "chillstep"
          ],
          [
           "chillwave"
          ],
          [
           "chinese audiophile"
          ],
          [
           "chinese classical"
          ],
          [
           "chinese classical performance"
          ],
          [
           "chinese classical piano"
          ],
          [
           "chinese electropop"
          ],
          [
           "chinese hip hop"
          ],
          [
           "chinese idol pop"
          ],
          [
           "chinese indie"
          ],
          [
           "chinese indie rock"
          ],
          [
           "chinese instrumental"
          ],
          [
           "chinese jazz"
          ],
          [
           "chinese r&b"
          ],
          [
           "chinese soundtrack"
          ],
          [
           "chinese traditional"
          ],
          [
           "chiptune"
          ],
          [
           "chopped and screwed"
          ],
          [
           "choral"
          ],
          [
           "choro"
          ],
          [
           "christchurch indie"
          ],
          [
           "christelijk"
          ],
          [
           "christian a cappella"
          ],
          [
           "christian alternative rock"
          ],
          [
           "christian dance"
          ],
          [
           "christian hard rock"
          ],
          [
           "christian hardcore"
          ],
          [
           "christian hip hop"
          ],
          [
           "christian indie"
          ],
          [
           "christian metal"
          ],
          [
           "christian metalcore"
          ],
          [
           "christian music"
          ],
          [
           "christian pop"
          ],
          [
           "christian power metal"
          ],
          [
           "christian punk"
          ],
          [
           "christian relaxative"
          ],
          [
           "christian rock"
          ],
          [
           "christian trap"
          ],
          [
           "christian uplift"
          ],
          [
           "christmas instrumental"
          ],
          [
           "christmas product"
          ],
          [
           "chunchaca"
          ],
          [
           "chutney"
          ],
          [
           "cincinnati rap"
          ],
          [
           "cinematic post-rock"
          ],
          [
           "circuit"
          ],
          [
           "circus"
          ],
          [
           "classic afrobeat"
          ],
          [
           "classic arab pop"
          ],
          [
           "classic australian country"
          ],
          [
           "classic belgian pop"
          ],
          [
           "classic bhangra"
          ],
          [
           "classic bollywood"
          ],
          [
           "classic canadian rock"
          ],
          [
           "classic cantopop"
          ],
          [
           "classic colombian pop"
          ],
          [
           "classic country pop"
          ],
          [
           "classic czech pop"
          ],
          [
           "classic danish pop"
          ],
          [
           "classic dubstep"
          ],
          [
           "classic eurovision"
          ],
          [
           "classic finnish pop"
          ],
          [
           "classic french pop"
          ],
          [
           "classic garage rock"
          ],
          [
           "classic girl group"
          ],
          [
           "classic greek pop"
          ],
          [
           "classic hardstyle"
          ],
          [
           "classic icelandic pop"
          ],
          [
           "classic indo pop"
          ],
          [
           "classic iskelma"
          ],
          [
           "classic israeli pop"
          ],
          [
           "classic italian folk pop"
          ],
          [
           "classic italian pop"
          ],
          [
           "classic j-rock"
          ],
          [
           "classic japanese jazz"
          ],
          [
           "classic korean pop"
          ],
          [
           "classic latvian pop"
          ],
          [
           "classic mandopop"
          ],
          [
           "classic norwegian pop"
          ],
          [
           "classic opm"
          ],
          [
           "classic pakistani pop"
          ],
          [
           "classic persian pop"
          ],
          [
           "classic peruvian pop"
          ],
          [
           "classic polish pop"
          ],
          [
           "classic praise"
          ],
          [
           "classic psychedelic rock"
          ],
          [
           "classic punjabi pop"
          ],
          [
           "classic rock"
          ],
          [
           "classic russian pop"
          ],
          [
           "classic russian rock"
          ],
          [
           "classic schlager"
          ],
          [
           "classic soul"
          ],
          [
           "classic soundtrack"
          ],
          [
           "classic swedish pop"
          ],
          [
           "classic thai pop"
          ],
          [
           "classic tunisian pop"
          ],
          [
           "classic turkish pop"
          ],
          [
           "classic uk pop"
          ],
          [
           "classic venezuelan pop"
          ],
          [
           "classical"
          ],
          [
           "classical accordion"
          ],
          [
           "classical baritone"
          ],
          [
           "classical bass"
          ],
          [
           "classical cello"
          ],
          [
           "classical clarinet"
          ],
          [
           "classical contralto"
          ],
          [
           "classical countertenor"
          ],
          [
           "classical era"
          ],
          [
           "classical flute"
          ],
          [
           "classical guitar"
          ],
          [
           "classical harp"
          ],
          [
           "classical horn"
          ],
          [
           "classical mandolin"
          ],
          [
           "classical mezzo-soprano"
          ],
          [
           "classical oboe"
          ],
          [
           "classical organ"
          ],
          [
           "classical performance"
          ],
          [
           "classical piano"
          ],
          [
           "classical piano duo"
          ],
          [
           "classical piano trio"
          ],
          [
           "classical saxophone"
          ],
          [
           "classical soprano"
          ],
          [
           "classical tenor"
          ],
          [
           "classical trumpet"
          ],
          [
           "classify"
          ],
          [
           "clawhammer banjo"
          ],
          [
           "clean comedy"
          ],
          [
           "cleveland metal"
          ],
          [
           "coco"
          ],
          [
           "collage pop"
          ],
          [
           "college a cappella"
          ],
          [
           "colombian hip hop"
          ],
          [
           "colombian pop"
          ],
          [
           "colombian rock"
          ],
          [
           "columbus ohio indie"
          ],
          [
           "comedy"
          ],
          [
           "comedy rap"
          ],
          [
           "comedy rock"
          ],
          [
           "comic"
          ],
          [
           "comic metal"
          ],
          [
           "commons"
          ],
          [
           "complextro"
          ],
          [
           "compositional ambient"
          ],
          [
           "concepcion indie"
          ],
          [
           "concert band"
          ],
          [
           "connecticut hardcore"
          ],
          [
           "connecticut indie"
          ],
          [
           "conscious hip hop"
          ],
          [
           "contemporary choir"
          ],
          [
           "contemporary classical"
          ],
          [
           "contemporary classical piano"
          ],
          [
           "contemporary country"
          ],
          [
           "contemporary folk"
          ],
          [
           "contemporary gospel"
          ],
          [
           "contemporary jazz"
          ],
          [
           "contemporary post-bop"
          ],
          [
           "contemporary vocal jazz"
          ],
          [
           "contrabass"
          ],
          [
           "cool jazz"
          ],
          [
           "copla"
          ],
          [
           "cornish folk"
          ],
          [
           "cornwall indie"
          ],
          [
           "corrido"
          ],
          [
           "corridos cristianos"
          ],
          [
           "corridos tumbados"
          ],
          [
           "corrosion"
          ],
          [
           "cosmic american"
          ],
          [
           "cosmic post-rock"
          ],
          [
           "country"
          ],
          [
           "country blues"
          ],
          [
           "country boogie"
          ],
          [
           "country dawn"
          ],
          [
           "country gospel"
          ],
          [
           "country pop"
          ],
          [
           "country rap"
          ],
          [
           "country road"
          ],
          [
           "country rock"
          ],
          [
           "coverchill"
          ],
          [
           "cowboy western"
          ],
          [
           "cowpunk"
          ],
          [
           "crack rock steady"
          ],
          [
           "croatian folk"
          ],
          [
           "croatian pop"
          ],
          [
           "croatian rock"
          ],
          [
           "crossover thrash"
          ],
          [
           "crunk"
          ],
          [
           "crust punk"
          ],
          [
           "cuarteto"
          ],
          [
           "cuatro venezolano"
          ],
          [
           "cuban alternative"
          ],
          [
           "cuban rumba"
          ],
          [
           "cubaton"
          ],
          [
           "cumbia"
          ],
          [
           "cumbia andina mexicana"
          ],
          [
           "cumbia chilena"
          ],
          [
           "cumbia colombiana regia"
          ],
          [
           "cumbia ecuatoriana"
          ],
          [
           "cumbia funk"
          ],
          [
           "cumbia lagunera"
          ],
          [
           "cumbia paraguaya"
          ],
          [
           "cumbia peruana"
          ],
          [
           "cumbia pop"
          ],
          [
           "cumbia ranchera"
          ],
          [
           "cumbia salvadorena"
          ],
          [
           "cumbia santafesina"
          ],
          [
           "cumbia sonidera"
          ],
          [
           "cumbia villera"
          ],
          [
           "cyberpunk"
          ],
          [
           "cymraeg"
          ],
          [
           "cypriot pop"
          ],
          [
           "czech classical"
          ],
          [
           "czech classical piano"
          ],
          [
           "czech contemporary classical"
          ],
          [
           "d-beat"
          ],
          [
           "dabke"
          ],
          [
           "dakke dak"
          ],
          [
           "dallas indie"
          ],
          [
           "dance pop"
          ],
          [
           "dance rock"
          ],
          [
           "dance-punk"
          ],
          [
           "dancehall"
          ],
          [
           "dangdut"
          ],
          [
           "danish alternative rock"
          ],
          [
           "danish classical"
          ],
          [
           "danish electronic"
          ],
          [
           "danish electropop"
          ],
          [
           "danish hip hop"
          ],
          [
           "danish jazz"
          ],
          [
           "danish metal"
          ],
          [
           "danish pop"
          ],
          [
           "danish pop rock"
          ],
          [
           "danish post-punk"
          ],
          [
           "danish punk"
          ],
          [
           "danish rock"
          ],
          [
           "danish singer-songwriter"
          ],
          [
           "dansband"
          ],
          [
           "danseband"
          ],
          [
           "dansktop"
          ],
          [
           "danspunk"
          ],
          [
           "dark cabaret"
          ],
          [
           "dark clubbing"
          ],
          [
           "dark disco"
          ],
          [
           "dark hardcore"
          ],
          [
           "dark jazz"
          ],
          [
           "dark minimal techno"
          ],
          [
           "dark post-punk"
          ],
          [
           "dark techno"
          ],
          [
           "dark trap"
          ],
          [
           "dark wave"
          ],
          [
           "darksynth"
          ],
          [
           "dayton indie"
          ],
          [
           "dc hardcore"
          ],
          [
           "dc indie"
          ],
          [
           "death 'n' roll"
          ],
          [
           "death metal"
          ],
          [
           "deathcore"
          ],
          [
           "deathgrass"
          ],
          [
           "deathgrind"
          ],
          [
           "deathrash"
          ],
          [
           "deathrock"
          ],
          [
           "deathstep"
          ],
          [
           "deep acoustic pop"
          ],
          [
           "deep adult standards"
          ],
          [
           "deep big room"
          ],
          [
           "deep ccm"
          ],
          [
           "deep christian rock"
          ],
          [
           "deep classic garage rock"
          ],
          [
           "deep comedy"
          ],
          [
           "deep contemporary country"
          ],
          [
           "deep dance pop"
          ],
          [
           "deep delta blues"
          ],
          [
           "deep disco"
          ],
          [
           "deep disco house"
          ],
          [
           "deep dnb"
          ],
          [
           "deep east coast hip hop"
          ],
          [
           "deep euro house"
          ],
          [
           "deep flow"
          ],
          [
           "deep free jazz"
          ],
          [
           "deep freestyle"
          ],
          [
           "deep full on"
          ],
          [
           "deep funk"
          ],
          [
           "deep g funk"
          ],
          [
           "deep gothic post-punk"
          ],
          [
           "deep groove house"
          ],
          [
           "deep house"
          ],
          [
           "deep idm"
          ],
          [
           "deep indian pop"
          ],
          [
           "deep indie singer-songwriter"
          ],
          [
           "deep latin alternative"
          ],
          [
           "deep latin christian"
          ],
          [
           "deep melodic metalcore"
          ],
          [
           "deep minimal techno"
          ],
          [
           "deep motown"
          ],
          [
           "deep new americana"
          ],
          [
           "deep new wave"
          ],
          [
           "deep norteno"
          ],
          [
           "deep northern soul"
          ],
          [
           "deep pop edm"
          ],
          [
           "deep progressive house"
          ],
          [
           "deep psychobilly"
          ],
          [
           "deep punk rock"
          ],
          [
           "deep r&b"
          ],
          [
           "deep ragga"
          ],
          [
           "deep regional mexican"
          ],
          [
           "deep smooth jazz"
          ],
          [
           "deep soft rock"
          ],
          [
           "deep soul house"
          ],
          [
           "deep soundtrack"
          ],
          [
           "deep southern soul"
          ],
          [
           "deep southern trap"
          ],
          [
           "deep space rock"
          ],
          [
           "deep talent show"
          ],
          [
           "deep tech house"
          ],
          [
           "deep techno"
          ],
          [
           "deep tropical house"
          ],
          [
           "deep underground hip hop"
          ],
          [
           "deep uplifting trance"
          ],
          [
           "delta blues"
          ],
          [
           "dembow"
          ],
          [
           "denpa-kei"
          ],
          [
           "denton tx indie"
          ],
          [
           "denver indie"
          ],
          [
           "depressive black metal"
          ],
          [
           "derby indie"
          ],
          [
           "desert blues"
          ],
          [
           "desi hip hop"
          ],
          [
           "desi pop"
          ],
          [
           "destroy techno"
          ],
          [
           "detroit hip hop"
          ],
          [
           "detroit house"
          ],
          [
           "detroit techno"
          ],
          [
           "detroit trap"
          ],
          [
           "detske pisnicky"
          ],
          [
           "detskie pesni"
          ],
          [
           "devon indie"
          ],
          [
           "dfw rap"
          ],
          [
           "dhrupad"
          ],
          [
           "digital hardcore"
          ],
          [
           "dinner jazz"
          ],
          [
           "dirty south rap"
          ],
          [
           "dirty texas rap"
          ],
          [
           "disco"
          ],
          [
           "disco house"
          ],
          [
           "disney"
          ],
          [
           "diva house"
          ],
          [
           "dixieland"
          ],
          [
           "diy emo"
          ],
          [
           "djent"
          ],
          [
           "dmv rap"
          ],
          [
           "dominican pop"
          ],
          [
           "dong-yo"
          ],
          [
           "doo-wop"
          ],
          [
           "doom metal"
          ],
          [
           "double drumming"
          ],
          [
           "downtempo"
          ],
          [
           "drama"
          ],
          [
           "dream pop"
          ],
          [
           "dream trance"
          ],
          [
           "dreamgaze"
          ],
          [
           "dreamo"
          ],
          [
           "drift"
          ],
          [
           "drill"
          ],
          [
           "drill and bass"
          ],
          [
           "drone"
          ],
          [
           "drone folk"
          ],
          [
           "drone metal"
          ],
          [
           "drum and bass"
          ],
          [
           "dub"
          ],
          [
           "dub metal"
          ],
          [
           "dub poetry"
          ],
          [
           "dub techno"
          ],
          [
           "dubstep"
          ],
          [
           "dubsteppe"
          ],
          [
           "duduk"
          ],
          [
           "duluth indie"
          ],
          [
           "dunedin indie"
          ],
          [
           "dunedin sound"
          ],
          [
           "dungeon synth"
          ],
          [
           "duranguense"
          ],
          [
           "dusseldorf electronic"
          ],
          [
           "dutch blues"
          ],
          [
           "dutch cabaret"
          ],
          [
           "dutch classical piano"
          ],
          [
           "dutch death metal"
          ],
          [
           "dutch dnb"
          ],
          [
           "dutch edm"
          ],
          [
           "dutch folk"
          ],
          [
           "dutch hip hop"
          ],
          [
           "dutch house"
          ],
          [
           "dutch indie"
          ],
          [
           "dutch jazz"
          ],
          [
           "dutch metal"
          ],
          [
           "dutch pop"
          ],
          [
           "dutch prog"
          ],
          [
           "dutch rap pop"
          ],
          [
           "dutch rock"
          ],
          [
           "dutch trance"
          ],
          [
           "e6fi"
          ],
          [
           "early american folk"
          ],
          [
           "early avant garde"
          ],
          [
           "early modern classical"
          ],
          [
           "early music"
          ],
          [
           "early music choir"
          ],
          [
           "early music ensemble"
          ],
          [
           "early reggae"
          ],
          [
           "early romantic era"
          ],
          [
           "early synthpop"
          ],
          [
           "early us punk"
          ],
          [
           "east coast hip hop"
          ],
          [
           "east coast reggae"
          ],
          [
           "eastern bloc groove"
          ],
          [
           "easy listening"
          ],
          [
           "easycore"
          ],
          [
           "eau claire indie"
          ],
          [
           "ebm"
          ],
          [
           "ecm-style jazz"
          ],
          [
           "ectofolk"
          ],
          [
           "ecuadorian pop"
          ],
          [
           "edm"
          ],
          [
           "edmonton indie"
          ],
          [
           "egyptian pop"
          ],
          [
           "egyptian traditional"
          ],
          [
           "el paso indie"
          ],
          [
           "electra"
          ],
          [
           "electric bass"
          ],
          [
           "electric blues"
          ],
          [
           "electro"
          ],
          [
           "electro house"
          ],
          [
           "electro jazz"
          ],
          [
           "electro latino"
          ],
          [
           "electro swing"
          ],
          [
           "electro-industrial"
          ],
          [
           "electro-pop francais"
          ],
          [
           "electroclash"
          ],
          [
           "electrofox"
          ],
          [
           "electronic djent"
          ],
          [
           "electronic rock"
          ],
          [
           "electronic trap"
          ],
          [
           "electronica"
          ],
          [
           "electronica argentina"
          ],
          [
           "electropop"
          ],
          [
           "electropowerpop"
          ],
          [
           "emo"
          ],
          [
           "emo mexicano"
          ],
          [
           "emo punk"
          ],
          [
           "emo rap"
          ],
          [
           "emocore"
          ],
          [
           "english baroque"
          ],
          [
           "english indie rock"
          ],
          [
           "english renaissance"
          ],
          [
           "enka"
          ],
          [
           "entehno"
          ],
          [
           "environmental"
          ],
          [
           "epic doom"
          ],
          [
           "epicore"
          ],
          [
           "erhu"
          ],
          [
           "escape room"
          ],
          [
           "esperanto"
          ],
          [
           "essex indie"
          ],
          [
           "estonian hip hop"
          ],
          [
           "estonian pop"
          ],
          [
           "ethereal wave"
          ],
          [
           "etherpop"
          ],
          [
           "ethio-jazz"
          ],
          [
           "ethiopian pop"
          ],
          [
           "ethnomusicology"
          ],
          [
           "ethnotronica"
          ],
          [
           "eugene indie"
          ],
          [
           "euphoric hardstyle"
          ],
          [
           "eurobeat"
          ],
          [
           "eurodance"
          ],
          [
           "europop"
          ],
          [
           "euroska"
          ],
          [
           "eurovision"
          ],
          [
           "exotica"
          ],
          [
           "experimental"
          ],
          [
           "experimental ambient"
          ],
          [
           "experimental big band"
          ],
          [
           "experimental dub"
          ],
          [
           "experimental folk"
          ],
          [
           "experimental guitar"
          ],
          [
           "experimental hip hop"
          ],
          [
           "experimental house"
          ],
          [
           "experimental indie"
          ],
          [
           "experimental jazz"
          ],
          [
           "experimental pop"
          ],
          [
           "experimental rock"
          ],
          [
           "experimental vocal"
          ],
          [
           "fado"
          ],
          [
           "family gospel"
          ],
          [
           "faroese pop"
          ],
          [
           "fast melodic punk"
          ],
          [
           "fidget house"
          ],
          [
           "filmi"
          ],
          [
           "filter house"
          ],
          [
           "filthstep"
          ],
          [
           "final fantasy"
          ],
          [
           "fingerstyle"
          ],
          [
           "finnish alternative rock"
          ],
          [
           "finnish classical"
          ],
          [
           "finnish contemporary classical"
          ],
          [
           "finnish death metal"
          ],
          [
           "finnish edm"
          ],
          [
           "finnish hard rock"
          ],
          [
           "finnish heavy metal"
          ],
          [
           "finnish metal"
          ],
          [
           "finnish power metal"
          ],
          [
           "finnish soul"
          ],
          [
           "flamenco"
          ],
          [
           "flamenco guitar"
          ],
          [
           "flick hop"
          ],
          [
           "flint hip hop"
          ],
          [
           "float house"
          ],
          [
           "florida death metal"
          ],
          [
           "florida rap"
          ],
          [
           "fluxwork"
          ],
          [
           "fo jing"
          ],
          [
           "focus"
          ],
          [
           "focus beats"
          ],
          [
           "focus trance"
          ],
          [
           "folclor afrocolombiano"
          ],
          [
           "folclor colombiano"
          ],
          [
           "folclore extremeno"
          ],
          [
           "folclore jujeno"
          ],
          [
           "folclore navarra"
          ],
          [
           "folclore salteno"
          ],
          [
           "folclore tucumano"
          ],
          [
           "folk"
          ],
          [
           "folk metal"
          ],
          [
           "folk punk"
          ],
          [
           "folk rock"
          ],
          [
           "folk rock italiano"
          ],
          [
           "folk-pop"
          ],
          [
           "folklore argentino"
          ],
          [
           "folklore boliviano"
          ],
          [
           "folklore chileno"
          ],
          [
           "folklore ecuatoriano"
          ],
          [
           "folklore peruano"
          ],
          [
           "folklore venezolano"
          ],
          [
           "folklore veracruzano"
          ],
          [
           "folkmusik"
          ],
          [
           "folktronica"
          ],
          [
           "footwork"
          ],
          [
           "forro"
          ],
          [
           "forro tradicional"
          ],
          [
           "fort worth indie"
          ],
          [
           "fourth world"
          ],
          [
           "francoton"
          ],
          [
           "freak folk"
          ],
          [
           "freakbeat"
          ],
          [
           "free folk"
          ],
          [
           "free improvisation"
          ],
          [
           "free jazz"
          ],
          [
           "freestyle"
          ],
          [
           "french baroque"
          ],
          [
           "french classical piano"
          ],
          [
           "french contemporary classical"
          ],
          [
           "french death metal"
          ],
          [
           "french dnb"
          ],
          [
           "french hip hop"
          ],
          [
           "french indie folk"
          ],
          [
           "french indie pop"
          ],
          [
           "french indietronica"
          ],
          [
           "french jazz"
          ],
          [
           "french metal"
          ],
          [
           "french movie tunes"
          ],
          [
           "french opera"
          ],
          [
           "french orchestra"
          ],
          [
           "french pop"
          ],
          [
           "french post-punk"
          ],
          [
           "french psychedelic"
          ],
          [
           "french reggae"
          ],
          [
           "french rock"
          ],
          [
           "french romanticism"
          ],
          [
           "french shoegaze"
          ],
          [
           "french soundtrack"
          ],
          [
           "french synthpop"
          ],
          [
           "french techno"
          ],
          [
           "frenchcore"
          ],
          [
           "full on"
          ],
          [
           "funana"
          ],
          [
           "funeral doom"
          ],
          [
           "funk"
          ],
          [
           "funk 150 bpm"
          ],
          [
           "funk carioca"
          ],
          [
           "funk das antigas"
          ],
          [
           "funk metal"
          ],
          [
           "funk mexicano"
          ],
          [
           "funk ostentacao"
          ],
          [
           "funk paulista"
          ],
          [
           "funk pop"
          ],
          [
           "funk rock"
          ],
          [
           "funky breaks"
          ],
          [
           "funky tech house"
          ],
          [
           "future bass"
          ],
          [
           "future funk"
          ],
          [
           "future garage"
          ],
          [
           "future house"
          ],
          [
           "future rock"
          ],
          [
           "futurepop"
          ],
          [
           "g funk"
          ],
          [
           "gabba"
          ],
          [
           "gabonese pop"
          ],
          [
           "gaian doom"
          ],
          [
           "gainesville indie"
          ],
          [
           "gaita zuliana"
          ],
          [
           "galante era"
          ],
          [
           "gamelan"
          ],
          [
           "gaming dubstep"
          ],
          [
           "gaming edm"
          ],
          [
           "gangster rap"
          ],
          [
           "garage house"
          ],
          [
           "garage pop"
          ],
          [
           "garage psych"
          ],
          [
           "garage punk"
          ],
          [
           "garage punk blues"
          ],
          [
           "garage rock"
          ],
          [
           "garage rock revival"
          ],
          [
           "gauze pop"
          ],
          [
           "gbvfi"
          ],
          [
           "geek folk"
          ],
          [
           "geek rock"
          ],
          [
           "georgian folk"
          ],
          [
           "german alternative rock"
          ],
          [
           "german baroque"
          ],
          [
           "german choir"
          ],
          [
           "german classical piano"
          ],
          [
           "german country"
          ],
          [
           "german dance"
          ],
          [
           "german hard rock"
          ],
          [
           "german heavy metal"
          ],
          [
           "german house"
          ],
          [
           "german indie"
          ],
          [
           "german jazz"
          ],
          [
           "german literature"
          ],
          [
           "german metal"
          ],
          [
           "german oi"
          ],
          [
           "german opera"
          ],
          [
           "german orchestra"
          ],
          [
           "german pop"
          ],
          [
           "german pop rock"
          ],
          [
           "german post-hardcore"
          ],
          [
           "german power metal"
          ],
          [
           "german punk"
          ],
          [
           "german renaissance"
          ],
          [
           "german rock"
          ],
          [
           "german romanticism"
          ],
          [
           "german show tunes"
          ],
          [
           "german soundtrack"
          ],
          [
           "german techno"
          ],
          [
           "german thrash metal"
          ],
          [
           "german trance"
          ],
          [
           "german underground rap"
          ],
          [
           "ghanaian hip hop"
          ],
          [
           "ghanaian traditional"
          ],
          [
           "ghazal"
          ],
          [
           "ghent indie"
          ],
          [
           "girl group"
          ],
          [
           "glam metal"
          ],
          [
           "glam punk"
          ],
          [
           "glam rock"
          ],
          [
           "glee club"
          ],
          [
           "glitch"
          ],
          [
           "glitch hop"
          ],
          [
           "glitch pop"
          ],
          [
           "glitchcore"
          ],
          [
           "go-go"
          ],
          [
           "goregrind"
          ],
          [
           "gospel"
          ],
          [
           "gospel antigas"
          ],
          [
           "gospel blues"
          ],
          [
           "gospel italiano"
          ],
          [
           "gospel r&b"
          ],
          [
           "gospel rap"
          ],
          [
           "gospel singers"
          ],
          [
           "gospel soul"
          ],
          [
           "gothabilly"
          ],
          [
           "gothenburg indie"
          ],
          [
           "gothenburg metal"
          ],
          [
           "gothic alternative"
          ],
          [
           "gothic americana"
          ],
          [
           "gothic black metal"
          ],
          [
           "gothic metal"
          ],
          [
           "gothic post-punk"
          ],
          [
           "gothic rock"
          ],
          [
           "gothic symphonic metal"
          ],
          [
           "gqom"
          ],
          [
           "grand rapids indie"
          ],
          [
           "grave wave"
          ],
          [
           "greek clarinet"
          ],
          [
           "greek contemporary classical"
          ],
          [
           "greek folk"
          ],
          [
           "greek guitar"
          ],
          [
           "greek house"
          ],
          [
           "greek jazz"
          ],
          [
           "greek pop"
          ],
          [
           "greek swing"
          ],
          [
           "gregorian chant"
          ],
          [
           "grime"
          ],
          [
           "grindcore"
          ],
          [
           "griot"
          ],
          [
           "groove metal"
          ],
          [
           "groove room"
          ],
          [
           "grunge"
          ],
          [
           "grunge pop"
          ],
          [
           "grupera"
          ],
          [
           "gruperas inmortales"
          ],
          [
           "guadalajara indie"
          ],
          [
           "guam indie"
          ],
          [
           "guaracha"
          ],
          [
           "guatemalan pop"
          ],
          [
           "guidance"
          ],
          [
           "guinean pop"
          ],
          [
           "guitarra argentina"
          ],
          [
           "guitarra clasica"
          ],
          [
           "guitarra portuguesa"
          ],
          [
           "gujarati garba"
          ],
          [
           "gujarati pop"
          ],
          [
           "guzheng"
          ],
          [
           "gymcore"
          ],
          [
           "gypsy"
          ],
          [
           "gypsy jazz"
          ],
          [
           "gypsy punk"
          ],
          [
           "haitian traditional"
          ],
          [
           "halifax indie"
          ],
          [
           "halloween"
          ],
          [
           "hamburg electronic"
          ],
          [
           "hammered dulcimer"
          ],
          [
           "hammond organ"
          ],
          [
           "hands up"
          ],
          [
           "hangpan"
          ],
          [
           "happy hardcore"
          ],
          [
           "hard alternative"
          ],
          [
           "hard bop"
          ],
          [
           "hard minimal techno"
          ],
          [
           "hard rock"
          ],
          [
           "hard rock brasileiro"
          ],
          [
           "hardcore"
          ],
          [
           "hardcore hip hop"
          ],
          [
           "hardcore punk"
          ],
          [
           "hardcore techno"
          ],
          [
           "hardstyle"
          ],
          [
           "harlem hip hop"
          ],
          [
           "harlem renaissance"
          ],
          [
           "harmonica blues"
          ],
          [
           "harmonica jazz"
          ],
          [
           "harp"
          ],
          [
           "harpsichord"
          ],
          [
           "haryanvi pop"
          ],
          [
           "hauntology"
          ],
          [
           "hawaiian"
          ],
          [
           "hawaiian hip hop"
          ],
          [
           "hawaiian indie"
          ],
          [
           "healing"
          ],
          [
           "heartland rock"
          ],
          [
           "hi-nrg"
          ],
          [
           "highlife"
          ],
          [
           "hindi hip hop"
          ],
          [
           "hindi indie"
          ],
          [
           "hindustani classical"
          ],
          [
           "hindustani instrumental"
          ],
          [
           "hindustani vocal"
          ],
          [
           "hip hop"
          ],
          [
           "hip hop cubano"
          ],
          [
           "hip house"
          ],
          [
           "hip pop"
          ],
          [
           "hiplife"
          ],
          [
           "histoire pour enfants"
          ],
          [
           "historic classical performance"
          ],
          [
           "historic orchestral performance"
          ],
          [
           "historic piano performance"
          ],
          [
           "historic string quartet"
          ],
          [
           "historical keyboard"
          ],
          [
           "historically informed performance"
          ],
          [
           "hoerspiel"
          ],
          [
           "hokkien pop"
          ],
          [
           "hollywood"
          ],
          [
           "hong kong hip hop"
          ],
          [
           "hong kong indie"
          ],
          [
           "hong kong rock"
          ],
          [
           "honky tonk"
          ],
          [
           "honky-tonk piano"
          ],
          [
           "hopebeat"
          ],
          [
           "horror punk"
          ],
          [
           "horror synth"
          ],
          [
           "horrorcore"
          ],
          [
           "house"
          ],
          [
           "houston rap"
          ],
          [
           "huapango"
          ],
          [
           "huayno"
          ],
          [
           "hula"
          ],
          [
           "humppa"
          ],
          [
           "hungarian choir"
          ],
          [
           "hungarian classical performance"
          ],
          [
           "hungarian classical piano"
          ],
          [
           "hungarian contemporary classical"
          ],
          [
           "hungarian edm"
          ],
          [
           "hungarian folk"
          ],
          [
           "hungarian pop"
          ],
          [
           "hungarian rock"
          ],
          [
           "hungarian techno"
          ],
          [
           "hurdy-gurdy"
          ],
          [
           "hyperpop"
          ],
          [
           "hyphy"
          ],
          [
           "icelandic classical"
          ],
          [
           "icelandic electronic"
          ],
          [
           "icelandic experimental"
          ],
          [
           "icelandic folk"
          ],
          [
           "icelandic indie"
          ],
          [
           "icelandic jazz"
          ],
          [
           "icelandic pop"
          ],
          [
           "icelandic rock"
          ],
          [
           "idaho indie"
          ],
          [
           "idol"
          ],
          [
           "idol rock"
          ],
          [
           "ilahiler"
          ],
          [
           "ilocano pop"
          ],
          [
           "impressionism"
          ],
          [
           "indian classical"
          ],
          [
           "indian edm"
          ],
          [
           "indian folk"
          ],
          [
           "indian fusion"
          ],
          [
           "indian indie"
          ],
          [
           "indian instrumental"
          ],
          [
           "indian jazz"
          ],
          [
           "indiana hip hop"
          ],
          [
           "indie anthem-folk"
          ],
          [
           "indie cafe pop"
          ],
          [
           "indie deutschrap"
          ],
          [
           "indie dream pop"
          ],
          [
           "indie electronica"
          ],
          [
           "indie electropop"
          ],
          [
           "indie folk"
          ],
          [
           "indie game soundtrack"
          ],
          [
           "indie garage rock"
          ],
          [
           "indie hip hop"
          ],
          [
           "indie jazz"
          ],
          [
           "indie pop"
          ],
          [
           "indie pop rap"
          ],
          [
           "indie poptimism"
          ],
          [
           "indie psych-pop"
          ],
          [
           "indie punk"
          ],
          [
           "indie quebecois"
          ],
          [
           "indie r&b"
          ],
          [
           "indie rock"
          ],
          [
           "indie rock mexicano"
          ],
          [
           "indie rockism"
          ],
          [
           "indie shoegaze"
          ],
          [
           "indie singer-songwriter"
          ],
          [
           "indie soul"
          ],
          [
           "indie surf"
          ],
          [
           "indie triste"
          ],
          [
           "indiecoustica"
          ],
          [
           "indietronica"
          ],
          [
           "indonesian hip hop"
          ],
          [
           "indonesian indie"
          ],
          [
           "indonesian pop"
          ],
          [
           "indonesian r&b"
          ],
          [
           "indonesian worship"
          ],
          [
           "industrial"
          ],
          [
           "industrial hardcore"
          ],
          [
           "industrial hip hop"
          ],
          [
           "industrial metal"
          ],
          [
           "industrial rock"
          ],
          [
           "indy indie"
          ],
          [
           "instrumental acoustic guitar"
          ],
          [
           "instrumental bluegrass"
          ],
          [
           "instrumental funk"
          ],
          [
           "instrumental grime"
          ],
          [
           "instrumental math rock"
          ],
          [
           "instrumental post-rock"
          ],
          [
           "instrumental progressive metal"
          ],
          [
           "instrumental rock"
          ],
          [
           "instrumental soul"
          ],
          [
           "instrumental stoner rock"
          ],
          [
           "instrumental surf"
          ],
          [
           "intelligent dance music"
          ],
          [
           "iowa hip hop"
          ],
          [
           "irish accordion"
          ],
          [
           "irish ballad"
          ],
          [
           "irish banjo"
          ],
          [
           "irish classical"
          ],
          [
           "irish country"
          ],
          [
           "irish dance"
          ],
          [
           "irish fiddle"
          ],
          [
           "irish folk"
          ],
          [
           "irish hip hop"
          ],
          [
           "irish indie"
          ],
          [
           "irish metal"
          ],
          [
           "irish pop"
          ],
          [
           "irish pub song"
          ],
          [
           "irish rock"
          ],
          [
           "irish singer-songwriter"
          ],
          [
           "iskelma"
          ],
          [
           "islamic recitation"
          ],
          [
           "isle of wight indie"
          ],
          [
           "israeli classical"
          ],
          [
           "israeli classical piano"
          ],
          [
           "israeli folk"
          ],
          [
           "israeli hip hop"
          ],
          [
           "israeli mediterranean"
          ],
          [
           "israeli pop"
          ],
          [
           "israeli rock"
          ],
          [
           "israeli singer-songwriter"
          ],
          [
           "israeli techno"
          ],
          [
           "italian adult pop"
          ],
          [
           "italian baritone"
          ],
          [
           "italian baroque"
          ],
          [
           "italian baroque ensemble"
          ],
          [
           "italian bass"
          ],
          [
           "italian blues"
          ],
          [
           "italian classical guitar"
          ],
          [
           "italian classical piano"
          ],
          [
           "italian contemporary jazz"
          ],
          [
           "italian disco"
          ],
          [
           "italian gothic"
          ],
          [
           "italian gothic metal"
          ],
          [
           "italian indie pop"
          ],
          [
           "italian jazz"
          ],
          [
           "italian library music"
          ],
          [
           "italian mandolin"
          ],
          [
           "italian metal"
          ],
          [
           "italian mezzo-soprano"
          ],
          [
           "italian modern prog"
          ],
          [
           "italian opera"
          ],
          [
           "italian orchestra"
          ],
          [
           "italian pop rock"
          ],
          [
           "italian power metal"
          ],
          [
           "italian progressive metal"
          ],
          [
           "italian progressive rock"
          ],
          [
           "italian renaissance"
          ],
          [
           "italian romanticism"
          ],
          [
           "italian soprano"
          ],
          [
           "italian soundtrack"
          ],
          [
           "italian techno"
          ],
          [
           "italian tenor"
          ],
          [
           "italian violin"
          ],
          [
           "italo dance"
          ],
          [
           "italo house"
          ],
          [
           "j-acoustic"
          ],
          [
           "j-ambient"
          ],
          [
           "j-dance"
          ],
          [
           "j-division"
          ],
          [
           "j-idol"
          ],
          [
           "j-metal"
          ],
          [
           "j-pixie"
          ],
          [
           "j-pop"
          ],
          [
           "j-pop girl group"
          ],
          [
           "j-poprock"
          ],
          [
           "j-punk"
          ],
          [
           "j-reggae"
          ],
          [
           "j-rock"
          ],
          [
           "jacksonville indie"
          ],
          [
           "jam band"
          ],
          [
           "jamgrass"
          ],
          [
           "jamtronica"
          ],
          [
           "jangle pop"
          ],
          [
           "japanese alternative rock"
          ],
          [
           "japanese chillhop"
          ],
          [
           "japanese city pop"
          ],
          [
           "japanese classical"
          ],
          [
           "japanese classical performance"
          ],
          [
           "japanese classical piano"
          ],
          [
           "japanese concert band"
          ],
          [
           "japanese dream pop"
          ],
          [
           "japanese electronic"
          ],
          [
           "japanese electropop"
          ],
          [
           "japanese emo"
          ],
          [
           "japanese experimental"
          ],
          [
           "japanese folk"
          ],
          [
           "japanese garage rock"
          ],
          [
           "japanese girl punk"
          ],
          [
           "japanese heavy metal"
          ],
          [
           "japanese idm"
          ],
          [
           "japanese indie folk"
          ],
          [
           "japanese indie rock"
          ],
          [
           "japanese instrumental"
          ],
          [
           "japanese jazz"
          ],
          [
           "japanese jazz fusion"
          ],
          [
           "japanese jazztronica"
          ],
          [
           "japanese metalcore"
          ],
          [
           "japanese new wave"
          ],
          [
           "japanese piano"
          ],
          [
           "japanese pop punk"
          ],
          [
           "japanese post-hardcore"
          ],
          [
           "japanese power metal"
          ],
          [
           "japanese prog"
          ],
          [
           "japanese psychedelic"
          ],
          [
           "japanese punk rock"
          ],
          [
           "japanese r&b"
          ],
          [
           "japanese rockabilly"
          ],
          [
           "japanese singer-songwriter"
          ],
          [
           "japanese soundtrack"
          ],
          [
           "japanese traditional"
          ],
          [
           "japanese vgm"
          ],
          [
           "japanese vocal jazz"
          ],
          [
           "jawaiian"
          ],
          [
           "jazz"
          ],
          [
           "jazz accordion"
          ],
          [
           "jazz blues"
          ],
          [
           "jazz boom bap"
          ],
          [
           "jazz brass"
          ],
          [
           "jazz chileno"
          ],
          [
           "jazz clarinet"
          ],
          [
           "jazz colombiano"
          ],
          [
           "jazz cubano"
          ],
          [
           "jazz double bass"
          ],
          [
           "jazz drums"
          ],
          [
           "jazz flute"
          ],
          [
           "jazz funk"
          ],
          [
           "jazz fusion"
          ],
          [
           "jazz guitar"
          ],
          [
           "jazz harp"
          ],
          [
           "jazz metal"
          ],
          [
           "jazz mexicano"
          ],
          [
           "jazz orchestra"
          ],
          [
           "jazz organ"
          ],
          [
           "jazz piano"
          ],
          [
           "jazz pop"
          ],
          [
           "jazz quartet"
          ],
          [
           "jazz rap"
          ],
          [
           "jazz rock"
          ],
          [
           "jazz saxophone"
          ],
          [
           "jazz trio"
          ],
          [
           "jazz trombone"
          ],
          [
           "jazz trumpet"
          ],
          [
           "jazz tuba"
          ],
          [
           "jazz venezolano"
          ],
          [
           "jazz vibraphone"
          ],
          [
           "jazz violin"
          ],
          [
           "jazztronica"
          ],
          [
           "jewish cantorial"
          ],
          [
           "jewish hip hop"
          ],
          [
           "jig and reel"
          ],
          [
           "jordanian pop"
          ],
          [
           "joropo"
          ],
          [
           "jovem guarda"
          ],
          [
           "jug band"
          ],
          [
           "juju"
          ],
          [
           "jump blues"
          ],
          [
           "jump up"
          ],
          [
           "k-indie"
          ],
          [
           "k-pop"
          ],
          [
           "k-pop boy group"
          ],
          [
           "k-pop girl group"
          ],
          [
           "k-rap"
          ],
          [
           "kabarett"
          ],
          [
           "kabyle"
          ],
          [
           "kaneka"
          ],
          [
           "kannada bhava geethe"
          ],
          [
           "kansas city hip hop"
          ],
          [
           "kashmiri pop"
          ],
          [
           "kawaii future bass"
          ],
          [
           "kawaii metal"
          ],
          [
           "kayokyoku"
          ],
          [
           "kc indie"
          ],
          [
           "kent indie"
          ],
          [
           "kentucky hip hop"
          ],
          [
           "kentucky indie"
          ],
          [
           "kentucky metal"
          ],
          [
           "kentucky mountain folk"
          ],
          [
           "kentucky punk"
          ],
          [
           "kentucky roots"
          ],
          [
           "keroncong"
          ],
          [
           "khaleeji iraqi"
          ],
          [
           "khmer"
          ],
          [
           "kids dance party"
          ],
          [
           "kindie rock"
          ],
          [
           "kingston on indie"
          ],
          [
           "kirtan"
          ],
          [
           "kiwi rock"
          ],
          [
           "kizomba antigas"
          ],
          [
           "kleine hoerspiel"
          ],
          [
           "klezmer"
          ],
          [
           "knoxville indie"
          ],
          [
           "kodomo no ongaku"
          ],
          [
           "kolsche karneval"
          ],
          [
           "komedi"
          ],
          [
           "kompa"
          ],
          [
           "kora"
          ],
          [
           "korean classical performance"
          ],
          [
           "korean classical piano"
          ],
          [
           "korean indie rock"
          ],
          [
           "korean mask singer"
          ],
          [
           "korean pop"
          ],
          [
           "korean r&b"
          ],
          [
           "korean trap"
          ],
          [
           "koto"
          ],
          [
           "krautrock"
          ],
          [
           "kundiman"
          ],
          [
           "la indie"
          ],
          [
           "la pop"
          ],
          [
           "laboratorio"
          ],
          [
           "lafayette indie"
          ],
          [
           "laiko"
          ],
          [
           "lancashire indie"
          ],
          [
           "lancaster pa indie"
          ],
          [
           "late romantic era"
          ],
          [
           "latin"
          ],
          [
           "latin afrobeat"
          ],
          [
           "latin alternative"
          ],
          [
           "latin american classical piano"
          ],
          [
           "latin arena pop"
          ],
          [
           "latin christian"
          ],
          [
           "latin classical"
          ],
          [
           "latin funk"
          ],
          [
           "latin hip hop"
          ],
          [
           "latin house"
          ],
          [
           "latin jazz"
          ],
          [
           "latin metal"
          ],
          [
           "latin pop"
          ],
          [
           "latin rock"
          ],
          [
           "latin ska"
          ],
          [
           "latin soundtrack"
          ],
          [
           "latin talent show"
          ],
          [
           "latin tech house"
          ],
          [
           "latin viral pop"
          ],
          [
           "latin worship"
          ],
          [
           "latincore"
          ],
          [
           "latino comedy"
          ],
          [
           "latintronica"
          ],
          [
           "latinx alternative"
          ],
          [
           "latvian pop"
          ],
          [
           "lds"
          ],
          [
           "lds youth"
          ],
          [
           "lebanese pop"
          ],
          [
           "leicester indie"
          ],
          [
           "lexington ky indie"
          ],
          [
           "lgbtq+ hip hop"
          ],
          [
           "library music"
          ],
          [
           "liedermacher"
          ],
          [
           "light music"
          ],
          [
           "lilith"
          ],
          [
           "liquid funk"
          ],
          [
           "lithuanian electronic"
          ],
          [
           "liverpool indie"
          ],
          [
           "livetronica"
          ],
          [
           "lldm"
          ],
          [
           "lo star"
          ],
          [
           "lo-fi"
          ],
          [
           "lo-fi beats"
          ],
          [
           "lo-fi brasileiro"
          ],
          [
           "lo-fi chill"
          ],
          [
           "lo-fi cover"
          ],
          [
           "lo-fi emo"
          ],
          [
           "lo-fi house"
          ],
          [
           "lo-fi indie"
          ],
          [
           "lo-fi vgm"
          ],
          [
           "london rap"
          ],
          [
           "louisiana blues"
          ],
          [
           "louisiana metal"
          ],
          [
           "louisville indie"
          ],
          [
           "louisville underground"
          ],
          [
           "lounge"
          ],
          [
           "louvor"
          ],
          [
           "lovers rock"
          ],
          [
           "lullaby"
          ],
          [
           "lund indie"
          ],
          [
           "lute"
          ],
          [
           "macedonian folk"
          ],
          [
           "madchester"
          ],
          [
           "madrigal"
          ],
          [
           "magyar alternative"
          ],
          [
           "maine hip hop"
          ],
          [
           "maine indie"
          ],
          [
           "mainland chinese pop"
          ],
          [
           "makossa"
          ],
          [
           "malaysian mandopop"
          ],
          [
           "malaysian pop"
          ],
          [
           "malian blues"
          ],
          [
           "mallet"
          ],
          [
           "malmo indie"
          ],
          [
           "mambo"
          ],
          [
           "manchester hip hop"
          ],
          [
           "manchester indie"
          ],
          [
           "mande pop"
          ],
          [
           "mandolin"
          ],
          [
           "mandopop"
          ],
          [
           "manguebeat"
          ],
          [
           "manila sound"
          ],
          [
           "manitoba indie"
          ],
          [
           "mantra"
          ],
          [
           "marathi pop"
          ],
          [
           "marathi traditional"
          ],
          [
           "marching band"
          ],
          [
           "mariachi"
          ],
          [
           "mariachi cristiano"
          ],
          [
           "marimba orquesta"
          ],
          [
           "martial industrial"
          ],
          [
           "mashup"
          ],
          [
           "math rock"
          ],
          [
           "mathcore"
          ],
          [
           "mbalax"
          ],
          [
           "medieval"
          ],
          [
           "medieval folk"
          ],
          [
           "medieval rock"
          ],
          [
           "meditation"
          ],
          [
           "melancholia"
          ],
          [
           "melbourne bounce"
          ],
          [
           "melbourne bounce international"
          ],
          [
           "melbourne indie"
          ],
          [
           "mellow gold"
          ],
          [
           "melodic death metal"
          ],
          [
           "melodic deathcore"
          ],
          [
           "melodic dubstep"
          ],
          [
           "melodic groove metal"
          ],
          [
           "melodic hard rock"
          ],
          [
           "melodic hardcore"
          ],
          [
           "melodic metal"
          ],
          [
           "melodic metalcore"
          ],
          [
           "melodic power metal"
          ],
          [
           "melodic rap"
          ],
          [
           "melodic thrash"
          ],
          [
           "meme rap"
          ],
          [
           "memphis americana"
          ],
          [
           "memphis blues"
          ],
          [
           "memphis hip hop"
          ],
          [
           "memphis indie"
          ],
          [
           "memphis soul"
          ],
          [
           "mento"
          ],
          [
           "merengue"
          ],
          [
           "merengue tipico"
          ],
          [
           "merseybeat"
          ],
          [
           "messianic praise"
          ],
          [
           "metal"
          ],
          [
           "metal guitar"
          ],
          [
           "metal mineiro"
          ],
          [
           "metalcore"
          ],
          [
           "metropopolis"
          ],
          [
           "mexican classic rock"
          ],
          [
           "mexican classical"
          ],
          [
           "mexican hip hop"
          ],
          [
           "mexican indie"
          ],
          [
           "mexican pop"
          ],
          [
           "mexican pop punk"
          ],
          [
           "mexican rock"
          ],
          [
           "mexican rock-and-roll"
          ],
          [
           "mexican son"
          ],
          [
           "mexican traditional"
          ],
          [
           "miami bass"
          ],
          [
           "miami hip hop"
          ],
          [
           "miami indie"
          ],
          [
           "miami metal"
          ],
          [
           "michigan indie"
          ],
          [
           "microhouse"
          ],
          [
           "microtonal"
          ],
          [
           "middle earth"
          ],
          [
           "middle east hip hop"
          ],
          [
           "middle eastern traditional"
          ],
          [
           "midwest americana"
          ],
          [
           "midwest emo"
          ],
          [
           "military cadence"
          ],
          [
           "military rap"
          ],
          [
           "milwaukee indie"
          ],
          [
           "mindfulness"
          ],
          [
           "minecraft"
          ],
          [
           "minimal melodic techno"
          ],
          [
           "minimal tech house"
          ],
          [
           "minimal techno"
          ],
          [
           "minimal wave"
          ],
          [
           "minimalism"
          ],
          [
           "minneapolis indie"
          ],
          [
           "minneapolis metal"
          ],
          [
           "minneapolis punk"
          ],
          [
           "minneapolis sound"
          ],
          [
           "minnesota hip hop"
          ],
          [
           "mississippi hip hop"
          ],
          [
           "mississippi indie"
          ],
          [
           "mizrahi"
          ],
          [
           "mod revival"
          ],
          [
           "modern alternative pop"
          ],
          [
           "modern alternative rock"
          ],
          [
           "modern big band"
          ],
          [
           "modern blues"
          ],
          [
           "modern blues rock"
          ],
          [
           "modern bollywood"
          ],
          [
           "modern country rock"
          ],
          [
           "modern dream pop"
          ],
          [
           "modern folk rock"
          ],
          [
           "modern funk"
          ],
          [
           "modern hard rock"
          ],
          [
           "modern indie pop"
          ],
          [
           "modern jazz piano"
          ],
          [
           "modern jazz trio"
          ],
          [
           "modern old-time"
          ],
          [
           "modern performance"
          ],
          [
           "modern power pop"
          ],
          [
           "modern psychedelic folk"
          ],
          [
           "modern reggae"
          ],
          [
           "modern rock"
          ],
          [
           "modern salsa"
          ],
          [
           "modern ska punk"
          ],
          [
           "modern southern rock"
          ],
          [
           "modern string quartet"
          ],
          [
           "modern swing"
          ],
          [
           "modern uplift"
          ],
          [
           "modular synth"
          ],
          [
           "moldovan pop"
          ],
          [
           "mollywood"
          ],
          [
           "mongolian hip hop"
          ],
          [
           "mongolian pop"
          ],
          [
           "monterrey indie"
          ],
          [
           "montreal indie"
          ],
          [
           "moog"
          ],
          [
           "moombahton"
          ],
          [
           "morna"
          ],
          [
           "motivation"
          ],
          [
           "motown"
          ],
          [
           "mountain dulcimer"
          ],
          [
           "movie tunes"
          ],
          [
           "mpb"
          ],
          [
           "music box"
          ],
          [
           "music hall"
          ],
          [
           "musica afroperuana"
          ],
          [
           "musica alagoana"
          ],
          [
           "musica andina"
          ],
          [
           "musica andina colombiana"
          ],
          [
           "musica antigua"
          ],
          [
           "musica aragonesa"
          ],
          [
           "musica ayacuchana"
          ],
          [
           "musica canaria"
          ],
          [
           "musica costarricense"
          ],
          [
           "musica costena"
          ],
          [
           "musica cristiana guatemalteca"
          ],
          [
           "musica de fondo"
          ],
          [
           "musica gaucha tradicionalista"
          ],
          [
           "musica hondurena"
          ],
          [
           "musica infantil"
          ],
          [
           "musica jibara"
          ],
          [
           "musica juiz-forana"
          ],
          [
           "musica llanera"
          ],
          [
           "musica nicaraguense"
          ],
          [
           "musica para criancas"
          ],
          [
           "musica para ninos"
          ],
          [
           "musica paraibana"
          ],
          [
           "musica piemonteisa"
          ],
          [
           "musica popular colombiana"
          ],
          [
           "musica popular mineira"
          ],
          [
           "musica popular paraense"
          ],
          [
           "musica potosina"
          ],
          [
           "musica prehispanica"
          ],
          [
           "musica sarda"
          ],
          [
           "musica tradicional cubana"
          ],
          [
           "musica tropical guatemalteca"
          ],
          [
           "musical advocacy"
          ],
          [
           "musikkorps"
          ],
          [
           "musique concrete"
          ],
          [
           "musique peule"
          ],
          [
           "musique pour enfant quebecois"
          ],
          [
           "musique pour enfants"
          ],
          [
           "musique touareg"
          ],
          [
           "muzica populara"
          ],
          [
           "muzika l'yeladim"
          ],
          [
           "naija worship"
          ],
          [
           "nantes indie"
          ],
          [
           "narodna muzika"
          ],
          [
           "nashville americana"
          ],
          [
           "nashville hip hop"
          ],
          [
           "nashville indie"
          ],
          [
           "nashville singer-songwriter"
          ],
          [
           "nashville sound"
          ],
          [
           "native american"
          ],
          [
           "native american contemporary"
          ],
          [
           "native american flute"
          ],
          [
           "native american hip hop"
          ],
          [
           "native american spiritual"
          ],
          [
           "navajo"
          ],
          [
           "nederlandse hardstyle"
          ],
          [
           "nederpop"
          ],
          [
           "neo classical metal"
          ],
          [
           "neo kyma"
          ],
          [
           "neo mellow"
          ],
          [
           "neo r&b"
          ],
          [
           "neo soul"
          ],
          [
           "neo-classical"
          ],
          [
           "neo-kraut"
          ],
          [
           "neo-pagan"
          ],
          [
           "neo-progressive"
          ],
          [
           "neo-psychedelic"
          ],
          [
           "neo-rockabilly"
          ],
          [
           "neo-singer-songwriter"
          ],
          [
           "neo-synthpop"
          ],
          [
           "neo-trad metal"
          ],
          [
           "neo-traditional bluegrass"
          ],
          [
           "neo-traditional country"
          ],
          [
           "neoclassical darkwave"
          ],
          [
           "neoclassicism"
          ],
          [
           "neofolk"
          ],
          [
           "neon pop punk"
          ],
          [
           "neotango"
          ],
          [
           "nepali indie"
          ],
          [
           "nepali pop"
          ],
          [
           "nerdcore"
          ],
          [
           "neue deutsche harte"
          ],
          [
           "neue deutsche todeskunst"
          ],
          [
           "neue deutsche welle"
          ],
          [
           "neurofunk"
          ],
          [
           "new age"
          ],
          [
           "new age piano"
          ],
          [
           "new americana"
          ],
          [
           "new beat"
          ],
          [
           "new comedy"
          ],
          [
           "new england americana"
          ],
          [
           "new england emo"
          ],
          [
           "new french touch"
          ],
          [
           "new isolationism"
          ],
          [
           "new jack swing"
          ],
          [
           "new jersey hardcore"
          ],
          [
           "new jersey indie"
          ],
          [
           "new jersey punk"
          ],
          [
           "new jersey rap"
          ],
          [
           "new mexico music"
          ],
          [
           "new orleans blues"
          ],
          [
           "new orleans funk"
          ],
          [
           "new orleans indie"
          ],
          [
           "new orleans jazz"
          ],
          [
           "new orleans rap"
          ],
          [
           "new rave"
          ],
          [
           "new romantic"
          ],
          [
           "new tribe"
          ],
          [
           "new wave"
          ],
          [
           "new wave of thrash metal"
          ],
          [
           "new wave pop"
          ],
          [
           "new weird america"
          ],
          [
           "new york death metal"
          ],
          [
           "new york drill"
          ],
          [
           "new zealand classical"
          ],
          [
           "newcastle indie"
          ],
          [
           "newcastle nsw indie"
          ],
          [
           "nigerian hip hop"
          ],
          [
           "nigerian pop"
          ],
          [
           "nightcore"
          ],
          [
           "nightrun"
          ],
          [
           "ninja"
          ],
          [
           "nintendocore"
          ],
          [
           "nisiotika"
          ],
          [
           "nl folk"
          ],
          [
           "no wave"
          ],
          [
           "noise pop"
          ],
          [
           "noise punk"
          ],
          [
           "noise rock"
          ],
          [
           "nordic classical piano"
          ],
          [
           "nordic contemporary classical"
          ],
          [
           "nordic folk"
          ],
          [
           "nordic house"
          ],
          [
           "nordic orchestra"
          ],
          [
           "nordic post-rock"
          ],
          [
           "nordic soundtrack"
          ],
          [
           "norman ok indie"
          ],
          [
           "norsk lovsang"
          ],
          [
           "norteno"
          ],
          [
           "norteno-sax"
          ],
          [
           "north carolina emo"
          ],
          [
           "north carolina hip hop"
          ],
          [
           "north carolina indie"
          ],
          [
           "north carolina metal"
          ],
          [
           "north carolina roots"
          ],
          [
           "north east england indie"
          ],
          [
           "northern irish indie"
          ],
          [
           "northern irish punk"
          ],
          [
           "northern soul"
          ],
          [
           "norwegian black metal"
          ],
          [
           "norwegian choir"
          ],
          [
           "norwegian classical"
          ],
          [
           "norwegian contemporary jazz"
          ],
          [
           "norwegian death metal"
          ],
          [
           "norwegian experimental"
          ],
          [
           "norwegian hip hop"
          ],
          [
           "norwegian indie"
          ],
          [
           "norwegian jazz"
          ],
          [
           "norwegian metal"
          ],
          [
           "norwegian pop"
          ],
          [
           "norwegian pop rap"
          ],
          [
           "norwegian punk rock"
          ],
          [
           "norwegian rock"
          ],
          [
           "norwegian singer-songwriter"
          ],
          [
           "norwegian space disco"
          ],
          [
           "nottingham indie"
          ],
          [
           "nouvelle chanson francaise"
          ],
          [
           "nova canco"
          ],
          [
           "nova mpb"
          ],
          [
           "nova musica pernambucana"
          ],
          [
           "novelty"
          ],
          [
           "nu age"
          ],
          [
           "nu disco"
          ],
          [
           "nu gaze"
          ],
          [
           "nu jazz"
          ],
          [
           "nu metal"
          ],
          [
           "nu skool breaks"
          ],
          [
           "nu-cumbia"
          ],
          [
           "nu-metalcore"
          ],
          [
           "nubian traditional"
          ],
          [
           "nueva cancion"
          ],
          [
           "nueva ola chilena"
          ],
          [
           "nueva ola peruana"
          ],
          [
           "nuevo flamenco"
          ],
          [
           "nuevo folklore mexicano"
          ],
          [
           "nuevo regional mexicano"
          ],
          [
           "nuevo tango"
          ],
          [
           "nursery"
          ],
          [
           "nwobhm"
          ],
          [
           "nwothm"
          ],
          [
           "ny roots"
          ],
          [
           "nyc pop"
          ],
          [
           "nyc rap"
          ],
          [
           "nyhc"
          ],
          [
           "nz christian"
          ],
          [
           "nz folk"
          ],
          [
           "nz hardcore"
          ],
          [
           "nz indie"
          ],
          [
           "nz pop"
          ],
          [
           "nz punk"
          ],
          [
           "nz reggae"
          ],
          [
           "nz singer-songwriter"
          ],
          [
           "oakland hip hop"
          ],
          [
           "oakland indie"
          ],
          [
           "oc indie"
          ],
          [
           "oc rap"
          ],
          [
           "oceania soundtrack"
          ],
          [
           "ohio hip hop"
          ],
          [
           "ohio indie"
          ],
          [
           "oi"
          ],
          [
           "ok indie"
          ],
          [
           "okc indie"
          ],
          [
           "okinawan pop"
          ],
          [
           "oklahoma country"
          ],
          [
           "old school dancehall"
          ],
          [
           "old school hip hop"
          ],
          [
           "old school rap francais"
          ],
          [
           "old school thrash"
          ],
          [
           "old school uk hip hop"
          ],
          [
           "old west"
          ],
          [
           "old-time"
          ],
          [
           "old-time fiddle"
          ],
          [
           "olympia wa indie"
          ],
          [
           "omaha indie"
          ],
          [
           "one-person band"
          ],
          [
           "ontario indie"
          ],
          [
           "opera"
          ],
          [
           "opera chorus"
          ],
          [
           "opera metal"
          ],
          [
           "operatic pop"
          ],
          [
           "operetta"
          ],
          [
           "opm"
          ],
          [
           "oratory"
          ],
          [
           "orchestra"
          ],
          [
           "orchestral performance"
          ],
          [
           "orebro indie"
          ],
          [
           "organic ambient"
          ],
          [
           "organic electronic"
          ],
          [
           "organic house"
          ],
          [
           "orgcore"
          ],
          [
           "oriental classical"
          ],
          [
           "orkney and shetland folk"
          ],
          [
           "orlando indie"
          ],
          [
           "orquesta tipica"
          ],
          [
           "orthodox chant"
          ],
          [
           "oshare kei"
          ],
          [
           "otacore"
          ],
          [
           "oth indie"
          ],
          [
           "ottawa indie"
          ],
          [
           "ottawa rap"
          ],
          [
           "oud"
          ],
          [
           "outer hip hop"
          ],
          [
           "outlaw country"
          ],
          [
           "outsider"
          ],
          [
           "outsider house"
          ],
          [
           "oxford choir"
          ],
          [
           "oxford indie"
          ],
          [
           "p funk"
          ],
          [
           "pagan black metal"
          ],
          [
           "pagode"
          ],
          [
           "pagode baiano"
          ],
          [
           "paisley underground"
          ],
          [
           "pakistani folk"
          ],
          [
           "pakistani hip hop"
          ],
          [
           "pakistani pop"
          ],
          [
           "palestinian pop"
          ],
          [
           "palm desert scene"
          ],
          [
           "panamanian pop"
          ],
          [
           "panamanian rock"
          ],
          [
           "panpipe"
          ],
          [
           "papuri"
          ],
          [
           "parody"
          ],
          [
           "partido alto"
          ],
          [
           "partyschlager"
          ],
          [
           "pei indie"
          ],
          [
           "permanent wave"
          ],
          [
           "perreo"
          ],
          [
           "persian pop"
          ],
          [
           "persian traditional"
          ],
          [
           "perth indie"
          ],
          [
           "peruvian hip hop"
          ],
          [
           "peruvian rock"
          ],
          [
           "pet calming"
          ],
          [
           "philly indie"
          ],
          [
           "philly rap"
          ],
          [
           "philly soul"
          ],
          [
           "phoenix indie"
          ],
          [
           "phonk"
          ],
          [
           "pianissimo"
          ],
          [
           "piano blues"
          ],
          [
           "piano cover"
          ],
          [
           "piano mpb"
          ],
          [
           "piano rock"
          ],
          [
           "pibroch"
          ],
          [
           "piedmont blues"
          ],
          [
           "pinoy hip hop"
          ],
          [
           "pinoy indie"
          ],
          [
           "pinoy pop punk"
          ],
          [
           "pinoy praise"
          ],
          [
           "pinoy r&b"
          ],
          [
           "pinoy reggae"
          ],
          [
           "pinoy rock"
          ],
          [
           "pinoy traditional"
          ],
          [
           "pinoy trap"
          ],
          [
           "pirate"
          ],
          [
           "pittsburgh indie"
          ],
          [
           "pittsburgh rap"
          ],
          [
           "pittsburgh rock"
          ],
          [
           "pixie"
          ],
          [
           "plunderphonics"
          ],
          [
           "poetry"
          ],
          [
           "polca paraguaya"
          ],
          [
           "polish blues"
          ],
          [
           "polish classical"
          ],
          [
           "polish classical piano"
          ],
          [
           "polish contemporary classical"
          ],
          [
           "polish jazz"
          ],
          [
           "polish modern jazz"
          ],
          [
           "polish pop"
          ],
          [
           "polish post-rock"
          ],
          [
           "polish reggae"
          ],
          [
           "polish rock"
          ],
          [
           "political hip hop"
          ],
          [
           "polka"
          ],
          [
           "polynesian hip hop"
          ],
          [
           "polynesian pop"
          ],
          [
           "polyphony"
          ],
          [
           "pony"
          ],
          [
           "pop"
          ],
          [
           "pop argentino"
          ],
          [
           "pop chileno"
          ],
          [
           "pop dance"
          ],
          [
           "pop edm"
          ],
          [
           "pop electronico"
          ],
          [
           "pop emo"
          ],
          [
           "pop flamenco"
          ],
          [
           "pop folk"
          ],
          [
           "pop house"
          ],
          [
           "pop nacional"
          ],
          [
           "pop nacional antigas"
          ],
          [
           "pop peruano"
          ],
          [
           "pop punk"
          ],
          [
           "pop quebecois"
          ],
          [
           "pop r&b"
          ],
          [
           "pop rap"
          ],
          [
           "pop reggaeton"
          ],
          [
           "pop rock"
          ],
          [
           "pop rock brasileiro"
          ],
          [
           "pop romantico"
          ],
          [
           "pop soul"
          ],
          [
           "pop venezolano"
          ],
          [
           "pop violin"
          ],
          [
           "popgaze"
          ],
          [
           "popping"
          ],
          [
           "pops orchestra"
          ],
          [
           "popwave"
          ],
          [
           "pornogrind"
          ],
          [
           "porro"
          ],
          [
           "portland hip hop"
          ],
          [
           "portland indie"
          ],
          [
           "portland metal"
          ],
          [
           "portland punk"
          ],
          [
           "portuguese early music"
          ],
          [
           "post-disco"
          ],
          [
           "post-disco soul"
          ],
          [
           "post-doom metal"
          ],
          [
           "post-grunge"
          ],
          [
           "post-hardcore"
          ],
          [
           "post-metal"
          ],
          [
           "post-minimalism"
          ],
          [
           "post-post-hardcore"
          ],
          [
           "post-punk"
          ],
          [
           "post-punk argentina"
          ],
          [
           "post-rock"
          ],
          [
           "post-romantic era"
          ],
          [
           "post-screamo"
          ],
          [
           "post-teen pop"
          ],
          [
           "power metal"
          ],
          [
           "power pop"
          ],
          [
           "power thrash"
          ],
          [
           "power-pop punk"
          ],
          [
           "praise"
          ],
          [
           "prepared piano"
          ],
          [
           "preschool children's music"
          ],
          [
           "prog quebec"
          ],
          [
           "progressive alternative"
          ],
          [
           "progressive bluegrass"
          ],
          [
           "progressive deathcore"
          ],
          [
           "progressive electro house"
          ],
          [
           "progressive groove metal"
          ],
          [
           "progressive house"
          ],
          [
           "progressive jazz fusion"
          ],
          [
           "progressive metal"
          ],
          [
           "progressive metalcore"
          ],
          [
           "progressive post-hardcore"
          ],
          [
           "progressive power metal"
          ],
          [
           "progressive psytrance"
          ],
          [
           "progressive rock"
          ],
          [
           "progressive sludge"
          ],
          [
           "progressive trance"
          ],
          [
           "progressive trance house"
          ],
          [
           "progressive uplifting trance"
          ],
          [
           "proto-rap"
          ],
          [
           "proto-techno"
          ],
          [
           "protopunk"
          ],
          [
           "psalmen"
          ],
          [
           "psicodelia brasileira"
          ],
          [
           "psybass"
          ],
          [
           "psychedelic blues-rock"
          ],
          [
           "psychedelic doom"
          ],
          [
           "psychedelic folk"
          ],
          [
           "psychedelic folk rock"
          ],
          [
           "psychedelic hip hop"
          ],
          [
           "psychedelic pop"
          ],
          [
           "psychedelic punk"
          ],
          [
           "psychedelic rock"
          ],
          [
           "psychedelic soul"
          ],
          [
           "psychedelic trance"
          ],
          [
           "psychill"
          ],
          [
           "psychobilly"
          ],
          [
           "pub rock"
          ],
          [
           "puerto rican folk"
          ],
          [
           "puerto rican pop"
          ],
          [
           "puerto rican rock"
          ],
          [
           "punjabi folk"
          ],
          [
           "punjabi hip hop"
          ],
          [
           "punjabi pop"
          ],
          [
           "punk"
          ],
          [
           "punk 'n' roll"
          ],
          [
           "punk blues"
          ],
          [
           "punk rock italiano"
          ],
          [
           "punk rock mexicano"
          ],
          [
           "punta"
          ],
          [
           "purple sound"
          ],
          [
           "qawwali"
          ],
          [
           "quartetto d'archi"
          ],
          [
           "quatuor a cordes"
          ],
          [
           "quebec death metal"
          ],
          [
           "quebec indie"
          ],
          [
           "queens hip hop"
          ],
          [
           "queer country"
          ],
          [
           "queercore"
          ],
          [
           "quiet storm"
          ],
          [
           "quran"
          ],
          [
           "r&b"
          ],
          [
           "r&b en espanol"
          ],
          [
           "rabindra sangeet"
          ],
          [
           "radio symphony"
          ],
          [
           "ragtime"
          ],
          [
           "rai"
          ],
          [
           "ranchera"
          ],
          [
           "rap"
          ],
          [
           "rap chileno"
          ],
          [
           "rap conciencia"
          ],
          [
           "rap conscient"
          ],
          [
           "rap cristiano"
          ],
          [
           "rap dominicano"
          ],
          [
           "rap kreyol"
          ],
          [
           "rap latina"
          ],
          [
           "rap metal"
          ],
          [
           "rap nacional antigo"
          ],
          [
           "rap napoletano"
          ],
          [
           "rap rock"
          ],
          [
           "rap underground mexicano"
          ],
          [
           "rare groove"
          ],
          [
           "rave"
          ],
          [
           "rawstyle"
          ],
          [
           "reading"
          ],
          [
           "reading indie"
          ],
          [
           "rebel blues"
          ],
          [
           "rebetiko"
          ],
          [
           "recorder"
          ],
          [
           "red dirt"
          ],
          [
           "redneck"
          ],
          [
           "reggae"
          ],
          [
           "reggae en espanol"
          ],
          [
           "reggae fusion"
          ],
          [
           "reggae rock"
          ],
          [
           "reggaeton"
          ],
          [
           "reggaeton colombiano"
          ],
          [
           "reggaeton cristiano"
          ],
          [
           "reggaeton flow"
          ],
          [
           "reggaeton mexicano"
          ],
          [
           "regional mexican"
          ],
          [
           "relaxative"
          ],
          [
           "renaissance"
          ],
          [
           "rennes indie"
          ],
          [
           "retro metal"
          ],
          [
           "retro soul"
          ],
          [
           "rhode island indie"
          ],
          [
           "rhode island rap"
          ],
          [
           "rhythm and blues"
          ],
          [
           "riddim"
          ],
          [
           "rif"
          ],
          [
           "riot grrrl"
          ],
          [
           "ritmo kombina"
          ],
          [
           "rochester mn indie"
          ],
          [
           "rochester ny indie"
          ],
          [
           "rock"
          ],
          [
           "rock alternatif francais"
          ],
          [
           "rock alternativo brasileiro"
          ],
          [
           "rock andaluz"
          ],
          [
           "rock baiano"
          ],
          [
           "rock brasiliense"
          ],
          [
           "rock chapin"
          ],
          [
           "rock cristiano"
          ],
          [
           "rock drums"
          ],
          [
           "rock en espanol"
          ],
          [
           "rock gaucho"
          ],
          [
           "rock independant francais"
          ],
          [
           "rock kapak"
          ],
          [
           "rock keyboard"
          ],
          [
           "rock nacional"
          ],
          [
           "rock nacional brasileiro"
          ],
          [
           "rock pernambucano"
          ],
          [
           "rock progressif francais"
          ],
          [
           "rock steady"
          ],
          [
           "rock urbano mexicano"
          ],
          [
           "rock-and-roll"
          ],
          [
           "rockabilly"
          ],
          [
           "rockabilly en espanol"
          ],
          [
           "roda de samba"
          ],
          [
           "romanian classical piano"
          ],
          [
           "romanian electronic"
          ],
          [
           "romanian folk"
          ],
          [
           "romanian pop"
          ],
          [
           "romanian rock"
          ],
          [
           "romantico"
          ],
          [
           "roots americana"
          ],
          [
           "roots reggae"
          ],
          [
           "roots rock"
          ],
          [
           "roots worship"
          ],
          [
           "rosary"
          ],
          [
           "rumba"
          ],
          [
           "rumba congolaise"
          ],
          [
           "rune folk"
          ],
          [
           "russian alternative rock"
          ],
          [
           "russian ccm"
          ],
          [
           "russian chanson"
          ],
          [
           "russian choir"
          ],
          [
           "russian classical piano"
          ],
          [
           "russian dance"
          ],
          [
           "russian edm"
          ],
          [
           "russian folk"
          ],
          [
           "russian folk rock"
          ],
          [
           "russian jazz"
          ],
          [
           "russian metal"
          ],
          [
           "russian metalcore"
          ],
          [
           "russian modern classical"
          ],
          [
           "russian orchestra"
          ],
          [
           "russian pop"
          ],
          [
           "russian post-punk"
          ],
          [
           "russian punk"
          ],
          [
           "russian rock"
          ],
          [
           "russian romanticism"
          ],
          [
           "russian shoegaze"
          ],
          [
           "russian trance"
          ],
          [
           "rva indie"
          ],
          [
           "rwandan traditional"
          ],
          [
           "ryukyu ongaku"
          ],
          [
           "sacramento hip hop"
          ],
          [
           "sacramento indie"
          ],
          [
           "sacred steel"
          ],
          [
           "sad rap"
          ],
          [
           "salsa"
          ],
          [
           "salsa choke"
          ],
          [
           "salsa colombiana"
          ],
          [
           "salsa cubana"
          ],
          [
           "salsa international"
          ],
          [
           "salsa peruana"
          ],
          [
           "salsa puertorriquena"
          ],
          [
           "salsa venezolana"
          ],
          [
           "samba"
          ],
          [
           "samba de roda"
          ],
          [
           "samba moderno"
          ],
          [
           "samba-enredo"
          ],
          [
           "samba-jazz"
          ],
          [
           "samba-rock"
          ],
          [
           "san antonio rap"
          ],
          [
           "san diego indie"
          ],
          [
           "san diego rap"
          ],
          [
           "san marcos tx indie"
          ],
          [
           "sandalwood"
          ],
          [
           "sarod"
          ],
          [
           "saskatchewan indie"
          ],
          [
           "scam rap"
          ],
          [
           "scandinavian r&b"
          ],
          [
           "scandipop"
          ],
          [
           "schlager"
          ],
          [
           "scorecore"
          ],
          [
           "scottish electronic"
          ],
          [
           "scottish fiddle"
          ],
          [
           "scottish folk"
          ],
          [
           "scottish hip hop"
          ],
          [
           "scottish indie"
          ],
          [
           "scottish jazz"
          ],
          [
           "scottish metal"
          ],
          [
           "scottish new wave"
          ],
          [
           "scottish rock"
          ],
          [
           "scottish singer-songwriter"
          ],
          [
           "scratch"
          ],
          [
           "scream rap"
          ],
          [
           "screamo"
          ],
          [
           "seattle hip hop"
          ],
          [
           "seattle indie"
          ],
          [
           "second line"
          ],
          [
           "sefardi"
          ],
          [
           "serbian electronic"
          ],
          [
           "serialism"
          ],
          [
           "sertanejo"
          ],
          [
           "sertanejo pop"
          ],
          [
           "sertanejo tradicional"
          ],
          [
           "sertanejo universitario"
          ],
          [
           "sevdah"
          ],
          [
           "sevillanas"
          ],
          [
           "shaabi"
          ],
          [
           "shabad"
          ],
          [
           "shakuhachi"
          ],
          [
           "shamanic"
          ],
          [
           "shanty"
          ],
          [
           "sheffield indie"
          ],
          [
           "shibuya-kei"
          ],
          [
           "shimmer pop"
          ],
          [
           "shimmer psych"
          ],
          [
           "shiver pop"
          ],
          [
           "shoegaze"
          ],
          [
           "show tunes"
          ],
          [
           "shred"
          ],
          [
           "shush"
          ],
          [
           "sierreno"
          ],
          [
           "singaporean mandopop"
          ],
          [
           "singaporean pop"
          ],
          [
           "singaporean singer-songwriter"
          ],
          [
           "singer-songwriter"
          ],
          [
           "singing bowl"
          ],
          [
           "sitar"
          ],
          [
           "ska"
          ],
          [
           "ska argentino"
          ],
          [
           "ska chileno"
          ],
          [
           "ska jazz"
          ],
          [
           "ska mexicano"
          ],
          [
           "ska punk"
          ],
          [
           "ska revival"
          ],
          [
           "skate punk"
          ],
          [
           "skiffle"
          ],
          [
           "skramz"
          ],
          [
           "sky room"
          ],
          [
           "slack-key guitar"
          ],
          [
           "slam poetry"
          ],
          [
           "slamming deathcore"
          ],
          [
           "slavic folk metal"
          ],
          [
           "slayer"
          ],
          [
           "slc indie"
          ],
          [
           "sleaze rock"
          ],
          [
           "sleep"
          ],
          [
           "slovak electronic"
          ],
          [
           "slovenian electronic"
          ],
          [
           "slovenian metal"
          ],
          [
           "slow game"
          ],
          [
           "slowcore"
          ],
          [
           "sludge metal"
          ],
          [
           "small room"
          ],
          [
           "smooth jazz"
          ],
          [
           "smooth saxophone"
          ],
          [
           "smooth soul"
          ],
          [
           "soca"
          ],
          [
           "socal pop punk"
          ],
          [
           "social media pop"
          ],
          [
           "soda pop"
          ],
          [
           "soft rock"
          ],
          [
           "solipsynthm"
          ],
          [
           "son cubano"
          ],
          [
           "son cubano clasico"
          ],
          [
           "son jarocho"
          ],
          [
           "sophisti-pop"
          ],
          [
           "sotalaulut"
          ],
          [
           "soukous"
          ],
          [
           "soul"
          ],
          [
           "soul blues"
          ],
          [
           "soul flow"
          ],
          [
           "soul jazz"
          ],
          [
           "souldies"
          ],
          [
           "sound"
          ],
          [
           "sound art"
          ],
          [
           "sound effects"
          ],
          [
           "sound team"
          ],
          [
           "soundtrack"
          ],
          [
           "south african alternative"
          ],
          [
           "south african choral"
          ],
          [
           "south african country"
          ],
          [
           "south african hip hop"
          ],
          [
           "south african house"
          ],
          [
           "south african jazz"
          ],
          [
           "south african pop"
          ],
          [
           "south african pop dance"
          ],
          [
           "south african rock"
          ],
          [
           "south carolina hip hop"
          ],
          [
           "south carolina indie"
          ],
          [
           "south carolina metal"
          ],
          [
           "south dakota indie"
          ],
          [
           "southampton indie"
          ],
          [
           "southern americana"
          ],
          [
           "southern gospel"
          ],
          [
           "southern hip hop"
          ],
          [
           "southern metal"
          ],
          [
           "southern rock"
          ],
          [
           "southern soul"
          ],
          [
           "southern soul blues"
          ],
          [
           "soviet synthpop"
          ],
          [
           "sovietwave"
          ],
          [
           "spa"
          ],
          [
           "space age pop"
          ],
          [
           "space ambient"
          ],
          [
           "space rock"
          ],
          [
           "spanish baroque"
          ],
          [
           "spanish classical"
          ],
          [
           "spanish classical piano"
          ],
          [
           "spanish folk metal"
          ],
          [
           "spanish hip hop"
          ],
          [
           "spanish indie pop"
          ],
          [
           "spanish invasion"
          ],
          [
           "spanish metal"
          ],
          [
           "spanish modern rock"
          ],
          [
           "spanish new wave"
          ],
          [
           "spanish noise pop"
          ],
          [
           "spanish pop"
          ],
          [
           "spanish pop rock"
          ],
          [
           "spanish renaissance"
          ],
          [
           "spanish rock"
          ],
          [
           "spanish synthpop"
          ],
          [
           "spanish techno"
          ],
          [
           "speed garage"
          ],
          [
           "speed metal"
          ],
          [
           "speedcore"
          ],
          [
           "spiritual hip hop"
          ],
          [
           "spiritual jazz"
          ],
          [
           "spirituals"
          ],
          [
           "springfield mo indie"
          ],
          [
           "spytrack"
          ],
          [
           "st louis rap"
          ],
          [
           "steampunk"
          ],
          [
           "steel guitar"
          ],
          [
           "steelpan"
          ],
          [
           "stl indie"
          ],
          [
           "stomp and flutter"
          ],
          [
           "stomp and holler"
          ],
          [
           "stomp and whittle"
          ],
          [
           "stomp pop"
          ],
          [
           "stoner metal"
          ],
          [
           "stoner rock"
          ],
          [
           "straight edge"
          ],
          [
           "straight-ahead jazz"
          ],
          [
           "street band"
          ],
          [
           "street punk"
          ],
          [
           "streichquartett"
          ],
          [
           "stride"
          ],
          [
           "string band"
          ],
          [
           "string folk"
          ],
          [
           "string orchestra"
          ],
          [
           "string quartet"
          ],
          [
           "strut"
          ],
          [
           "substep"
          ],
          [
           "sudanese pop"
          ],
          [
           "sufi"
          ],
          [
           "sufi chant"
          ],
          [
           "sunshine pop"
          ],
          [
           "supergroup"
          ],
          [
           "surf music"
          ],
          [
           "surf punk"
          ],
          [
           "svensk progg"
          ],
          [
           "swamp blues"
          ],
          [
           "swamp pop"
          ],
          [
           "swamp rock"
          ],
          [
           "swancore"
          ],
          [
           "swedish alternative rock"
          ],
          [
           "swedish americana"
          ],
          [
           "swedish black metal"
          ],
          [
           "swedish choir"
          ],
          [
           "swedish country"
          ],
          [
           "swedish dancehall"
          ],
          [
           "swedish death metal"
          ],
          [
           "swedish doom metal"
          ],
          [
           "swedish electronic"
          ],
          [
           "swedish electropop"
          ],
          [
           "swedish eurodance"
          ],
          [
           "swedish garage rock"
          ],
          [
           "swedish hard rock"
          ],
          [
           "swedish hardcore"
          ],
          [
           "swedish heavy metal"
          ],
          [
           "swedish house"
          ],
          [
           "swedish idol pop"
          ],
          [
           "swedish indie folk"
          ],
          [
           "swedish indie pop"
          ],
          [
           "swedish indie rock"
          ],
          [
           "swedish jazz"
          ],
          [
           "swedish jazz orkester"
          ],
          [
           "swedish melodic rock"
          ],
          [
           "swedish metal"
          ],
          [
           "swedish metalcore"
          ],
          [
           "swedish pop"
          ],
          [
           "swedish post-hardcore"
          ],
          [
           "swedish power metal"
          ],
          [
           "swedish prog"
          ],
          [
           "swedish progressive metal"
          ],
          [
           "swedish rock-and-roll"
          ],
          [
           "swedish singer-songwriter"
          ],
          [
           "swedish soul"
          ],
          [
           "swedish stoner rock"
          ],
          [
           "swedish synth"
          ],
          [
           "swedish synthpop"
          ],
          [
           "swedish tropical house"
          ],
          [
           "swedish underground rap"
          ],
          [
           "swing"
          ],
          [
           "swing italiano"
          ],
          [
           "swing revival"
          ],
          [
           "swiss black metal"
          ],
          [
           "swiss classical piano"
          ],
          [
           "swiss country"
          ],
          [
           "swiss metal"
          ],
          [
           "swiss pop"
          ],
          [
           "swiss rock"
          ],
          [
           "swiss worship"
          ],
          [
           "sydney indie"
          ],
          [
           "symphonic black metal"
          ],
          [
           "symphonic metal"
          ],
          [
           "symphonic rock"
          ],
          [
           "synth funk"
          ],
          [
           "synthpop"
          ],
          [
           "synthwave"
          ],
          [
           "syrian pop"
          ],
          [
           "tabla"
          ],
          [
           "tagalog rap"
          ],
          [
           "tagalog worship"
          ],
          [
           "taiwan campus folk"
          ],
          [
           "taiwan classical performance"
          ],
          [
           "taiwan hip hop"
          ],
          [
           "taiwan indie"
          ],
          [
           "taiwan pop"
          ],
          [
           "taiwan singer-songwriter"
          ],
          [
           "tajik pop"
          ],
          [
           "talent show"
          ],
          [
           "tamaulipas indie"
          ],
          [
           "tamaulipas rap"
          ],
          [
           "tamborazo"
          ],
          [
           "tamil hip hop"
          ],
          [
           "tamil pop"
          ],
          [
           "tamil worship"
          ],
          [
           "tampa indie"
          ],
          [
           "tango"
          ],
          [
           "tango cancion"
          ],
          [
           "tape club"
          ],
          [
           "tech house"
          ],
          [
           "technical death metal"
          ],
          [
           "technical deathcore"
          ],
          [
           "technical groove metal"
          ],
          [
           "technical melodic death metal"
          ],
          [
           "technical thrash"
          ],
          [
           "techno"
          ],
          [
           "techno kayo"
          ],
          [
           "tecnobanda"
          ],
          [
           "teen pop"
          ],
          [
           "tejano"
          ],
          [
           "tempe indie"
          ],
          [
           "tennessee hip hop"
          ],
          [
           "tennessee metal"
          ],
          [
           "tex-mex"
          ],
          [
           "texas blues"
          ],
          [
           "texas country"
          ],
          [
           "texas latin rap"
          ],
          [
           "texas pop punk"
          ],
          [
           "texas punk"
          ],
          [
           "thai folk"
          ],
          [
           "thai folk rock"
          ],
          [
           "thai idol"
          ],
          [
           "thai indie rock"
          ],
          [
           "thai pop"
          ],
          [
           "thall"
          ],
          [
           "theme"
          ],
          [
           "theremin"
          ],
          [
           "thrash core"
          ],
          [
           "thrash metal"
          ],
          [
           "timba"
          ],
          [
           "tin pan alley"
          ],
          [
           "tipico"
          ],
          [
           "tolkien metal"
          ],
          [
           "tollywood"
          ],
          [
           "tone"
          ],
          [
           "torch song"
          ],
          [
           "toronto indie"
          ],
          [
           "toronto rap"
          ],
          [
           "trad jazz catala"
          ],
          [
           "traditional bluegrass"
          ],
          [
           "traditional blues"
          ],
          [
           "traditional british folk"
          ],
          [
           "traditional country"
          ],
          [
           "traditional folk"
          ],
          [
           "traditional funk"
          ],
          [
           "traditional rockabilly"
          ],
          [
           "traditional ska"
          ],
          [
           "traditional soul"
          ],
          [
           "trance"
          ],
          [
           "trance mexicano"
          ],
          [
           "trancecore"
          ],
          [
           "transpop"
          ],
          [
           "trap"
          ],
          [
           "trap argentino"
          ],
          [
           "trap chileno"
          ],
          [
           "trap dominicano"
          ],
          [
           "trap latino"
          ],
          [
           "trap mexicano"
          ],
          [
           "trap queen"
          ],
          [
           "trap soul"
          ],
          [
           "trap triste"
          ],
          [
           "trap venezolano"
          ],
          [
           "traprun"
          ],
          [
           "trash rock"
          ],
          [
           "triangle indie"
          ],
          [
           "tribal house"
          ],
          [
           "trinidadian reggae"
          ],
          [
           "trio cubano"
          ],
          [
           "trip hop"
          ],
          [
           "trival"
          ],
          [
           "tropical"
          ],
          [
           "tropical house"
          ],
          [
           "tropicalia"
          ],
          [
           "trova"
          ],
          [
           "trova mexicana"
          ],
          [
           "truck-driving country"
          ],
          [
           "tuareg guitar"
          ],
          [
           "tucson indie"
          ],
          [
           "tulsa indie"
          ],
          [
           "tuna estudiantil"
          ],
          [
           "tunisian pop"
          ],
          [
           "turbo folk"
          ],
          [
           "turkish classical"
          ],
          [
           "turkish classical performance"
          ],
          [
           "turkish edm"
          ],
          [
           "turkish experimental"
          ],
          [
           "turkish folk"
          ],
          [
           "turkish jazz"
          ],
          [
           "turkish modern jazz"
          ],
          [
           "turkish pop"
          ],
          [
           "turkish psych"
          ],
          [
           "turkish trap"
          ],
          [
           "turkish trap pop"
          ],
          [
           "turntablism"
          ],
          [
           "twee pop"
          ],
          [
           "twoubadou"
          ],
          [
           "tzadik"
          ],
          [
           "ugandan pop"
          ],
          [
           "uilleann pipes"
          ],
          [
           "uk alternative hip hop"
          ],
          [
           "uk alternative pop"
          ],
          [
           "uk americana"
          ],
          [
           "uk contemporary jazz"
          ],
          [
           "uk contemporary r&b"
          ],
          [
           "uk dance"
          ],
          [
           "uk dancehall"
          ],
          [
           "uk diy punk"
          ],
          [
           "uk dnb"
          ],
          [
           "uk doom metal"
          ],
          [
           "uk dub"
          ],
          [
           "uk experimental electronic"
          ],
          [
           "uk funky"
          ],
          [
           "uk garage"
          ],
          [
           "uk hip hop"
          ],
          [
           "uk house"
          ],
          [
           "uk metalcore"
          ],
          [
           "uk noise rock"
          ],
          [
           "uk pop"
          ],
          [
           "uk pop punk"
          ],
          [
           "uk post-hardcore"
          ],
          [
           "uk post-punk"
          ],
          [
           "uk reggae"
          ],
          [
           "uk rockabilly"
          ],
          [
           "uk stoner rock"
          ],
          [
           "uk worship"
          ],
          [
           "uk82"
          ],
          [
           "ukrainian choir"
          ],
          [
           "ukrainian classical"
          ],
          [
           "ukrainian classical piano"
          ],
          [
           "ukrainian electronic"
          ],
          [
           "ukrainian pop"
          ],
          [
           "ukulele"
          ],
          [
           "umbanda"
          ],
          [
           "underground hip hop"
          ],
          [
           "underground power pop"
          ],
          [
           "underground rap"
          ],
          [
           "university choir"
          ],
          [
           "uplifting trance"
          ],
          [
           "uptempo hardcore"
          ],
          [
           "urban contemporary"
          ],
          [
           "urbano espanol"
          ],
          [
           "us power metal"
          ],
          [
           "utah indie"
          ],
          [
           "uzbek pop"
          ],
          [
           "uzbek traditional"
          ],
          [
           "v-pop"
          ],
          [
           "vallenato"
          ],
          [
           "vallenato moderno"
          ],
          [
           "vancouver indie"
          ],
          [
           "vancouver metal"
          ],
          [
           "vancouver punk"
          ],
          [
           "vapor pop"
          ],
          [
           "vapor soul"
          ],
          [
           "vapor trap"
          ],
          [
           "vapor twitch"
          ],
          [
           "vaporwave"
          ],
          [
           "variete francaise"
          ],
          [
           "vaudeville"
          ],
          [
           "vbs"
          ],
          [
           "veena"
          ],
          [
           "vegan straight edge"
          ],
          [
           "vegas indie"
          ],
          [
           "velha guarda"
          ],
          [
           "venezuelan hip hop"
          ],
          [
           "venezuelan indie"
          ],
          [
           "venezuelan rock"
          ],
          [
           "veracruz indie"
          ],
          [
           "vermont indie"
          ],
          [
           "vgm instrumental"
          ],
          [
           "vgm remix"
          ],
          [
           "victoria bc indie"
          ],
          [
           "victorian britain"
          ],
          [
           "video game music"
          ],
          [
           "vienna indie"
          ],
          [
           "vietnamese bolero"
          ],
          [
           "vietnamese pop"
          ],
          [
           "viking black metal"
          ],
          [
           "viking folk"
          ],
          [
           "viking metal"
          ],
          [
           "villancicos"
          ],
          [
           "vintage chanson"
          ],
          [
           "vintage chinese pop"
          ],
          [
           "vintage classical singing"
          ],
          [
           "vintage country folk"
          ],
          [
           "vintage dutch pop"
          ],
          [
           "vintage french electronic"
          ],
          [
           "vintage gospel"
          ],
          [
           "vintage hollywood"
          ],
          [
           "vintage italian pop"
          ],
          [
           "vintage italian soundtrack"
          ],
          [
           "vintage jazz"
          ],
          [
           "vintage old-time"
          ],
          [
           "vintage rockabilly"
          ],
          [
           "vintage schlager"
          ],
          [
           "vintage spanish pop"
          ],
          [
           "vintage swedish pop"
          ],
          [
           "vintage swing"
          ],
          [
           "vintage tango"
          ],
          [
           "viola"
          ],
          [
           "violao"
          ],
          [
           "violao classico"
          ],
          [
           "violin"
          ],
          [
           "viral pop"
          ],
          [
           "viral rap"
          ],
          [
           "viral trap"
          ],
          [
           "virgin islands reggae"
          ],
          [
           "virginia hip hop"
          ],
          [
           "virginia metal"
          ],
          [
           "virginia punk"
          ],
          [
           "visor"
          ],
          [
           "visual kei"
          ],
          [
           "vocal ensemble"
          ],
          [
           "vocal harmony group"
          ],
          [
           "vocal house"
          ],
          [
           "vocal jazz"
          ],
          [
           "vocal trance"
          ],
          [
           "vocaloid"
          ],
          [
           "vogue"
          ],
          [
           "volksmusik"
          ],
          [
           "warm drone"
          ],
          [
           "washboard"
          ],
          [
           "washington indie"
          ],
          [
           "wassoulou"
          ],
          [
           "water"
          ],
          [
           "wave"
          ],
          [
           "welsh folk"
          ],
          [
           "welsh indie"
          ],
          [
           "welsh metal"
          ],
          [
           "welsh rock"
          ],
          [
           "west african jazz"
          ],
          [
           "west australian hip hop"
          ],
          [
           "west coast rap"
          ],
          [
           "west coast reggae"
          ],
          [
           "west coast trap"
          ],
          [
           "west end"
          ],
          [
           "west virginia indie"
          ],
          [
           "western americana"
          ],
          [
           "western mass indie"
          ],
          [
           "western saharan folk"
          ],
          [
           "western swing"
          ],
          [
           "white noise"
          ],
          [
           "wind ensemble"
          ],
          [
           "wind quintet"
          ],
          [
           "wisconsin indie"
          ],
          [
           "witch house"
          ],
          [
           "women's choir"
          ],
          [
           "women's music"
          ],
          [
           "wonky"
          ],
          [
           "worcester ma indie"
          ],
          [
           "world"
          ],
          [
           "world fusion"
          ],
          [
           "world meditation"
          ],
          [
           "world worship"
          ],
          [
           "worship"
          ],
          [
           "wrestling"
          ],
          [
           "wu fam"
          ],
          [
           "wyoming indie"
          ],
          [
           "wyoming roots"
          ],
          [
           "xhosa"
          ],
          [
           "xtra raw"
          ],
          [
           "yacht rock"
          ],
          [
           "ye ye"
          ],
          [
           "yiddish folk"
          ],
          [
           "yodeling"
          ],
          [
           "yoga"
          ],
          [
           "yoik"
          ],
          [
           "york indie"
          ],
          [
           "yorkshire folk"
          ],
          [
           "yugoslav new wave"
          ],
          [
           "yugoslav rock"
          ],
          [
           "zambian pop"
          ],
          [
           "zeuhl"
          ],
          [
           "zhongguo feng"
          ],
          [
           "zimdancehall"
          ],
          [
           "zolo"
          ],
          [
           "zouglou"
          ],
          [
           "zouk"
          ],
          [
           "zurich indie"
          ],
          [
           "zydeco"
          ]
         ],
         "hovertemplate": "x=%{x}<br>y=%{y}<br>generos=%{customdata[0]}<br>cluster_pca=%{marker.color}<extra></extra>",
         "legendgroup": "",
         "marker": {
          "color": [
           2,
           2,
           0,
           3,
           3,
           1,
           1,
           0,
           3,
           3,
           4,
           1,
           4,
           2,
           3,
           1,
           0,
           1,
           4,
           1,
           3,
           3,
           0,
           3,
           1,
           0,
           0,
           2,
           0,
           0,
           0,
           0,
           0,
           1,
           1,
           4,
           1,
           0,
           4,
           1,
           4,
           0,
           0,
           0,
           1,
           0,
           0,
           1,
           0,
           4,
           0,
           1,
           1,
           4,
           4,
           0,
           4,
           4,
           0,
           0,
           4,
           1,
           0,
           2,
           4,
           1,
           4,
           1,
           0,
           2,
           0,
           1,
           2,
           2,
           2,
           2,
           2,
           3,
           4,
           2,
           1,
           2,
           1,
           2,
           2,
           1,
           3,
           4,
           2,
           0,
           4,
           4,
           4,
           1,
           1,
           4,
           4,
           1,
           3,
           0,
           3,
           2,
           1,
           1,
           1,
           1,
           2,
           1,
           0,
           4,
           0,
           1,
           0,
           0,
           0,
           0,
           0,
           4,
           3,
           4,
           1,
           2,
           1,
           0,
           1,
           2,
           0,
           1,
           0,
           2,
           1,
           0,
           0,
           0,
           4,
           0,
           2,
           4,
           0,
           4,
           0,
           4,
           4,
           3,
           4,
           0,
           1,
           0,
           1,
           0,
           2,
           0,
           2,
           2,
           2,
           0,
           4,
           4,
           0,
           0,
           4,
           4,
           1,
           4,
           0,
           4,
           4,
           0,
           0,
           1,
           4,
           1,
           1,
           0,
           0,
           4,
           0,
           0,
           0,
           2,
           2,
           2,
           1,
           2,
           0,
           3,
           4,
           2,
           2,
           4,
           0,
           3,
           0,
           0,
           0,
           0,
           2,
           2,
           3,
           1,
           3,
           0,
           3,
           3,
           3,
           4,
           1,
           2,
           2,
           3,
           2,
           0,
           4,
           0,
           0,
           0,
           3,
           3,
           3,
           3,
           3,
           2,
           0,
           3,
           3,
           3,
           2,
           2,
           2,
           2,
           1,
           2,
           2,
           3,
           0,
           1,
           4,
           0,
           0,
           4,
           0,
           0,
           0,
           0,
           4,
           0,
           0,
           3,
           1,
           3,
           0,
           0,
           3,
           1,
           0,
           4,
           4,
           4,
           2,
           2,
           4,
           4,
           0,
           1,
           4,
           3,
           4,
           0,
           1,
           1,
           1,
           1,
           3,
           0,
           0,
           1,
           2,
           3,
           0,
           2,
           3,
           4,
           4,
           2,
           2,
           0,
           0,
           4,
           4,
           4,
           0,
           4,
           4,
           4,
           4,
           1,
           4,
           3,
           3,
           3,
           3,
           4,
           4,
           1,
           4,
           3,
           3,
           0,
           0,
           3,
           0,
           0,
           3,
           3,
           3,
           0,
           0,
           0,
           4,
           4,
           0,
           0,
           4,
           3,
           1,
           0,
           0,
           2,
           2,
           1,
           1,
           2,
           2,
           0,
           2,
           2,
           2,
           0,
           4,
           0,
           3,
           3,
           4,
           3,
           3,
           0,
           0,
           0,
           4,
           0,
           4,
           4,
           0,
           3,
           2,
           1,
           3,
           4,
           1,
           4,
           0,
           4,
           4,
           1,
           0,
           2,
           2,
           0,
           2,
           3,
           4,
           1,
           3,
           4,
           4,
           1,
           0,
           1,
           2,
           2,
           1,
           4,
           1,
           0,
           2,
           4,
           3,
           1,
           0,
           0,
           0,
           4,
           4,
           0,
           4,
           1,
           0,
           0,
           0,
           0,
           4,
           2,
           3,
           3,
           1,
           1,
           3,
           0,
           0,
           0,
           2,
           3,
           0,
           2,
           1,
           0,
           3,
           0,
           4,
           0,
           3,
           2,
           2,
           2,
           3,
           0,
           1,
           1,
           4,
           0,
           2,
           3,
           4,
           0,
           4,
           1,
           3,
           1,
           0,
           0,
           4,
           4,
           1,
           0,
           4,
           4,
           2,
           1,
           4,
           4,
           0,
           1,
           2,
           1,
           4,
           0,
           3,
           1,
           3,
           1,
           1,
           3,
           3,
           4,
           3,
           3,
           0,
           3,
           3,
           3,
           0,
           2,
           2,
           2,
           4,
           4,
           2,
           3,
           2,
           4,
           0,
           0,
           3,
           2,
           3,
           2,
           2,
           1,
           2,
           1,
           1,
           4,
           0,
           1,
           3,
           0,
           4,
           3,
           0,
           0,
           4,
           3,
           3,
           0,
           4,
           0,
           4,
           4,
           4,
           0,
           3,
           4,
           0,
           0,
           0,
           3,
           3,
           0,
           3,
           0,
           1,
           1,
           0,
           4,
           2,
           3,
           1,
           3,
           0,
           3,
           4,
           1,
           3,
           2,
           2,
           2,
           4,
           1,
           0,
           1,
           4,
           2,
           3,
           1,
           2,
           2,
           1,
           0,
           2,
           3,
           1,
           3,
           1,
           4,
           0,
           4,
           0,
           0,
           1,
           4,
           4,
           1,
           4,
           4,
           0,
           2,
           4,
           0,
           1,
           2,
           1,
           0,
           0,
           0,
           4,
           4,
           1,
           0,
           3,
           3,
           0,
           0,
           3,
           0,
           1,
           3,
           3,
           3,
           3,
           4,
           3,
           0,
           0,
           0,
           0,
           3,
           4,
           1,
           4,
           3,
           1,
           3,
           3,
           4,
           3,
           3,
           3,
           1,
           0,
           1,
           3,
           1,
           0,
           3,
           1,
           1,
           0,
           1,
           3,
           4,
           3,
           0,
           2,
           0,
           0,
           0,
           3,
           0,
           0,
           2,
           1,
           2,
           2,
           2,
           2,
           2,
           2,
           2,
           2,
           2,
           2,
           2,
           3,
           2,
           2,
           2,
           2,
           2,
           2,
           2,
           1,
           2,
           2,
           2,
           3,
           3,
           0,
           4,
           0,
           0,
           0,
           0,
           0,
           0,
           0,
           0,
           0,
           3,
           0,
           4,
           3,
           4,
           2,
           0,
           2,
           4,
           4,
           0,
           2,
           2,
           2,
           0,
           3,
           1,
           2,
           3,
           3,
           2,
           3,
           3,
           3,
           4,
           0,
           0,
           0,
           4,
           3,
           1,
           0,
           3,
           3,
           0,
           3,
           0,
           0,
           0,
           1,
           3,
           3,
           0,
           0,
           1,
           0,
           0,
           4,
           0,
           4,
           0,
           0,
           0,
           3,
           0,
           0,
           0,
           0,
           0,
           0,
           0,
           0,
           0,
           3,
           0,
           3,
           0,
           0,
           0,
           0,
           4,
           4,
           3,
           2,
           2,
           3,
           4,
           3,
           4,
           0,
           0,
           0,
           4,
           0,
           4,
           4,
           2,
           4,
           2,
           0,
           2,
           4,
           0,
           1,
           4,
           0,
           4,
           4,
           3,
           0,
           3,
           0,
           0,
           1,
           0,
           4,
           2,
           1,
           4,
           1,
           0,
           1,
           4,
           4,
           4,
           1,
           4,
           4,
           4,
           0,
           4,
           4,
           4,
           4,
           0,
           3,
           4,
           4,
           1,
           0,
           3,
           0,
           4,
           3,
           0,
           0,
           4,
           0,
           0,
           0,
           3,
           0,
           4,
           0,
           0,
           4,
           0,
           0,
           2,
           3,
           4,
           3,
           3,
           4,
           1,
           3,
           1,
           0,
           0,
           2,
           4,
           1,
           4,
           0,
           4,
           0,
           0,
           1,
           0,
           1,
           2,
           3,
           0,
           1,
           0,
           1,
           1,
           0,
           0,
           4,
           3,
           0,
           0,
           0,
           0,
           1,
           0,
           1,
           0,
           0,
           4,
           0,
           1,
           1,
           0,
           1,
           3,
           1,
           0,
           3,
           4,
           2,
           0,
           0,
           0,
           0,
           3,
           0,
           3,
           4,
           4,
           0,
           0,
           0,
           3,
           4,
           4,
           1,
           3,
           1,
           4,
           4,
           4,
           2,
           0,
           1,
           2,
           2,
           1,
           4,
           0,
           4,
           0,
           2,
           4,
           1,
           2,
           0,
           3,
           3,
           4,
           0,
           1,
           4,
           3,
           2,
           4,
           4,
           4,
           3,
           0,
           4,
           3,
           2,
           4,
           0,
           4,
           0,
           3,
           4,
           1,
           3,
           3,
           2,
           2,
           2,
           2,
           3,
           2,
           0,
           4,
           0,
           0,
           1,
           3,
           0,
           1,
           4,
           2,
           1,
           0,
           4,
           0,
           0,
           3,
           4,
           4,
           3,
           1,
           0,
           4,
           1,
           0,
           0,
           4,
           1,
           4,
           0,
           4,
           4,
           4,
           1,
           0,
           0,
           0,
           4,
           4,
           4,
           0,
           4,
           2,
           4,
           2,
           1,
           3,
           2,
           4,
           1,
           3,
           0,
           2,
           4,
           3,
           0,
           1,
           1,
           1,
           2,
           3,
           1,
           0,
           4,
           4,
           0,
           0,
           0,
           0,
           3,
           1,
           2,
           2,
           0,
           0,
           2,
           1,
           0,
           1,
           1,
           1,
           1,
           3,
           3,
           1,
           3,
           4,
           0,
           3,
           0,
           4,
           1,
           2,
           4,
           2,
           2,
           4,
           4,
           4,
           4,
           4,
           4,
           0,
           3,
           1,
           2,
           0,
           1,
           4,
           0,
           1,
           1,
           2,
           0,
           1,
           0,
           0,
           3,
           3,
           3,
           3,
           1,
           3,
           4,
           0,
           1,
           3,
           1,
           3,
           0,
           3,
           3,
           0,
           0,
           0,
           3,
           1,
           0,
           0,
           0,
           4,
           2,
           0,
           1,
           0,
           1,
           2,
           2,
           0,
           2,
           2,
           3,
           4,
           4,
           0,
           1,
           1,
           4,
           3,
           4,
           3,
           2,
           2,
           1,
           0,
           4,
           0,
           0,
           2,
           4,
           3,
           0,
           4,
           4,
           4,
           0,
           4,
           0,
           3,
           0,
           0,
           4,
           4,
           3,
           0,
           0,
           0,
           0,
           1,
           4,
           0,
           1,
           0,
           4,
           0,
           0,
           4,
           1,
           4,
           4,
           0,
           3,
           2,
           4,
           4,
           0,
           0,
           4,
           1,
           4,
           1,
           4,
           0,
           4,
           1,
           1,
           0,
           1,
           4,
           2,
           2,
           2,
           1,
           0,
           4,
           4,
           0,
           0,
           2,
           3,
           4,
           4,
           2,
           2,
           0,
           0,
           0,
           4,
           0,
           2,
           4,
           2,
           2,
           2,
           4,
           4,
           4,
           0,
           0,
           3,
           3,
           4,
           0,
           4,
           4,
           1,
           0,
           1,
           4,
           1,
           0,
           0,
           4,
           1,
           3,
           3,
           3,
           1,
           0,
           3,
           0,
           4,
           1,
           4,
           0,
           0,
           4,
           4,
           1,
           4,
           4,
           0,
           0,
           4,
           3,
           2,
           3,
           3,
           4,
           2,
           3,
           3,
           2,
           0,
           1,
           1,
           4,
           0,
           4,
           4,
           0,
           0,
           0,
           0,
           4,
           4,
           3,
           1,
           3,
           2,
           3,
           3,
           3,
           2,
           4,
           3,
           3,
           0,
           3,
           0,
           0,
           0,
           2,
           1,
           4,
           2,
           4,
           4,
           3,
           1,
           4,
           0,
           4,
           0,
           4,
           4,
           4,
           0,
           3,
           3,
           3,
           2,
           2,
           2,
           2,
           3,
           0,
           0,
           2,
           0,
           0,
           0,
           1,
           0,
           2,
           2,
           3,
           0,
           0,
           0,
           0,
           0,
           2,
           2,
           2,
           2,
           2,
           2,
           2,
           3,
           1,
           1,
           0,
           3,
           3,
           3,
           3,
           0,
           4,
           1,
           0,
           4,
           0,
           0,
           0,
           3,
           0,
           2,
           2,
           2,
           2,
           1,
           3,
           3,
           3,
           1,
           1,
           0,
           0,
           2,
           1,
           2,
           1,
           3,
           1,
           1,
           1,
           1,
           1,
           4,
           3,
           3,
           2,
           3,
           0,
           0,
           2,
           0,
           3,
           3,
           0,
           1,
           1,
           3,
           1,
           1,
           0,
           1,
           1,
           1,
           0,
           1,
           1,
           0,
           0,
           1,
           4,
           1,
           0,
           1,
           4,
           0,
           4,
           1,
           0,
           4,
           3,
           1,
           4,
           0,
           4,
           1,
           0,
           2,
           1,
           3,
           0,
           4,
           4,
           1,
           3,
           3,
           1,
           0,
           4,
           1,
           4,
           4,
           1,
           4,
           0,
           1,
           0,
           0,
           3,
           3,
           2,
           1,
           1,
           3,
           3,
           0,
           2,
           4,
           1,
           3,
           1,
           3,
           0,
           3,
           3,
           2,
           2,
           2,
           0,
           4,
           0,
           3,
           3,
           0,
           1,
           2,
           2,
           2,
           2,
           4,
           2,
           2,
           1,
           0,
           4,
           4,
           0,
           2,
           1,
           2,
           4,
           2,
           4,
           2,
           2,
           3,
           4,
           1,
           1,
           2,
           2,
           2,
           2,
           1,
           3,
           3,
           0,
           0,
           4,
           2,
           1,
           4,
           0,
           4,
           4,
           4,
           0,
           4,
           4,
           0,
           4,
           4,
           1,
           1,
           0,
           0,
           4,
           3,
           0,
           2,
           2,
           2,
           2,
           1,
           2,
           0,
           4,
           1,
           0,
           0,
           4,
           4,
           2,
           3,
           4,
           1,
           3,
           1,
           4,
           4,
           1,
           4,
           4,
           4,
           4,
           1,
           4,
           4,
           0,
           0,
           4,
           1,
           2,
           1,
           1,
           0,
           3,
           3,
           3,
           0,
           3,
           3,
           3,
           3,
           3,
           2,
           3,
           3,
           1,
           1,
           3,
           3,
           4,
           2,
           3,
           1,
           3,
           3,
           3,
           0,
           1,
           3,
           2,
           3,
           3,
           3,
           3,
           3,
           3,
           1,
           2,
           0,
           1,
           0,
           0,
           1,
           3,
           0,
           3,
           4,
           0,
           0,
           0,
           0,
           0,
           3,
           3,
           0,
           3,
           0,
           3,
           4,
           4,
           1,
           1,
           1,
           0,
           1,
           0,
           3,
           0,
           0,
           3,
           1,
           0,
           0,
           3,
           0,
           2,
           1,
           1,
           3,
           3,
           0,
           2,
           2,
           2,
           3,
           3,
           2,
           2,
           4,
           0,
           0,
           0,
           0,
           2,
           2,
           3,
           0,
           4,
           2,
           0,
           3,
           1,
           1,
           2,
           0,
           0,
           0,
           2,
           0,
           1,
           3,
           0,
           0,
           0,
           0,
           4,
           0,
           0,
           0,
           3,
           0,
           0,
           0,
           1,
           0,
           0,
           0,
           0,
           3,
           2,
           1,
           3,
           4,
           0,
           0,
           3,
           1,
           2,
           1,
           4,
           1,
           1,
           4,
           3,
           0,
           1,
           3,
           0,
           3,
           1,
           1,
           3,
           1,
           1,
           0,
           3,
           4,
           4,
           1,
           3,
           1,
           0,
           2,
           1,
           3,
           1,
           4,
           2,
           3,
           0,
           1,
           1,
           0,
           1,
           4,
           1,
           2,
           4,
           3,
           0,
           4,
           1,
           1,
           1,
           0,
           3,
           1,
           3,
           0,
           3,
           3,
           3,
           0,
           0,
           1,
           0,
           1,
           4,
           1,
           2,
           1,
           4,
           2,
           1,
           0,
           0,
           4,
           1,
           4,
           4,
           4,
           4,
           4,
           4,
           4,
           4,
           4,
           0,
           4,
           0,
           1,
           3,
           0,
           4,
           3,
           3,
           0,
           0,
           0,
           1,
           4,
           4,
           4,
           4,
           4,
           0,
           2,
           0,
           4,
           0,
           4,
           0,
           3,
           0,
           0,
           0,
           0,
           0,
           4,
           0,
           1,
           2,
           2,
           1,
           1,
           1,
           4,
           3,
           0,
           1,
           2,
           1,
           1,
           0,
           1,
           4,
           2,
           0,
           4,
           4,
           0,
           0,
           0,
           1,
           2,
           4,
           0,
           4,
           1,
           1,
           4,
           0,
           0,
           4,
           0,
           1,
           0,
           0,
           2,
           2,
           0,
           2,
           4,
           0,
           0,
           4,
           0,
           0,
           0,
           2,
           4,
           4,
           2,
           0,
           3,
           3,
           3,
           1,
           0,
           2,
           4,
           3,
           3,
           0,
           3,
           3,
           1,
           3,
           3,
           0,
           0,
           1,
           0,
           2,
           4,
           0,
           0,
           1,
           0,
           1,
           2,
           3,
           0,
           3,
           3,
           0,
           3,
           3,
           0,
           3,
           3,
           3,
           0,
           1,
           0,
           0,
           3,
           3,
           3,
           0,
           1,
           3,
           4,
           4,
           0,
           2,
           1,
           3,
           3,
           4,
           4,
           0,
           1,
           0,
           4,
           1,
           3,
           2,
           0,
           2,
           0,
           2,
           3,
           4,
           0,
           4,
           3,
           1,
           0,
           0,
           2,
           1,
           3,
           1,
           4,
           0,
           1,
           4,
           4,
           1,
           1,
           1,
           2,
           1,
           0,
           0,
           3,
           3,
           1,
           4,
           4,
           0,
           4,
           2,
           2,
           1,
           0,
           0,
           3,
           4,
           0,
           2,
           0,
           4,
           1,
           4,
           0,
           3,
           3,
           0,
           0,
           3,
           0,
           4,
           0,
           1,
           0,
           4,
           0,
           1,
           4,
           0,
           2,
           4,
           4,
           0,
           0,
           4,
           4,
           1,
           4,
           3,
           0,
           1,
           4,
           4,
           4,
           2,
           2,
           1,
           0,
           2,
           1,
           2,
           3,
           4,
           0,
           0,
           4,
           0,
           1,
           4,
           1,
           4,
           4,
           4,
           0,
           4,
           2,
           2,
           2,
           4,
           2,
           0,
           0,
           2,
           4,
           4,
           4,
           4,
           4,
           1,
           1,
           1,
           0,
           1,
           3,
           0,
           0,
           2,
           0,
           4,
           1,
           4,
           4,
           0,
           4,
           3,
           3,
           3,
           0,
           1,
           3,
           0,
           3,
           3,
           4,
           4,
           0,
           0,
           0,
           4,
           2,
           1,
           4,
           1,
           0,
           4,
           4,
           1,
           0,
           0,
           4,
           0,
           2,
           0,
           1,
           4,
           0,
           1,
           0,
           3,
           0,
           0,
           0,
           4,
           0,
           1,
           3,
           2,
           1,
           4,
           0,
           0,
           2,
           2,
           4,
           2,
           2,
           1,
           1,
           2,
           2,
           4,
           2,
           4,
           1,
           4,
           2,
           2,
           3,
           3,
           2,
           0,
           4,
           0,
           0,
           0,
           3,
           0,
           0,
           3,
           2,
           2,
           4,
           0,
           4,
           0,
           0,
           4,
           3,
           0,
           3,
           1,
           1,
           0,
           0,
           2,
           1,
           0,
           0,
           0,
           3,
           1,
           0,
           3,
           3,
           4,
           0,
           0,
           3,
           4,
           0,
           0,
           0,
           0,
           0,
           3,
           2,
           1,
           1,
           2,
           3,
           0,
           4,
           4,
           1,
           3,
           1,
           1,
           1,
           0,
           0,
           0,
           0,
           0,
           4,
           4,
           3,
           2,
           0,
           2,
           2,
           2,
           2,
           2,
           3,
           4,
           3,
           0,
           0,
           3,
           0,
           0,
           2,
           0,
           0,
           0,
           1,
           0,
           4,
           0,
           4,
           0,
           1,
           0,
           0,
           1,
           0,
           4,
           1,
           0,
           0,
           0,
           0,
           4,
           1,
           0,
           0,
           1,
           0,
           0,
           2,
           4,
           3,
           0,
           1,
           1,
           4,
           1,
           2,
           0,
           0,
           4,
           4,
           4,
           1,
           2,
           4,
           1,
           1,
           2,
           2,
           4,
           0,
           4,
           0,
           4,
           4,
           1,
           2,
           0,
           1,
           1,
           1,
           4,
           4,
           4,
           4,
           4,
           4,
           4,
           4,
           4,
           4,
           1,
           4,
           4,
           1,
           4,
           3,
           4,
           0,
           3,
           1,
           4,
           1,
           4,
           3,
           1,
           0,
           1,
           4,
           1,
           1,
           4,
           4,
           4,
           0,
           3,
           1,
           0,
           3,
           0,
           0,
           4,
           4,
           4,
           0,
           4,
           0,
           0,
           1,
           2,
           2,
           4,
           1,
           0,
           0,
           0,
           0,
           3,
           0,
           0,
           3,
           2,
           3,
           1,
           3,
           0,
           0,
           0,
           0,
           1,
           0,
           0,
           0,
           4,
           0,
           2,
           4,
           0,
           1,
           4,
           4,
           3,
           1,
           0,
           3,
           3,
           0,
           0,
           0,
           0,
           0,
           0,
           0,
           0,
           4,
           0,
           0,
           0,
           3,
           2,
           0,
           4,
           0,
           1,
           0,
           3,
           0,
           1,
           4,
           0,
           4,
           0,
           4,
           0,
           0,
           0,
           0,
           1,
           4,
           4,
           1,
           0,
           4,
           4,
           0,
           1,
           1,
           0,
           3,
           1,
           0,
           4,
           0,
           0,
           0,
           3,
           2,
           0,
           2,
           0,
           3,
           3,
           1,
           0,
           1,
           1,
           3,
           1,
           1,
           1,
           4,
           4,
           3,
           2,
           2,
           4,
           4,
           3,
           3,
           3,
           4,
           4,
           2,
           2,
           0,
           4,
           3,
           1,
           2,
           1,
           4,
           0,
           2,
           3,
           0,
           4,
           0,
           0,
           0,
           0,
           0,
           0,
           0,
           0,
           0,
           0,
           3,
           3,
           0,
           0,
           3,
           0,
           0,
           4,
           0,
           1,
           3,
           2,
           3,
           0,
           0,
           0,
           1,
           2,
           0,
           2,
           1,
           0,
           1,
           3,
           0,
           0,
           0,
           0,
           0,
           0,
           4,
           0,
           1,
           0,
           0,
           3,
           2,
           0,
           3,
           3,
           0,
           1,
           0,
           0,
           3,
           2,
           2,
           3,
           4,
           1,
           4,
           1,
           1,
           1,
           1,
           4,
           2,
           0,
           1,
           1,
           4,
           1,
           2,
           2,
           0,
           0,
           0,
           0,
           0,
           0,
           0,
           4,
           3,
           3,
           4,
           3,
           4,
           4,
           4,
           4,
           1,
           4,
           2,
           1,
           0,
           4,
           0,
           1,
           4,
           1,
           1,
           1,
           0,
           0,
           4,
           0,
           3,
           1,
           0,
           3,
           3,
           0,
           0,
           0,
           3,
           0,
           3,
           0,
           3,
           3,
           2,
           2,
           2,
           0,
           2,
           0,
           3,
           0,
           0,
           0,
           3,
           0,
           0,
           4,
           0,
           1,
           4,
           4,
           1,
           0,
           1,
           0,
           4,
           0,
           0,
           0,
           0,
           4,
           2,
           3,
           2,
           1,
           2,
           2,
           2,
           4,
           0,
           1,
           0,
           4,
           1,
           0,
           1,
           0,
           0,
           2,
           0,
           0,
           1,
           0,
           4,
           3,
           0,
           1,
           3,
           1,
           3,
           0,
           0,
           3,
           3,
           0,
           3,
           1,
           3,
           0,
           4,
           4,
           4,
           2,
           0,
           4,
           2,
           3,
           3,
           2,
           2,
           2,
           0,
           1,
           1,
           3,
           3,
           1,
           1,
           1,
           4,
           4,
           0,
           0,
           0,
           4,
           4,
           1,
           4,
           2,
           0,
           0,
           4,
           4,
           1,
           4,
           4,
           4,
           4,
           4,
           1,
           1,
           4,
           1,
           4,
           4,
           2,
           3,
           1,
           4,
           4,
           0,
           4,
           4,
           4,
           4,
           0,
           1,
           1,
           1,
           1,
           1,
           4,
           0,
           3,
           3,
           0,
           4,
           2,
           2,
           4,
           0,
           1,
           2,
           3,
           4,
           4,
           1,
           0,
           0,
           4,
           3,
           3,
           0,
           1,
           3,
           2,
           3,
           1,
           1,
           1,
           3,
           0,
           0,
           0,
           0,
           3,
           3,
           3,
           4,
           3,
           3,
           1,
           1,
           4,
           1,
           4,
           4,
           4,
           1,
           1,
           0,
           0,
           0,
           0,
           0,
           4,
           0,
           0,
           0,
           0,
           0,
           0,
           0,
           0,
           1,
           3,
           0,
           4,
           3,
           2,
           4,
           4,
           0,
           3,
           0,
           1,
           3,
           2,
           3,
           1,
           0,
           3,
           3,
           3,
           1,
           3,
           3,
           1,
           0,
           0,
           0,
           4,
           4,
           4,
           0,
           0,
           0,
           4,
           1,
           0,
           0,
           0,
           0,
           0,
           0,
           4,
           4,
           4,
           0,
           3,
           3,
           1,
           0,
           0,
           0,
           0,
           3,
           3,
           3,
           1,
           0,
           0,
           0,
           0,
           0,
           3,
           2,
           4,
           4,
           3,
           3,
           3,
           1,
           3,
           4,
           1,
           0,
           1,
           3,
           2,
           1,
           3,
           0,
           0,
           1,
           1,
           0,
           0,
           0,
           4,
           4,
           4,
           0,
           1,
           0,
           0,
           0,
           0,
           4,
           0,
           0,
           0,
           4,
           1,
           0,
           4,
           4,
           1,
           4,
           2,
           2,
           2,
           1,
           0,
           3,
           3,
           0,
           0,
           0,
           2,
           4,
           4,
           0,
           0,
           4,
           1,
           3,
           3,
           0,
           0,
           0,
           1,
           4,
           4,
           1,
           1,
           0,
           1,
           4,
           1,
           3,
           0,
           3,
           4,
           4,
           3,
           0,
           0,
           0,
           0,
           1,
           2,
           4,
           0,
           2,
           1,
           1,
           0,
           0,
           4,
           1,
           4,
           3,
           3,
           3,
           2,
           3,
           3,
           1,
           3,
           3,
           3,
           2,
           3,
           3,
           0,
           3,
           3,
           3,
           3,
           3,
           2,
           3,
           3,
           2,
           0,
           0,
           0,
           0,
           0,
           4,
           4,
           3,
           4,
           2,
           3,
           0,
           3,
           4,
           4,
           0,
           3,
           2,
           3,
           0,
           3,
           2,
           0,
           2,
           4,
           4,
           4,
           1,
           0,
           0,
           0,
           0,
           3,
           0,
           1,
           0,
           1,
           3,
           2,
           2,
           2,
           1,
           1,
           4,
           1,
           1,
           0,
           1,
           1,
           2,
           1,
           1,
           4,
           0,
           4,
           1,
           3,
           4,
           0,
           3,
           2,
           3,
           2,
           2,
           3,
           1,
           0,
           0,
           0,
           4,
           0,
           0,
           1,
           0,
           0,
           3,
           0
          ],
          "coloraxis": "coloraxis",
          "symbol": "circle"
         },
         "mode": "markers",
         "name": "",
         "showlegend": false,
         "type": "scattergl",
         "x": [
          5.910268108221792,
          2.7870931528085925,
          -0.7575375383744662,
          1.0205214866168164,
          0.753910514279143,
          1.7971062652419432,
          -0.4620496054489372,
          -1.3116722595637273,
          0.5984179553898566,
          0.5982012013950393,
          -1.1656525385277157,
          -0.07118124655695991,
          -2.1717115858284037,
          3.6732966630297743,
          0.8327855889826041,
          0.0014059392111356588,
          -0.927305742007776,
          0.6796203745139371,
          -1.4878005371777205,
          -0.25016976307256494,
          0.9541894103960771,
          0.8894938464845359,
          -0.9349244756981567,
          2.435242216702912,
          -0.5794096848078708,
          -1.6872704870086688,
          -1.06652907590303,
          3.7433087585819362,
          -2.1543016574456963,
          -1.0808503055522525,
          -0.9549632645218934,
          -3.235872651592804,
          -1.711975534173558,
          -0.43365637370202026,
          -0.6062336832001026,
          -0.9441629326199643,
          -0.21897352791236963,
          -1.5617667209055168,
          -1.345834888047715,
          -0.6937048482628619,
          -1.6190405446647025,
          -1.5333276858350358,
          -1.6988335792571165,
          -1.8093965083506103,
          1.001862140555473,
          -1.550555791953907,
          -2.616201799535105,
          -0.7218561265706738,
          -0.9358284356998539,
          -2.321719004377392,
          -2.1698597717064225,
          -0.11704076484140119,
          -0.17798254163413785,
          -1.377097862788499,
          -1.2775706484489127,
          -1.6689082229336611,
          -1.4330066722916905,
          -0.8812940272849353,
          -1.933727851085026,
          -0.9919561769523918,
          -0.8554408012501146,
          -0.4500486285925352,
          -1.0642892702634443,
          3.462606271585078,
          0.6998427652454077,
          1.0246979229312403,
          -0.8535513919608633,
          0.6504792609298522,
          -0.4774877693274721,
          3.6547368585169058,
          -0.5680284493815141,
          1.227568557882676,
          6.308184544302047,
          3.3947572178066783,
          4.909954292792236,
          4.521497311111672,
          3.4368402266794473,
          1.706511121266309,
          -1.9949213104070949,
          2.8835226719022273,
          -0.049240415763694464,
          4.251881907817705,
          1.5205339090003145,
          2.7578274763525528,
          3.818868841818888,
          0.5222233385124356,
          0.6640664570007115,
          -1.8377265384972323,
          4.3073699327256145,
          -0.9793272008623094,
          -1.753254673290717,
          -2.2551791905614698,
          -2.290441566421832,
          -0.28007894163165464,
          0.2229118534726933,
          -1.5101821955287547,
          -0.6192845089796346,
          -0.07420986987072395,
          1.6728243374303757,
          -1.9433530146570501,
          1.0149766128732867,
          2.7195576686454253,
          0.9057166961074977,
          -0.2183730069180107,
          -0.2625665565621547,
          0.844908045381964,
          2.8327794759317704,
          1.461495770999629,
          -1.5842602988284018,
          -1.8856176787118504,
          -2.393866425909586,
          -0.008422928392726011,
          -3.0786420856227745,
          -1.6438199733026309,
          -2.0393729844155724,
          -0.9968674357840719,
          -1.9809887425444175,
          -1.9736099706764765,
          -0.2142603008217092,
          -2.320158888094008,
          0.6288114935083479,
          5.262718544641118,
          -0.12166536408823808,
          -1.012105475461397,
          0.035260963005684785,
          3.4926105143427923,
          -1.2753710449014188,
          0.32826468813668275,
          -1.6951789119860827,
          3.7286177933129565,
          -0.6107015592017129,
          -1.9032893260849415,
          -1.8874273931826757,
          -1.4787588103471287,
          -1.6879273436441142,
          -2.160665941591211,
          4.658088207506919,
          0.6998427652454077,
          -1.8094474553131525,
          0.6443884999442743,
          -2.8182814169138877,
          0.6443884999442743,
          -1.4716926838801563,
          1.8781753016297535,
          -1.1338434847768153,
          -0.7702516670886767,
          -0.5221138504004776,
          -0.9270989547196358,
          0.593137893482181,
          -1.3843251626688349,
          5.271177784407823,
          -0.9642170705834134,
          3.754319584280469,
          2.9926527080734315,
          4.167831601809077,
          -0.3896280793317457,
          -1.6424751435576148,
          -1.1675433931298083,
          -1.7381524969306463,
          -1.9383384408051363,
          -1.6757529454902524,
          -1.1873372651487166,
          -0.3541927469754767,
          -1.9748930162104505,
          -1.4332166640427937,
          -1.8599621279939225,
          -1.6285081252103328,
          -1.261627542204429,
          -1.2397362810749406,
          0.1886828812437269,
          -1.2018029791688303,
          0.07754390698956999,
          -0.4360699705802088,
          -1.2727953385235418,
          -1.02740903974863,
          -1.861782165770577,
          -0.8788683358223206,
          -2.622199874478133,
          -1.6576596345415082,
          4.075563099476098,
          4.894322340584224,
          4.158854712674681,
          0.3441558565252693,
          3.2529655317034636,
          -2.014666324606976,
          0.19335161691421704,
          0.5398747178532807,
          4.407656001383201,
          2.359553565217617,
          -1.0134812826832038,
          -1.4775598253498061,
          1.751655098733295,
          -1.9813204401207756,
          -1.5921148477738634,
          -1.8603543986322117,
          -1.6438683942628747,
          4.743511527342341,
          2.1646111991229064,
          1.9271058748133278,
          0.24867553257171207,
          0.2640495888153445,
          -3.10621457764464,
          1.0069292318079601,
          0.7363487998666436,
          0.013770393933029788,
          -0.9862592055897749,
          -0.01075892524400578,
          5.381249937095062,
          3.031134078256739,
          2.1219579799750288,
          5.37682505488502,
          -1.871534493819718,
          -0.8257044500186869,
          -1.8050999520940791,
          -1.5965747063171414,
          -1.3903620518490436,
          2.3817849882339277,
          0.3267105421940247,
          1.1855448365432077,
          2.2307952333073517,
          0.18273407852012655,
          4.8198133861135934,
          -1.8931190472758415,
          1.0877277036361297,
          1.2390028548321226,
          2.394036667746408,
          2.576594196723723,
          3.758125064467638,
          3.603387921723093,
          3.0892966317647024,
          -0.29784148837110086,
          4.1384570456582574,
          2.6839649557379306,
          0.9951124914788217,
          -1.6409269228190304,
          -0.1073365315936832,
          -1.7242942774158059,
          -2.2972037194660824,
          -2.1511737708624032,
          -1.5759181415763417,
          -1.3487051914956145,
          -2.0265484820804587,
          -2.1206904747689905,
          -1.9307654535976824,
          -0.9234066530601985,
          -1.2516471860681766,
          -1.9113516620063324,
          0.7812550919890991,
          -0.5237497338668541,
          1.5258122967139607,
          -1.481522903777517,
          -0.8608015003990191,
          2.0664450888696657,
          -0.391811002735538,
          -0.8627420859305032,
          -1.7244851503949117,
          -2.451976422151481,
          -2.451976422151481,
          4.911094086350668,
          2.1284228776298377,
          -2.026227680053006,
          -1.7259688400927664,
          -1.7612462995881784,
          -0.3294248445373823,
          -0.7167812722224357,
          2.359912655797253,
          -0.4109516244751067,
          -2.072499067831731,
          0.49415125488177664,
          0.3947367578461062,
          0.5011147455994399,
          -0.1501947731074115,
          2.264366565829927,
          -1.3540154536804467,
          -1.470053255445317,
          -0.391486589611751,
          2.9286868308441982,
          1.5627344941817942,
          -1.8046533953228476,
          4.421919934709001,
          1.6666341252458157,
          -0.8630069468661101,
          -1.8240161816083955,
          6.202329832453555,
          2.7007297571142233,
          -1.9219988731601128,
          -3.8853351569825403,
          -0.323735233722792,
          -1.4830437992216365,
          -0.6661581305866575,
          -0.8975313027897475,
          -0.27150010958598997,
          -2.0260074964118413,
          0.030668548225325318,
          -0.6661581305866575,
          1.6679376175634033,
          -0.9628431990032486,
          0.05229047058608268,
          1.4342428370670819,
          -0.07440927214208773,
          0.3161956897243034,
          -1.6854348307187546,
          -1.3783735498215965,
          -0.5302811239602092,
          -1.9482834157370141,
          0.43768166538024444,
          0.4611651127096499,
          -0.6169217471719333,
          -1.1400256377059381,
          1.253322043592562,
          -1.8065011423621302,
          -2.1058975606514707,
          0.5834156893519926,
          0.6150431813346555,
          0.8314068380244779,
          -1.1677498330947196,
          -1.8797451580250861,
          -1.5737313828666792,
          -1.7148709729100624,
          -1.2187163240425563,
          -0.9081075934919391,
          -2.407638506198657,
          -2.6312477371308924,
          1.5673168136376294,
          1.260676137476439,
          -1.273136278441534,
          -1.9933897451720632,
          6.078392568331349,
          6.202329832453555,
          1.8806471974660992,
          0.48550384897295135,
          3.7247868746474677,
          4.999022851023019,
          -0.6507019188068328,
          2.8317540321081127,
          5.157224121091325,
          3.819290274650811,
          -1.8812815325483476,
          -1.017041578089581,
          -2.3431142778733154,
          -0.061394194594860944,
          1.1244973226335102,
          -1.017041578089581,
          1.549987445185146,
          -0.23880439879088985,
          -2.054894883326249,
          -1.4608536919332902,
          -1.2511268482027653,
          -1.432623136909022,
          -0.8322050040893013,
          -1.017041578089581,
          -1.4771002595731544,
          -2.628606599334163,
          -0.21035255659039037,
          3.7220411064919334,
          -0.6601937727661532,
          -0.08898081277070424,
          -1.3796424287630298,
          0.8934594009314086,
          -0.6029963198787518,
          -0.7120551860400112,
          -0.7769839379468484,
          -0.6805758573158155,
          -0.24279844901403563,
          -1.956231538351016,
          4.118042026063587,
          5.71374103184416,
          -0.7417411626392646,
          4.424095099147777,
          2.3273182406295407,
          0.017763471206447737,
          0.3014939930849971,
          0.9650215283895127,
          0.02246839262249645,
          -1.2199650459691422,
          0.34177511590531057,
          -0.5378912868672483,
          0.8644678960471945,
          4.0046965773268575,
          4.008320181774838,
          1.3829663131262575,
          -2.0574297891427653,
          1.309477413759332,
          -1.2244223547667648,
          3.301387747874775,
          -1.1107604184765905,
          0.5360702750732721,
          -0.2474405369725482,
          -1.9441899850782955,
          -2.1330576537603543,
          -1.0891187918604017,
          -1.8302469752259658,
          -0.1551641644934419,
          -0.995165353984921,
          -1.3596060537015473,
          -0.6110809564064194,
          -2.5498154982660948,
          -0.6067753052647105,
          -0.7288872748469327,
          -0.6427561202341462,
          -0.8384661829154196,
          7.048160534198856,
          3.086299510078866,
          1.6499160539143838,
          0.5039626516959593,
          -0.7628234779254308,
          1.9098861430974072,
          -0.7381554703584147,
          -1.2105050375339603,
          -1.616500641144998,
          2.915285284524166,
          0.7875315395435426,
          -1.4713066508652943,
          3.840536654487979,
          0.8180105809922924,
          -1.536392046122554,
          1.5017010248753808,
          -0.8269573928584232,
          -1.2365537984863504,
          -1.121391039649665,
          0.3532535757130951,
          4.156988672470466,
          4.1811439158528305,
          5.8742416179463435,
          0.7726737970500193,
          -1.238465158422996,
          0.17391144426442498,
          -0.2910191568213259,
          -1.3643289196729798,
          -1.001357622951206,
          2.8143610849320853,
          1.01522677482357,
          -0.89970964723171,
          -1.8161225830951806,
          -0.40691985636642886,
          -0.6222506022041561,
          0.9298554236724588,
          -0.03115887481414295,
          -1.8953253854100014,
          -2.0864594737726576,
          -1.0330740365002857,
          -1.648478835334429,
          -0.076889673772561,
          -0.962672903751455,
          -2.014035053021466,
          -1.329341300564142,
          2.960200102558326,
          0.33666129733437367,
          -1.7136150221763629,
          -1.432279762951495,
          -0.9929724146692348,
          0.37104684811124217,
          2.6387134059669592,
          -0.028077801649979375,
          -1.6676648655046542,
          -0.6079060289417966,
          0.022377474382159927,
          0.9645203776907147,
          1.2387761280336038,
          0.321154656758158,
          0.39931016340159897,
          1.4480493860298345,
          2.279897641894935,
          -0.22663402010361827,
          0.2531651111744036,
          -0.2148012621778627,
          -2.4628532337473255,
          1.3697801765357993,
          1.7508953452310552,
          1.386329849583343,
          -1.2538737101450237,
          5.13305016997133,
          3.5265151258837024,
          6.346033202222228,
          -0.6161373499207315,
          -2.3748289472525204,
          2.253307814780364,
          0.8167571253489768,
          3.6537653788133917,
          -1.8047421918261313,
          -1.8627951125034814,
          -0.9242152643491612,
          0.7066524688936527,
          4.942598053975869,
          1.1252336127832736,
          4.79528925025523,
          2.463567849011501,
          -0.09446247231001549,
          4.247306482872687,
          0.24903576136687058,
          -0.11019294017436529,
          -1.8060319312706907,
          -1.4690797127486261,
          -0.02542594636096556,
          0.3370037422179011,
          -1.0272113725970846,
          -1.1806601610443497,
          -0.08462383414741141,
          -1.2131974145350368,
          -1.5289774319052674,
          -1.337808685779718,
          0.901546075594192,
          0.34704130353341295,
          -1.8391030814300082,
          -1.2105926310370019,
          -1.3843046322401935,
          -1.1745523891881096,
          -0.8900534710795277,
          -1.7792525918076767,
          -1.7629015313750158,
          -0.2262636987792058,
          -1.3596743740108534,
          -1.4373298042223686,
          -1.0505476390009736,
          -1.2326907154182059,
          1.3565283499092402,
          -0.31742155846790154,
          -0.8073456954282049,
          0.6294753135461068,
          -2.0174373591629933,
          -0.11454795107118988,
          -0.5797367236830114,
          -1.8188905101656423,
          -0.21705098951570184,
          4.52943026051702,
          0.3331897153750477,
          0.9708797436014687,
          -0.1712705426320427,
          -0.794185250026439,
          0.15892132499726563,
          -1.187643224151158,
          -0.6402858806840851,
          0.8750838457096458,
          3.6087315817291596,
          5.0229886380574715,
          5.805832447701812,
          -2.4845855869545885,
          -0.06723872685756636,
          -1.81994568028682,
          -0.16463751050254605,
          -0.9373426065815237,
          3.695987464448696,
          -0.11499063549310261,
          -0.31191194974263664,
          3.6087315817291596,
          2.962821117328597,
          1.9745255543280633,
          -1.8693347569376906,
          3.926583529422469,
          0.851465596997388,
          0.2516548733824609,
          1.5069037952476552,
          0.8765073635953354,
          -0.8493286256975379,
          -2.767042218285059,
          -1.9426782361716526,
          -1.9404583741889687,
          -2.3277141531057537,
          -0.48930088551691964,
          -1.2448085534620568,
          -1.4681887969761533,
          -0.41977050789702086,
          -1.179404182055468,
          -0.7316519448921266,
          -1.993447792494072,
          2.658957468748417,
          -1.8424902425655338,
          -1.9752037541359404,
          0.49738213453453817,
          2.8030142480459306,
          0.8898853897758205,
          -1.6997216230484258,
          -1.1189657700263973,
          -2.2297276153308547,
          -0.7369155743144538,
          -2.886057972767242,
          -0.04773120798274586,
          -1.2455077589325851,
          1.5812933821637338,
          0.3862402573486108,
          -1.3826420603119796,
          -2.477582977687054,
          1.1497627661579255,
          -1.0859697564578688,
          0.6207099620941176,
          -0.07313623450419013,
          0.0026958861477244093,
          2.170027229768548,
          0.3671862771709775,
          -0.9314426872002078,
          2.3532485455974848,
          -1.0597890934720613,
          -2.2761098556941266,
          -0.7031780913867128,
          -0.29266338241288753,
          1.0280402330301832,
          -1.1648221376777206,
          0.4511604577525499,
          -0.5491172599185637,
          -0.6751459147216364,
          0.29979688154291123,
          2.683412912626817,
          0.598407463850865,
          -0.5498879058004915,
          1.5305789710549682,
          1.6719273733102404,
          2.365034188094586,
          0.507376025880527,
          -1.3539098259275268,
          0.5151319213344547,
          1.0608289232294803,
          0.5729789672192861,
          -0.7152407495550089,
          -0.04317819295221053,
          1.6217258746453864,
          0.3675158568404519,
          -0.764026180466433,
          -0.5419837729171584,
          1.0156004276682962,
          -1.0104901039718692,
          0.34745430653825105,
          -0.28074619404286894,
          3.1877031348523173,
          -0.5452603790317772,
          -1.6326205624300463,
          -1.1815682360615913,
          0.4831617885888129,
          -0.4662482753257244,
          -0.646174839100195,
          4.245475571774247,
          -0.17032794041760088,
          3.479867491808318,
          3.8409758809403742,
          4.963938781947003,
          4.408080150824804,
          4.139496296933865,
          4.031285308102279,
          3.936321424219397,
          4.187078489713529,
          4.917808163601022,
          4.959531607032037,
          5.491363812178906,
          1.5324624690552502,
          3.7860049701944347,
          4.2244051976056145,
          3.8134457247031834,
          4.269047290947433,
          5.355886276386327,
          5.634525317250321,
          5.131366024213477,
          1.5778734844665687,
          3.628399804806303,
          3.3748679584004297,
          3.136640936473179,
          1.5464616640991644,
          1.7734555001668169,
          -0.573698138408346,
          -1.3474769379185076,
          -1.4095676969430244,
          -1.7902349574504646,
          -0.9599392716314985,
          -2.3378502090707287,
          -1.9219232563386324,
          -1.455468336595948,
          -1.9072262876723383,
          -0.6716795002770632,
          -2.0046562231551013,
          0.3251566625513809,
          -1.1523860720717647,
          -1.4557044571067252,
          0.1805907136268429,
          -1.9079350595148403,
          3.523659061137907,
          -2.049118693479207,
          3.618083406229155,
          -1.7374845146577131,
          -1.4392948516572357,
          -1.5714083380161572,
          6.308184544302047,
          5.008294840003465,
          5.403265664257095,
          -1.4853710029965546,
          0.33114376729517914,
          -0.46419951317278013,
          2.7937786280697074,
          2.2293271459533788,
          1.38933340092157,
          4.269223510110595,
          2.1474447251427846,
          0.7629686163768575,
          0.5313880649539602,
          -1.1115207404332899,
          -1.820420933387243,
          -2.1921376455691486,
          -1.673062677563713,
          -0.5625611286937764,
          0.4519180457487407,
          1.919573857543195,
          -0.8702170708257275,
          1.0741748437686005,
          -0.22718136569597783,
          -0.8526204872249916,
          0.4309833958102207,
          -1.5594414900234,
          -1.7883857649490378,
          -1.2843690828034708,
          -0.32892936146030166,
          1.0518143755809584,
          0.5340816012176947,
          -1.1097151949345359,
          -1.9685741228713423,
          1.3526971314440273,
          -1.1080951590932842,
          -1.1080951590932842,
          -0.7862581323449495,
          -2.1866569882184588,
          -0.7966028054395362,
          -1.841841154586215,
          -0.7800250543797582,
          -2.4784838201281776,
          0.259760355640364,
          -1.3550297693817048,
          -1.6177557993272034,
          -1.8260772103567127,
          -2.3046905029491973,
          -1.7235553968485775,
          -1.376194964792645,
          -1.0218757432852517,
          -1.7791379054828054,
          -2.656622572909876,
          1.0291146255100552,
          -3.094666351260063,
          0.2724699225082947,
          -1.7900071853916155,
          -2.4793830877712435,
          -1.8871690235505925,
          -2.643073812178537,
          -0.3573801366614929,
          -2.5671936495562435,
          1.3794835128663603,
          4.5251235539365995,
          4.716885186699751,
          2.595025591971072,
          -1.1366165372990922,
          1.9842254319975159,
          -2.428139142503912,
          -1.3561754011404559,
          -1.650755700271235,
          -0.9916773688297722,
          -1.4614838432330992,
          -2.109726124754256,
          -0.5491172599185637,
          -1.985274255033779,
          4.386572613899497,
          -1.1101722919442205,
          3.377600294793804,
          -2.434424783398598,
          3.593493867103376,
          -0.49643132082921354,
          -2.442010816809562,
          1.0393967728352194,
          0.024172636350281364,
          -2.5360436014647676,
          -1.4224961761214616,
          0.024172636350281364,
          -0.26129956152697004,
          -0.9108428135470134,
          2.0940424856091564,
          -2.5645649137076534,
          -1.2386221853149904,
          -0.30842192358759624,
          -1.5155895125722454,
          -2.0312986146780383,
          3.863104889734331,
          -0.10838299594407715,
          -0.6022552644160741,
          0.5177509655213361,
          -1.709069723149361,
          -0.27614522230501043,
          -0.7551372548019922,
          -1.3763064760423576,
          -0.5312260392016587,
          0.2371719517248253,
          -0.3026081729421222,
          -0.5065280021147465,
          -1.205589551288555,
          -0.8204348260187282,
          0.2660650637100614,
          -0.2988442146153768,
          -0.8728012554034775,
          -1.7175667292646415,
          -1.5155528888804226,
          0.8864093485671768,
          -1.6766468747459686,
          -0.4694345966142331,
          0.8710775895722587,
          -0.864470567661513,
          -0.7144561741353865,
          -0.4406885569491477,
          -2.790270900922429,
          2.8904146176546703,
          -1.1507276718314714,
          -0.8031773216690996,
          -1.9473824019540262,
          -2.1629636170947384,
          -1.4723654985500974,
          -2.689312140284419,
          0.9240011933509137,
          -1.7474528809598429,
          -0.14576653368649803,
          -1.898358690244529,
          -2.6693478479357378,
          -0.5221693744493339,
          -1.4548434949416964,
          -1.0283096381666235,
          2.3622397711804504,
          0.5436395862813673,
          -1.8689304368530792,
          1.171003621255904,
          0.6999040042938871,
          -1.7044471429551553,
          -0.592054699002688,
          0.44986497282074256,
          -0.32957451480891464,
          -1.6376693914418616,
          -1.4572609901665479,
          2.4660708696178224,
          -1.209595367594974,
          0.5254555899481627,
          0.07547147484810653,
          -1.58471343936437,
          -2.9080619282235443,
          -1.1765084408048725,
          -1.9119343526634285,
          0.9356036829290543,
          -0.36086600256967255,
          0.96796358611968,
          4.699816675368838,
          -0.472331405561734,
          -2.0056305322142784,
          1.5727472398500433,
          -0.9464089318334713,
          1.4686267276229212,
          0.5011147455994399,
          -1.3537495043623882,
          -1.843412047612339,
          -0.6537657414667504,
          0.8902655962892363,
          -2.816259125058932,
          -1.2235095886351692,
          -1.5127849605175308,
          -0.968477936800629,
          1.148705858265197,
          -1.098446924932567,
          0.502237797213785,
          -1.4812543999863002,
          -0.5435665341609952,
          -1.2909649366086222,
          -2.1628333074786097,
          -0.8354743294354074,
          -0.03314856246124672,
          -2.01492656924932,
          1.7960332420843481,
          0.7846163460118245,
          0.32114376159708086,
          -2.1901371392226094,
          2.5971373640647,
          -1.6127967117375046,
          3.0260530289477523,
          -2.065705645766963,
          -1.5210993374175872,
          -0.9258655178346515,
          -2.0743795323201737,
          0.7511849781136252,
          -1.7164833605229053,
          1.3199455730608436,
          -0.2996749088548951,
          -1.0601592783170948,
          -1.57938616321675,
          -1.692465651475793,
          -3.1331777327955415,
          -0.037246232862970644,
          -0.08421121464130084,
          -0.7467746719958054,
          -0.16470824566879233,
          1.4022482201741087,
          0.46779897642367285,
          -1.337321684088965,
          0.08110278845448553,
          -1.377926545841369,
          5.0311078449036435,
          -1.898392214778935,
          0.5995552083481095,
          3.525204639447457,
          2.2683191496362336,
          0.9096299592015578,
          -1.026418914347898,
          -1.0690904627080786,
          0.6556631320797378,
          -2.0237690194122604,
          2.19592099990506,
          -1.9202674340983559,
          0.6521268829335797,
          5.262718544641118,
          -0.6974112188432169,
          0.7820338260369201,
          -0.2090432327886091,
          0.6998427652454077,
          -2.0224335239758724,
          0.47120716399528284,
          -1.2604802866831228,
          1.8271454550885444,
          6.083318328609313,
          -0.8508696332442798,
          -2.082504837264758,
          -2.2243366255023735,
          1.4014298850676432,
          -2.722829529958681,
          -1.6085417664418042,
          1.6013054390496702,
          3.3170485154906784,
          -0.893628771252799,
          -1.0459539727090401,
          -0.7263218841932999,
          -2.9436481698922834,
          0.06221403756445154,
          -1.1663865563967561,
          -0.5132483562854903,
          0.6525178740460735,
          2.2136234284814895,
          4.157689233042858,
          3.995264448657275,
          3.744144134343591,
          3.3340361292652174,
          -0.6706922862361607,
          3.7210836024692706,
          -0.7220199150774416,
          -1.5037488884709551,
          -1.8208063443174327,
          -1.3092499530556867,
          -0.582827499602923,
          1.8767430181001146,
          -2.313572197189646,
          0.7099128201293109,
          -0.7812682277707914,
          3.394927981868264,
          0.9032880273730496,
          -1.5365804542172723,
          -1.628345204311754,
          -1.702268481494211,
          -2.435285435228311,
          2.0186542826167484,
          -0.3166155515639352,
          -0.8941954290264571,
          1.1047609784727366,
          -0.19612740703368448,
          -1.3280200419065078,
          -1.8704463127127655,
          -0.7325588346573662,
          -2.4322104556325086,
          -1.0631051517428254,
          -0.9018458559798227,
          -0.5690495861384948,
          -1.7303866732825892,
          -2.100771809255367,
          0.12062405251041576,
          -1.5280973319537652,
          -1.9108022973619923,
          -0.21031089609908865,
          -1.7943548127338866,
          -1.5361213058279384,
          -2.2160001367279687,
          -1.4955985695299736,
          -2.550058975169804,
          -1.0982262167206465,
          -1.2393277340386915,
          -0.857709221058461,
          3.6603956645131954,
          -2.660151441663606,
          4.225043041397311,
          0.4150807814857098,
          1.1880597387996013,
          2.7531891075881934,
          -0.29049845972909033,
          0.5136929486352,
          1.8792188806685457,
          -1.6657745499794454,
          4.166293634806012,
          -0.5221693744493339,
          1.0434337104662195,
          -1.8730996534974453,
          0.8500285353730024,
          -0.33185038438281445,
          0.2744299751321865,
          3.481276240454131,
          2.3317755006466863,
          -0.07084590733890464,
          -1.2092837434063097,
          -1.3631427295039156,
          -2.4502227813858073,
          -2.0884769934788587,
          -1.8057549808143702,
          -3.399583731082442,
          -1.69982258913753,
          1.5209018222443893,
          0.7646308800896888,
          4.478609512834527,
          2.4661133198039726,
          -2.2354904599284446,
          -0.8246614851720218,
          3.432450645076328,
          -0.48823623226826873,
          -2.081322355130963,
          0.14989400405551778,
          1.8973889528910985,
          -0.1368377530801949,
          0.4502592342354187,
          2.095768666277787,
          0.9153914685653913,
          0.5857264273779655,
          2.2333595333061402,
          -3.0450765877715447,
          -2.3291508714311786,
          0.45432202704512564,
          -1.6301207350897287,
          -1.4143229884606352,
          0.24435456870028133,
          3.2107996485644126,
          -0.9304532954544277,
          5.150035753984849,
          5.004281707388855,
          -1.314867575910186,
          -0.7597385878813325,
          -1.6628375487419678,
          -1.890230329783117,
          -1.5328467352522706,
          -1.2536233695640087,
          -1.230235225523596,
          0.10461162581345541,
          0.5222047642496476,
          4.431045401922307,
          -1.1896884868417061,
          0.3826515107286243,
          -0.7773625634585389,
          -1.4952959189875168,
          1.6675267223983996,
          1.4852428780681364,
          4.356729544123443,
          -0.9108592533331862,
          0.18164272293418565,
          -1.8732582454237807,
          -1.694678699673471,
          0.4358314317588757,
          0.4879910198583251,
          2.765858150220444,
          1.9540876681797315,
          -0.17613599599091584,
          0.4227931229385332,
          -1.611735936982193,
          -1.0419915528465544,
          -0.12021237473150566,
          -0.11140233801850588,
          -0.3443427862674364,
          0.6672750904822253,
          -1.2131974145350368,
          2.5136903101093666,
          1.18455450436662,
          -1.755389031147313,
          -0.6992418306210513,
          -1.0580195579562377,
          2.3119403786115758,
          -0.13688948178293034,
          -0.8741749815567246,
          -0.9304422088236282,
          -0.9840382097343731,
          -1.3564305630785591,
          3.3966287287929506,
          -1.7688160662074723,
          0.25324946539756976,
          -0.5625432966733265,
          0.1389498083800918,
          2.9951823246963136,
          2.32192969477963,
          -1.4964895263633484,
          3.2743693149316204,
          5.335536638163784,
          1.1970948667173518,
          -0.9325106706495234,
          -1.0348098358027822,
          -2.0251481991515767,
          1.0657747825801043,
          -0.38574105649317086,
          -0.6253799907794834,
          1.5479900682861585,
          -0.9325106706495234,
          1.1810200528402164,
          3.6809276424008903,
          3.757014733272658,
          0.012415187357944193,
          -3.0305697190318286,
          -0.9098410453161855,
          -1.5191912139342898,
          -0.9195814288618511,
          3.8284561838289006,
          -1.111713310393216,
          2.267337362057983,
          -1.5150721309734034,
          -1.3925033257613104,
          -1.2995846666732844,
          -0.12266151502753685,
          -1.8668753039071249,
          -1.5018729408205724,
          -0.5700160017381587,
          3.039882270510463,
          -1.8005405433301183,
          -3.6632315599681724,
          -1.467945509235146,
          -1.0800614696303614,
          0.8055109936842506,
          -2.820267239135906,
          -3.452971033776213,
          -1.1110635172556058,
          -2.791897090464665,
          -0.6542529218710771,
          -1.2316328350265475,
          -1.309238317676979,
          -0.44699410320141036,
          -2.114793859435533,
          -0.8486770478305625,
          -0.9409778444685286,
          -1.832083243995957,
          -1.4789288509342504,
          -0.2603117476767211,
          0.7062856706652358,
          -0.9472312383775642,
          -1.8280677033103938,
          2.8968869857554767,
          4.209593201660838,
          -2.7548708199059346,
          -1.545945924038414,
          -1.8925052109960376,
          -1.7067784255245109,
          -1.6774539508660653,
          -0.4563518583717422,
          -1.3346043453735328,
          -0.32162950035437016,
          -1.5006475935961945,
          -1.4595938170239817,
          -0.824334154486017,
          -0.6580875903276755,
          0.28642701434719336,
          -1.2796134458978512,
          -0.37049705875550143,
          -1.2343513887207485,
          3.9963005471458795,
          3.3395779158555374,
          5.384016484346955,
          0.21837706806185994,
          -2.3067688482910254,
          -0.5021981388206951,
          -1.0068978534182291,
          -2.147694443940263,
          -2.396863743557695,
          2.709606964693457,
          1.7560435745437557,
          -0.944397387299848,
          -1.1396430988151272,
          3.5578638142965193,
          3.8535198201214196,
          -0.8855858941782224,
          -0.9829651653205775,
          -2.320125421270592,
          -1.2569492976214984,
          -1.7231498462043982,
          5.9610742812380835,
          -0.9304306817837584,
          3.7923096640832363,
          2.5338939245783862,
          2.4003469329064786,
          -1.7878372257776944,
          -0.2335289532416373,
          -1.8863702813551437,
          -3.000784722314575,
          -2.088853425657694,
          1.0430639994862414,
          1.4753691607777777,
          -0.7167812722224357,
          -1.8241639760866641,
          -1.0939818264875394,
          -1.417375980675603,
          -0.9227672156589178,
          -1.104428046412082,
          0.06735268474735848,
          -0.7895365930463447,
          -0.07072149456798835,
          -1.851763021318621,
          -1.8601271467736322,
          -0.08828355973957747,
          -0.2554410311634312,
          1.8793807339843205,
          0.9116853878805066,
          0.10012379315177507,
          -0.6039439779725397,
          -2.929817585496707,
          0.19839714092277638,
          -0.44918673033604173,
          -0.7937960986538567,
          -0.6206510300666296,
          -1.445924049009498,
          -2.3369061253580083,
          -1.4633820680402188,
          -1.220884751098554,
          -1.1296546207459421,
          -0.17787330371714744,
          -0.6960752028433904,
          -1.3678339527436496,
          -2.3446882446890314,
          -1.5994355501742892,
          -0.6953135901672177,
          1.6229388520328973,
          2.7823998445336757,
          2.285874428736386,
          2.155550798796949,
          -0.2647829444104702,
          2.827606248898018,
          0.6100656850450621,
          1.3174805042783142,
          2.746800775169636,
          -2.2523754075787226,
          0.7036343124900769,
          -0.0011837602491461899,
          -1.482961908069974,
          -1.1075232058518316,
          -0.6971997960267923,
          -1.9568620208735594,
          -1.1054970278095257,
          -1.3264831935701509,
          -1.7849025600389345,
          -1.2811371791205028,
          -2.886057972767242,
          -1.2418348568152906,
          -0.15427203546753696,
          0.5668302283795723,
          3.1638738295315703,
          5.047031224564763,
          1.2487075452916374,
          0.6273736799906435,
          0.07539853780510541,
          4.046423353988648,
          -2.094841489535946,
          1.7704705061504304,
          1.3428053485486442,
          -0.628115902860407,
          2.7007571007880027,
          -2.8964595824616746,
          -0.4890714865795582,
          -2.4153603716354723,
          3.350597068739798,
          0.11785838188577076,
          -2.081831504077909,
          3.3833813768610868,
          -2.0288683703444153,
          -1.9296895864420236,
          1.9624352875108149,
          -0.11473781767402405,
          -0.8976185323361076,
          -0.6162589382614433,
          -1.339850634422029,
          -1.8605094581925605,
          -1.125616515157265,
          -1.3471905127214168,
          -1.6634667301389163,
          -1.7937172212243646,
          1.7116070792188427,
          0.6875307868210203,
          2.359912655797253,
          3.4077455863709996,
          3.420163417355515,
          3.1704080433561845,
          4.189709436743141,
          0.8861883023723558,
          -1.204133680640152,
          -2.4332660384219995,
          4.396257729264011,
          -0.9943458450544889,
          -1.664078600965618,
          -0.6530120732992515,
          -0.7024160963306583,
          -1.6162721975405994,
          2.700067123399994,
          3.1332303142138076,
          2.6230336450209117,
          -1.7234064226917925,
          -2.8800245580393953,
          -1.8011679111545569,
          -1.6369871043498496,
          -1.891480966064499,
          4.618935780161169,
          4.050843042184684,
          4.35266305126899,
          5.122067061563877,
          3.9068164100335854,
          3.9866789809149905,
          2.78522340938951,
          0.9999800069643588,
          0.679971949121812,
          0.01429830694148391,
          -3.156152761147992,
          0.022755347441270064,
          0.022755347441270064,
          0.1621552183504659,
          1.884824936440657,
          -1.6357883699260118,
          -1.4405368092396216,
          1.9595862552593755,
          -1.9643963626404664,
          -1.5973738646502862,
          -2.089446314970425,
          -1.8026658189060827,
          -1.2917710621025642,
          1.6122957977964267,
          -1.0597890934720613,
          4.601631831528845,
          4.450568176559055,
          5.210196579660408,
          5.77739976990329,
          0.20076562572775772,
          2.1326120989580435,
          1.7459968094343277,
          1.7459968094343277,
          0.20076562572775772,
          0.3454668439277415,
          -1.515422681091899,
          -1.6922378597241041,
          4.310681878249162,
          0.46926894723910834,
          2.324208231380987,
          0.938112123399804,
          1.184125244273475,
          -0.37430669765646385,
          1.0133098935058005,
          1.010308534059009,
          0.7875315203113384,
          -0.5858043284252908,
          -2.64322731395173,
          0.7454678649645963,
          1.043743896138429,
          4.839564142521276,
          2.2896581436048007,
          -1.3025333410462434,
          -1.3212499387413406,
          4.03325800785605,
          -0.905465327976194,
          1.4077154542863601,
          1.8197767618637957,
          -2.0266801412988698,
          0.4069739919366763,
          -0.17898853073046178,
          0.4847618118735947,
          0.2637378078660115,
          1.9490472897705733,
          -1.2617841821502727,
          0.1492151480055363,
          -0.21755040086465233,
          -0.762472406678774,
          -0.9387029953969075,
          0.27949977926882486,
          -0.7588630483770616,
          -2.152795985798637,
          -1.5357814618078702,
          0.8290154285889062,
          -0.9817137056298622,
          0.0007320463538195193,
          -1.0590701782309835,
          -0.7529011708788533,
          -2.5175145217551655,
          -2.3199405171221925,
          -0.23471491664775257,
          -0.22120729624415464,
          -0.6810305719934207,
          -1.3423911334200633,
          0.9329099433229773,
          -0.33138598600913194,
          -1.3663419235685061,
          -1.0192775239661638,
          -0.5491172599185637,
          0.053066294991843996,
          -1.2567107324055804,
          5.259661506974295,
          -0.2965634305110335,
          -0.20192591787070185,
          -2.024602339850489,
          -1.4443686593542016,
          -0.9751839182365101,
          0.054527146408120356,
          1.4523524534217265,
          0.8192739231873557,
          0.07698261684037465,
          -2.424113347680564,
          -1.0499396836036357,
          1.359348166175823,
          -0.8437018248035706,
          -0.40543864743120533,
          0.6101227140817003,
          0.1201739710391185,
          -1.008409709766837,
          1.2229974720456427,
          -1.10316829379947,
          -1.4083418571679776,
          2.5756303060219787,
          -0.15864834545483603,
          2.9154589235875887,
          0.014968192928110038,
          1.408880672599903,
          0.8082967149746658,
          0.4464945802762561,
          -1.2795600059785799,
          2.8272600811544897,
          -0.42771336379759956,
          -0.8837451046928393,
          -0.23093094143364576,
          -0.537144704557477,
          1.3880784370526715,
          -1.0597890934720613,
          0.8795324448096477,
          1.476414729824297,
          2.765001627237035,
          5.637075618753223,
          3.5002357640189077,
          -1.5104184002125947,
          -1.2334843591545102,
          -0.7529405029218754,
          0.08511187324309158,
          0.32051098514515164,
          -0.9120762581936749,
          -0.27858070029414106,
          3.0884336247674824,
          4.143247777999699,
          2.3997163163978628,
          3.1769579298469015,
          -0.6044283440694074,
          5.574219688203976,
          5.333727896640731,
          -0.17032794041760088,
          -1.4427210612478678,
          -1.339987937021489,
          -1.339987937021489,
          -1.0802458985701944,
          3.9166593931872042,
          1.133353987991856,
          3.131924063360544,
          -1.339987937021489,
          3.135171724665466,
          0.05296106361416943,
          3.824228685300257,
          3.313960361031423,
          0.637643397535772,
          -1.3678276494516484,
          1.4795949689527141,
          0.5075398114106476,
          4.025163763893031,
          3.3976341754496993,
          3.3025291157013483,
          2.8311288224741094,
          0.42987039872092636,
          2.6526038200999014,
          1.9894395187425362,
          -2.4451348377062514,
          -1.9828992824413252,
          -2.908813880378371,
          4.910713009747101,
          -0.6498036654322977,
          -1.5303444494937992,
          -2.715389745415454,
          -2.0687544157967657,
          -2.2542542997003845,
          -2.0100526796115563,
          -2.1099099573153453,
          -2.223632607515602,
          -2.3132103064829783,
          -0.9502346814249348,
          -2.1364027095393268,
          -1.0065335489460208,
          -0.5635117535932606,
          -0.5452437114590936,
          -2.2698090988609727,
          -1.2016336137926897,
          -1.3117714960738558,
          0.11607867116484599,
          -1.1573319711835899,
          2.84426120846864,
          4.816971047050106,
          5.388502137886456,
          4.902234021478258,
          0.17804007974110753,
          3.129629623900942,
          -2.6715653444756358,
          -1.4732881003033544,
          1.2109456547170134,
          -0.6283268472049912,
          -1.8232159852586605,
          -2.7616267192664967,
          -0.8038412941572953,
          3.129629623900942,
          1.2775355899569343,
          -3.4999871537663028,
          1.358948304389959,
          1.7385554462803212,
          -0.22573449118776995,
          -2.274067346388716,
          -2.722292027168742,
          -0.566571472819474,
          -0.7245547433332952,
          -1.8992419894110686,
          -2.8397395979008917,
          -2.0779173370881705,
          -0.8771721526876296,
          -0.4066838677898677,
          -2.4626824440774846,
          -0.9502346814249348,
          -0.8848052512508245,
          -1.4759715630515944,
          1.0340563390737687,
          3.9266530882283885,
          1.3504189491626395,
          0.402281144383314,
          -0.7883433217568943,
          2.0279654140200662,
          2.0402179546875283,
          0.897991007385602,
          -1.370362281983277,
          2.195947876785934,
          -0.3257151107438951,
          2.166790516006025,
          -0.10849963879625212,
          0.5555801926793539,
          2.6855272350918464,
          2.0629718502740526,
          1.9327789730120886,
          0.582387466372392,
          1.4280076694700539,
          2.2279502077988353,
          2.014111723724463,
          -1.7548260472472816,
          3.1452711577365062,
          1.8851878311394765,
          0.5461741363291331,
          2.3563966282033206,
          0.8590333940405693,
          1.5750036225782404,
          -1.425407917604752,
          0.13229505704735,
          1.6585341861753575,
          2.6330801007313864,
          1.2919858967101812,
          1.5307731412375456,
          1.8030112846657085,
          0.06706942676045914,
          1.8045403505981712,
          1.3745874347744316,
          -0.08395614302769275,
          4.049749172711463,
          -2.1275500290304192,
          0.5273523375187052,
          -3.0914737893276945,
          -0.9291176379098606,
          -0.4015548957102346,
          1.1987811941730067,
          -1.4489486989802913,
          0.42164195837834534,
          -1.0348098358027822,
          -0.6337420572126483,
          -2.1834965098510497,
          -2.175867295210503,
          -2.8243568560471224,
          -1.5657851439064707,
          2.488852486987385,
          1.7069952938522657,
          -1.7699525413624666,
          2.094428753589454,
          -2.53894056107489,
          1.7757562576013008,
          -1.3673813815784819,
          -2.321719004377392,
          -0.0714551000371612,
          -0.12953515656081988,
          0.01705652057736833,
          -1.6918615662065635,
          0.2478889863404202,
          -3.371949005692061,
          1.8109439725347152,
          -2.9563167102804098,
          -0.932657651394537,
          1.5453563721904249,
          2.017567630254303,
          -0.9777384825203544,
          -1.808804585148051,
          -0.1976493893370151,
          -1.7360045350795767,
          3.6842201989297267,
          -0.6847094485509616,
          -0.2603117476767211,
          1.5422988888047624,
          0.5930026646121632,
          -1.79129596701368,
          3.1180214989226336,
          3.358014491875237,
          3.5099309650882864,
          -0.19461924016161933,
          2.4805279637902284,
          4.517776810914011,
          6.091867137337179,
          -1.386425812758799,
          -1.6590894291934795,
          -0.8451615089399582,
          -1.041719254878502,
          -2.2126328441140073,
          3.9047624185662855,
          2.3576582971520197,
          0.03992601661587326,
          -1.1004953247578728,
          -1.3293394373721155,
          2.4179234417138886,
          -1.8494158071698898,
          0.6194589894389155,
          0.7007141496868087,
          -0.22131099576619281,
          4.069805840259913,
          -1.6915198589429605,
          -1.6480326701342518,
          -1.62667572624095,
          5.070598490109719,
          -1.2012069430765233,
          -0.2016148315962876,
          2.2123779499001266,
          -2.464924839700889,
          -1.9249814682117181,
          -2.408016409672177,
          -0.3981606546944906,
          -1.1481127843950474,
          -1.2373304643909684,
          -1.4628181365509456,
          -2.642991534637258,
          1.9533017033003979,
          -2.119572558061232,
          -1.014042185781766,
          -1.843089415576858,
          -0.17434341580478216,
          -1.8079063743752282,
          -1.07700986677389,
          -1.4905481769240287,
          -1.2980784897176676,
          2.365034188094586,
          2.8056902680785325,
          0.48472351061886326,
          0.8549288236322989,
          -1.5013922149508798,
          -1.3673565615888013,
          -1.5786623309290861,
          1.9460913874910188,
          0.03174403073604966,
          3.5189870964878116,
          -0.12194207361813111,
          -0.8643826427197122,
          -0.3431640158084613,
          0.1487995698285166,
          -0.702134515576947,
          2.526890730193049,
          -1.5907428957012462,
          -0.040819221845632046,
          0.789929828830743,
          -0.9108592533331862,
          0.5345492960066758,
          1.7118640514247778,
          0.329137238786949,
          1.1931202253106958,
          1.095868990708861,
          1.254568198711424,
          -1.645491242171435,
          0.06998303323160444,
          -0.6562708849308362,
          -0.8025844842561624,
          1.0288670632622705,
          1.5503148149597894,
          0.7522544149888797,
          -1.359475279504688,
          3.018000391387949,
          1.0712957412947137,
          3.2217287372984575,
          -0.09309152149855235,
          -1.2985779973467595,
          3.2186280625537074,
          2.1326120989580435,
          -2.34467300168256,
          0.40529331240226696,
          -0.5726023021440038,
          -0.883165124042146,
          0.28649928790184026,
          -1.1602891468274357,
          0.715849615465708,
          3.510753435620001,
          -0.20646597214665674,
          0.13893639159218518,
          -1.8058188159171586,
          -1.7690512660095572,
          0.8116576480875335,
          0.33752469190627316,
          -0.010394775910612582,
          -0.8944573785036691,
          0.21387473617623173,
          0.23100452434814103,
          2.0308782271879853,
          -2.2995204704233045,
          2.464111119546668,
          2.119217861721359,
          0.039000464651964814,
          -0.6538759240822305,
          -2.5086272188807213,
          0.8123565472634449,
          -1.578753055761897,
          0.21465726009403843,
          -1.8370165087569923,
          0.9229565319598535,
          5.656350818133167,
          1.2758796109944486,
          -0.5087977010750431,
          4.278428722085266,
          0.6992100078765253,
          -2.384136424298685,
          -1.7777308426945029,
          -1.780389886012657,
          -0.4167539682681075,
          -1.189441828975478,
          -1.316881436583955,
          -1.3415980593024464,
          -1.9057076077566908,
          -0.9399967293329499,
          -1.68086851520048,
          -1.1904065555534995,
          -1.4119055620195093,
          -1.9190223555873631,
          -1.6818203902001194,
          -1.4359027004171445,
          -2.011230902479246,
          0.09121406890156537,
          0.5055869622129666,
          -2.3991249477716177,
          -1.4878005371777205,
          0.09012877718788267,
          0.3101465274982124,
          -1.4468211063157417,
          -1.887936476633026,
          -0.43080997590404735,
          1.9127398992549023,
          -0.9340739420096695,
          -0.09245424702743052,
          -1.017041578089581,
          -1.4337106390703669,
          -1.1513085587600578,
          -0.3505327260134426,
          4.891728612485046,
          -2.26203546570097,
          -1.1646239535239469,
          -1.4194876518446786,
          -2.1789826747725143,
          -1.7048467653411061,
          0.08723516303489766,
          -1.5513713971895942,
          -1.1305919329747034,
          -2.008601460302474,
          -1.9719849087291328,
          -0.7603552441700437,
          -1.7081845936205515,
          -1.4526447883764582,
          1.093653629083843,
          4.707297316935382,
          4.06641655166185,
          0.844908045381964,
          2.017567630254303,
          -0.5221029502555891,
          -1.081903018351179,
          0.9363603495410889,
          -1.6901930633720716,
          -0.0673443775537735,
          3.1284096100847676,
          -0.013372924890362164,
          0.9315488370480699,
          -1.1078988413689927,
          0.9836845171357771,
          -0.6216384167307969,
          4.176384153224836,
          -0.8174650647916111,
          -0.9844049327521106,
          -1.934020852138309,
          -0.9150586306583646,
          -1.9024375077661249,
          -1.59911918999787,
          -0.3979122673442809,
          3.189010773438729,
          -1.3604505665769033,
          -0.714103404733728,
          -1.5914938986038458,
          -0.26981790114743387,
          -0.32057160195909246,
          -0.9748467556979402,
          -0.6346112423952774,
          -1.4852467869909072,
          -0.6488361413093126,
          -0.6875208972982043,
          -0.5235210522524477,
          -1.2997644179330259,
          -0.39374742517973893,
          3.492407798994575,
          2.5763577232711783,
          -1.2550502056471342,
          3.8527580670263863,
          -1.3963654042352844,
          -1.5970419948490964,
          -1.6886328758157647,
          -1.3774550293604102,
          -1.369072952462099,
          -2.082618199581341,
          -1.195401827657027,
          3.4027511525664975,
          -1.9587229941745254,
          -2.646314841291695,
          2.335312795097441,
          -2.345824751081746,
          1.3957426239486528,
          0.30917657842898016,
          0.30917657842898016,
          0.04825874689567924,
          -1.082352072264751,
          3.049088181041765,
          -2.0975769095841947,
          0.2531651111744036,
          -0.15427203546753696,
          -0.41240181977992507,
          2.8948856676427694,
          0.9925700176837309,
          -0.10380387445274465,
          1.8938195243268836,
          0.9398182903443835,
          -2.2190070001920614,
          -0.40289995088326536,
          0.4855598419464204,
          -1.694678699673471,
          4.453263833371461,
          -1.7698042251004993,
          -1.2917710621025642,
          -1.8456441547473594,
          0.09262464006245431,
          -1.8537718049763492,
          -0.3241240622174611,
          5.699030304877433,
          2.3817849882339277,
          -1.5609102360473248,
          -0.27991740748156374,
          -0.5542550572699029,
          -0.6637454999146561,
          -0.32926983060965237,
          0.6663435469489163,
          -0.8145720543150361,
          0.6939265197491393,
          1.4162075885952472,
          0.5778186477553656,
          -1.2584741789017169,
          -0.18772365879072306,
          -0.8836013757068102,
          -1.6875506785986976,
          1.5211340327985514,
          0.21959081948294928,
          0.28850205362561004,
          -1.4926217671802817,
          -0.21175692447557948,
          -0.17581020496163308,
          -0.8875625801717627,
          -1.2556219866206972,
          -1.2269361604283753,
          4.618935780161169,
          1.3552239026426245,
          1.9336164093535586,
          0.34368407284732577,
          -0.5690376399407594,
          -1.8919920103002266,
          -0.5841890549176636,
          0.3327699618999973,
          -1.9175550818936078,
          -1.2392356281844934,
          -0.09546520325791708,
          0.5577786585832492,
          3.002801573904524,
          -0.5753522125886532,
          4.161022525837936,
          -1.9988770057703389,
          3.7468909865289737,
          2.2244782603334095,
          -2.0601769600585023,
          -0.7651747940113188,
          -0.8818233752987563,
          2.200828587032447,
          -0.5335105742105523,
          -0.591376541706871,
          -0.8686121365386245,
          3.1269291911696313,
          1.5727472398500433,
          1.8241788630931586,
          0.9487631695800606,
          -0.7979632686424231,
          -1.5274385093734066,
          -0.040310068174893,
          -1.4688940844932514,
          -1.518948465222091,
          -0.3336390303841248,
          -0.28741846532537474,
          1.917391486091967,
          4.217793257754895,
          0.8123565472634449,
          -2.0268228760359768,
          -0.9888603025879975,
          1.3505978175446587,
          1.3505978175446587,
          -0.2244825369564928,
          -1.5599823753878854,
          -0.9445110188851537,
          -0.9687374941369981,
          -1.9473824019540262,
          3.262619580896011,
          3.3357502012362774,
          -0.08400104548676984,
          -1.8353016618474371,
          -1.0147768860330948,
          0.6805879787852328,
          -0.9288952404986116,
          -0.967363156729088,
          4.168363339147137,
          -0.8950461905575406,
          -1.655497835033215,
          -0.6736705457075537,
          -1.5694794034452282,
          -1.6619836307825167,
          -0.15889958107504204,
          0.6637508483382966,
          -0.8307561706234654,
          -2.2833156359466398,
          0.8752453390642231,
          -2.427740105884188,
          -1.422406598148056,
          -1.1037662140332818,
          1.565067109513589,
          -1.0895612371376295,
          -1.1687147925779535,
          -0.9946974720841746,
          0.7352426388393165,
          0.05685055929293459,
          -2.364909879579424,
          4.904751130878141,
          -2.803040390957149,
          -2.252562080818785,
          -1.895924573075729,
          -2.0917516052011518,
          -2.508317131163251,
          -1.0932669094952765,
          0.23002712834864775,
          -1.766402400015833,
          0.6845546448708264,
          -0.9024606571237711,
          -0.4794045361365288,
          -0.7455458630228248,
          -0.9013326790547919,
          -0.7150579071819962,
          5.521484025398489,
          4.330780758381723,
          1.0507517772310706,
          -1.6734809168327207,
          4.236594177348255,
          -0.2745021491914582,
          4.0558180496564775,
          2.1357669132817216,
          -0.8330021081673907,
          -1.827929892684262,
          -1.7462095781463185,
          -1.4292748016739307,
          -1.8043356480433599,
          -0.03892607223898038,
          -1.3609492642096968,
          0.4479854069546512,
          -1.6881966197421554,
          -2.2605554980822586,
          -1.6032958665289643,
          -0.5719868279724863,
          0.22680621843925608,
          3.0007464182467127,
          5.2620586181406335,
          2.8858699481600545,
          -0.6661581305866575,
          4.647416850813504,
          -2.325980508300888,
          -0.8749418351069355,
          3.435844753643246,
          -0.18592056996048215,
          -1.3252577961419496,
          -1.645482650470816,
          -2.2743637727692696,
          -1.1375489854458383,
          -0.30594649082110353,
          -0.263210361464838,
          0.3682343908784777,
          -0.7749919598416074,
          -0.17119199961990786,
          -0.06981557094042481,
          -1.2072588326020266,
          -0.6241021127308289,
          5.4198747410235235,
          -1.5972222455784264,
          -0.36389517538093746,
          -0.3445021725092963,
          -1.6165697131635026,
          -1.1021594097961762,
          -1.227351666022263,
          -2.0452140986874663,
          2.0186542826167484,
          0.42982899271672637,
          0.6052682794470802,
          -0.44235378658709706,
          0.022947141944436582,
          0.00159447714735347,
          -1.8238846076569728,
          2.2317541681982696,
          0.7642748141635725,
          -0.84332829196663,
          -1.323087579081341,
          -1.329892934993297,
          -1.226722089484789,
          -2.1499949310856796,
          -1.216392087713246,
          3.463484711466786,
          0.45394121663571685,
          -3.0613383031984163,
          0.22729614518138536,
          -1.1344768325631744,
          -3.0613383031984163,
          -0.7072963438992369,
          0.341843380414306,
          -1.5671182591234911,
          -0.8696666900612374,
          -1.5795590761486487,
          -0.8772502462786007,
          3.5825006834571207,
          -2.226834278061472,
          -0.20126115331103825,
          -1.667521519112386,
          -1.1676869386410904,
          -0.09594405636152682,
          -2.382066424984604,
          -0.12872264422547483,
          -1.5822498519629953,
          -1.638743461776029,
          -2.0251481991515767,
          -0.6993509873932,
          -1.8764670933076548,
          0.3544325608968108,
          0.5717167306430497,
          3.1019647144481834,
          -0.5188294035461434,
          -1.0126741219338125,
          -0.7097641046725919,
          -0.7276269751785635,
          3.3634624924175176,
          2.9752226817107985,
          -0.8219366599034383,
          2.2089628716223118,
          2.7850640053433686,
          0.29814635203571527,
          1.8664884741638672,
          4.1404114883537915,
          4.133048817017735,
          0.528283827298754,
          2.6055721017645643,
          -0.2647829444104702,
          -0.17832420764440746,
          -1.9380303715726266,
          2.9039050390292243,
          3.649677021506467,
          -0.012929923744354088,
          0.9703843368446686,
          4.840030364876466,
          -2.382120428766229,
          -1.5441689772345786,
          -1.3888697809804107,
          -1.9542613765865016,
          -1.5849819030822285,
          2.446695535789584,
          -1.3666480483746382,
          -0.26762453170464956,
          0.4023034180521384,
          2.374570566204159,
          5.050054496026235,
          -0.9053180429942433,
          -1.2698419846443334,
          0.5398747178532807,
          -0.9479576954954887,
          -3.0324499813922885,
          -1.1121517547583095,
          1.0543642222548275,
          -2.1748260590504627,
          0.8783391882405462,
          0.844908045381964,
          -0.2838042751056895,
          -1.8083647450254492,
          -3.2024704591966753,
          3.321552105448822,
          0.8539122759964457,
          -1.0527079835431907,
          -1.6233526075106735,
          -1.495184271623784,
          1.7519453777759324,
          -0.8298967446281694,
          -2.1873335437017483,
          -0.24944080664634802,
          1.1074723601112297,
          -2.085935541408213,
          -2.412511518031864,
          -1.2499990583699137,
          1.2918669581773632,
          -1.4808604861756587,
          -2.0144429700235014,
          -0.5413481296670036,
          -1.6534058002388428,
          -1.4317917003045733,
          -0.9871359024336306,
          1.1655411567729195,
          3.0002356858668833,
          0.15000872558749026,
          -0.5219177664341914,
          3.047428758666204,
          0.8524577565344761,
          -1.8419708771379113,
          -1.421250538743619,
          -1.5990912760966651,
          -0.09245231702928303,
          0.7589239174389395,
          -0.3886175367629261,
          -0.48869129923344307,
          0.18601744652391689,
          -0.5767423202391142,
          -1.0445259856521212,
          -1.4103425017750715,
          -0.9467174638564452,
          -1.557090757749283,
          -2.0316565223762764,
          -1.5050207141774001,
          2.0330414338414133,
          2.9972411903138942,
          -1.1131903712057178,
          3.4143457476927668,
          5.320867729182728,
          4.085991435509487,
          2.1274425358348865,
          4.947269754284727,
          0.47261979243050795,
          -2.2016868255719326,
          0.43167185305864164,
          -1.1131903712057178,
          -1.6057702396471838,
          0.8312197050104072,
          -1.7642479233188502,
          -1.159073207027635,
          4.081447099437764,
          -1.1266837590924166,
          -1.291954768053505,
          -1.7723311723076094,
          0.021900563903481163,
          -1.8333368443589542,
          -1.7602758888628423,
          -1.8693460615922188,
          -2.046542277096345,
          -1.0561390468606324,
          1.1770516789703729,
          -1.8762990960288102,
          -2.425224032256409,
          -0.1221027757393355,
          -1.6260066325782996,
          -1.8445494912080085,
          -0.30330829710303386,
          -1.204876458797517,
          -1.818276597506005,
          -1.442209488752755,
          -1.0947009976647613,
          -1.9236465210710902,
          0.06349215750229723,
          -0.7967643032374756,
          -1.3089600393569711,
          0.53546490617424,
          -1.1538421770428808,
          -1.1326586912829244,
          3.1056989824074224,
          -0.5655314564562374,
          1.671184758260739,
          -1.6903592808965604,
          -0.17282411226062352,
          -0.15342344242621883,
          -1.1213935734132492,
          -0.35601148920323916,
          4.264393263445873,
          -0.9702087331231127,
          -1.47952070114031,
          -0.01916393802213763,
          -1.6262673095858826,
          -1.0729349066364688,
          0.6594213427915587,
          4.06699538598566,
          -1.7593947139165316,
          -0.614863177454312,
          -0.5328443733186653,
          2.195131016648978,
          4.2110733842281505,
          -2.0951936831935876,
          -1.712677312219175,
          -1.3176226052793827,
          -1.2398389440352926,
          -0.6365159443123241,
          -1.868071836587031,
          -0.20774898984439596,
          4.6631581902132,
          -0.7172902492876053,
          1.412637536211512,
          -0.05348159629165048,
          0.12258449104649283,
          -0.6930082747630691,
          -1.684246261680122,
          -0.9997143462304269,
          -0.992527741651936,
          -0.40554552468515165,
          -0.7943307030855635,
          -1.4179766882023703,
          -1.5077618691738788,
          -0.11864752625193925,
          0.06513251514330028,
          0.4479061806002196,
          -0.5905352698295556,
          -0.6656940772015782,
          -0.125683536510206,
          -0.29682397832757845,
          -0.3020850369503299,
          -0.44315387676607754,
          -0.849756827316445,
          1.5069037952476552,
          0.4803661333128787,
          -0.6970804646138761,
          -0.10347402499997135,
          0.4261184411829118,
          1.7181988956709002,
          -0.14880872420562738,
          -0.860896176018405,
          -0.2118665594898957,
          -1.2074405624776163,
          -0.24447286527723067,
          -0.11108361445809375,
          0.43318289130716375,
          -0.46666599304565837,
          -1.8413507629642518,
          -1.0214066744382946,
          -0.49758848808652045,
          -0.6844849178178245,
          -1.6697028500088251,
          1.9435278334052593,
          -2.5904012105039675,
          -0.9832888022778726,
          -1.5102450456487515,
          -1.5772672834448849,
          -1.374754747944521,
          -1.200195319866405,
          -2.550058975169804,
          -1.5609102360473248,
          -1.8902776392732579,
          1.6587543910014175,
          2.7931435870373376,
          3.3936697303588197,
          -0.30781971693868354,
          -0.5170085720229926,
          -1.9380674914976461,
          -0.8915763547993781,
          -0.9886668262046718,
          -0.5696178874425261,
          0.8795324448096477,
          -1.1447334158703661,
          -2.0065454067291437,
          2.8205742097621758,
          4.028986191210216,
          1.7372253796499775,
          1.5655853810053784,
          0.07802122878737003,
          -1.8274876886852285,
          -1.9502075389529874,
          -1.735406529644579,
          -1.8699631356031983,
          -0.5644354650111923,
          -2.0061121385605536,
          -1.76341407841388,
          -1.8723008941323522,
          -1.8639932204222451,
          -2.1058975606514707,
          2.9575397143169226,
          -1.9232812200626481,
          -1.729194502848708,
          -0.3394603933605108,
          -1.4817947434057157,
          -1.364827290068009,
          1.6184380633196083,
          0.6731669759445236,
          -1.39815257971144,
          1.4897707598582146,
          1.0157432689846024,
          -1.0568509529743557,
          -1.7518249634932717,
          -1.2421958404602669,
          -1.93369387277084,
          -1.7598217040333755,
          -1.455552348294333,
          -2.1082944798688468,
          -2.060666043906394,
          -1.4904194189397018,
          -2.073494506413843,
          -3.9937547184628523,
          -1.7804503009224826,
          0.4188013767860381,
          4.0742528668893545,
          -1.6540996021001364,
          -0.8706935586305738,
          -1.231104530128857,
          -0.07788453537429894,
          -2.443401395671396,
          -0.07625660353628236,
          -2.131859024911717,
          -0.16461671372417486,
          -1.7771222855258448,
          -2.2929023354570384,
          -1.2277075421191317,
          -2.427003125158,
          -1.019878194683749,
          -0.6385744256983863,
          -0.6162589382614433,
          -1.590311499967028,
          -1.1226867924008357,
          -0.778011761092548,
          -1.2418348568152906,
          -0.418772248702198,
          -0.5887610453578068,
          -1.4255157505699636,
          -1.9236465210710902,
          -0.8321122702871249,
          -0.710315539564777,
          -0.45457897450550977,
          -0.5006469673618129,
          -1.3433860165170106,
          -0.5586881735072367,
          0.718367059671958,
          -0.8757146430848197,
          -1.0684891129569072,
          -0.37919072063458864,
          -0.5255270518176565,
          -0.48993083701793316,
          -0.15972671026188512,
          4.813777021504079,
          -0.8690009426865871,
          3.321552105448822,
          -2.579204212530709,
          1.5603981597326746,
          0.8888968989143604,
          -0.47690770582583436,
          -1.3173980164012025,
          -0.4962570470088788,
          0.3375764127658361,
          2.148755017920208,
          0.5205896223390909,
          0.002390378671264342,
          1.44385437022298,
          -1.77229207567144,
          -0.21138765775075322,
          0.9097158032319781,
          4.844601565033677,
          5.6663841566613184,
          -1.941710896705666,
          -2.1065509824092183,
          1.140796258083533,
          0.23103463786948586,
          0.42561757819746504,
          -1.5657114923930822,
          -1.5657114923930822,
          4.244480994355996,
          5.1767087449736175,
          -0.8596027093370087,
          -1.0270738870476324,
          0.3751242769202263,
          0.05181137151232485,
          4.58255384520449,
          0.5168944033678435,
          0.06057426972990455,
          -1.7784927255694212,
          5.408174041012425,
          2.532775701991876,
          -1.5302866131478012,
          -1.0610339222842122,
          -1.09477363805292,
          -0.9227741339323366,
          -0.9605533109182789,
          -2.132240077056638,
          -1.6689001793002787,
          -1.4351673016485866,
          -0.7169772246162472,
          -0.9568264963416665,
          -0.9416875707314996,
          -0.4133385047052847,
          0.16883070258110078,
          1.4322493420169804,
          -0.781321329747646,
          -1.1271281147595327,
          0.6524595908390046,
          -0.6927403014042204,
          -0.6732878229230723,
          -1.1414799926170132,
          -1.4892770702646911,
          -0.35535854852106785,
          1.829448716580516,
          3.65607727182223,
          0.726179940162258,
          -1.896971419854983,
          -0.4193939514430091,
          -1.273066331883836,
          0.10397499296520987,
          2.0964836415896624,
          -0.8776788935290599,
          2.5299097893625846,
          1.0082003519061766,
          -1.8902776392732579,
          -0.4220782534476125,
          2.109005714349952,
          -2.371561218751933,
          -1.0444388347634854,
          -1.2311316155798784,
          -1.1776970800546391,
          -1.0345327312064305,
          -2.7234666403161034,
          -1.7104420113557302,
          -1.9914059300228177,
          -0.6226927475906401,
          -1.0468527623234294,
          -1.2900248382332749,
          0.123091129732661,
          4.6524036896912655,
          -0.40462364134067347,
          0.4430017973536212,
          0.7869224265474065,
          -0.5605651851159854,
          -0.1284380924329541,
          -0.531402880627705,
          -1.023829088862141,
          3.174879734132036,
          3.8595387667647443,
          2.602623133165775,
          0.15833263461928224,
          -0.7710403655798267,
          -0.4995419530279301,
          -1.2938074605601018,
          -0.3580542688912648,
          -0.8371847600040481,
          0.2332762265516227,
          -0.08852138585591847,
          -0.6084691009396409,
          3.8798628593031768,
          -1.6480835900823727,
          -0.07920628817761115,
          0.18122554674263586,
          -0.7235894288501381,
          0.3806768139362989,
          7.2265446090149235,
          3.4015397135220793,
          -1.4159279091453285,
          -1.912796030564508,
          -2.0174373591629933,
          -0.8956325749527951,
          -2.26034960431119,
          -1.9407337361195272,
          -1.4539395308420229,
          -1.9899331345222528,
          0.5563608894958337,
          1.365574127458924,
          -0.6778354788931389,
          1.4872586279570377,
          -1.423700845133622,
          -1.2748104198497454,
          -2.5524611671940165,
          -1.737566270810136,
          0.8903585804759294,
          -1.3514066895790269,
          3.6734951616390212,
          0.23893979548550556,
          -1.8009380597154063,
          -0.6930082747630691,
          -1.1302346153383853,
          1.042460996955455,
          -0.38549302852157946,
          0.4808026898470224,
          0.36960151506622374,
          -0.24312431299061177,
          -0.31429896661330253,
          -2.1229905425409297,
          -1.7729246995643382,
          -1.6173696754713016,
          0.23810845387496787,
          -0.4833916699937413,
          -1.727371155184971,
          -0.10198804553304734,
          0.5055144803084028,
          -0.713143081752724,
          -0.8951228201123644,
          -1.0597890934720613,
          0.3674321547116669,
          -0.3275524799958206,
          -0.15392290335129086,
          -1.0079751959068284,
          1.331226750839262,
          0.14879178398842166,
          2.5937576493924195,
          5.280198100270838,
          2.6125401236233965,
          -1.2429187294667834,
          2.883460748025334,
          -0.845495893298662,
          2.125563179636892,
          -1.2848447129982987,
          -2.3335290439494853,
          -2.387460845551281,
          0.47081022186238536,
          -1.87036540913001,
          -2.6048645631439284,
          -1.5249585479981824,
          -1.931135213046159,
          0.15925914311312853,
          -0.33685427467472956,
          -1.723813220650063,
          -0.1452317393293588,
          -1.1513324744387916,
          0.5329054203221865,
          -1.961224910202729,
          -1.239929216376103,
          -0.921352042534898,
          -0.2934493481289038,
          -0.7878251517408997,
          -1.9817641589624015,
          -1.7244851503949112,
          3.9255172860697374,
          1.5942931299634597,
          3.1863353179970493,
          0.9775969311537851,
          3.586743250825523,
          2.6477450497993638,
          5.270217759644972,
          -1.7082485977385526,
          -2.199803980460223,
          -0.06578081779005304,
          -0.8368706284559655,
          -0.7854677175050846,
          -0.2091640274211778,
          -1.7085754585994832,
          -0.2091640274211778,
          -1.399732077712707,
          -1.0909590554136066,
          4.169466471505725,
          -1.3684630603624215,
          -1.932428367187304,
          0.11061706995923457,
          -1.8318071541194512,
          -0.9598571387641528,
          -0.20192591787070185,
          -2.3224821040846484,
          1.2956242638589621,
          2.4399389680424712,
          -0.0034299770508503954,
          1.9689878707923272,
          -1.8110394558681604,
          -1.2760228016973991,
          1.7512646091908475,
          0.04735484250802928,
          -1.4262864308855532,
          0.8119245867926482,
          -0.33516147313772554,
          -0.28854191440585997,
          -1.9135217129716566,
          -0.4450657468956573,
          -0.38980135923956,
          -1.0965604946490637,
          2.8632445586955493,
          -1.0064366536641483,
          -1.6679956265557836,
          5.037072097193791,
          2.307251668789421,
          0.9817234747421218,
          3.0232908871047823,
          4.117010734472987,
          4.113361444554919,
          -1.7640887933065448,
          0.15200397301154706,
          1.0100574747776057,
          -0.09826825918659739,
          0.7454678649645963,
          -0.07912913968776601,
          -0.5869929672815053,
          0.06137656758641546,
          -1.2493185544417886,
          -1.1625329569665985,
          -0.5446464357178712,
          -0.5257359411169934,
          -0.6973969041449737,
          -0.9719600477668994,
          -1.7113924337417719,
          0.662609953605252,
          0.3799066704611537,
          4.353172762386838,
          -1.7505111883218232,
          -2.6082819147952407,
          -0.774443095648473,
          -0.29049845972909033,
          0.19347918400083863,
          -1.5005648417719328,
          -1.3802231760043528,
          -2.520149113309612,
          -0.6742590697690068,
          -1.2280633296074592,
          0.42297421259544393,
          0.19347918400083863,
          -1.6139893679672441,
          0.2459207013415716,
          -0.9320241203449573,
          -2.029188215364683,
          3.0861648235299484,
          3.28963023562895,
          -0.8430280926050705,
          -1.0191080260121521,
          -1.258131171944333,
          -1.4293847145323808,
          -1.2280633296074592,
          -0.8918518314853032,
          -1.1625329569665985,
          0.3320094024663948,
          -1.4006157751179222,
          0.47495516260105536,
          -0.3285383111216559,
          1.231723413522921,
          1.898235146478136,
          -0.8272044736771348,
          -1.1182953375910347,
          -1.2140979999974282,
          1.410280915572893,
          1.1162558244140937,
          -0.9625261685035064,
          -0.227743428839174,
          4.820483671447009,
          2.806672678167793,
          -0.8910597762575795,
          -1.4197100225439558,
          -0.6373053624231064,
          2.6678110759629496,
          1.3709647550842836,
          -0.850992762037043,
          -1.1349369532310436,
          0.30831398576217517,
          -1.4183221756409605,
          -1.1093252736015082,
          -0.7858824490959345,
          2.1433565649047144,
          1.6998034813955671,
          -0.576742320239114,
          1.1753290502837002,
          0.7683249437917398,
          3.067247968624568,
          2.1713827731880726,
          0.09109228763953175,
          0.17424196049512028,
          0.3190799364008108,
          0.5277083757468619,
          -1.589141834011745,
          -1.8079063743752282,
          -3.000949411712801,
          -1.568343055410004,
          1.253132096652607,
          0.4800788069577344,
          1.1470176346512182,
          -1.3095170917389256,
          1.5929388159834164,
          1.0710420132491292,
          -0.6277790692076233,
          -0.7049891902633264,
          -0.3660994904340942,
          -0.48717640946067176,
          -0.7621598571323526,
          -0.09005428008473304,
          -0.14868520555969061,
          -0.2507783494082107,
          -0.7043224955062207,
          -2.109018269583261,
          -1.879334070811123,
          -1.4483273104314527,
          -1.6855200932596472,
          -1.8814813682552243,
          -1.4090316369170137,
          -1.8761815210993245,
          -0.41135347671405936,
          -0.8662032598582585,
          -1.5843624105760064,
          -2.442834751812609,
          -1.0024189493957558,
          -0.7470110613107914,
          -1.2099907754251207,
          0.8179688501593775,
          -0.3212642807458103,
          -1.1398522347318454,
          -0.8437018248035706,
          2.04225288520613,
          4.763938610263664,
          -0.8284168584098442,
          -0.6352570447275036,
          -0.851505985634521,
          2.246176734164681,
          -0.3982392926568287,
          0.6404987805565758,
          1.2643075804942296,
          5.1993546278107985,
          1.8583829004360768,
          0.7197917125418754,
          -1.8100918480866655,
          -0.0514358947703243,
          0.3738921019551166,
          0.7611727109350759,
          0.8241113127768877,
          0.5550844565870735,
          0.7400410988074477,
          0.43047588600987835,
          -1.1913376013534493,
          -2.0196290838920725,
          -1.0362298519507236,
          -0.6266858975965724,
          -1.7617435578112288,
          -1.9484506333422855,
          -1.0008080358122458,
          -1.9465609399407124,
          -2.476175635292686,
          -2.657580092427617,
          -0.7988177186083164,
          -2.132364305711081,
          -2.5641686556704393,
          -2.130563835869556,
          -1.027109505898173,
          -2.2711827620735563,
          -2.9955679707193252,
          -2.0137771473781396,
          -1.543760062900464,
          -0.5641657478210662,
          -1.9539615900671436,
          0.135311774620939,
          1.5240830508841008,
          -0.3897913275357004,
          -2.1472490541110067,
          -1.716576723065332,
          -1.7102416567782464,
          -0.29456810914750314,
          0.6183200167275016,
          1.1050523168212691,
          0.013477089149456493,
          1.3552239026426245,
          -1.498784208534467,
          -0.8367365709615124,
          -1.0892869241340002,
          -1.1815682360615913,
          -0.835998626540165,
          1.8064229455207188,
          4.573522285535855,
          -2.3895472039585015,
          -0.8875625801717627,
          1.5623932472527693,
          1.6129921406346894,
          2.3782870107067726,
          0.24814725641207497,
          0.8731453432239893,
          -1.7647645267425438,
          -0.13139150759423335,
          -1.6129773081287346,
          -0.5758965096135348,
          0.07342012773008705,
          5.948310252700202,
          -0.2603117476767211,
          2.34395297742316,
          -2.031774874687598,
          -1.3422308343188225,
          0.5257049943117358,
          0.2204243997714507,
          -1.4231533307505313,
          -1.9680325183749654,
          -2.490004187789632,
          -3.6403170139945336,
          -0.7100689834528808,
          0.1803774457546649,
          -2.7307792390101326,
          0.6051493269356287,
          -2.012226808574385,
          -2.988237786590675,
          -1.9881226567087897,
          -1.1001811056752315,
          -1.63225601024814,
          -1.558521278536876,
          -1.2003769056176092,
          -1.151803565517247,
          -1.562657540876255,
          -0.7030185679656781,
          -1.5109878564250239,
          -2.0949762564053693,
          0.21820803727111857,
          0.2810209256473471,
          -1.5999015985109135,
          3.6364376718953983,
          4.377634569812748,
          5.517832620777449,
          -0.15593220469833258,
          -2.7823545006812167,
          1.705818604551294,
          -0.3325634464411625,
          -1.560633597882819,
          -1.4666166729454662,
          -1.6720377493956844,
          5.050054496026235,
          -0.4211302351958695,
          -1.41568057817847,
          -1.0310175317531443,
          -2.059461933825435,
          -1.1993121002513591,
          0.8418391167498293,
          0.5277083757468619,
          3.2000540604664502,
          -1.091895659316919,
          -1.66403213702907,
          -1.794037951933162,
          0.26759154444683086,
          -1.1761461616742346,
          -0.9236608800933447,
          -0.7383878592737926,
          -0.737011567656227,
          -1.7260061487881722,
          -0.8276749826467553,
          -1.0981889258275153,
          -0.06860373314219143,
          -0.19842300499808738,
          -1.7252882884251952,
          1.9027041250642698,
          -1.2041377469320003,
          -2.146761574037715,
          0.5675226390225948,
          -2.7378605856359584,
          -2.364673522999305,
          -1.5159051852544076,
          -1.1991820155424169,
          -0.2390187911039026,
          3.7555101009976433,
          -0.9172187524603747,
          -0.6027578678703441,
          4.365128553031852,
          1.3570526592632621,
          1.0610805001881753,
          -1.091895659316919,
          -1.091895659316919,
          0.3799066704611537,
          1.0507517772310702,
          -0.8347222062998007,
          -0.4362902449973938,
          1.839346014750084,
          0.9749323262388528,
          3.599847460359529,
          1.3878500421641164,
          1.880899893264137,
          -0.24102161445379278,
          2.5242881418413696,
          1.8226454879784875,
          2.382405468796726,
          2.7160711465674643,
          1.3400521098127434,
          2.0675085711906016,
          -1.3774147805614496,
          2.1169017128094136,
          0.4725370812856807,
          1.70050903302792,
          1.0124138734776418,
          1.4638489861406865,
          4.51741528577057,
          1.6062390664664288,
          1.509098548391418,
          3.3281730713216464,
          -0.7586867391814033,
          -1.9710893785207468,
          -2.627945347818508,
          -1.095921722113375,
          -1.7330340393361578,
          -1.5509421569582766,
          -1.91532642308257,
          3.2865430676300704,
          -1.8853012598366496,
          4.031929446383438,
          1.0917032949632048,
          -2.099589175122624,
          1.6077515138179566,
          -0.7338996331495037,
          -2.329923166852288,
          -1.6714994013804194,
          1.322793692923373,
          3.22457880487114,
          0.8493078136160138,
          -0.8991050041159997,
          -0.25963697831105526,
          2.4878459896885223,
          -1.0057381074581446,
          3.7826527020996905,
          -1.9157679231230473,
          -2.002623395739876,
          -1.6696448272331217,
          0.35150546256900844,
          -2.446048369204401,
          -1.7619019356353525,
          -1.6517774567678394,
          -1.6237547621234047,
          0.8957766323986631,
          -1.864228674327059,
          0.053373448240999176,
          -1.6425344618411415,
          1.3552239026426245,
          0.14624608874565279,
          5.8582097216168725,
          3.7180312609607884,
          4.9937935901750965,
          1.899945553962169,
          -0.8127854597663109,
          -0.9882751706880363,
          0.6321516301100986,
          0.013416667960795218,
          -1.277250408742438,
          0.5751095293838527,
          1.8650579113698982,
          4.510568593122151,
          -0.08449905553375477,
          -0.2416463803129781,
          -1.9830682310610885,
          -1.8494850568377141,
          -2.5072492769425185,
          -0.31208753852228316,
          -0.19799516276387974,
          -1.9132406824951977,
          -0.46675708557075873,
          0.530132111483589,
          2.8059892371366995,
          0.6503978876248567,
          4.008015267389634,
          3.0007464182467127,
          0.30328525020158514,
          0.7826398955578474,
          -1.4792219052824116,
          -1.3563827742337016,
          -0.966070926083058,
          -0.052599324175078115,
          -1.377652309174927,
          -3.0725256635991207,
          -0.4751356317600318,
          -3.0267560599545087,
          -0.8325111872744725,
          1.7747900310136344,
          -1.0280691588067064
         ],
         "xaxis": "x",
         "y": [
          -0.011146290126806173,
          4.4984830404915845,
          -1.2584950530912407,
          -0.9316902391794387,
          -0.9998605575699311,
          1.4491987952161336,
          -0.15349105666351648,
          -1.0976948285917079,
          -1.2029511963611867,
          -1.672071018582591,
          0.624581607711947,
          0.3542795183340949,
          0.6218862595041179,
          -0.7257260770647147,
          -1.7533744258913728,
          0.09456002264657831,
          -0.7607765416859085,
          0.09023324070523155,
          0.6354891072036879,
          0.9549247299482796,
          -0.8173396601849978,
          -1.2470979651002096,
          -1.0384504583107164,
          -1.8477530524364019,
          0.36640565879192916,
          -1.0939423326821627,
          -0.5130725914703955,
          0.1928519103816353,
          -0.40850583478902386,
          -0.40191277686913396,
          -0.5390360868356462,
          -0.5093297116411041,
          -1.5551823065201944,
          -0.3275202482615793,
          -0.11881659332814576,
          0.6359085300784678,
          -0.587681082182172,
          -1.6234813101233736,
          0.9261554472362562,
          -0.002583714634441639,
          0.9482384115361056,
          -0.4325272360306116,
          -1.0477234546789858,
          -0.5884127949167761,
          0.10962376719394705,
          -0.17631562638303241,
          -2.231310852520513,
          0.3421759568804058,
          -0.13393724871445478,
          1.8282937839211026,
          -1.5586608599510292,
          0.39413770702294654,
          -0.16899555980659164,
          0.6402870848131608,
          0.7535261568595861,
          -1.0071979202008565,
          1.2513815447321524,
          0.728379525405049,
          -0.31558709207069086,
          -0.37430842773813094,
          0.6971582660739039,
          0.49078150228465545,
          -1.4496313293936152,
          1.4022237154782553,
          3.182515407806576,
          -0.13343620635138118,
          0.7231412843907865,
          2.4356732324127717,
          -0.6624452959667972,
          0.882861064926853,
          -0.4539974243368528,
          1.2895652026945428,
          0.7021569500086048,
          -0.03212034941795751,
          0.1558931183333505,
          0.044837405588017396,
          0.7644853720457696,
          -1.870083008671788,
          1.942401413073395,
          -0.5355532328520214,
          -0.7101916522494076,
          0.6821340814378507,
          1.509604288913734,
          1.0677125248492458,
          -0.20319345565050237,
          1.9000703759917137,
          -0.9569272319374198,
          1.7957948181498584,
          -0.5045512816835339,
          -3.035114235492886,
          1.185874329517808,
          0.876020615890889,
          1.06587108314434,
          0.8982598530428675,
          -0.10984688935739499,
          0.7719022721632364,
          1.199081680321864,
          -0.05275616015040266,
          -1.8569894900465935,
          -0.3264355253289215,
          -1.69394818406683,
          -0.10438796376462105,
          -0.14531043781235325,
          -0.4996968944645941,
          0.3260647888357192,
          0.5077876996618912,
          -0.05048147181217129,
          0.4746966598255564,
          -0.38797355248060167,
          0.9981145621078833,
          -0.06458868577411364,
          -0.16680607960513935,
          0.6183612930258745,
          0.3466789772890111,
          -0.8498816694047538,
          0.028285354530940797,
          -0.4309880876226712,
          0.9716433758065666,
          -1.0005494442087883,
          0.566529012538566,
          1.1465811195268025,
          1.396474433756304,
          0.4331926430237963,
          0.09286868670805334,
          0.2827170296635816,
          -0.4675119546435413,
          0.30059066562799175,
          -0.2568312192639133,
          -0.7082299299146099,
          1.965355687242327,
          0.54026609205884,
          -0.4733052245128082,
          -0.4590570749385412,
          0.17712840735323707,
          1.3226057430132456,
          -0.18364572119185532,
          0.5715418725763883,
          3.182515407806576,
          -0.2252076926587107,
          3.337277772905862,
          -1.178701656053365,
          3.337277772905862,
          0.8919286352285133,
          -1.662122934101517,
          0.9126518916872733,
          0.04544220504715637,
          0.15799090914534705,
          -0.3881116746652937,
          0.7693841067862326,
          0.31652003537511153,
          1.5899977353431347,
          -1.9047868000468384,
          -0.9570850389300135,
          0.22303451284726297,
          2.1053849872447774,
          -0.6995465461225071,
          0.7111076327776112,
          1.0092401714194632,
          0.3238118826696482,
          -0.16319434873238023,
          1.0404375904923153,
          0.6564793989659168,
          0.3951741514894223,
          1.2410104338213073,
          0.3769590932264062,
          2.4618886452370736,
          1.2357005578886244,
          0.2634743406935114,
          -0.31498030623084144,
          0.5105081730241818,
          1.1597876950391848,
          -0.15864705407278618,
          0.296058445991038,
          0.08484118937578793,
          -0.7467089182464846,
          2.211413217937468,
          0.08320541248182392,
          -1.044344178492072,
          0.19123446817488401,
          0.6089226265344294,
          0.7789952619638937,
          0.9523723915944732,
          1.0296391405424699,
          -0.3626701596053878,
          -0.9711390263760878,
          -2.642486423345231,
          3.103331962225936,
          0.21619308773179463,
          0.014957619740981117,
          3.919038472857364,
          -0.572314827397023,
          -0.9986452552999854,
          -0.9516486023188423,
          -0.690698866051482,
          -1.1840841818426264,
          -1.300618990890575,
          0.5947979963623257,
          0.0805416263861383,
          -1.8790387512323234,
          -0.33885212574193035,
          -1.6309491743985565,
          -1.0941715165686379,
          -2.4464617479279056,
          -1.1407059930266366,
          -1.8453286786660485,
          0.6507379346285515,
          -0.471180875700817,
          1.0197325913084694,
          -0.2733651563736524,
          0.017367780195285207,
          0.7744178910726955,
          -1.165349075284613,
          1.5829275370760423,
          -1.2845530401926448,
          -1.3462327707720672,
          -1.1924586912170803,
          -2.355220982919509,
          -1.6350920282524655,
          -0.7943134394819927,
          -1.5948015187911324,
          -1.036774416376771,
          0.23834202586569286,
          -0.9150329918104062,
          -1.6791143643828979,
          -1.1140081837787805,
          -0.42641535088458193,
          0.19720315170070218,
          -0.7675781583836268,
          -0.6634064026910811,
          0.018494863427140823,
          0.03239395742923518,
          0.5429849610833285,
          -0.5502293308844961,
          -2.5877559470825324,
          0.07003755588593194,
          0.738764646817829,
          0.8517448089595113,
          -1.0045392123559658,
          0.022744918930617662,
          1.1028840070236061,
          -0.971148269507438,
          -0.5747759434969214,
          -0.7041665708533794,
          -1.2590290776964865,
          0.5110837248386954,
          -0.447392930274673,
          -0.7770987572885035,
          -1.512809806131731,
          -0.010119072281301055,
          -2.65651704428366,
          -1.8578537653499607,
          0.029678348751540937,
          -0.48811766008405044,
          -0.4626350100807706,
          -0.6323213193002077,
          0.8689648267049033,
          3.2404775080304877,
          3.2404775080304877,
          0.02389228731725112,
          0.6703963948146934,
          0.7996627431599451,
          0.58337371641494,
          -0.1168957854923489,
          0.7123683209024193,
          1.5310948073312372,
          -1.6069800221607184,
          1.855994257066206,
          0.044375399803955794,
          1.2105451052359513,
          -0.6133121765032451,
          1.0809283795560023,
          -0.21205336988886256,
          -1.1818910023338252,
          -0.7775444494726218,
          -0.6234088227383855,
          0.5694778943370093,
          1.717518937021363,
          -1.0189490622171729,
          -1.1180976339575937,
          0.5457794249420201,
          -1.220320439422537,
          0.8906898331423555,
          0.9608276029309014,
          -1.267261303422762,
          1.6835784222938979,
          -0.7047166607825148,
          -0.6445389710374174,
          1.7118067203121345,
          2.070033591790968,
          3.7740953500324244,
          -2.526402043882361,
          3.0277051545857123,
          0.7863022708009524,
          2.853662751981009,
          3.7740953500324244,
          2.051357055763082,
          1.4012277428553164,
          -0.9266969511957187,
          -0.6326476919953293,
          -1.1279563071617373,
          -1.1810383810275713,
          1.9575377687744198,
          1.9979683623798505,
          0.06784792539787061,
          0.5362425827548238,
          -1.4777415250203856,
          -1.9777901671231997,
          -1.1096645491064123,
          -0.7895282956595103,
          -1.4068333771286492,
          -0.8359585182991267,
          -1.5475653090429078,
          -1.2046762480700821,
          -1.6143833336086213,
          -0.5314998546403819,
          0.1802771201047223,
          -0.7320794166920261,
          -0.035066869396597526,
          1.9807742361710314,
          0.42232942329204265,
          0.28360676072867225,
          -0.6255932639365447,
          0.7112353207108731,
          -1.1077101885611718,
          0.488249080113107,
          -0.22795730447657603,
          0.1971782497767435,
          0.3150319980462697,
          -1.267261303422762,
          1.1177165541627063,
          -0.44571727774836295,
          -0.8138693535483432,
          0.3178642790899864,
          -1.1464663024558044,
          -0.17714161009327864,
          0.34844421110532114,
          2.406404972446324,
          -0.00035252177764487044,
          1.8873203415832414,
          -1.3725204164548337,
          -1.2657688377536698,
          -0.6949733179444147,
          1.8873203415832414,
          -0.8101213187323101,
          -2.9183415164682867,
          -0.9151402576715423,
          -0.9894869373615441,
          -0.29923272082723906,
          0.47601987186311057,
          -1.5094498562717866,
          1.8873203415832414,
          1.1113603909961733,
          -0.3749760147515876,
          -1.2545771481814052,
          0.9048464943469031,
          0.14491983213610518,
          -1.0798413560153644,
          0.8958070512138105,
          2.0607557633872755,
          1.338069490666643,
          -0.7927850799344975,
          0.7801239402947839,
          2.3890026316786592,
          0.010923878415341017,
          -2.7011628810914057,
          0.3071600666562876,
          0.40601777210735657,
          -1.7931461706698153,
          0.6582528726690448,
          -1.5634644260717694,
          2.4150542414887304,
          0.5843336029259838,
          -0.6038418556220857,
          2.282537677712435,
          0.5348228328720844,
          0.44349978495395953,
          -0.6515118089357849,
          1.0533504658934283,
          -0.05684593511018233,
          0.7667072369066998,
          1.9924299245585113,
          1.6650019235103017,
          0.0989133857527208,
          -0.21030445971978018,
          1.4049591878689258,
          0.6572987131801558,
          -0.7572609888099867,
          -0.42897885501636657,
          -1.1663827255438788,
          -1.0375737857811518,
          0.3177602599695225,
          1.1770272825990258,
          2.522013302298845,
          -0.35565697175471583,
          1.2739159471111912,
          0.12552664107296263,
          -0.04443688853521278,
          -0.9598826795695855,
          -0.9994617694103692,
          -0.1719223856015656,
          2.0825047669647554,
          9.80861566527574,
          -1.9109995363880066,
          -1.595344885350465,
          -0.20772046078352574,
          0.3837984365774658,
          -1.6622338726879484,
          -0.5449138158015002,
          0.39260421140155893,
          -1.0816366373679902,
          0.2533103235365447,
          -2.393874721053964,
          -0.47150127593609836,
          -0.17561167281722198,
          0.745144043008631,
          -1.6873495018786022,
          -0.20380451675243122,
          -0.6772495315786101,
          0.4515441159027966,
          -0.47274860646605465,
          -2.612478894522992,
          -0.5263262266185562,
          0.8079535533547776,
          0.1138316848656292,
          -0.8406691236039723,
          -0.07662975110137471,
          -0.513263948108014,
          -0.5820581328286752,
          1.4966189151479763,
          0.2159129418191743,
          0.8749333087385136,
          -0.49583472433259235,
          1.266796938917897,
          -0.6352214968617711,
          1.7116862484490876,
          -0.05981311705813803,
          -0.6497724736162306,
          -0.6584021042342935,
          -0.11984531532774442,
          -0.6498927216938692,
          1.6583247694069472,
          2.0021393264062306,
          0.10467094944933375,
          0.1259307123953064,
          0.921184280850531,
          1.1566985880876253,
          4.13797182772191,
          0.45103399100912805,
          0.7392753979079743,
          0.7802223761612866,
          -2.001011530090767,
          -0.5462424385825616,
          1.2886913072683883,
          -0.4138934852797081,
          0.5142060333389619,
          -0.19834002790450114,
          -1.1325191168425937,
          1.0888335146592352,
          -0.8852774981108709,
          -0.2595736667103254,
          -0.3365596012460389,
          -1.4383020605948784,
          -0.8553689297851286,
          2.0374156634903415,
          -1.0849805099308225,
          -2.6249725104295534,
          -0.29118493718810545,
          -0.9406771827196888,
          -0.8619638727305554,
          -0.7446552433346845,
          -1.5806404300447325,
          -0.24540199652620284,
          0.16613234798095294,
          0.25522346651492545,
          0.8974807722274424,
          0.6208671719375592,
          0.28059253069266155,
          -0.6340873085014075,
          1.0661851762831867,
          1.55039648712664,
          -0.7612398420860181,
          -0.06922749235527241,
          -2.1577156365998036,
          2.1872713095154004,
          -1.321554852062224,
          0.7356238326523747,
          0.767364251082473,
          -0.06979929244775819,
          0.4886676650433234,
          0.26698121988756895,
          0.732812356397961,
          0.5861214875061443,
          -0.9953858151396148,
          -0.17759522520563747,
          -0.6764116893753345,
          -1.298921322411737,
          0.8921496309187891,
          -2.267536479736287,
          -0.6406026434243616,
          0.08160718107044285,
          0.7976536903440774,
          -2.531916305770234,
          -1.0799014176355546,
          -0.19615586969321375,
          1.1384170320766442,
          0.28707549080251377,
          0.42268510345319343,
          1.5804058973004507,
          0.7663364597659549,
          -0.6146786963745653,
          -1.117519342186273,
          0.6785761172927772,
          -1.1806363394390702,
          -1.2359788765089312,
          -0.31955324249624684,
          -0.37440710690790374,
          -1.8640708749147732,
          -1.7773287436540244,
          -1.9813608548146273,
          0.2570733598340722,
          -0.6155426574374885,
          0.2429255993826808,
          -1.1616324224085022,
          1.895862279855883,
          -0.335660636516857,
          -1.0694624857178252,
          1.7513158520768177,
          -2.436794523799688,
          -0.7722764505011075,
          -1.1810989500449758,
          1.9317052289038255,
          0.571635861033016,
          -0.4666957497791018,
          0.7085487574433725,
          0.28161800267876064,
          0.39077968913995853,
          1.8664572644859503,
          1.2570515395744721,
          -0.025989927797268934,
          0.08292369316001041,
          2.2125582507039705,
          0.3250617645608746,
          -1.1703087112108839,
          0.2742683209909521,
          0.7085487574433725,
          1.1437392895821454,
          1.3752645944313242,
          -0.5836498678916481,
          0.19823214236746234,
          -1.614894781019971,
          1.0620864810567907,
          -0.936163799806996,
          -0.022866776118986295,
          0.6613537913076047,
          0.385306318430828,
          1.229978164638199,
          -0.0778234875157706,
          -0.1592364575513649,
          0.462791310291957,
          0.8672704536836475,
          1.5854835718191602,
          0.7367549070529662,
          0.7140682739125962,
          0.9688369678118375,
          0.25126802391534525,
          0.5132039117659946,
          0.8372222203501746,
          -0.357367074815777,
          0.7717816493277038,
          -0.6074502986415966,
          -0.26946117978951845,
          -0.8556227790287798,
          -1.1068158657389358,
          0.18685711887944542,
          0.6816277954199107,
          0.9788842536594308,
          0.45208387285022444,
          -0.7983021441809095,
          -0.13385525664813072,
          -1.379631418628687,
          -0.21078138640284014,
          -0.9811799170595034,
          -1.331994816318075,
          -0.19328093980775135,
          -0.2770836557895616,
          -1.9783775271564628,
          -1.3738927533892693,
          -1.2024447361796198,
          -1.3080694576617196,
          1.7650475397544338,
          -1.122915636881416,
          -2.730925832158358,
          -0.8706224842112572,
          -0.524317346908618,
          -1.1097479863616226,
          -1.2308039831949456,
          1.149462402227386,
          1.9641977657477723,
          2.178529382318973,
          -2.8135610607731656,
          -0.44468607627745405,
          -1.3634716348410452,
          -0.6220149462494262,
          1.0416800370699888,
          -0.3952177166580197,
          -0.1944946955358385,
          -0.3852608354914704,
          -0.06318642030526907,
          -0.06793988912860971,
          0.04752527244375174,
          -1.2880149374051082,
          -0.4742245086831727,
          -1.3815311599721705,
          -1.4991282734577782,
          0.10597497457687957,
          1.2977230389711816,
          -1.4864565185645984,
          -0.04309271241806888,
          -2.3328311797700816,
          0.942535211626705,
          -0.9782852103707472,
          -0.8375933378434282,
          0.24182119457517567,
          -0.8490077081291275,
          0.06737530831032344,
          -1.1745357862551729,
          -0.6271315392818474,
          -0.5770669957486689,
          -1.344871269746921,
          0.23196544102466712,
          0.8445197390903237,
          -0.4029009897872102,
          -0.005736214361117165,
          0.44991433403587433,
          0.6750056141422732,
          0.2826921428424715,
          1.2696072180370286,
          -0.487180180522161,
          0.6108104896236383,
          -0.49485873149141035,
          0.118178172382346,
          0.7334875142917918,
          -0.5180917961506752,
          0.18106416040857723,
          0.7146230917208721,
          0.7428997971628286,
          0.5593656303835163,
          0.4849053310827848,
          -1.0171259983707661,
          0.3878104905547111,
          1.6226377843395527,
          -0.17809704794335046,
          -0.12476503646774292,
          -0.2961779604109385,
          -0.273798922636273,
          -0.9268841480713088,
          -2.0380101122304497,
          1.4506337137912293,
          -2.0579085201675227,
          0.03302731056233783,
          -0.6887356962529684,
          -0.5190815328898675,
          -0.7472663186110928,
          -0.8682390206907893,
          -0.23433916561783513,
          -1.405339282447959,
          -1.2981861098400016,
          -1.1127467506287032,
          -0.9768526143068184,
          0.6741636247927267,
          -0.9814765781246898,
          1.0934127148953319,
          1.1383910108144242,
          0.06965396958828561,
          1.9959801067556187,
          0.9755122541602348,
          0.6623848700199347,
          -0.8861233320777803,
          0.7021569500086048,
          0.7363870858767162,
          0.233008964906716,
          0.15532837478584563,
          -0.7151335683911918,
          0.4534623044762579,
          0.5953873912830436,
          -0.12083862405770157,
          -0.7904677532103982,
          0.7442943549477141,
          -0.5173945461923838,
          -1.3671815537397136,
          -2.1647606862810433,
          2.4065757701891575,
          -1.2491142295755027,
          -1.713805745486362,
          -1.1199854719256748,
          1.601971055773224,
          -0.7298052345060039,
          2.6962725990358916,
          -0.351496439531727,
          -1.7024709074298865,
          -2.602808344103327,
          -0.001861857381039436,
          -1.6785787472575258,
          0.17100843015584088,
          -0.266448651120011,
          0.07288441826828354,
          -0.5148061391081227,
          -3.6521473312229364,
          -1.5229955970088473,
          -0.36150444423669664,
          0.33209914601969936,
          0.06386128061297801,
          -0.06798773550581255,
          -0.06798773550581255,
          1.6600878927881169,
          -0.5499230709138899,
          1.165758976011191,
          -0.5731714708818111,
          -1.6661836834923491,
          -1.4165624627850522,
          -1.430832818093604,
          -1.1943971753589009,
          -1.4274095208739344,
          -1.1511209970770342,
          -1.4869190971071564,
          -1.5228713473950581,
          -1.4516382091534221,
          0.1759016503865468,
          -1.2007541057312021,
          -1.157451330411484,
          -0.8775905383634277,
          -0.5753777267466685,
          -2.0477466943732647,
          -1.2612019677118798,
          -1.6578915972040704,
          -0.9738377876979699,
          -1.3021828325620146,
          2.030428652041029,
          0.7354293886633683,
          -1.415090518826,
          0.5545644883197907,
          0.4961085640844195,
          -1.4305639637987209,
          1.6075802808416426,
          -0.8012284798287452,
          0.6747351899313623,
          0.12194654885889855,
          -0.09902124256603712,
          -0.0692492588792313,
          0.6715536596689557,
          -1.1968649079150158,
          2.178529382318973,
          0.7120396547541842,
          1.0719117293829001,
          1.147852074059686,
          0.6481283190597528,
          -0.5960966025054165,
          0.22109387579757483,
          1.9766866328626058,
          0.06676449711305363,
          0.914371397279812,
          2.8467708265343066,
          0.1470187709122623,
          1.2816469698098123,
          2.8467708265343066,
          -1.9407940206375276,
          0.04594027856043277,
          -2.106243615014698,
          -0.747307781849699,
          0.3813305370708728,
          1.1563480223931903,
          0.09832857235024157,
          1.319545064555079,
          0.6838502211062971,
          0.9286327150239193,
          1.2197449477602853,
          1.1812618877138925,
          -0.24626779839357044,
          1.0543507232367986,
          1.6346249482684645,
          1.1208526375187813,
          1.1665004006106947,
          0.35920488968032677,
          2.936844439574079,
          2.3594110153431482,
          1.590927064563271,
          -0.21910571865285033,
          2.2780569687552257,
          2.6215188359867794,
          1.5149446421866526,
          2.1521154668475515,
          0.3527371550411663,
          -1.5239595469806992,
          0.8283125934152263,
          1.4516358923430022,
          -0.07205021415422866,
          -1.1760735761202985,
          -3.1982178651250948,
          -0.8201818438122831,
          0.6486029919662073,
          -1.8391905524002907,
          -0.2958332784407963,
          -0.08593625358312995,
          2.161647716158942,
          -1.5566511731330448,
          -0.1914810210768572,
          -0.7299870431004424,
          -0.7726676252422127,
          -0.8789815373159134,
          2.5965949403301254,
          -0.9684721849669088,
          -0.012415922773769449,
          2.777631799250744,
          0.008146240049376112,
          -0.1291532354291797,
          0.6678652880289532,
          -1.5107021703796677,
          3.0731493555380656,
          -1.4438610416065318,
          -0.5025097048772112,
          1.3242077355585768,
          0.5827095805282622,
          -2.1973568753736146,
          -0.14753873569748463,
          -0.488095352554639,
          -1.345008394361276,
          0.326853261308386,
          0.8459249238174462,
          2.252464482030395,
          3.3049931546089626,
          0.03839524739570471,
          0.9816545686601096,
          -1.7461053753967268,
          -1.4139744288995424,
          0.10598670322736374,
          -1.1229631780375928,
          1.384410689220139,
          -0.16167197298893696,
          -2.2544696238792796,
          -0.6869253409334326,
          0.7902407593582277,
          -0.14973732308850707,
          2.028445670364842,
          1.0809283795560023,
          0.2532824348560157,
          -0.13986980407637753,
          1.5193532518080055,
          -1.5507576235702534,
          -0.8088935101256431,
          0.15044670458467405,
          -0.04500234018913765,
          0.18720132576081108,
          1.296859426407957,
          -0.4626240158171028,
          1.0988180711853772,
          -0.42462718617278955,
          -0.8185606053174714,
          1.1197926281004678,
          -0.6119842950529575,
          0.29474561896679313,
          1.455103871116183,
          -0.4100179474855025,
          0.569194225436249,
          -2.590599150048012,
          -0.18202951374809107,
          -0.8607013036745841,
          -2.296075607260328,
          1.316707646587883,
          -0.27251690398117273,
          -0.5566738862996021,
          -0.7152170885868837,
          -0.702836276061235,
          0.06303033231618453,
          -0.9902208730061528,
          0.019724106704529763,
          -1.5601392302159753,
          1.264552234895295,
          1.7383022229355851,
          -0.24957322851933755,
          -1.0702528843505674,
          -1.2844295150086946,
          -1.246435643307109,
          2.299329986298232,
          1.1641245992756315,
          0.7015448503931617,
          -1.529105487833142,
          1.2451125043197107,
          1.2631399169680366,
          2.210371436006022,
          0.8690317957680916,
          1.7953295321679061,
          -0.2279979509833216,
          1.0354966936301429,
          1.747185016862291,
          0.6393512413680991,
          2.7322746057581973,
          1.938569561698778,
          -1.4797811365083353,
          2.6268932317139058,
          -0.9871339708869433,
          1.5030130287038055,
          1.0529794513877149,
          1.2377964378668687,
          1.396474433756304,
          -0.40502039300438863,
          -0.9982484808587212,
          -1.5468837439767513,
          3.182515407806576,
          -1.5412634785360064,
          0.8001407315361064,
          1.6262958353849482,
          -3.438988591761626,
          0.5753938621894713,
          2.212216389479005,
          2.4836772733523045,
          0.5885938945441723,
          -4.121183392702434,
          -1.3940325838598695,
          0.7540240214844234,
          -0.9321725445352353,
          3.028110069143324,
          2.2881131630279707,
          -0.4078631192511262,
          1.1182369660441591,
          -1.3045923139922577,
          -1.011471505430451,
          1.4550998217037514,
          -0.11640318223676052,
          -2.4161106590600308,
          -1.9796288927708507,
          0.16213361299953943,
          -0.4682875272625695,
          0.591316729418085,
          -0.3108898220591152,
          -2.5200907369768575,
          -0.0943154244917975,
          -0.1378307211658043,
          0.6444051988424111,
          -1.1620644660524477,
          -0.5610637779327747,
          0.23168889026858158,
          -0.5581193468046417,
          0.2153890923015149,
          0.3865471295851941,
          0.9889416595795384,
          0.7515095953074558,
          -0.23329405373395512,
          -1.2297478871028975,
          0.8201643769410966,
          -0.15882043442039165,
          -0.7565388853115688,
          -2.1120286151716217,
          1.8405369669807907,
          0.5764743024800906,
          -0.6914969477991727,
          -0.3157707058674241,
          -0.8810996699177851,
          0.8021470798848593,
          0.1934799769570084,
          -0.4260196653524389,
          -0.5943416563048243,
          1.4291872876100409,
          -0.1640924591100451,
          0.8120993643015336,
          -1.5026498422538623,
          2.598779509754672,
          0.5293587436794349,
          0.778360832625931,
          0.6238136690580945,
          -0.12191949193504314,
          0.2679161610638085,
          0.4237906487477502,
          1.0686408169382267,
          1.4026574288018114,
          1.3879816561431066,
          -0.2146218847953646,
          1.532082671859617,
          -0.6503647631977201,
          1.3022033030346318,
          -1.3393116405859737,
          0.09681015173227756,
          -1.3155880062177105,
          3.283644768299,
          2.7994210517958256,
          1.3470804164822887,
          -0.18101845690861554,
          -0.17543690178552052,
          0.6064345226532656,
          2.777631799250744,
          -1.8230617493286418,
          0.13057729102599006,
          1.2313845008696012,
          0.34660452160359095,
          -0.09832938999495831,
          -0.09436777659232524,
          -1.8418970721984365,
          0.5570265612360626,
          0.33874116018653966,
          1.0151455031556114,
          0.7643506416929164,
          0.0829142445027046,
          -0.10603512351487195,
          -0.04999871550889594,
          -0.8471965335774995,
          -0.7625426989529591,
          0.4494971789327839,
          1.1125741175253265,
          0.6084618967296075,
          -1.2541278438638594,
          -0.6314035129261336,
          1.2962849057650527,
          0.24621207217738192,
          0.053941403926325814,
          1.4956554144984175,
          1.78999100193421,
          0.47066581613318226,
          0.5196573621206033,
          -0.09702344877198409,
          -1.6289827036759454,
          -0.1476210353558327,
          -1.0538483392871931,
          2.5754738973101436,
          0.3269827008452055,
          -1.058483553091862,
          0.28102921468649245,
          1.479534626380904,
          0.8726252657977559,
          0.01912146779114533,
          0.828769871112837,
          1.137836809617567,
          0.26354457909269935,
          2.2707965426279664,
          1.3077206199092635,
          0.8185767880870046,
          0.6650768549335079,
          1.787438072381299,
          2.066405130723686,
          -0.3463926836305306,
          -0.8577415633782169,
          -0.34664296939333566,
          -1.0922817043651085,
          -1.3118166173906067,
          0.8976326080505245,
          2.5385277673135596,
          -1.1870387717949178,
          2.7869826184936737,
          0.25451437231873447,
          0.38936147667520393,
          -1.1071412055199372,
          1.6107705074878231,
          -1.1739525088554223,
          -2.0616820132566835,
          -2.8053945963871185,
          -0.8831663371685475,
          -2.0633678994235884,
          -1.7987616717190247,
          -0.4207314753269841,
          -0.614802421329078,
          2.274393449922062,
          0.1859934865096022,
          -0.5898593904191544,
          -1.201819946596269,
          -0.11050871698376795,
          -0.5749320975573833,
          -0.6406026434243616,
          -1.3543005202399963,
          -1.5725660924039007,
          -0.6421207488010765,
          -1.7657936503406597,
          -1.4009596285162953,
          -0.5103533356941554,
          0.31366695973061126,
          0.10148720546280382,
          -2.227761661146165,
          -2.166398930590746,
          0.9798370766144211,
          1.2933397156417674,
          -0.18737478514681077,
          0.3543719949788702,
          -0.494045741013905,
          0.4082024146126563,
          0.07545889725107947,
          -0.02009748944254596,
          -0.5232755081075595,
          -1.1151845701111434,
          -0.03524547218808501,
          -1.7256356053318516,
          2.565355550971351,
          3.7855980781445613,
          -0.519696912431915,
          2.022522949103088,
          -0.32733611209997326,
          0.9020944113643301,
          -0.931021953981989,
          2.565355550971351,
          -0.9971014093097108,
          -0.29762929933797183,
          0.3241034095638717,
          -0.39729658274353147,
          -0.2918528030421969,
          1.2589704060075457,
          -1.1152716845022306,
          -0.6068327709989872,
          -0.019608718525091384,
          1.857689027053374,
          -0.4460132004082265,
          -0.08888667464901376,
          1.2226267391788186,
          1.3180419447934661,
          2.8347796606319777,
          -1.6881739103057407,
          0.8702582499121667,
          -0.6016329590871632,
          -1.652021668228838,
          -0.6742172913753632,
          -0.16801077379186805,
          0.6829368856863993,
          1.0166141420885253,
          -1.1573513700831806,
          -0.9920311725425535,
          -0.3094075954101755,
          0.27314354771894633,
          0.015838701558660743,
          0.7240235934694026,
          0.8707080592041291,
          0.21601977979558262,
          0.4183086601789263,
          -0.7748456390260184,
          1.6700907754335652,
          0.21471234273482098,
          -1.1733447838065636,
          1.0707460862605005,
          -0.5757347764161673,
          2.791480637215216,
          0.8073484220482444,
          -1.051185803333699,
          -1.1638906002201046,
          -0.932378300038324,
          1.4338452229528569,
          1.5482517667523994,
          -0.8243053696849137,
          -0.2172776174893326,
          0.7408819707686045,
          0.776644487475567,
          1.2466074522256276,
          0.7996077501042814,
          0.7098984500909359,
          0.1573823823360894,
          0.8291981600164939,
          0.4115211848400107,
          0.1850701219470148,
          -1.0699889202336414,
          0.547783599155918,
          1.0667926679701114,
          -0.8775491680441372,
          -0.41127717743982734,
          0.09562702241928528,
          0.07627133581846615,
          -0.41211540420468784,
          1.265137659542961,
          1.1350518360935868,
          -0.06337771493283534,
          -0.4354620140625719,
          0.7196787549342665,
          -4.402578912524466,
          1.9687208683682595,
          0.6555126013851361,
          -0.05604008805531562,
          0.36014843924403434,
          -0.3393310530515698,
          -0.05618864061894415,
          -0.7620360756541441,
          2.2765844364760217,
          -0.1809785248737528,
          0.04741030706685411,
          0.9977781862139024,
          -0.10368604875802799,
          0.08477651925558248,
          0.861242594474015,
          0.7906107892066152,
          2.222153168898031,
          0.927113757282786,
          -0.9330765738277955,
          -0.8988029806520106,
          -2.313794695898914,
          -1.262031299788923,
          1.5310948073312372,
          -0.46980024727535447,
          0.8215286852076018,
          0.7262953082237068,
          0.3474608869182138,
          0.19331601407252078,
          1.4030209257013282,
          1.4136472750859455,
          1.4846899884981646,
          -0.3107178863439591,
          -0.10512270723039358,
          2.788588196063789,
          0.6942665279067867,
          -1.62212051681967,
          -1.5358891258969734,
          -5.3902300913240335,
          -0.05382714583808686,
          -0.28986654175933585,
          -1.2603822989769273,
          -0.780322454564139,
          1.505149577031157,
          0.5803112501175972,
          2.0866649366493704,
          -0.18161001740644284,
          -0.6501600677716772,
          2.800508129550582,
          2.0106846318145086,
          1.0261929757046149,
          0.8826209995591437,
          1.4018861885732579,
          -0.16219622891775667,
          0.2559954609722772,
          0.8691497060902619,
          -1.50118484887321,
          -0.320059727732752,
          -1.2944994042026114,
          -0.5456178840144869,
          1.8888243208696878,
          -0.5729396178889061,
          -1.4908371626662962,
          -2.1898217107727227,
          -0.6979816378653609,
          -0.23905295474811597,
          2.4092943529985407,
          0.9257675849876771,
          1.5566745603483776,
          -1.0069374967242841,
          1.0084966732206206,
          0.9323963957092456,
          -1.0527303276752802,
          -1.237306474288757,
          -1.0619565111290723,
          -0.5555449222733312,
          0.9788842536594308,
          1.0408259298766736,
          -2.8428263971497714,
          0.5180488529611278,
          -1.6905110652741528,
          -0.3262885111417022,
          -2.130031613612813,
          -1.1278168907275916,
          -1.281563485961723,
          2.468497036072907,
          1.0838583358054044,
          -3.1349782903342973,
          -1.6413306810627124,
          -0.45250278470661226,
          -1.952274321102973,
          0.48362291075191594,
          -1.4563425687414335,
          -0.10987314385041529,
          0.6158576137099441,
          -0.5868950184257317,
          0.5769079407121172,
          0.9088328834540116,
          0.974054360965434,
          1.405540222780347,
          -0.4515041144129985,
          0.8918181728173363,
          0.8975360796648456,
          -0.6621999979037598,
          0.9635875557455964,
          -1.225200516924065,
          0.8707039875644628,
          0.8253771930222106,
          1.0561426926150876,
          -0.9405407931339587,
          -1.828782838684251,
          -1.354012449305034,
          -1.6069800221607184,
          0.34601176774672415,
          -0.4822437003617027,
          -1.0797421576520247,
          2.0494423788017344,
          -0.6863589864441052,
          -1.2312058155561374,
          -0.4408077734631754,
          1.9103928827399048,
          0.03270583740353463,
          -0.2099679603913366,
          -0.6289580764774885,
          0.5105359440905791,
          -0.9591936739663616,
          -0.6258817633061435,
          0.06520142346467431,
          -1.7822998845983422,
          -0.8405755615134102,
          -0.6824369774306258,
          -0.30506673575070536,
          -0.6683855409374198,
          -1.2952094103434573,
          4.826559931350407,
          -0.33603727332859534,
          0.5404265351754683,
          -0.1225944463168739,
          0.4040503109581109,
          -0.4306863303344511,
          -0.24231908854981163,
          -3.7463039154988125,
          0.39035402921085993,
          -0.35595835639308954,
          0.060018862612227754,
          -0.893360024728615,
          -0.893360024728615,
          -2.0865163953577035,
          -1.7010795872307354,
          0.26067694030080213,
          1.0922593933929896,
          1.2345506751356488,
          -0.4882407877851723,
          0.4524186313225973,
          -0.8399721363552383,
          -1.5610763688475238,
          -0.5750562636036309,
          -0.8381301731828613,
          -2.730925832158358,
          0.7874939756284263,
          0.491195092744008,
          0.3774487375210164,
          -0.9967827441174425,
          1.2010413815187742,
          -1.6818591537753822,
          -1.460115509427205,
          -1.460115509427205,
          1.2010413815187742,
          1.067042847919903,
          -0.4567946599848616,
          -1.224537885100139,
          0.6475400473459356,
          1.7194337387580418,
          0.4721520501796562,
          0.1351467155885517,
          -0.28063377886378876,
          -0.3541260846265735,
          1.0318573930800454,
          1.7208456743530554,
          1.3009344093014232,
          0.478997591263237,
          1.8697348981141582,
          -0.5914828614287045,
          -2.0590376645165502,
          0.26757430621377587,
          -0.9853266239471644,
          -0.46048160047545095,
          -0.5391510807840073,
          0.9443175429761835,
          -0.2599530298696129,
          -1.0649853089126013,
          -0.2390574205450249,
          -0.7345811253619418,
          -0.08720400421957597,
          -0.048942049376884615,
          -2.8657596347127154,
          0.641459461691027,
          0.6520037893508115,
          0.27478687873120505,
          -0.08784013708630946,
          0.6768356895737329,
          0.3592067485852704,
          -1.310137794730787,
          -0.06956410118681379,
          0.21875627038953072,
          -0.10658644268281327,
          0.3257683708684412,
          -0.29243541414911794,
          0.6336547576565377,
          0.3133456930887149,
          -0.5032505939465272,
          0.5371220456325418,
          2.3743377142720097,
          0.2790429935717464,
          3.192275068124049,
          0.08380126477325704,
          -0.3451750248005212,
          0.6167098993104895,
          -1.0792900548148574,
          0.14936143468670324,
          0.4447099327029959,
          -0.5114790901334058,
          2.178529382318973,
          0.45722060207315096,
          -0.25556123260532676,
          -0.8074208670098907,
          0.9472386308757946,
          -1.2426905814373947,
          -0.3364176185262641,
          1.0736651373184176,
          1.1904782212570604,
          0.7623681292410871,
          -0.6732696472195163,
          -0.644039341069931,
          -0.4569795729109606,
          -0.9355214742832655,
          2.9929437226692435,
          2.7260040104125687,
          0.5718932501658424,
          1.5889260213849847,
          -0.20647348498482926,
          2.5038347489576918,
          0.296150147571547,
          1.084618979639964,
          -2.202209531135055,
          -1.4404515406505753,
          -1.2821572583643759,
          -1.039264505002793,
          -0.835978428243055,
          -0.30479871560060046,
          2.0729705769748685,
          -1.85868590355343,
          -1.2049475634533098,
          -0.5032153485091907,
          0.33624312056904854,
          2.5649619811228286,
          0.3017574318527018,
          -1.7667927291437853,
          0.8235435410088734,
          -0.22551329798238737,
          -2.730925832158358,
          -1.6613392304245795,
          -0.5014512201902207,
          -0.6092820716180176,
          0.8458223801724151,
          -1.9773985178392348,
          -1.05385197262427,
          1.8607976208546808,
          -0.33956864941393294,
          -0.9174984834704685,
          -0.8125754547368462,
          0.14301701527301364,
          -0.43627379330685656,
          -0.9044991715514379,
          -0.27678921811505514,
          -0.2457930742265063,
          -0.824401194635504,
          0.9298124473763034,
          -0.5950664354754037,
          0.44125070418633217,
          0.8445197390903237,
          -0.46507013203248093,
          2.131933849812741,
          2.131933849812741,
          -0.33139835788935906,
          0.441532302112217,
          0.07998978375632036,
          -0.3963211426076423,
          2.131933849812741,
          -0.8155413081291485,
          3.1718734757847757,
          -0.5190281872867507,
          -0.049923364538183974,
          -0.5719527809990358,
          1.4382986039502852,
          1.090066968473883,
          1.7843626906751462,
          0.10095590734267967,
          -0.6444052078607355,
          -0.60618439842913,
          0.5550883374467284,
          1.5481209530840514,
          -0.7817051706674075,
          -0.6388486423779021,
          -0.17090223401107638,
          -0.3261121819132918,
          2.301222596672423,
          1.7357442769118556,
          0.04692563163929132,
          1.3344903152923018,
          -0.3115125472162565,
          1.5407603460529944,
          1.5085799273169234,
          0.8075604130275328,
          -0.4410685895903887,
          1.1461892091104098,
          1.075078164015804,
          -0.025287696876733354,
          1.0359956773490948,
          0.7940371917879293,
          0.010298079972030114,
          -0.23136664446222263,
          -1.1263578380899089,
          0.34827356830738626,
          0.7188007759804237,
          -1.200668586601681,
          -0.48874919385379373,
          1.0511329441517385,
          0.7337050641208365,
          0.5801340207770211,
          1.7465185489496917,
          1.5845399675575011,
          1.2293627570567205,
          -0.06943785397606708,
          1.314224599079935,
          0.3466877992177157,
          -0.3224727914058868,
          0.2900924021945434,
          1.2744631039301562,
          1.950146889917615,
          1.2293627570567205,
          -2.3742008151056493,
          0.8097924046763038,
          0.3257493828803811,
          -0.1136722977489436,
          0.5239443339764671,
          1.663746957651307,
          1.7453471747826566,
          0.1983225982378688,
          1.7258681710226251,
          1.4745753880275592,
          1.6228113586987156,
          2.1264928384127186,
          0.30837059075439516,
          1.164203088065381,
          1.141539810653922,
          -0.025287696876733354,
          -0.6942782995410693,
          0.6062441505324666,
          0.8056575915427358,
          -0.9718696038331135,
          1.1846475025888186,
          0.222603931209878,
          -1.138033388572186,
          -0.4229417107027702,
          -0.9603842841299481,
          -1.2655864882815997,
          -1.6743094682762167,
          -0.95923256966766,
          -2.2082757823500136,
          -0.7614311127461293,
          -0.9283602915772428,
          -1.0003872778034173,
          0.33305942804359456,
          -0.19978661479337242,
          -0.09779050727088587,
          -0.32732316638661896,
          0.32999149224547925,
          -0.17328787315154276,
          -0.2181039074702136,
          2.0778770647655023,
          0.02548911291235691,
          -0.9418507803283733,
          -0.48049402993066914,
          -0.4777960559294723,
          -0.5236326235491887,
          -0.916367184242465,
          -1.2884126387002206,
          0.7256755059981257,
          -0.5361754770471592,
          -0.2000483183469522,
          -1.5613522001109883,
          -0.6142121203837301,
          -1.1941311908090264,
          -2.1123758191296758,
          -0.7475462109839733,
          -1.0862550094175376,
          0.6072921779752927,
          -0.3597777472887253,
          -1.582108505581866,
          -0.13876869479146592,
          -0.003982163539604819,
          -1.772100454225182,
          -0.10800633824615888,
          -1.718455148244297,
          -0.7220600773571355,
          -2.0084981311726886,
          3.7855980781445613,
          -0.6245323153977045,
          -0.18114110937883285,
          -0.022800292142001948,
          -0.1526302556077629,
          -0.18879500559028387,
          -2.3234479758534667,
          -1.6129585756299754,
          -1.9259738186536421,
          -1.4099877285403837,
          0.10661860207796389,
          -3.2055384867101,
          0.532307265292734,
          1.8282937839211026,
          -0.6155007542491483,
          1.312255095015004,
          0.6822192108782648,
          -1.0354897180880493,
          -0.45676528942886424,
          -0.8453131010072438,
          -1.921097515331574,
          -0.6527180829080176,
          0.024262505451437755,
          -1.124755304395193,
          0.4014556948454029,
          0.05346625837849046,
          -1.7065805207387779,
          -1.923570292185224,
          -0.6810658577223929,
          1.6164448236652207,
          0.09441690780118603,
          -0.5757347764161673,
          -5.324849710991188,
          -1.8070057827169659,
          -0.02122469233578025,
          -0.8179812815431711,
          -1.3805997531516447,
          -0.4252552251575267,
          -1.152342456182802,
          -0.6194712237286701,
          0.27354114752552133,
          -1.2756162640421742,
          1.7770619659271771,
          -0.4548824173651324,
          -0.42176108068622364,
          -0.6384313705147695,
          0.3983427053701467,
          -0.18775644327673532,
          1.6973069926470368,
          -1.5495981205691765,
          0.19379976247852265,
          0.4813935019603194,
          -0.20512310302811151,
          -1.0982469509351978,
          -1.508139029815269,
          1.4235176038388113,
          0.8841847068181845,
          0.20932951138073605,
          -0.5197990686970062,
          -0.7780011535498254,
          -0.08477339014202746,
          0.7143393983015887,
          0.13736835214689852,
          0.7007718477066582,
          -1.0091976515141248,
          -1.0020222624106248,
          -0.7434581785609026,
          -0.7805593020332073,
          -1.3122341658827248,
          1.0170344495471026,
          -0.3040733125345646,
          0.08946315030054545,
          -0.3123068127017129,
          -0.1645680144191568,
          -0.2049495698588316,
          -0.07991557811553165,
          -0.4800402335682103,
          1.0418746296709644,
          0.41832376286280665,
          -1.0277443701394224,
          -0.6611049658549458,
          -0.6489680497255796,
          -0.3852608354914706,
          0.17448410537178013,
          0.524833900963764,
          -0.4352913993616476,
          1.1609463777718725,
          0.25898520090417615,
          -0.4269145394355857,
          -0.6464046362867738,
          0.42815031752520977,
          0.4327388460338225,
          -0.10281476747520099,
          1.7409198864727393,
          0.5389720184815592,
          0.202137558987323,
          0.799508425445172,
          -2.2233358551456575,
          -0.2981841698859277,
          0.410347093235562,
          -1.1839367028471575,
          -1.1071412055199372,
          -1.1559737393615033,
          0.44715157638806974,
          0.7108677100843095,
          -0.48733428196600187,
          0.6078594827312375,
          0.14936260868724113,
          -0.5306247834551336,
          -1.4600986525329196,
          2.158879972144932,
          1.417572405941565,
          2.3234746462337355,
          -0.7264340924704064,
          0.5380051620704829,
          -1.5551401795197874,
          -0.23681909680485588,
          0.4830988146821116,
          -1.6654053221269032,
          -0.7714833608045463,
          0.43587842058410886,
          -0.9528768477392704,
          -1.6818591537753822,
          -1.1853532984892865,
          0.03981564058481369,
          0.4276802732664124,
          -1.143932010167259,
          0.48812003926868536,
          1.0666625856504661,
          0.011626124047279855,
          0.5060631780243208,
          1.4863001605179254,
          -1.2844967685177473,
          -0.37133890488071075,
          1.9640017001666574,
          -0.1677818071588705,
          -0.6040355782456602,
          0.2917830774541012,
          -1.4741218575235377,
          -1.1120222115701324,
          0.3059623637210854,
          -0.4379365403910011,
          -0.5672204471636563,
          -1.4898328117949942,
          -0.43677317153655126,
          -0.9923148417845825,
          -0.20902437743052277,
          -1.0654567706274054,
          0.7770097252992113,
          0.33401701714382936,
          0.5252445248516957,
          1.8155609678787494,
          0.5081082583965744,
          -1.7117626410225606,
          0.4959448449737487,
          1.7418772023653095,
          1.401774055858239,
          0.28192218743011666,
          0.1353671250446768,
          0.07841349962985537,
          0.6245229490939155,
          -0.35942637089814455,
          1.740676276274565,
          1.7810790132391272,
          1.6140113589621865,
          1.6826908295445575,
          1.2215784649122419,
          0.9220277790772229,
          1.7617395286963513,
          1.5690767467252902,
          2.7233564576301776,
          -0.47763708031993773,
          2.1233022870016125,
          -1.106361232820501,
          0.10993501322158179,
          -1.6569223971159337,
          -0.7710263136821083,
          0.6354891072036879,
          -0.9350760961442331,
          -3.154052361357526,
          -1.2137938729879851,
          -0.8438981481839071,
          -0.9125375098004525,
          0.23681176346469937,
          1.784584203047949,
          1.9879280654500113,
          1.8873203415832414,
          1.3890820852305386,
          0.5250577760428069,
          -0.6949754865209052,
          -1.6187760969086644,
          -1.0019065974555323,
          0.46327213127598094,
          -0.1628034037795044,
          0.9104905958323087,
          0.4298723392551125,
          -1.1802309291515332,
          -1.101178115156839,
          -2.409564022889257,
          -1.1367904663450727,
          -0.48103855836934095,
          -1.2429177650114898,
          0.6135342320569062,
          0.06955499887095322,
          0.88250570824525,
          5.661064469750126,
          -0.16173252619485112,
          0.5077876996618912,
          0.4014556948454029,
          0.609926730635767,
          0.7221971732916751,
          -1.148249704227906,
          -0.30695042305714865,
          -0.7545499809956907,
          2.3277517381735002,
          0.2468691144838001,
          2.4368300251600616,
          0.3434852089598281,
          0.5893342154021564,
          1.017508286688112,
          0.6428230485845243,
          0.08601275154032981,
          1.3216325337985864,
          1.7160008601508685,
          -0.5715956896217786,
          -0.8386394424269152,
          -0.37632737319680193,
          -0.004324987100123409,
          0.8203433536037091,
          0.9161667510871485,
          -0.149412716704673,
          0.6042109943935776,
          1.0137097562146558,
          0.13603763028618554,
          0.5283163487891249,
          -0.754992895260778,
          0.1660045425535352,
          0.9505098176612315,
          -0.12126743768401993,
          -0.27660102442963813,
          0.2823440524192913,
          -0.6505340216336394,
          0.584214596728779,
          0.5598043266791902,
          -0.45918743614202323,
          1.1835659275212294,
          0.7476109366159933,
          0.09042435986383747,
          -1.1641913972188556,
          0.5884791515413882,
          -0.940627903840051,
          0.18524942989997523,
          0.1900479995062989,
          0.8947453894033438,
          1.505150653634186,
          0.8918238940497798,
          2.913545690631471,
          0.19535040548851063,
          -2.134704275267389,
          -1.0963441427170628,
          -1.0963441427170628,
          -0.17984935525889365,
          -0.895054267302875,
          0.4247555799804487,
          0.583105306526443,
          -1.0849805099308225,
          -2.8428263971497714,
          -0.9306059402806284,
          -1.236128423842651,
          -0.9994364223214955,
          -0.8532624380946272,
          -1.2052063378789564,
          -3.006413789118262,
          -0.7091852339985225,
          -1.0871716684012818,
          -0.5411080761057496,
          -2.0616820132566835,
          -1.8606143982219356,
          1.0730684436328812,
          -0.5750562636036309,
          -1.442216097102082,
          0.18867895860109074,
          -1.3758920059641686,
          -0.590189961119524,
          0.914053600005959,
          -2.355220982919509,
          -1.1982458217628011,
          -1.4354924459885974,
          -2.2823724017631117,
          -1.449541131702212,
          -1.3961646106574344,
          -1.2322459853919872,
          -0.6873446047620455,
          -1.3331003309856058,
          -0.3457065151016698,
          -1.6510206389647362,
          -1.2550499258583407,
          -0.6079438902660634,
          -1.3761751048259694,
          -1.5947288333897751,
          -2.756815146103767,
          -2.0975174481531926,
          -1.7890453009986338,
          0.26938140551560097,
          0.6810389452681604,
          -1.4846548825159855,
          0.7411803149126357,
          1.923587843674436,
          -3.1653627866074636,
          4.826559931350407,
          -0.08741851902060176,
          -2.0674106916733943,
          -2.9687344407540306,
          0.9064658020706693,
          0.7987656364710336,
          -0.5571382455449453,
          -0.29859931598261946,
          -1.143049858764687,
          0.48171047250429727,
          0.24316610774922728,
          -1.2805711408949851,
          -0.5518033813859748,
          -1.1406132411762946,
          -0.6281451448687272,
          -1.8650987670142134,
          -0.07153712703738004,
          -1.5947560608544455,
          1.4829391941009822,
          -0.030417443991497334,
          1.9025446924993943,
          -0.6947868184198219,
          0.145429834332016,
          -0.7902420934319372,
          -0.49582170715308466,
          0.4233905789931056,
          0.7902407593582277,
          -0.3263511848736112,
          1.144585708548666,
          0.8799311581112484,
          -0.9439438340615491,
          -0.4296076407966217,
          0.6670912404694672,
          2.2933766544371106,
          -0.48544282290058843,
          -0.7261160220215096,
          0.6223149471238186,
          0.16143317928932283,
          0.7770097252992113,
          0.4494073239760205,
          0.2917261998932726,
          -2.85596603251148,
          -2.85596603251148,
          0.6559230533819522,
          1.4062937358818355,
          1.0147877716635707,
          -0.25782567626502145,
          2.161647716158942,
          0.9725077360054168,
          0.5566877659983667,
          -0.12451622959309838,
          0.38684109384886683,
          -2.2742671474041103,
          -0.5032745309280636,
          0.46325743828393257,
          0.24131108774216292,
          0.43473066937475896,
          -0.48608191553884966,
          1.3493684929291598,
          0.529116211316704,
          1.3688832383135678,
          -0.7445120828736284,
          -1.4873373485364951,
          -1.4723501299578943,
          -0.5094951483576853,
          -0.6626360277993728,
          -1.039748547422064,
          -0.5147913976645281,
          0.6622361023624539,
          -0.12984942660822216,
          2.509545265596499,
          0.03438825382887602,
          1.6820118145061849,
          -0.22151898410253848,
          -0.4154576536923456,
          1.8643364588341302,
          -0.6931916182715596,
          3.389284322513324,
          1.6888125651475772,
          0.7724804102748135,
          -0.027114204062825668,
          -0.44158173588628913,
          0.8066569243264368,
          1.3009605925765602,
          0.8036905200841329,
          1.455185427801065,
          -0.9668417120819962,
          -1.601125401614482,
          0.42396345440319294,
          0.9768693414114814,
          1.6643262992104397,
          0.6616282733623535,
          -0.07493749940942646,
          -0.053419150523252065,
          1.581733168426863,
          0.25080378322681796,
          1.4150167553021789,
          0.9464624614115372,
          1.7854208091586665,
          -1.8986513450642626,
          1.6602819900696797,
          -1.2797034194713293,
          -1.2278698439781424,
          1.538207925110094,
          -0.9416686159264979,
          0.25954218045523664,
          1.0825135388044318,
          -0.47956502032335346,
          2.523417044763238,
          0.5799128089869483,
          0.899414005226778,
          -1.1652508706177411,
          3.541066134530153,
          -0.6151603064563284,
          1.2037797236775687,
          -0.19189490558533906,
          3.7740953500324244,
          1.4190247050955034,
          0.46052362278154607,
          0.1950646540055822,
          0.889486895271288,
          3.492340918964333,
          0.5095306889194531,
          2.5580337274539615,
          2.9413296035633696,
          2.958537628387945,
          0.6664854167602097,
          1.2751122185381865,
          1.0858549905634816,
          -1.0223874893828673,
          -0.4896122311522362,
          -0.888345330541886,
          -1.0527146426813927,
          -1.5979672130884728,
          2.4205435798085646,
          -0.01840980869446263,
          1.31500390758343,
          0.050344281538859594,
          1.2175238766675405,
          1.4513188974470832,
          -0.7764384500968164,
          1.4989831502198447,
          -2.1120286151716217,
          -0.8242950319505025,
          -0.7193176773642302,
          -0.5324102979469502,
          -0.7377570441587141,
          -1.754926488342046,
          -1.117583289156533,
          -0.8167610018597059,
          -1.4246076648562223,
          1.9210094918522973,
          2.5107890898612304,
          -1.0983810149208875,
          -0.31907824241307686,
          -0.701898227976245,
          1.111843294972243,
          -0.4392512404293225,
          0.22403578221356793,
          0.6909457256744203,
          0.1311797577942316,
          0.17250022808780766,
          0.6909457256744203,
          0.8801445212944216,
          -0.17264943240538302,
          -0.9571843923901082,
          -0.3418744272736609,
          1.2354223195199203,
          -0.47727735997843135,
          0.6744175097128859,
          -0.4013353354818074,
          0.024502695165668744,
          1.0114888345052562,
          -0.8582289768525607,
          0.9394174796720545,
          0.41812138172327407,
          -0.8914675871467126,
          -1.543030931424465,
          -1.0478864536138912,
          -0.5196969124319145,
          2.0933789127353664,
          0.04095302452669407,
          0.9543876770247641,
          -1.2613527108263556,
          -1.3497698875032393,
          0.10155215220949065,
          1.1395224978776357,
          -0.6224926824437793,
          -0.29961093997959753,
          -0.03876120335108693,
          -0.33284134816921473,
          2.194871046268541,
          0.3926654752334102,
          -0.7082917138338364,
          0.2902319832740689,
          1.3922680305445885,
          0.6626605141152948,
          0.669344679027497,
          3.8268321408784565,
          1.035855680449112,
          1.8888243208696878,
          0.9430672461585736,
          1.259716397207652,
          -0.8635581785887431,
          -1.6236929721271776,
          -1.2939500198084273,
          -1.6971954084152103,
          1.966372838418212,
          0.516364999228498,
          0.5004206553924502,
          0.1409209811682248,
          -1.3864965358510843,
          -0.025169305094828277,
          -1.1102871922238389,
          -0.7901974202446468,
          -0.8316780531167167,
          -0.6670526559898647,
          1.4554367646834045,
          0.9890710951795665,
          0.9287715899499601,
          -0.5819582864843356,
          3.103331962225936,
          -1.2547084597372213,
          -0.5922012386467954,
          0.44359553061128676,
          -1.172002542799351,
          0.13010784025672664,
          -0.8263097141400597,
          0.5077876996618912,
          0.9391439233166065,
          -0.8361202369462659,
          -0.4171044591698241,
          0.7424716521704886,
          0.6133935006749368,
          -0.6458383516302355,
          -1.7510201157210292,
          -0.3198383314567149,
          -1.459640795466032,
          0.32456410733230107,
          -0.4305756298043271,
          -1.128065762889741,
          -0.4656357674489752,
          1.2702245745656173,
          -0.21965273572098168,
          -0.6328920510936773,
          -0.6988975412607044,
          0.7686819591582696,
          -0.8578855206836933,
          -0.6751035437408786,
          -0.4860554777818944,
          -0.638709357614718,
          -2.300355427669753,
          -1.4089869637399524,
          0.5329524166170324,
          -0.5503229283988338,
          0.2649669251071389,
          0.16553005113670224,
          -1.7294067262714852,
          -1.5577347517846185,
          0.7672821803529797,
          1.2004658861734123,
          1.406140145354593,
          -2.35019320359805,
          -0.08627299783939427,
          0.8446557092574363,
          -0.6487851809748314,
          -1.71495946509268,
          0.0013927407355472667,
          -0.6547324029555992,
          -0.671649825960535,
          -0.23597623740894452,
          0.9064187971729901,
          0.8189954933017366,
          -3.9657535964109294,
          -0.11703497197782564,
          -2.25675154277966,
          -0.09410452304932497,
          0.38125867172017996,
          2.6976463366123995,
          0.5131120537669251,
          0.9959213711304634,
          -1.240268993045708,
          1.5628972442440017,
          -1.0607416100157308,
          -2.25675154277966,
          -0.9567877399978061,
          -1.7290648744164665,
          0.20449305184851554,
          -1.423900417611845,
          0.24505719072753365,
          -0.25033575125748636,
          -0.05687280290597276,
          -0.06143591839480685,
          0.7385669494015966,
          0.2171912836485016,
          0.7781800659952613,
          -0.6563513629989068,
          0.6651735153459151,
          -0.8660248605849121,
          0.10023142404119814,
          0.4355569975397247,
          -0.20416279444805363,
          -0.230661177010245,
          -0.8316304566337238,
          0.7676614983898067,
          -0.24079201735998307,
          -0.26152158860559777,
          -0.41122320695676085,
          -0.8988800994715376,
          0.33369412234070617,
          0.6860578631441907,
          -0.4951214050625924,
          -0.05956019009529947,
          0.12075812107373696,
          0.4444178437987885,
          -0.661651406968048,
          -1.41175395229821,
          0.2781575732523062,
          1.2439293597589187,
          -0.23523107582540545,
          -1.2922767646910303,
          0.13248114283797768,
          -0.5926544520710911,
          3.116286769732264,
          0.2378234107972406,
          -0.6096458997580959,
          -0.6930003232440002,
          -1.1323136221586474,
          2.1986968196259014,
          1.1580810480104038,
          1.2457790474239887,
          2.390098384649921,
          0.2437348166896701,
          1.092435047216299,
          0.29035429531492113,
          -0.22221128725045777,
          1.897568227356917,
          0.021286560459711893,
          1.3744385074292984,
          0.015710810497532642,
          1.9290845928997915,
          0.19741899494320114,
          2.3161896559614843,
          0.8430468316977217,
          0.7314162765751027,
          -0.7154802731599039,
          -2.2004649250143307,
          0.7920409187021271,
          -0.5335446105803919,
          -0.6116306323663965,
          3.6031821127767243,
          1.016272321782738,
          2.597830637319539,
          1.0108598689274573,
          1.093851232172894,
          2.2513235929449382,
          1.5770042098068635,
          1.3467527027553334,
          4.185024132169869,
          2.0897495005940994,
          1.0383832443919558,
          2.350845883738033,
          1.2583716721302347,
          0.740160926545777,
          2.160228863385679,
          -1.7852850671989058,
          1.0456398874007022,
          0.02815417728787336,
          -0.936163799806996,
          -0.5220718237448776,
          3.513969831465875,
          1.1131804574029105,
          2.537556457175949,
          -0.29017001406721865,
          -0.5300761897294416,
          -0.2569306475472497,
          -0.3142662177413458,
          2.5566765197541903,
          -0.03293520236964245,
          -0.19885795871475256,
          2.401645428187079,
          1.0351778267918148,
          0.6444849876155501,
          0.028306074933143396,
          -2.116290243984474,
          0.0023635999375407222,
          0.11962982789439094,
          -2.3475492425405373,
          -0.920138185824496,
          -0.974356368048003,
          0.6855028852755758,
          1.1370901144624261,
          0.5578793427893975,
          0.2654487617243303,
          1.4026574288018114,
          -1.1982458217628011,
          -0.4598399809985954,
          0.004144946964965413,
          -0.12385926837783502,
          0.9074993270322184,
          2.96611763483043,
          0.23373058553335455,
          -1.0639389150223335,
          -0.46220981259856875,
          -0.2980526711510929,
          -0.5943153326486941,
          -1.6613392304245795,
          -0.3679066722953544,
          -1.049713460456136,
          -1.3494016832394546,
          0.799149905878441,
          -1.6325913148629343,
          1.670744501148141,
          -0.9660544362186658,
          -0.6556564907066509,
          -2.0606593454143702,
          -0.9655688502559328,
          -0.6386814446471744,
          0.3922359770881082,
          -0.8850916940287141,
          -0.37443829851878996,
          -0.8776851115060558,
          1.017444837628479,
          -1.5475653090429078,
          -0.3476754195333728,
          0.747693536214771,
          -1.7158149473483124,
          -0.10726619418296293,
          1.1371005994234744,
          1.1252714892569704,
          -3.393722940762188,
          2.008001960014268,
          0.3406402701807266,
          -1.9378358956816641,
          -1.640624010894919,
          0.3611379628164956,
          -0.11848794556724213,
          -1.3859775972109305,
          -0.8010825313436072,
          -0.6575570841874523,
          -0.8394366975160789,
          -0.5271531372802944,
          -0.6114212774880561,
          1.5845151521137202,
          -0.4643760537535918,
          -1.3018832532958364,
          -1.1516668256705351,
          -0.8751633821228599,
          -0.8847666158004632,
          -1.1693233863795678,
          1.7741759054637474,
          -0.08797624049417557,
          0.0031216044997843108,
          -0.21948269271775517,
          -1.4655689988816678,
          -1.5463730166337235,
          0.403276176615006,
          0.7755578306120953,
          -0.7059657906162815,
          0.5503898665299523,
          -1.118231783659826,
          0.5624036751698467,
          -1.4549911125915829,
          -0.6621999979037598,
          -0.4681495641372804,
          -0.48704101382320086,
          0.3301093954190304,
          1.0408259298766736,
          1.4738730430602935,
          0.5156531889061456,
          -0.01571567175587939,
          0.6860578631441907,
          1.2872874286237443,
          -1.7328518095993362,
          0.6959769757292257,
          -0.007669339267965987,
          -0.02627685644732868,
          -2.3639641186732683,
          1.16314941081165,
          -1.9638694381659387,
          0.5622885515036912,
          -1.1870319739345856,
          -1.215406142640307,
          -1.456650589812619,
          -2.2659149056848706,
          0.1794845077670364,
          0.09855330331148598,
          0.7424716521704886,
          -0.08219381352159244,
          -0.8236358611214718,
          -0.4835296956000876,
          -0.16310794825620045,
          -1.3903335627467313,
          -0.252390039017783,
          0.48731616639510017,
          -0.4786048260815286,
          -0.31959440173335846,
          -0.42283836051147794,
          0.4615724899439214,
          1.334594913341494,
          2.1353388542792655,
          -1.260368942063365,
          0.6396464239450964,
          0.7174376136046116,
          2.345272967063732,
          1.373328940618867,
          -0.5966630580451389,
          -0.8228496570941323,
          -2.416942245443601,
          0.933635051474127,
          0.933635051474127,
          0.23664873280865023,
          1.2386911146487694,
          -0.5418841654097413,
          0.8575279188846334,
          -0.7605992017394506,
          -0.23040106781687417,
          0.54113679553309,
          1.3618413519709784,
          2.457186219925858,
          -1.489821630377476,
          -1.0689235689502827,
          -2.0465134097188775,
          -0.9547823761436228,
          0.8758128302585273,
          -0.5020453808359174,
          -0.8450034896699765,
          -1.1505866051408808,
          -1.0162719172752017,
          -0.6633142881216189,
          -1.669792851071188,
          -1.353373890288779,
          -0.9919352561058685,
          -1.080393402317557,
          -0.6401416299877896,
          -1.3024094498395522,
          -1.5274633223822722,
          -1.881636991596234,
          -0.6241541934765895,
          -1.1087513872616157,
          -1.0937437785451827,
          -0.5769655569107689,
          1.3501165937602135,
          -0.6835707776462013,
          -0.21333495891230694,
          -1.7208881667392968,
          0.6069933473401418,
          -0.9485578909088185,
          0.34063800496898217,
          -0.6728024875104701,
          0.009588568549993055,
          -0.3318682072964182,
          1.209933733185926,
          -0.04351653889015036,
          0.4724973084177482,
          0.16670061782510112,
          -0.4598399809985954,
          0.8379678502770374,
          -1.8668083916396283,
          0.391349010703504,
          0.030032344428861137,
          0.3334601091239056,
          -0.4109946285590751,
          -0.747628110827672,
          -0.5327999702766618,
          1.4165753877023461,
          -0.977875526993149,
          0.5343302360287085,
          -1.102307666103709,
          -0.8610990263499382,
          -0.774771198397563,
          -0.1436390775853736,
          -0.9146586648127374,
          -0.9765413938527092,
          -1.7663661393860057,
          -1.1307289608189774,
          -0.7087335536763919,
          -0.5947383472184783,
          0.07306755370479787,
          -1.5158796949645656,
          0.6613108686606783,
          1.1286274880828182,
          -2.0581977671877043,
          1.0677052103269231,
          -0.30124592352344043,
          0.4257801498878081,
          -0.40263933571265975,
          0.2989675907068816,
          1.628563669796178,
          -0.666350182926366,
          1.86643346837399,
          2.420357930284379,
          -1.1092347492996664,
          0.32008414751743963,
          0.03169189012698339,
          1.1160776457145443,
          -0.43945652058233226,
          2.0898309796232177,
          -0.7570751399473791,
          -0.7746598120563292,
          -0.386538918913732,
          0.2570733598340722,
          0.06329890129218373,
          0.3373619817345933,
          0.22643180698531032,
          -1.3546107260806566,
          0.8002025039600884,
          -0.8889081107644092,
          -0.728681288709583,
          1.3078694865346463,
          -0.6114302591907715,
          0.5466667600703207,
          1.8234840719083267,
          2.2518211503014944,
          1.5327451810884485,
          1.6920378828976939,
          0.7022921431888585,
          1.9109285289174858,
          0.2804484614653211,
          -1.0498417887903446,
          3.6031821127767243,
          -0.5242582112536129,
          0.7861182653546234,
          2.0403271912218024,
          0.1689301613237663,
          -0.08526345403740447,
          -0.0110241407396262,
          -0.7916755386423816,
          -1.2147270836405075,
          0.7724463413233448,
          -0.30374574130359244,
          -2.333542719980754,
          -0.3562168495073638,
          0.12430303586946714,
          -1.1706210899866967,
          -2.360627446467738,
          -1.6367819175495584,
          -0.5023576395671425,
          -2.730925832158358,
          -1.2423446127955198,
          -0.8386470327706338,
          -1.0079198521398587,
          -0.22761893527393331,
          -0.42160553228633363,
          -0.9631389674046105,
          2.4898319782499576,
          0.734374019759689,
          2.1153640634076094,
          0.13724873880508412,
          1.0125213152896417,
          -0.3700529157494537,
          -1.7815300896312845,
          -1.1887304827614906,
          -0.24042744331689767,
          -0.6167239342011972,
          -0.9734476761826601,
          -0.5688906477444701,
          -0.4861672206217909,
          1.0076600514519989,
          -0.30150576336683305,
          0.12897294715118,
          2.5309300185056176,
          0.9337858603263702,
          0.8418091510500214,
          -0.9333434321358217,
          -0.1939749631170665,
          -0.5671126380023049,
          1.5106561492724928,
          0.18074855667507445,
          -1.0463627822229713,
          -0.733306730389299,
          -1.0246191375816252,
          0.8689648267049032,
          2.413138762792469,
          -1.0475814842246285,
          0.9736919192976686,
          1.7212392934745593,
          -1.3429003712914231,
          -0.5792383396463386,
          1.3474157429635842,
          1.2378265189856184,
          -0.6277344905438667,
          -0.46693744531297027,
          -0.6195438014522848,
          1.4249282490014088,
          0.9643381077505975,
          0.11165727459267816,
          0.9643381077505975,
          -0.12094841593244875,
          -0.4345154977397173,
          -0.871722813432027,
          0.15079746470859776,
          0.2779790895369231,
          1.1894891272965924,
          0.13692337593367865,
          2.295129874378307,
          -1.2426905814373947,
          -0.3485694162350449,
          0.30276431226281114,
          -0.95650418705882,
          -0.034557781152383116,
          -0.23528215500303137,
          -0.28771160652307465,
          0.33490144838208885,
          -0.5519801147930518,
          -1.6671675160620292,
          0.34836557143281643,
          -0.6829322826912585,
          0.102799516121201,
          -1.9959511402427053,
          0.2685118467719542,
          1.994616924866823,
          1.8483060822592718,
          1.0554925588676203,
          0.21879040449048248,
          -0.13570197581661117,
          0.9851968861899999,
          1.0680519747125825,
          -0.9423944222871242,
          -1.3267365895545928,
          0.2379283177597422,
          1.0906730354380954,
          0.8260360840052879,
          -0.1146172395106158,
          1.8404077114195674,
          1.0823540919940675,
          -0.8687738626484455,
          -0.5914828614287045,
          -0.8089063660175049,
          0.6170449549147408,
          -0.03580072293818769,
          1.5913428281037116,
          1.3560670015995695,
          -1.6287481707392586,
          -1.2933490428322194,
          -0.6763485851962379,
          1.1830106693009685,
          0.6030493268732683,
          0.3823904837157807,
          3.0241485166452966,
          1.4320445004928846,
          0.34228297341502467,
          -1.4187000715910438,
          1.681499986482138,
          2.7994210517958256,
          -0.045492387639219777,
          0.46574141694873905,
          1.419823945602947,
          0.5888953615807211,
          1.044438693320429,
          0.5964434905315009,
          0.08844995393029534,
          -0.045492387639219777,
          0.8977977758332238,
          -0.16885058170457504,
          0.598308812836649,
          0.6667441748139554,
          0.11485247399156066,
          -2.5769252053016816,
          0.23909640755805386,
          2.2487561906623945,
          2.5387340249432415,
          -0.056325911547830246,
          0.5964434905315009,
          1.9783020811682734,
          1.3560670015995695,
          2.916068975918381,
          -0.622579756199663,
          0.2559420671846052,
          -0.2907244207600331,
          0.3757386950204425,
          1.5556309456722213,
          0.4506309276092272,
          0.7757854374142354,
          0.07431941987263499,
          -1.3080925230982428,
          -1.3524345982935726,
          0.2936091768199942,
          3.3099155081569447,
          -0.5551636406866739,
          0.5675987166081083,
          2.6461398776378857,
          0.033997998330901925,
          0.6786040056615523,
          0.14923360423841633,
          -0.4559136008402353,
          2.946557942362358,
          1.9486015356312563,
          0.6937156146030228,
          -0.6479161411275306,
          -0.16832643560406624,
          0.9206331889506524,
          -0.45076135107728527,
          -1.6238548107932522,
          -1.71495946509268,
          0.8246937348674203,
          -0.6046810983191576,
          0.9951455987502105,
          -0.4943961431689739,
          -0.19789301436615,
          -0.1776336120395249,
          -0.0811359416283297,
          -3.591928184508257,
          0.015192898637179037,
          0.41832376286280665,
          -1.3430396251065262,
          -1.1533387805480768,
          -1.5144988077562622,
          -1.5909581557697063,
          -2.345699961945223,
          0.5187929455099772,
          -2.0068878431165413,
          -1.5610744785887536,
          0.4027243215517699,
          0.3885717411713828,
          2.471190761937058,
          -0.21414035832918288,
          3.0020429581390813,
          2.4311389903409206,
          2.882281167231521,
          0.9642980521378568,
          0.007995287376183987,
          -1.4448575644382053,
          -0.21558652585747268,
          -1.0494337432873817,
          -0.1688143132993533,
          -0.7392065333258863,
          2.179099357735235,
          -1.0820263567320563,
          -0.5618613817516012,
          0.05919103367562623,
          -1.042053465315789,
          0.12324047273321499,
          -0.06624184533439359,
          -1.5632894769170904,
          -0.20455517338153048,
          -0.2825690317516758,
          -1.7373472894249395,
          -1.046587089328853,
          0.5718932501658424,
          0.03184445897223635,
          -0.012659131268621445,
          1.0406554362647757,
          2.0807189773265056,
          -2.221579005793505,
          -1.2942306228088376,
          -0.9232671973085137,
          1.6648500226504823,
          -2.251716443317538,
          2.2279199793837785,
          -1.493430572233985,
          0.06759763053874271,
          -0.4220085249074855,
          -1.6224994565962796,
          -0.8568498421627428,
          -1.7156119083516967,
          -0.4018140005258495,
          -1.9183111465675247,
          -1.0284176661154838,
          0.5662509076481967,
          -1.936092129048508,
          -1.3661970267771613,
          -0.47905326674772053,
          1.5323961175618466,
          0.6372584903149712,
          1.3733798976383889,
          -0.5126351469976403,
          -0.4706577641761548,
          0.0005851604650580109,
          0.8136001906911978,
          0.38997026358276904,
          -0.39546104811196653,
          -1.5825523645928836,
          -0.9178690058179512,
          -0.38203090899092146,
          0.15708317010830175,
          -0.9806604314366147,
          1.2573912397734046,
          0.5631582113333865,
          1.111455666842316,
          0.19309430754008214,
          -3.057357636723077,
          -2.7964050900954365,
          0.44419319813299046,
          -0.5425621727635173,
          -0.8201583062849633,
          0.37514319403638435,
          -1.0223780840942378,
          -0.6070712876472268,
          -0.9624492068779517,
          -2.0237471356014685,
          -0.08741851902060176,
          -0.2046286417953851,
          -0.08910926007142382,
          -2.059162839252312,
          -1.1745357862551729,
          -0.6346088648189895,
          -0.549174573545602,
          0.5095716897531253,
          0.8065406104992436,
          0.7411803149126357,
          -0.8558821629061253,
          -0.3657681542279349,
          -0.5309994855824152,
          -0.521399451920894,
          -0.8095689157079902,
          1.126582546311037,
          -0.2098294744407545,
          -1.1323946066926918,
          0.22119401719295284,
          -1.1950493627964522,
          1.4025390812695417,
          -0.5757347764161673,
          -0.7264869106374368,
          -0.7415878471844215,
          0.06951336384573541,
          -0.20446565868520633,
          -0.01879031406313654,
          0.03139289071178909,
          0.35067005623607655,
          -1.1128956328696065,
          1.8195868927959054,
          1.8713013951568789,
          1.9181525956534937,
          -1.7186688480437662,
          0.8757893106119174,
          0.17563027053701377,
          -0.6929183840508951,
          -0.28726002097626224,
          0.20809406613317716,
          1.7764954026041317,
          -0.408573185093279,
          0.029405535122965787,
          0.3028902959496651,
          0.9923583707665755,
          0.43377995483685844,
          -1.356432955086264,
          0.5863758368736266,
          2.9239327364249346,
          1.0230580147774826,
          0.8397768146241352,
          2.5716091789550615,
          -0.39274683629951196,
          0.31036458933882766,
          1.2122221199360619,
          -0.9105271986614404,
          -0.4231354934946306,
          -1.502293370470529,
          -0.39581140385400654,
          0.11057980583580526,
          -1.136462759521513,
          0.9890710951795665,
          1.6893322614019661,
          0.92994790859078,
          -0.4525968776137765,
          -0.7448746955627165,
          1.8574219818393152,
          0.31621132843281097,
          -3.591928184508257,
          -2.7715699519860717,
          -1.0936649608603815,
          -0.8987367758535372,
          -0.714485193204113,
          0.08471793830475434,
          3.4023252585367167,
          0.5915376393811421,
          0.1959460261916871,
          0.035965084981220925,
          -0.7572787491134739,
          0.4800421604906787,
          0.5277834265150179,
          -0.07029951988053088,
          -2.6459203144839782,
          -1.3983743516341622,
          -1.7875077633778926,
          0.8485646204971748,
          1.205932979210664,
          -1.7241610708089137,
          -0.47215623617893226,
          -0.8206980878304443,
          -0.9083842640904368,
          -0.7454847813329005,
          -0.7426614340923869,
          -0.5761116798393,
          1.2630604906993137,
          -0.9648409921390867,
          0.19368622313439748,
          0.9996039142658532,
          1.157524642237806,
          -1.0936649608603815,
          -1.0936649608603815,
          3.0241485166452966,
          1.5817331684268627,
          1.6452582761714454,
          -2.4045788380748374,
          -2.457424990644714,
          -0.5475715725911344,
          -1.3098373709567737,
          -2.0126521925813643,
          -2.4620510303808687,
          0.48391822240133275,
          -1.4091483830778613,
          -1.5557878439244395,
          -1.710465901789657,
          -0.14939377576964752,
          -2.002703398075286,
          -2.220458417816707,
          -0.9119564427723759,
          -2.2209031233141805,
          -1.7536558307851149,
          -1.3764437205042688,
          -2.5396808993309974,
          -1.9288195091234004,
          0.4586528028759589,
          -0.7370750659682036,
          -1.4238717798777525,
          0.31313785015723333,
          0.031646261329059046,
          -0.9437787672942017,
          0.42203314767341704,
          -0.19189119093840276,
          -0.5211679048184928,
          1.8836076923570364,
          1.2546259176505097,
          -1.7980071100359731,
          1.6046581333958083,
          0.530824400776378,
          -1.4677050692393336,
          -0.07553356999426429,
          -0.9371300061780337,
          0.9744129361419287,
          1.0808327860734206,
          -1.3498838940521085,
          -2.6382976097380983,
          1.1075741810946924,
          -1.1968544636420648,
          -0.04985157001773322,
          -1.3368586236919517,
          3.3802062358742,
          -0.9362765548657915,
          -0.851230222520366,
          0.8312994793303581,
          1.1474159317775223,
          0.8692814620397292,
          -0.06373150398819617,
          -0.45242591189058784,
          -1.0487895677819923,
          -0.9786629053950837,
          -1.1203219593181108,
          -0.600901821381094,
          0.4186241486931199,
          -0.3053760309640797,
          0.18024535423151514,
          -0.08741851902060176,
          -2.1446915046004684,
          0.8614420346143564,
          0.1307140789749271,
          -0.22775045896728513,
          1.10939191745533,
          0.5061696894655072,
          2.5114509290464646,
          -0.3562583850384997,
          0.26395567276692433,
          0.27161526261914276,
          -0.33962311293372627,
          0.8138121170061826,
          1.6452114399898943,
          1.2386818562700992,
          0.8050649466533386,
          0.577709746614173,
          -0.7454513238920579,
          0.7691464789300263,
          -0.2300995333427964,
          -1.1625225503153835,
          1.0967477999866861,
          -0.776287862465595,
          -0.584467171044608,
          -0.6061979063641822,
          -1.4869471807666168,
          1.7503448743454846,
          -0.6151603064563284,
          -1.6531344263407652,
          0.7427151707507391,
          -0.7054157806980489,
          -0.032519123302961,
          -2.341444922488868,
          1.8408479769371717,
          0.415064376226519,
          -0.5229064046857356,
          -0.017125860721715434,
          -1.3049828462456485,
          -1.0897255704646864,
          -3.695232752777765,
          -1.3907085464763511
         ],
         "yaxis": "y"
        }
       ],
       "layout": {
        "coloraxis": {
         "colorbar": {
          "title": {
           "text": "cluster_pca"
          }
         },
         "colorscale": [
          [
           0,
           "#0d0887"
          ],
          [
           0.1111111111111111,
           "#46039f"
          ],
          [
           0.2222222222222222,
           "#7201a8"
          ],
          [
           0.3333333333333333,
           "#9c179e"
          ],
          [
           0.4444444444444444,
           "#bd3786"
          ],
          [
           0.5555555555555556,
           "#d8576b"
          ],
          [
           0.6666666666666666,
           "#ed7953"
          ],
          [
           0.7777777777777778,
           "#fb9f3a"
          ],
          [
           0.8888888888888888,
           "#fdca26"
          ],
          [
           1,
           "#f0f921"
          ]
         ]
        },
        "legend": {
         "tracegroupgap": 0
        },
        "margin": {
         "t": 60
        },
        "template": {
         "data": {
          "bar": [
           {
            "error_x": {
             "color": "#2a3f5f"
            },
            "error_y": {
             "color": "#2a3f5f"
            },
            "marker": {
             "line": {
              "color": "#E5ECF6",
              "width": 0.5
             },
             "pattern": {
              "fillmode": "overlay",
              "size": 10,
              "solidity": 0.2
             }
            },
            "type": "bar"
           }
          ],
          "barpolar": [
           {
            "marker": {
             "line": {
              "color": "#E5ECF6",
              "width": 0.5
             },
             "pattern": {
              "fillmode": "overlay",
              "size": 10,
              "solidity": 0.2
             }
            },
            "type": "barpolar"
           }
          ],
          "carpet": [
           {
            "aaxis": {
             "endlinecolor": "#2a3f5f",
             "gridcolor": "white",
             "linecolor": "white",
             "minorgridcolor": "white",
             "startlinecolor": "#2a3f5f"
            },
            "baxis": {
             "endlinecolor": "#2a3f5f",
             "gridcolor": "white",
             "linecolor": "white",
             "minorgridcolor": "white",
             "startlinecolor": "#2a3f5f"
            },
            "type": "carpet"
           }
          ],
          "choropleth": [
           {
            "colorbar": {
             "outlinewidth": 0,
             "ticks": ""
            },
            "type": "choropleth"
           }
          ],
          "contour": [
           {
            "colorbar": {
             "outlinewidth": 0,
             "ticks": ""
            },
            "colorscale": [
             [
              0,
              "#0d0887"
             ],
             [
              0.1111111111111111,
              "#46039f"
             ],
             [
              0.2222222222222222,
              "#7201a8"
             ],
             [
              0.3333333333333333,
              "#9c179e"
             ],
             [
              0.4444444444444444,
              "#bd3786"
             ],
             [
              0.5555555555555556,
              "#d8576b"
             ],
             [
              0.6666666666666666,
              "#ed7953"
             ],
             [
              0.7777777777777778,
              "#fb9f3a"
             ],
             [
              0.8888888888888888,
              "#fdca26"
             ],
             [
              1,
              "#f0f921"
             ]
            ],
            "type": "contour"
           }
          ],
          "contourcarpet": [
           {
            "colorbar": {
             "outlinewidth": 0,
             "ticks": ""
            },
            "type": "contourcarpet"
           }
          ],
          "heatmap": [
           {
            "colorbar": {
             "outlinewidth": 0,
             "ticks": ""
            },
            "colorscale": [
             [
              0,
              "#0d0887"
             ],
             [
              0.1111111111111111,
              "#46039f"
             ],
             [
              0.2222222222222222,
              "#7201a8"
             ],
             [
              0.3333333333333333,
              "#9c179e"
             ],
             [
              0.4444444444444444,
              "#bd3786"
             ],
             [
              0.5555555555555556,
              "#d8576b"
             ],
             [
              0.6666666666666666,
              "#ed7953"
             ],
             [
              0.7777777777777778,
              "#fb9f3a"
             ],
             [
              0.8888888888888888,
              "#fdca26"
             ],
             [
              1,
              "#f0f921"
             ]
            ],
            "type": "heatmap"
           }
          ],
          "heatmapgl": [
           {
            "colorbar": {
             "outlinewidth": 0,
             "ticks": ""
            },
            "colorscale": [
             [
              0,
              "#0d0887"
             ],
             [
              0.1111111111111111,
              "#46039f"
             ],
             [
              0.2222222222222222,
              "#7201a8"
             ],
             [
              0.3333333333333333,
              "#9c179e"
             ],
             [
              0.4444444444444444,
              "#bd3786"
             ],
             [
              0.5555555555555556,
              "#d8576b"
             ],
             [
              0.6666666666666666,
              "#ed7953"
             ],
             [
              0.7777777777777778,
              "#fb9f3a"
             ],
             [
              0.8888888888888888,
              "#fdca26"
             ],
             [
              1,
              "#f0f921"
             ]
            ],
            "type": "heatmapgl"
           }
          ],
          "histogram": [
           {
            "marker": {
             "pattern": {
              "fillmode": "overlay",
              "size": 10,
              "solidity": 0.2
             }
            },
            "type": "histogram"
           }
          ],
          "histogram2d": [
           {
            "colorbar": {
             "outlinewidth": 0,
             "ticks": ""
            },
            "colorscale": [
             [
              0,
              "#0d0887"
             ],
             [
              0.1111111111111111,
              "#46039f"
             ],
             [
              0.2222222222222222,
              "#7201a8"
             ],
             [
              0.3333333333333333,
              "#9c179e"
             ],
             [
              0.4444444444444444,
              "#bd3786"
             ],
             [
              0.5555555555555556,
              "#d8576b"
             ],
             [
              0.6666666666666666,
              "#ed7953"
             ],
             [
              0.7777777777777778,
              "#fb9f3a"
             ],
             [
              0.8888888888888888,
              "#fdca26"
             ],
             [
              1,
              "#f0f921"
             ]
            ],
            "type": "histogram2d"
           }
          ],
          "histogram2dcontour": [
           {
            "colorbar": {
             "outlinewidth": 0,
             "ticks": ""
            },
            "colorscale": [
             [
              0,
              "#0d0887"
             ],
             [
              0.1111111111111111,
              "#46039f"
             ],
             [
              0.2222222222222222,
              "#7201a8"
             ],
             [
              0.3333333333333333,
              "#9c179e"
             ],
             [
              0.4444444444444444,
              "#bd3786"
             ],
             [
              0.5555555555555556,
              "#d8576b"
             ],
             [
              0.6666666666666666,
              "#ed7953"
             ],
             [
              0.7777777777777778,
              "#fb9f3a"
             ],
             [
              0.8888888888888888,
              "#fdca26"
             ],
             [
              1,
              "#f0f921"
             ]
            ],
            "type": "histogram2dcontour"
           }
          ],
          "mesh3d": [
           {
            "colorbar": {
             "outlinewidth": 0,
             "ticks": ""
            },
            "type": "mesh3d"
           }
          ],
          "parcoords": [
           {
            "line": {
             "colorbar": {
              "outlinewidth": 0,
              "ticks": ""
             }
            },
            "type": "parcoords"
           }
          ],
          "pie": [
           {
            "automargin": true,
            "type": "pie"
           }
          ],
          "scatter": [
           {
            "fillpattern": {
             "fillmode": "overlay",
             "size": 10,
             "solidity": 0.2
            },
            "type": "scatter"
           }
          ],
          "scatter3d": [
           {
            "line": {
             "colorbar": {
              "outlinewidth": 0,
              "ticks": ""
             }
            },
            "marker": {
             "colorbar": {
              "outlinewidth": 0,
              "ticks": ""
             }
            },
            "type": "scatter3d"
           }
          ],
          "scattercarpet": [
           {
            "marker": {
             "colorbar": {
              "outlinewidth": 0,
              "ticks": ""
             }
            },
            "type": "scattercarpet"
           }
          ],
          "scattergeo": [
           {
            "marker": {
             "colorbar": {
              "outlinewidth": 0,
              "ticks": ""
             }
            },
            "type": "scattergeo"
           }
          ],
          "scattergl": [
           {
            "marker": {
             "colorbar": {
              "outlinewidth": 0,
              "ticks": ""
             }
            },
            "type": "scattergl"
           }
          ],
          "scattermapbox": [
           {
            "marker": {
             "colorbar": {
              "outlinewidth": 0,
              "ticks": ""
             }
            },
            "type": "scattermapbox"
           }
          ],
          "scatterpolar": [
           {
            "marker": {
             "colorbar": {
              "outlinewidth": 0,
              "ticks": ""
             }
            },
            "type": "scatterpolar"
           }
          ],
          "scatterpolargl": [
           {
            "marker": {
             "colorbar": {
              "outlinewidth": 0,
              "ticks": ""
             }
            },
            "type": "scatterpolargl"
           }
          ],
          "scatterternary": [
           {
            "marker": {
             "colorbar": {
              "outlinewidth": 0,
              "ticks": ""
             }
            },
            "type": "scatterternary"
           }
          ],
          "surface": [
           {
            "colorbar": {
             "outlinewidth": 0,
             "ticks": ""
            },
            "colorscale": [
             [
              0,
              "#0d0887"
             ],
             [
              0.1111111111111111,
              "#46039f"
             ],
             [
              0.2222222222222222,
              "#7201a8"
             ],
             [
              0.3333333333333333,
              "#9c179e"
             ],
             [
              0.4444444444444444,
              "#bd3786"
             ],
             [
              0.5555555555555556,
              "#d8576b"
             ],
             [
              0.6666666666666666,
              "#ed7953"
             ],
             [
              0.7777777777777778,
              "#fb9f3a"
             ],
             [
              0.8888888888888888,
              "#fdca26"
             ],
             [
              1,
              "#f0f921"
             ]
            ],
            "type": "surface"
           }
          ],
          "table": [
           {
            "cells": {
             "fill": {
              "color": "#EBF0F8"
             },
             "line": {
              "color": "white"
             }
            },
            "header": {
             "fill": {
              "color": "#C8D4E3"
             },
             "line": {
              "color": "white"
             }
            },
            "type": "table"
           }
          ]
         },
         "layout": {
          "annotationdefaults": {
           "arrowcolor": "#2a3f5f",
           "arrowhead": 0,
           "arrowwidth": 1
          },
          "autotypenumbers": "strict",
          "coloraxis": {
           "colorbar": {
            "outlinewidth": 0,
            "ticks": ""
           }
          },
          "colorscale": {
           "diverging": [
            [
             0,
             "#8e0152"
            ],
            [
             0.1,
             "#c51b7d"
            ],
            [
             0.2,
             "#de77ae"
            ],
            [
             0.3,
             "#f1b6da"
            ],
            [
             0.4,
             "#fde0ef"
            ],
            [
             0.5,
             "#f7f7f7"
            ],
            [
             0.6,
             "#e6f5d0"
            ],
            [
             0.7,
             "#b8e186"
            ],
            [
             0.8,
             "#7fbc41"
            ],
            [
             0.9,
             "#4d9221"
            ],
            [
             1,
             "#276419"
            ]
           ],
           "sequential": [
            [
             0,
             "#0d0887"
            ],
            [
             0.1111111111111111,
             "#46039f"
            ],
            [
             0.2222222222222222,
             "#7201a8"
            ],
            [
             0.3333333333333333,
             "#9c179e"
            ],
            [
             0.4444444444444444,
             "#bd3786"
            ],
            [
             0.5555555555555556,
             "#d8576b"
            ],
            [
             0.6666666666666666,
             "#ed7953"
            ],
            [
             0.7777777777777778,
             "#fb9f3a"
            ],
            [
             0.8888888888888888,
             "#fdca26"
            ],
            [
             1,
             "#f0f921"
            ]
           ],
           "sequentialminus": [
            [
             0,
             "#0d0887"
            ],
            [
             0.1111111111111111,
             "#46039f"
            ],
            [
             0.2222222222222222,
             "#7201a8"
            ],
            [
             0.3333333333333333,
             "#9c179e"
            ],
            [
             0.4444444444444444,
             "#bd3786"
            ],
            [
             0.5555555555555556,
             "#d8576b"
            ],
            [
             0.6666666666666666,
             "#ed7953"
            ],
            [
             0.7777777777777778,
             "#fb9f3a"
            ],
            [
             0.8888888888888888,
             "#fdca26"
            ],
            [
             1,
             "#f0f921"
            ]
           ]
          },
          "colorway": [
           "#636efa",
           "#EF553B",
           "#00cc96",
           "#ab63fa",
           "#FFA15A",
           "#19d3f3",
           "#FF6692",
           "#B6E880",
           "#FF97FF",
           "#FECB52"
          ],
          "font": {
           "color": "#2a3f5f"
          },
          "geo": {
           "bgcolor": "white",
           "lakecolor": "white",
           "landcolor": "#E5ECF6",
           "showlakes": true,
           "showland": true,
           "subunitcolor": "white"
          },
          "hoverlabel": {
           "align": "left"
          },
          "hovermode": "closest",
          "mapbox": {
           "style": "light"
          },
          "paper_bgcolor": "white",
          "plot_bgcolor": "#E5ECF6",
          "polar": {
           "angularaxis": {
            "gridcolor": "white",
            "linecolor": "white",
            "ticks": ""
           },
           "bgcolor": "#E5ECF6",
           "radialaxis": {
            "gridcolor": "white",
            "linecolor": "white",
            "ticks": ""
           }
          },
          "scene": {
           "xaxis": {
            "backgroundcolor": "#E5ECF6",
            "gridcolor": "white",
            "gridwidth": 2,
            "linecolor": "white",
            "showbackground": true,
            "ticks": "",
            "zerolinecolor": "white"
           },
           "yaxis": {
            "backgroundcolor": "#E5ECF6",
            "gridcolor": "white",
            "gridwidth": 2,
            "linecolor": "white",
            "showbackground": true,
            "ticks": "",
            "zerolinecolor": "white"
           },
           "zaxis": {
            "backgroundcolor": "#E5ECF6",
            "gridcolor": "white",
            "gridwidth": 2,
            "linecolor": "white",
            "showbackground": true,
            "ticks": "",
            "zerolinecolor": "white"
           }
          },
          "shapedefaults": {
           "line": {
            "color": "#2a3f5f"
           }
          },
          "ternary": {
           "aaxis": {
            "gridcolor": "white",
            "linecolor": "white",
            "ticks": ""
           },
           "baxis": {
            "gridcolor": "white",
            "linecolor": "white",
            "ticks": ""
           },
           "bgcolor": "#E5ECF6",
           "caxis": {
            "gridcolor": "white",
            "linecolor": "white",
            "ticks": ""
           }
          },
          "title": {
           "x": 0.05
          },
          "xaxis": {
           "automargin": true,
           "gridcolor": "white",
           "linecolor": "white",
           "ticks": "",
           "title": {
            "standoff": 15
           },
           "zerolinecolor": "white",
           "zerolinewidth": 2
          },
          "yaxis": {
           "automargin": true,
           "gridcolor": "white",
           "linecolor": "white",
           "ticks": "",
           "title": {
            "standoff": 15
           },
           "zerolinecolor": "white",
           "zerolinewidth": 2
          }
         }
        },
        "xaxis": {
         "anchor": "y",
         "domain": [
          0,
          1
         ],
         "title": {
          "text": "x"
         }
        },
        "yaxis": {
         "anchor": "x",
         "domain": [
          0,
          1
         ],
         "title": {
          "text": "y"
         }
        }
       }
      }
     },
     "metadata": {},
     "output_type": "display_data"
    }
   ],
   "source": [
    "fig = px.scatter(projection, x=\"x\", y=\"y\", color=\"cluster_pca\",\n",
    "                 hover_data=['x', 'y', 'generos'])\n",
    "fig.show()\n"
   ]
  },
  {
   "cell_type": "code",
   "execution_count": 33,
   "metadata": {},
   "outputs": [
    {
     "data": {
      "text/plain": [
       "0.4927066994726641"
      ]
     },
     "execution_count": 33,
     "metadata": {},
     "output_type": "execute_result"
    }
   ],
   "source": [
    "# quantidade de radio que são explicadas\n",
    "pca_pipeline[1].explained_variance_ratio_.sum()\n"
   ]
  },
  {
   "cell_type": "code",
   "execution_count": 34,
   "metadata": {},
   "outputs": [
    {
     "data": {
      "text/plain": [
       "5.421597305805697"
      ]
     },
     "execution_count": 34,
     "metadata": {},
     "output_type": "execute_result"
    }
   ],
   "source": [
    "# quantidade de colunas ou clusters que são explicadas\n",
    "pca_pipeline[1].explained_variance_.sum()\n"
   ]
  },
  {
   "cell_type": "markdown",
   "metadata": {},
   "source": [
    "<h1>Fazendo Cluster com Músicas</h1>"
   ]
  },
  {
   "cell_type": "markdown",
   "metadata": {},
   "source": [
    "<h1></h1>"
   ]
  },
  {
   "cell_type": "code",
   "execution_count": 35,
   "metadata": {},
   "outputs": [
    {
     "data": {
      "text/html": [
       "<div>\n",
       "<style scoped>\n",
       "    .dataframe tbody tr th:only-of-type {\n",
       "        vertical-align: middle;\n",
       "    }\n",
       "\n",
       "    .dataframe tbody tr th {\n",
       "        vertical-align: top;\n",
       "    }\n",
       "\n",
       "    .dataframe thead th {\n",
       "        text-align: right;\n",
       "    }\n",
       "</style>\n",
       "<table border=\"1\" class=\"dataframe\">\n",
       "  <thead>\n",
       "    <tr style=\"text-align: right;\">\n",
       "      <th></th>\n",
       "      <th>valence</th>\n",
       "      <th>year</th>\n",
       "      <th>acousticness</th>\n",
       "      <th>artists</th>\n",
       "      <th>danceability</th>\n",
       "      <th>duration_ms</th>\n",
       "      <th>energy</th>\n",
       "      <th>id</th>\n",
       "      <th>instrumentalness</th>\n",
       "      <th>liveness</th>\n",
       "      <th>loudness</th>\n",
       "      <th>name</th>\n",
       "      <th>popularity</th>\n",
       "      <th>release_date</th>\n",
       "      <th>speechiness</th>\n",
       "      <th>tempo</th>\n",
       "      <th>artists_song</th>\n",
       "    </tr>\n",
       "  </thead>\n",
       "  <tbody>\n",
       "    <tr>\n",
       "      <th>12873</th>\n",
       "      <td>0.285</td>\n",
       "      <td>2000</td>\n",
       "      <td>0.00239</td>\n",
       "      <td>Coldplay</td>\n",
       "      <td>0.429</td>\n",
       "      <td>266773</td>\n",
       "      <td>0.661</td>\n",
       "      <td>3AJwUDP919kvQ9QcozQPxg</td>\n",
       "      <td>0.000121</td>\n",
       "      <td>0.2340</td>\n",
       "      <td>-7.227</td>\n",
       "      <td>Yellow</td>\n",
       "      <td>84</td>\n",
       "      <td>2000-07-10</td>\n",
       "      <td>0.0281</td>\n",
       "      <td>173.372</td>\n",
       "      <td>Coldplay - Yellow</td>\n",
       "    </tr>\n",
       "    <tr>\n",
       "      <th>12874</th>\n",
       "      <td>0.613</td>\n",
       "      <td>2000</td>\n",
       "      <td>0.14300</td>\n",
       "      <td>OutKast</td>\n",
       "      <td>0.843</td>\n",
       "      <td>270507</td>\n",
       "      <td>0.806</td>\n",
       "      <td>0I3q5fE6wg7LIfHGngUTnV</td>\n",
       "      <td>0.000000</td>\n",
       "      <td>0.0771</td>\n",
       "      <td>-5.946</td>\n",
       "      <td>Ms. Jackson</td>\n",
       "      <td>80</td>\n",
       "      <td>2000-10-31</td>\n",
       "      <td>0.2690</td>\n",
       "      <td>94.948</td>\n",
       "      <td>OutKast - Ms. Jackson</td>\n",
       "    </tr>\n",
       "    <tr>\n",
       "      <th>12875</th>\n",
       "      <td>0.400</td>\n",
       "      <td>2000</td>\n",
       "      <td>0.00958</td>\n",
       "      <td>Linkin Park</td>\n",
       "      <td>0.556</td>\n",
       "      <td>216880</td>\n",
       "      <td>0.864</td>\n",
       "      <td>60a0Rd6pjrkxjPbaKzXjfq</td>\n",
       "      <td>0.000000</td>\n",
       "      <td>0.2090</td>\n",
       "      <td>-5.870</td>\n",
       "      <td>In the End</td>\n",
       "      <td>84</td>\n",
       "      <td>2000-10-24</td>\n",
       "      <td>0.0584</td>\n",
       "      <td>105.143</td>\n",
       "      <td>Linkin Park - In the End</td>\n",
       "    </tr>\n",
       "    <tr>\n",
       "      <th>12876</th>\n",
       "      <td>0.543</td>\n",
       "      <td>2000</td>\n",
       "      <td>0.00664</td>\n",
       "      <td>3 Doors Down</td>\n",
       "      <td>0.545</td>\n",
       "      <td>233933</td>\n",
       "      <td>0.865</td>\n",
       "      <td>6ZOBP3NvffbU4SZcrnt1k6</td>\n",
       "      <td>0.000011</td>\n",
       "      <td>0.1680</td>\n",
       "      <td>-5.708</td>\n",
       "      <td>Kryptonite</td>\n",
       "      <td>78</td>\n",
       "      <td>2000</td>\n",
       "      <td>0.0286</td>\n",
       "      <td>99.009</td>\n",
       "      <td>3 Doors Down - Kryptonite</td>\n",
       "    </tr>\n",
       "    <tr>\n",
       "      <th>12877</th>\n",
       "      <td>0.760</td>\n",
       "      <td>2000</td>\n",
       "      <td>0.03020</td>\n",
       "      <td>Eminem</td>\n",
       "      <td>0.949</td>\n",
       "      <td>284200</td>\n",
       "      <td>0.661</td>\n",
       "      <td>3yfqSUWxFvZELEM4PmlwIR</td>\n",
       "      <td>0.000000</td>\n",
       "      <td>0.0454</td>\n",
       "      <td>-4.244</td>\n",
       "      <td>The Real Slim Shady</td>\n",
       "      <td>80</td>\n",
       "      <td>2000-05-23</td>\n",
       "      <td>0.0572</td>\n",
       "      <td>104.504</td>\n",
       "      <td>Eminem - The Real Slim Shady</td>\n",
       "    </tr>\n",
       "  </tbody>\n",
       "</table>\n",
       "</div>"
      ],
      "text/plain": [
       "       valence  year  acousticness       artists  danceability  duration_ms  \\\n",
       "12873    0.285  2000       0.00239      Coldplay         0.429       266773   \n",
       "12874    0.613  2000       0.14300       OutKast         0.843       270507   \n",
       "12875    0.400  2000       0.00958   Linkin Park         0.556       216880   \n",
       "12876    0.543  2000       0.00664  3 Doors Down         0.545       233933   \n",
       "12877    0.760  2000       0.03020        Eminem         0.949       284200   \n",
       "\n",
       "       energy                      id  instrumentalness  liveness  loudness  \\\n",
       "12873   0.661  3AJwUDP919kvQ9QcozQPxg          0.000121    0.2340    -7.227   \n",
       "12874   0.806  0I3q5fE6wg7LIfHGngUTnV          0.000000    0.0771    -5.946   \n",
       "12875   0.864  60a0Rd6pjrkxjPbaKzXjfq          0.000000    0.2090    -5.870   \n",
       "12876   0.865  6ZOBP3NvffbU4SZcrnt1k6          0.000011    0.1680    -5.708   \n",
       "12877   0.661  3yfqSUWxFvZELEM4PmlwIR          0.000000    0.0454    -4.244   \n",
       "\n",
       "                      name  popularity release_date  speechiness    tempo  \\\n",
       "12873               Yellow          84   2000-07-10       0.0281  173.372   \n",
       "12874          Ms. Jackson          80   2000-10-31       0.2690   94.948   \n",
       "12875           In the End          84   2000-10-24       0.0584  105.143   \n",
       "12876           Kryptonite          78         2000       0.0286   99.009   \n",
       "12877  The Real Slim Shady          80   2000-05-23       0.0572  104.504   \n",
       "\n",
       "                       artists_song  \n",
       "12873             Coldplay - Yellow  \n",
       "12874         OutKast - Ms. Jackson  \n",
       "12875      Linkin Park - In the End  \n",
       "12876     3 Doors Down - Kryptonite  \n",
       "12877  Eminem - The Real Slim Shady  "
      ]
     },
     "execution_count": 35,
     "metadata": {},
     "output_type": "execute_result"
    }
   ],
   "source": [
    "dados.head()"
   ]
  },
  {
   "cell_type": "code",
   "execution_count": 36,
   "metadata": {},
   "outputs": [
    {
     "data": {
      "text/html": [
       "<div>\n",
       "<style scoped>\n",
       "    .dataframe tbody tr th:only-of-type {\n",
       "        vertical-align: middle;\n",
       "    }\n",
       "\n",
       "    .dataframe tbody tr th {\n",
       "        vertical-align: top;\n",
       "    }\n",
       "\n",
       "    .dataframe thead th {\n",
       "        text-align: right;\n",
       "    }\n",
       "</style>\n",
       "<table border=\"1\" class=\"dataframe\">\n",
       "  <thead>\n",
       "    <tr style=\"text-align: right;\">\n",
       "      <th></th>\n",
       "      <th>valence</th>\n",
       "      <th>year</th>\n",
       "      <th>acousticness</th>\n",
       "      <th>danceability</th>\n",
       "      <th>duration_ms</th>\n",
       "      <th>energy</th>\n",
       "      <th>id</th>\n",
       "      <th>instrumentalness</th>\n",
       "      <th>liveness</th>\n",
       "      <th>loudness</th>\n",
       "      <th>...</th>\n",
       "      <th>artists_Zedd</th>\n",
       "      <th>artists_alt-J</th>\n",
       "      <th>artists_blackbear</th>\n",
       "      <th>artists_blink-182</th>\n",
       "      <th>artists_deadmau5</th>\n",
       "      <th>artists_for KING &amp; COUNTRY</th>\n",
       "      <th>artists_fun.</th>\n",
       "      <th>artists_girl in red</th>\n",
       "      <th>artists_iann dior</th>\n",
       "      <th>artists_オメガトライブ</th>\n",
       "    </tr>\n",
       "  </thead>\n",
       "  <tbody>\n",
       "    <tr>\n",
       "      <th>12873</th>\n",
       "      <td>0.285</td>\n",
       "      <td>2000</td>\n",
       "      <td>0.00239</td>\n",
       "      <td>0.429</td>\n",
       "      <td>266773</td>\n",
       "      <td>0.661</td>\n",
       "      <td>3AJwUDP919kvQ9QcozQPxg</td>\n",
       "      <td>0.000121</td>\n",
       "      <td>0.2340</td>\n",
       "      <td>-7.227</td>\n",
       "      <td>...</td>\n",
       "      <td>0</td>\n",
       "      <td>0</td>\n",
       "      <td>0</td>\n",
       "      <td>0</td>\n",
       "      <td>0</td>\n",
       "      <td>0</td>\n",
       "      <td>0</td>\n",
       "      <td>0</td>\n",
       "      <td>0</td>\n",
       "      <td>0</td>\n",
       "    </tr>\n",
       "    <tr>\n",
       "      <th>12874</th>\n",
       "      <td>0.613</td>\n",
       "      <td>2000</td>\n",
       "      <td>0.14300</td>\n",
       "      <td>0.843</td>\n",
       "      <td>270507</td>\n",
       "      <td>0.806</td>\n",
       "      <td>0I3q5fE6wg7LIfHGngUTnV</td>\n",
       "      <td>0.000000</td>\n",
       "      <td>0.0771</td>\n",
       "      <td>-5.946</td>\n",
       "      <td>...</td>\n",
       "      <td>0</td>\n",
       "      <td>0</td>\n",
       "      <td>0</td>\n",
       "      <td>0</td>\n",
       "      <td>0</td>\n",
       "      <td>0</td>\n",
       "      <td>0</td>\n",
       "      <td>0</td>\n",
       "      <td>0</td>\n",
       "      <td>0</td>\n",
       "    </tr>\n",
       "    <tr>\n",
       "      <th>12875</th>\n",
       "      <td>0.400</td>\n",
       "      <td>2000</td>\n",
       "      <td>0.00958</td>\n",
       "      <td>0.556</td>\n",
       "      <td>216880</td>\n",
       "      <td>0.864</td>\n",
       "      <td>60a0Rd6pjrkxjPbaKzXjfq</td>\n",
       "      <td>0.000000</td>\n",
       "      <td>0.2090</td>\n",
       "      <td>-5.870</td>\n",
       "      <td>...</td>\n",
       "      <td>0</td>\n",
       "      <td>0</td>\n",
       "      <td>0</td>\n",
       "      <td>0</td>\n",
       "      <td>0</td>\n",
       "      <td>0</td>\n",
       "      <td>0</td>\n",
       "      <td>0</td>\n",
       "      <td>0</td>\n",
       "      <td>0</td>\n",
       "    </tr>\n",
       "    <tr>\n",
       "      <th>12876</th>\n",
       "      <td>0.543</td>\n",
       "      <td>2000</td>\n",
       "      <td>0.00664</td>\n",
       "      <td>0.545</td>\n",
       "      <td>233933</td>\n",
       "      <td>0.865</td>\n",
       "      <td>6ZOBP3NvffbU4SZcrnt1k6</td>\n",
       "      <td>0.000011</td>\n",
       "      <td>0.1680</td>\n",
       "      <td>-5.708</td>\n",
       "      <td>...</td>\n",
       "      <td>0</td>\n",
       "      <td>0</td>\n",
       "      <td>0</td>\n",
       "      <td>0</td>\n",
       "      <td>0</td>\n",
       "      <td>0</td>\n",
       "      <td>0</td>\n",
       "      <td>0</td>\n",
       "      <td>0</td>\n",
       "      <td>0</td>\n",
       "    </tr>\n",
       "    <tr>\n",
       "      <th>12877</th>\n",
       "      <td>0.760</td>\n",
       "      <td>2000</td>\n",
       "      <td>0.03020</td>\n",
       "      <td>0.949</td>\n",
       "      <td>284200</td>\n",
       "      <td>0.661</td>\n",
       "      <td>3yfqSUWxFvZELEM4PmlwIR</td>\n",
       "      <td>0.000000</td>\n",
       "      <td>0.0454</td>\n",
       "      <td>-4.244</td>\n",
       "      <td>...</td>\n",
       "      <td>0</td>\n",
       "      <td>0</td>\n",
       "      <td>0</td>\n",
       "      <td>0</td>\n",
       "      <td>0</td>\n",
       "      <td>0</td>\n",
       "      <td>0</td>\n",
       "      <td>0</td>\n",
       "      <td>0</td>\n",
       "      <td>0</td>\n",
       "    </tr>\n",
       "  </tbody>\n",
       "</table>\n",
       "<p>5 rows × 1579 columns</p>\n",
       "</div>"
      ],
      "text/plain": [
       "       valence  year  acousticness  danceability  duration_ms  energy  \\\n",
       "12873    0.285  2000       0.00239         0.429       266773   0.661   \n",
       "12874    0.613  2000       0.14300         0.843       270507   0.806   \n",
       "12875    0.400  2000       0.00958         0.556       216880   0.864   \n",
       "12876    0.543  2000       0.00664         0.545       233933   0.865   \n",
       "12877    0.760  2000       0.03020         0.949       284200   0.661   \n",
       "\n",
       "                           id  instrumentalness  liveness  loudness  ...  \\\n",
       "12873  3AJwUDP919kvQ9QcozQPxg          0.000121    0.2340    -7.227  ...   \n",
       "12874  0I3q5fE6wg7LIfHGngUTnV          0.000000    0.0771    -5.946  ...   \n",
       "12875  60a0Rd6pjrkxjPbaKzXjfq          0.000000    0.2090    -5.870  ...   \n",
       "12876  6ZOBP3NvffbU4SZcrnt1k6          0.000011    0.1680    -5.708  ...   \n",
       "12877  3yfqSUWxFvZELEM4PmlwIR          0.000000    0.0454    -4.244  ...   \n",
       "\n",
       "      artists_Zedd  artists_alt-J artists_blackbear  artists_blink-182  \\\n",
       "12873            0              0                 0                  0   \n",
       "12874            0              0                 0                  0   \n",
       "12875            0              0                 0                  0   \n",
       "12876            0              0                 0                  0   \n",
       "12877            0              0                 0                  0   \n",
       "\n",
       "       artists_deadmau5 artists_for KING & COUNTRY  artists_fun.  \\\n",
       "12873                 0                          0             0   \n",
       "12874                 0                          0             0   \n",
       "12875                 0                          0             0   \n",
       "12876                 0                          0             0   \n",
       "12877                 0                          0             0   \n",
       "\n",
       "       artists_girl in red  artists_iann dior  artists_オメガトライブ  \n",
       "12873                    0                  0                0  \n",
       "12874                    0                  0                0  \n",
       "12875                    0                  0                0  \n",
       "12876                    0                  0                0  \n",
       "12877                    0                  0                0  \n",
       "\n",
       "[5 rows x 1579 columns]"
      ]
     },
     "execution_count": 36,
     "metadata": {},
     "output_type": "execute_result"
    }
   ],
   "source": [
    "music_dumie = pd.concat([dados, pd.get_dummies(\n",
    "    dados['artists'], prefix='artists')], axis=1).drop(['artists'], axis=1)\n",
    "music_dumie.head()"
   ]
  },
  {
   "cell_type": "code",
   "execution_count": 37,
   "metadata": {},
   "outputs": [
    {
     "name": "stdout",
     "output_type": "stream",
     "text": [
      "dados ==> (21546, 17)\n",
      "dados dummies ==> (21546, 1579)\n"
     ]
    }
   ],
   "source": [
    "print(f\"dados ==> {dados.shape}\")\n",
    "print(f'dados dummies ==> {music_dumie.shape}')\n"
   ]
  },
  {
   "cell_type": "code",
   "execution_count": 38,
   "metadata": {},
   "outputs": [],
   "source": [
    "pca_pipeline = Pipeline([('scaler', StandardScaler()),\n",
    "                        ('PCA', PCA(n_components=0.7, random_state=SEED))])\n",
    "\n",
    "music_embedding_pca = pca_pipeline.fit_transform(music_dumie.drop(\n",
    "    ['id', 'name', 'artists_song', 'release_date'], axis=1))\n",
    "\n",
    "projection_music = pd.DataFrame(data=music_embedding_pca)"
   ]
  },
  {
   "cell_type": "code",
   "execution_count": 39,
   "metadata": {},
   "outputs": [
    {
     "data": {
      "text/html": [
       "<div>\n",
       "<style scoped>\n",
       "    .dataframe tbody tr th:only-of-type {\n",
       "        vertical-align: middle;\n",
       "    }\n",
       "\n",
       "    .dataframe tbody tr th {\n",
       "        vertical-align: top;\n",
       "    }\n",
       "\n",
       "    .dataframe thead th {\n",
       "        text-align: right;\n",
       "    }\n",
       "</style>\n",
       "<table border=\"1\" class=\"dataframe\">\n",
       "  <thead>\n",
       "    <tr style=\"text-align: right;\">\n",
       "      <th></th>\n",
       "      <th>0</th>\n",
       "      <th>1</th>\n",
       "      <th>2</th>\n",
       "      <th>3</th>\n",
       "      <th>4</th>\n",
       "      <th>5</th>\n",
       "      <th>6</th>\n",
       "      <th>7</th>\n",
       "      <th>8</th>\n",
       "      <th>9</th>\n",
       "      <th>...</th>\n",
       "      <th>1084</th>\n",
       "      <th>1085</th>\n",
       "      <th>1086</th>\n",
       "      <th>1087</th>\n",
       "      <th>1088</th>\n",
       "      <th>1089</th>\n",
       "      <th>1090</th>\n",
       "      <th>1091</th>\n",
       "      <th>1092</th>\n",
       "      <th>1093</th>\n",
       "    </tr>\n",
       "  </thead>\n",
       "  <tbody>\n",
       "    <tr>\n",
       "      <th>0</th>\n",
       "      <td>0.070576</td>\n",
       "      <td>0.520117</td>\n",
       "      <td>2.216909</td>\n",
       "      <td>-0.910164</td>\n",
       "      <td>0.528643</td>\n",
       "      <td>-0.154408</td>\n",
       "      <td>-0.298385</td>\n",
       "      <td>-0.564471</td>\n",
       "      <td>-2.690171</td>\n",
       "      <td>1.975150</td>\n",
       "      <td>...</td>\n",
       "      <td>9.141838e-13</td>\n",
       "      <td>4.231086e-13</td>\n",
       "      <td>1.227733e-12</td>\n",
       "      <td>-2.762468e-12</td>\n",
       "      <td>3.138652e-13</td>\n",
       "      <td>-4.141317e-13</td>\n",
       "      <td>-6.126364e-13</td>\n",
       "      <td>1.680376e-12</td>\n",
       "      <td>2.988916e-13</td>\n",
       "      <td>-1.238882e-12</td>\n",
       "    </tr>\n",
       "    <tr>\n",
       "      <th>1</th>\n",
       "      <td>-1.434962</td>\n",
       "      <td>0.045598</td>\n",
       "      <td>-1.674609</td>\n",
       "      <td>1.906482</td>\n",
       "      <td>0.381099</td>\n",
       "      <td>-1.111431</td>\n",
       "      <td>-1.133168</td>\n",
       "      <td>0.506212</td>\n",
       "      <td>-1.713906</td>\n",
       "      <td>0.350026</td>\n",
       "      <td>...</td>\n",
       "      <td>5.599696e-12</td>\n",
       "      <td>-1.547467e-13</td>\n",
       "      <td>-1.782485e-12</td>\n",
       "      <td>3.446030e-12</td>\n",
       "      <td>-2.167982e-12</td>\n",
       "      <td>-4.096552e-12</td>\n",
       "      <td>-2.559774e-12</td>\n",
       "      <td>-5.761776e-13</td>\n",
       "      <td>-4.565956e-13</td>\n",
       "      <td>3.232006e-12</td>\n",
       "    </tr>\n",
       "    <tr>\n",
       "      <th>2</th>\n",
       "      <td>-1.029663</td>\n",
       "      <td>0.529666</td>\n",
       "      <td>0.804739</td>\n",
       "      <td>-0.376150</td>\n",
       "      <td>-0.200566</td>\n",
       "      <td>-0.213421</td>\n",
       "      <td>0.789295</td>\n",
       "      <td>1.980178</td>\n",
       "      <td>-1.639476</td>\n",
       "      <td>1.264259</td>\n",
       "      <td>...</td>\n",
       "      <td>-7.108716e-14</td>\n",
       "      <td>-4.166861e-14</td>\n",
       "      <td>-3.609884e-13</td>\n",
       "      <td>7.655617e-14</td>\n",
       "      <td>9.835362e-13</td>\n",
       "      <td>-2.077100e-12</td>\n",
       "      <td>-3.399976e-15</td>\n",
       "      <td>1.519147e-13</td>\n",
       "      <td>1.995163e-13</td>\n",
       "      <td>5.209912e-13</td>\n",
       "    </tr>\n",
       "    <tr>\n",
       "      <th>3</th>\n",
       "      <td>-0.964129</td>\n",
       "      <td>1.169663</td>\n",
       "      <td>0.447230</td>\n",
       "      <td>-1.087722</td>\n",
       "      <td>0.349689</td>\n",
       "      <td>-0.573343</td>\n",
       "      <td>-0.590508</td>\n",
       "      <td>0.942237</td>\n",
       "      <td>-1.313010</td>\n",
       "      <td>0.962899</td>\n",
       "      <td>...</td>\n",
       "      <td>4.259341e-12</td>\n",
       "      <td>-1.332094e-12</td>\n",
       "      <td>1.765688e-12</td>\n",
       "      <td>-1.355705e-12</td>\n",
       "      <td>1.688033e-12</td>\n",
       "      <td>-1.029018e-11</td>\n",
       "      <td>-4.973098e-12</td>\n",
       "      <td>-1.959781e-12</td>\n",
       "      <td>3.310829e-12</td>\n",
       "      <td>7.360482e-13</td>\n",
       "    </tr>\n",
       "    <tr>\n",
       "      <th>4</th>\n",
       "      <td>-1.761283</td>\n",
       "      <td>-0.381690</td>\n",
       "      <td>-1.215170</td>\n",
       "      <td>1.338292</td>\n",
       "      <td>1.387351</td>\n",
       "      <td>-1.349616</td>\n",
       "      <td>0.062583</td>\n",
       "      <td>0.458048</td>\n",
       "      <td>-2.160498</td>\n",
       "      <td>0.497874</td>\n",
       "      <td>...</td>\n",
       "      <td>1.447069e-12</td>\n",
       "      <td>-7.357915e-13</td>\n",
       "      <td>-8.044237e-13</td>\n",
       "      <td>1.914923e-13</td>\n",
       "      <td>-3.217762e-13</td>\n",
       "      <td>-1.457312e-12</td>\n",
       "      <td>-2.192139e-13</td>\n",
       "      <td>3.004473e-14</td>\n",
       "      <td>-1.511527e-13</td>\n",
       "      <td>1.313718e-12</td>\n",
       "    </tr>\n",
       "  </tbody>\n",
       "</table>\n",
       "<p>5 rows × 1094 columns</p>\n",
       "</div>"
      ],
      "text/plain": [
       "       0         1         2         3         4         5         6     \\\n",
       "0  0.070576  0.520117  2.216909 -0.910164  0.528643 -0.154408 -0.298385   \n",
       "1 -1.434962  0.045598 -1.674609  1.906482  0.381099 -1.111431 -1.133168   \n",
       "2 -1.029663  0.529666  0.804739 -0.376150 -0.200566 -0.213421  0.789295   \n",
       "3 -0.964129  1.169663  0.447230 -1.087722  0.349689 -0.573343 -0.590508   \n",
       "4 -1.761283 -0.381690 -1.215170  1.338292  1.387351 -1.349616  0.062583   \n",
       "\n",
       "       7         8         9     ...          1084          1085  \\\n",
       "0 -0.564471 -2.690171  1.975150  ...  9.141838e-13  4.231086e-13   \n",
       "1  0.506212 -1.713906  0.350026  ...  5.599696e-12 -1.547467e-13   \n",
       "2  1.980178 -1.639476  1.264259  ... -7.108716e-14 -4.166861e-14   \n",
       "3  0.942237 -1.313010  0.962899  ...  4.259341e-12 -1.332094e-12   \n",
       "4  0.458048 -2.160498  0.497874  ...  1.447069e-12 -7.357915e-13   \n",
       "\n",
       "           1086          1087          1088          1089          1090  \\\n",
       "0  1.227733e-12 -2.762468e-12  3.138652e-13 -4.141317e-13 -6.126364e-13   \n",
       "1 -1.782485e-12  3.446030e-12 -2.167982e-12 -4.096552e-12 -2.559774e-12   \n",
       "2 -3.609884e-13  7.655617e-14  9.835362e-13 -2.077100e-12 -3.399976e-15   \n",
       "3  1.765688e-12 -1.355705e-12  1.688033e-12 -1.029018e-11 -4.973098e-12   \n",
       "4 -8.044237e-13  1.914923e-13 -3.217762e-13 -1.457312e-12 -2.192139e-13   \n",
       "\n",
       "           1091          1092          1093  \n",
       "0  1.680376e-12  2.988916e-13 -1.238882e-12  \n",
       "1 -5.761776e-13 -4.565956e-13  3.232006e-12  \n",
       "2  1.519147e-13  1.995163e-13  5.209912e-13  \n",
       "3 -1.959781e-12  3.310829e-12  7.360482e-13  \n",
       "4  3.004473e-14 -1.511527e-13  1.313718e-12  \n",
       "\n",
       "[5 rows x 1094 columns]"
      ]
     },
     "execution_count": 39,
     "metadata": {},
     "output_type": "execute_result"
    }
   ],
   "source": [
    "projection_music.head()"
   ]
  },
  {
   "cell_type": "code",
   "execution_count": 40,
   "metadata": {},
   "outputs": [
    {
     "name": "stdout",
     "output_type": "stream",
     "text": [
      "components embdding ==> 1094\n",
      "projection music ==> 1094\n"
     ]
    }
   ],
   "source": [
    "print(f'components embdding ==> {pca_pipeline[1].n_components_}')\n",
    "print(f'projection music ==> {projection_music.shape[1]}')\n"
   ]
  },
  {
   "cell_type": "code",
   "execution_count": 41,
   "metadata": {},
   "outputs": [],
   "source": [
    "# Aplicando cluster com k-means\n",
    "k_means_pca_pipeline = KMeans(n_clusters=50, verbose=False, random_state=SEED)\n",
    "k_means_pca_pipeline.fit(projection_music)\n",
    "\n",
    "dados[\"cluster_pca\"] = k_means_pca_pipeline.predict(projection_music)\n",
    "projection_music[\"cluster_pca\"] = k_means_pca_pipeline.predict(projection_music)\n"
   ]
  },
  {
   "cell_type": "code",
   "execution_count": null,
   "metadata": {},
   "outputs": [],
   "source": [
    "projection_music['artist'] = dados['artists'].tolist()\n",
    "projection_music['song'] = dados['artists_song'].tolist()\n",
    "projection_music['id'] = dados['id'].tolist()\n"
   ]
  },
  {
   "cell_type": "code",
   "execution_count": null,
   "metadata": {},
   "outputs": [],
   "source": [
    "projection_music.head()\n"
   ]
  },
  {
   "cell_type": "code",
   "execution_count": null,
   "metadata": {},
   "outputs": [],
   "source": [
    "fig = px.scatter(projection_music, x=0, y=1, color=\"cluster_pca\",\n",
    "                 hover_data=[0, 1, 'song'])\n",
    "fig.show()\n"
   ]
  },
  {
   "cell_type": "markdown",
   "metadata": {},
   "source": [
    "<h1>Sistema de Recomendação</h1>"
   ]
  },
  {
   "cell_type": "code",
   "execution_count": null,
   "metadata": {},
   "outputs": [],
   "source": [
    "nome_musica = \"Ed Sheeran - Shape of You\""
   ]
  },
  {
   "cell_type": "code",
   "execution_count": null,
   "metadata": {},
   "outputs": [],
   "source": [
    "# find cluster\n",
    "cluster_found = list(projection_music[projection_music['song'] == nome_musica]['cluster_pca'])[0]"
   ]
  },
  {
   "cell_type": "code",
   "execution_count": null,
   "metadata": {},
   "outputs": [],
   "source": [
    "# music recommended\n",
    "music_recommended = projection_music[projection_music['cluster_pca'] == cluster_found][[0, 1, 'id','song', 'artist']]\n",
    "music_recommended.head()"
   ]
  },
  {
   "cell_type": "code",
   "execution_count": null,
   "metadata": {},
   "outputs": [],
   "source": [
    "x_musica = list(projection_music[projection_music['song'] ==nome_musica][0])[0]\n",
    "y_musica = list(projection_music[projection_music['song'] ==nome_musica][1])[0]"
   ]
  },
  {
   "cell_type": "code",
   "execution_count": null,
   "metadata": {},
   "outputs": [],
   "source": [
    "distances = euclidean_distances(music_recommended[[0, 1]], [[x_musica, y_musica]])\n",
    "music_recommended['distances'] = distances\n",
    "recommended = music_recommended.sort_values('distances').head(10)\n",
    "recommended\n"
   ]
  },
  {
   "cell_type": "markdown",
   "metadata": {},
   "source": [
    "<h1>Spotify</h1>"
   ]
  },
  {
   "cell_type": "code",
   "execution_count": null,
   "metadata": {},
   "outputs": [],
   "source": [
    "Oauth = SpotifyOAuth(\n",
    "    scope=os.environ.get('spotify_scope'),\n",
    "    redirect_uri=os.environ.get('spotify_redirect_url'),\n",
    "    client_id=os.environ.get('spotify_client_id'),\n",
    "    client_secret=os.environ.get('spotify_client_secret')\n",
    ")\n"
   ]
  },
  {
   "cell_type": "code",
   "execution_count": null,
   "metadata": {},
   "outputs": [],
   "source": [
    "client_credential_manager = SpotifyClientCredentials(\n",
    "    client_id=os.environ.get('spotify_client_id'),\n",
    "    client_secret=os.environ.get('spotify_client_secret')\n",
    ")\n",
    "sp = spy.Spotify(client_credentials_manager=client_credential_manager)\n"
   ]
  },
  {
   "cell_type": "code",
   "execution_count": null,
   "metadata": {},
   "outputs": [],
   "source": [
    "id = dados[dados['artists_song'] == nome_musica]['id'].iloc[0]"
   ]
  },
  {
   "cell_type": "code",
   "execution_count": null,
   "metadata": {},
   "outputs": [],
   "source": [
    "def recommend_id(playlist):\n",
    "    urls = []\n",
    "    names = []\n",
    "\n",
    "    for i in playlist:\n",
    "        track = sp.track(i)\n",
    "        urls.append(track['album']['images'][1]['url'])\n",
    "        names.append(track['name'])\n",
    "    return names, urls\n"
   ]
  },
  {
   "cell_type": "code",
   "execution_count": null,
   "metadata": {},
   "outputs": [
    {
     "data": {
      "text/plain": [
       "['https://i.scdn.co/image/ab67616d00001e02ba5db46f4b838ef6027e6f96',\n",
       " 'https://i.scdn.co/image/ab67616d00001e025ef878a782c987d38d82b605',\n",
       " 'https://i.scdn.co/image/ab67616d00001e0288e3cda6d29b2552d4d6bc43',\n",
       " 'https://i.scdn.co/image/ab67616d00001e0273304ce0653c7758dd94b259',\n",
       " 'https://i.scdn.co/image/ab67616d00001e02b46b5fb6fdc6f5c720fcb183',\n",
       " 'https://i.scdn.co/image/ab67616d00001e02891f0552bed344dc2bfe322f',\n",
       " 'https://i.scdn.co/image/ab67616d00001e022e3aeb1879f589ff44304411',\n",
       " 'https://i.scdn.co/image/ab67616d00001e0207aa1426cb2b3cfd8ad67c64',\n",
       " 'https://i.scdn.co/image/ab67616d00001e022cbb5f97a0853d1c7cbbe231',\n",
       " 'https://i.scdn.co/image/ab67616d00001e02f9f2d43ff44bdfbe8c556f8d']"
      ]
     },
     "execution_count": 63,
     "metadata": {},
     "output_type": "execute_result"
    }
   ],
   "source": [
    "names, urls = recommend_id(recommended['id'])\n",
    "urls"
   ]
  }
 ],
 "metadata": {
  "kernelspec": {
   "display_name": "Python 3.8.0 ('.venv': venv)",
   "language": "python",
   "name": "python3"
  },
  "language_info": {
   "codemirror_mode": {
    "name": "ipython",
    "version": 3
   },
   "file_extension": ".py",
   "mimetype": "text/x-python",
   "name": "python",
   "nbconvert_exporter": "python",
   "pygments_lexer": "ipython3",
   "version": "3.8.0"
  },
  "orig_nbformat": 4,
  "vscode": {
   "interpreter": {
    "hash": "9d0b661d29c8a07fec5417655ec45fd7f445e709452ff671571213b53f7fbb8c"
   }
  }
 },
 "nbformat": 4,
 "nbformat_minor": 2
}

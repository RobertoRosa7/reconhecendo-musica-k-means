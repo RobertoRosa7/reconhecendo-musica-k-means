{
 "cells": [
  {
   "cell_type": "code",
   "execution_count": null,
   "metadata": {},
   "outputs": [],
   "source": [
    "import pandas as pd\n",
    "import numpy as np\n",
    "import spotipy as spy\n",
    "import plotly.express as px\n",
    "import os\n",
    "import matplotlib.pyplot as plt\n",
    "\n",
    "from sklearn.cluster import KMeans\n",
    "from sklearn.pipeline import Pipeline\n",
    "from sklearn.preprocessing import StandardScaler\n",
    "from sklearn.decomposition import PCA\n",
    "from sklearn.metrics.pairwise import euclidean_distances\n",
    "from spotipy.oauth2 import SpotifyOAuth\n",
    "from spotipy.oauth2 import SpotifyClientCredentials\n",
    "from skimage import io\n"
   ]
  },
  {
   "cell_type": "code",
   "execution_count": null,
   "metadata": {},
   "outputs": [],
   "source": [
    "with open('../.env') as file:\n",
    "    for line in file:\n",
    "        if line.startswith('#') or not line.strip():\n",
    "            continue\n",
    "\n",
    "        key, value = line.strip().split('=', 1)\n",
    "        os.environ[key] = value\n"
   ]
  },
  {
   "cell_type": "code",
   "execution_count": null,
   "metadata": {},
   "outputs": [],
   "source": [
    "dados = pd.read_csv(\"../data/files/dados_reduzidos.csv\",\n",
    "                    sep=\",\", encoding=\"utf-8\")\n",
    "\n",
    "dados_generos = pd.read_csv(\n",
    "    \"../data/files/data_by_genres.csv\", sep=\",\", encoding=\"utf-8\")\n",
    "\n",
    "dados_anos = pd.read_csv(\n",
    "    \"../data/files/data_by_year.csv\", sep=\",\", encoding=\"utf-8\")"
   ]
  },
  {
   "cell_type": "code",
   "execution_count": null,
   "metadata": {},
   "outputs": [],
   "source": [
    "dados_generos.head(2)\n"
   ]
  },
  {
   "cell_type": "code",
   "execution_count": null,
   "metadata": {},
   "outputs": [],
   "source": [
    "dados_anos.head(2)\n"
   ]
  },
  {
   "cell_type": "code",
   "execution_count": null,
   "metadata": {},
   "outputs": [],
   "source": [
    "dados.head(2)\n"
   ]
  },
  {
   "cell_type": "code",
   "execution_count": null,
   "metadata": {},
   "outputs": [],
   "source": [
    "dados = dados[dados.year >= 2000]\n",
    "dados[\"year\"].unique()\n"
   ]
  },
  {
   "cell_type": "code",
   "execution_count": null,
   "metadata": {},
   "outputs": [],
   "source": [
    "dados.shape\n"
   ]
  },
  {
   "cell_type": "code",
   "execution_count": null,
   "metadata": {},
   "outputs": [],
   "source": [
    "dados = dados.drop([\"explicit\", \"key\", \"mode\"], axis=1)\n"
   ]
  },
  {
   "cell_type": "code",
   "execution_count": null,
   "metadata": {},
   "outputs": [],
   "source": [
    "dados.shape\n"
   ]
  },
  {
   "cell_type": "code",
   "execution_count": null,
   "metadata": {},
   "outputs": [],
   "source": [
    "dados.isnull().sum()\n"
   ]
  },
  {
   "cell_type": "code",
   "execution_count": null,
   "metadata": {},
   "outputs": [],
   "source": [
    "dados.isna().sum()\n"
   ]
  },
  {
   "cell_type": "code",
   "execution_count": null,
   "metadata": {},
   "outputs": [],
   "source": [
    "dados_generos.head(2)\n"
   ]
  },
  {
   "cell_type": "code",
   "execution_count": null,
   "metadata": {},
   "outputs": [],
   "source": [
    "dados_generos = dados_generos.drop([\"key\", \"mode\"], axis=1)\n",
    "dados_generos.head(2)\n"
   ]
  },
  {
   "cell_type": "code",
   "execution_count": null,
   "metadata": {},
   "outputs": [],
   "source": [
    "dados_generos.isna().sum()\n"
   ]
  },
  {
   "cell_type": "code",
   "execution_count": null,
   "metadata": {},
   "outputs": [],
   "source": [
    "dados_generos.isnull().sum()\n"
   ]
  },
  {
   "cell_type": "code",
   "execution_count": null,
   "metadata": {},
   "outputs": [],
   "source": [
    "dados_anos.head()\n"
   ]
  },
  {
   "cell_type": "code",
   "execution_count": null,
   "metadata": {},
   "outputs": [],
   "source": [
    "dados_anos.year.unique()\n"
   ]
  },
  {
   "cell_type": "code",
   "execution_count": null,
   "metadata": {},
   "outputs": [],
   "source": [
    "dados_anos = dados_anos[dados_anos.year >= 2000]\n",
    "dados_anos = dados_anos.drop([\"key\", \"mode\"], axis=1)\n",
    "dados_anos.year.unique()\n"
   ]
  },
  {
   "cell_type": "code",
   "execution_count": null,
   "metadata": {},
   "outputs": [],
   "source": [
    "dados_anos.reset_index()\n"
   ]
  },
  {
   "cell_type": "code",
   "execution_count": null,
   "metadata": {},
   "outputs": [],
   "source": [
    "fig = px.line(dados_anos, x=\"year\", y=\"loudness\",\n",
    "              title=\"Variação do loudness conforme os anos\")\n",
    "fig.show()\n"
   ]
  },
  {
   "cell_type": "code",
   "execution_count": null,
   "metadata": {},
   "outputs": [],
   "source": [
    "import plotly.graph_objects as go\n"
   ]
  },
  {
   "cell_type": "code",
   "execution_count": null,
   "metadata": {},
   "outputs": [],
   "source": [
    "fig = go.Figure()\n"
   ]
  },
  {
   "cell_type": "code",
   "execution_count": null,
   "metadata": {},
   "outputs": [],
   "source": [
    "fig.add_trace(go.Scatter(\n",
    "    x=dados_anos[\"year\"], y=dados_anos[\"acousticness\"], name=\"Acousticness\"))\n",
    "fig.add_trace(go.Scatter(\n",
    "    x=dados_anos[\"year\"], y=dados_anos[\"valence\"], name=\"Valence\"))\n",
    "fig.add_trace(go.Scatter(\n",
    "    x=dados_anos[\"year\"], y=dados_anos[\"danceability\"], name=\"Danceability\"))\n",
    "fig.add_trace(go.Scatter(\n",
    "    x=dados_anos[\"year\"], y=dados_anos[\"energy\"], name=\"Energy\"))\n",
    "fig.add_trace(go.Scatter(\n",
    "    x=dados_anos[\"year\"], y=dados_anos[\"instrumentalness\"], name=\"Instrumentalness\"))\n",
    "fig.add_trace(go.Scatter(\n",
    "    x=dados_anos[\"year\"], y=dados_anos[\"liveness\"], name=\"Liveness\"))\n",
    "fig.add_trace(go.Scatter(\n",
    "    x=dados_anos[\"year\"], y=dados_anos[\"speechiness\"], name=\"Speechiness\"))\n",
    "fig.show()\n"
   ]
  },
  {
   "cell_type": "code",
   "execution_count": null,
   "metadata": {},
   "outputs": [],
   "source": [
    "dados_generos.head(2)\n"
   ]
  },
  {
   "cell_type": "code",
   "execution_count": null,
   "metadata": {},
   "outputs": [],
   "source": [
    "dados_generos[\"genres\"].value_counts().sum()\n"
   ]
  },
  {
   "cell_type": "code",
   "execution_count": null,
   "metadata": {},
   "outputs": [],
   "source": [
    "dados_generos1 = dados_generos.drop('genres', axis=1)\n",
    "dados_generos1.head(2)\n"
   ]
  },
  {
   "cell_type": "code",
   "execution_count": null,
   "metadata": {},
   "outputs": [],
   "source": [
    "SEED = 1234\n",
    "np.random.seed(1224)\n",
    "\n",
    "pca_pipeline = Pipeline([('scaler', StandardScaler()),\n",
    "                        ('PCA', PCA(n_components=2, random_state=SEED))])\n",
    "\n",
    "genre_embedding_pca = pca_pipeline.fit_transform(dados_generos1)\n",
    "\n",
    "projection = pd.DataFrame(columns=['x', 'y'], data=genre_embedding_pca)\n"
   ]
  },
  {
   "cell_type": "code",
   "execution_count": null,
   "metadata": {},
   "outputs": [],
   "source": [
    "print(f\"Projection: {projection.shape}\")"
   ]
  },
  {
   "cell_type": "code",
   "execution_count": null,
   "metadata": {},
   "outputs": [],
   "source": [
    "k_means_pca = KMeans(n_clusters=5, verbose=False, random_state=SEED)\n",
    "k_means_pca.fit(projection)\n",
    "\n",
    "dados_generos[\"cluster_pca\"] = k_means_pca.predict(projection)\n",
    "projection[\"cluster_pca\"] = k_means_pca.predict(projection)\n"
   ]
  },
  {
   "cell_type": "code",
   "execution_count": null,
   "metadata": {},
   "outputs": [],
   "source": [
    "projection[\"generos\"] = dados_generos['genres']\n",
    "projection.head()\n"
   ]
  },
  {
   "cell_type": "code",
   "execution_count": null,
   "metadata": {},
   "outputs": [],
   "source": [
    "fig = px.scatter(projection, x=\"x\", y=\"y\", color=\"cluster_pca\",\n",
    "                 hover_data=['x', 'y', 'generos'])\n",
    "fig.show()\n"
   ]
  },
  {
   "cell_type": "code",
   "execution_count": null,
   "metadata": {},
   "outputs": [],
   "source": [
    "# quantidade de radio que são explicadas\n",
    "pca_pipeline[1].explained_variance_ratio_.sum()\n"
   ]
  },
  {
   "cell_type": "code",
   "execution_count": null,
   "metadata": {},
   "outputs": [],
   "source": [
    "# quantidade de colunas ou clusters que são explicadas\n",
    "pca_pipeline[1].explained_variance_.sum()\n"
   ]
  },
  {
   "cell_type": "markdown",
   "metadata": {},
   "source": [
    "<h1>Fazendo Cluster com Músicas</h1>"
   ]
  },
  {
   "cell_type": "markdown",
   "metadata": {},
   "source": [
    "<h1></h1>"
   ]
  },
  {
   "cell_type": "code",
   "execution_count": null,
   "metadata": {},
   "outputs": [],
   "source": [
    "dados.head()"
   ]
  },
  {
   "cell_type": "code",
   "execution_count": null,
   "metadata": {},
   "outputs": [],
   "source": [
    "music_dumie = pd.concat([dados, pd.get_dummies(\n",
    "    dados['artists'], prefix='artists')], axis=1).drop(['artists'], axis=1)\n",
    "music_dumie.head()"
   ]
  },
  {
   "cell_type": "code",
   "execution_count": null,
   "metadata": {},
   "outputs": [],
   "source": [
    "print(f\"dados ==> {dados.shape}\")\n",
    "print(f'dados dummies ==> {music_dumie.shape}')\n"
   ]
  },
  {
   "cell_type": "code",
   "execution_count": null,
   "metadata": {},
   "outputs": [],
   "source": [
    "pca_pipeline = Pipeline([('scaler', StandardScaler()),\n",
    "                        ('PCA', PCA(n_components=0.7, random_state=SEED))])\n",
    "\n",
    "music_embedding_pca = pca_pipeline.fit_transform(music_dumie.drop(\n",
    "    ['id', 'name', 'artists_song', 'release_date'], axis=1))\n",
    "\n",
    "projection_music = pd.DataFrame(data=music_embedding_pca)"
   ]
  },
  {
   "cell_type": "code",
   "execution_count": null,
   "metadata": {},
   "outputs": [],
   "source": [
    "projection_music.head()"
   ]
  },
  {
   "cell_type": "code",
   "execution_count": null,
   "metadata": {},
   "outputs": [],
   "source": [
    "print(f'components embdding ==> {pca_pipeline[1].n_components_}')\n",
    "print(f'projection music ==> {projection_music.shape[1]}')\n"
   ]
  },
  {
   "cell_type": "code",
   "execution_count": null,
   "metadata": {},
   "outputs": [],
   "source": [
    "# Aplicando cluster com k-means\n",
    "k_means_pca_pipeline = KMeans(n_clusters=50, verbose=False, random_state=SEED)\n",
    "k_means_pca_pipeline.fit(projection_music)\n",
    "\n",
    "dados[\"cluster_pca\"] = k_means_pca_pipeline.predict(projection_music)\n",
    "projection_music[\"cluster_pca\"] = k_means_pca_pipeline.predict(projection_music)\n"
   ]
  },
  {
   "cell_type": "code",
   "execution_count": null,
   "metadata": {},
   "outputs": [],
   "source": [
    "projection_music['artist'] = dados['artists'].tolist()\n",
    "projection_music['song'] = dados['artists_song'].tolist()\n",
    "projection_music['id'] = dados['id'].tolist()\n"
   ]
  },
  {
   "cell_type": "code",
   "execution_count": null,
   "metadata": {},
   "outputs": [],
   "source": [
    "projection_music.head()\n"
   ]
  },
  {
   "cell_type": "code",
   "execution_count": null,
   "metadata": {},
   "outputs": [],
   "source": [
    "fig = px.scatter(projection_music, x=0, y=1, color=\"cluster_pca\",\n",
    "                 hover_data=[0, 1, 'song'])\n",
    "fig.show()\n"
   ]
  },
  {
   "cell_type": "markdown",
   "metadata": {},
   "source": [
    "<h1>Sistema de Recomendação</h1>"
   ]
  },
  {
   "cell_type": "code",
   "execution_count": null,
   "metadata": {},
   "outputs": [],
   "source": [
    "nome_musica = \"Ed Sheeran - Shape of You\""
   ]
  },
  {
   "cell_type": "code",
   "execution_count": null,
   "metadata": {},
   "outputs": [],
   "source": [
    "# find cluster\n",
    "cluster_found = list(projection_music[projection_music['song'] == nome_musica]['cluster_pca'])[0]"
   ]
  },
  {
   "cell_type": "code",
   "execution_count": null,
   "metadata": {},
   "outputs": [],
   "source": [
    "# music recommended\n",
    "music_recommended = projection_music[projection_music['cluster_pca'] == cluster_found][[0, 1, 'id','song', 'artist']]\n",
    "music_recommended.head()"
   ]
  },
  {
   "cell_type": "code",
   "execution_count": null,
   "metadata": {},
   "outputs": [],
   "source": [
    "x_musica = list(projection_music[projection_music['song'] ==nome_musica][0])[0]\n",
    "y_musica = list(projection_music[projection_music['song'] ==nome_musica][1])[0]"
   ]
  },
  {
   "cell_type": "code",
   "execution_count": null,
   "metadata": {},
   "outputs": [],
   "source": [
    "distances = euclidean_distances(music_recommended[[0, 1]], [[x_musica, y_musica]])\n",
    "music_recommended['distances'] = distances\n",
    "recommended = music_recommended.sort_values('distances').head(10)\n",
    "recommended\n"
   ]
  },
  {
   "cell_type": "markdown",
   "metadata": {},
   "source": [
    "<h1>Spotify</h1>"
   ]
  },
  {
   "cell_type": "code",
   "execution_count": null,
   "metadata": {},
   "outputs": [],
   "source": [
    "Oauth = SpotifyOAuth(\n",
    "    scope=os.environ.get('spotify_scope'),\n",
    "    redirect_uri=os.environ.get('spotify_redirect_url'),\n",
    "    client_id=os.environ.get('spotify_client_id'),\n",
    "    client_secret=os.environ.get('spotify_client_secret')\n",
    ")\n"
   ]
  },
  {
   "cell_type": "code",
   "execution_count": null,
   "metadata": {},
   "outputs": [],
   "source": [
    "client_credential_manager = SpotifyClientCredentials(\n",
    "    client_id=os.environ.get('spotify_client_id'),\n",
    "    client_secret=os.environ.get('spotify_client_secret')\n",
    ")\n",
    "sp = spy.Spotify(client_credentials_manager=client_credential_manager)\n"
   ]
  },
  {
   "cell_type": "code",
   "execution_count": null,
   "metadata": {},
   "outputs": [],
   "source": [
    "id = dados[dados['artists_song'] == nome_musica]['id'].iloc[0]"
   ]
  },
  {
   "cell_type": "code",
   "execution_count": 60,
   "metadata": {},
   "outputs": [],
   "source": [
    "def recommend_id(playlist):\n",
    "    urls = []\n",
    "    names = []\n",
    "\n",
    "    for i in playlist:\n",
    "        track = sp.track(i)\n",
    "        urls.append(track['album']['images'][1]['url'])\n",
    "        names.append(track['name'])\n",
    "    return names, urls\n"
   ]
  },
  {
   "cell_type": "code",
   "execution_count": 63,
   "metadata": {},
   "outputs": [
    {
     "data": {
      "text/plain": [
       "['https://i.scdn.co/image/ab67616d00001e02ba5db46f4b838ef6027e6f96',\n",
       " 'https://i.scdn.co/image/ab67616d00001e025ef878a782c987d38d82b605',\n",
       " 'https://i.scdn.co/image/ab67616d00001e0288e3cda6d29b2552d4d6bc43',\n",
       " 'https://i.scdn.co/image/ab67616d00001e0273304ce0653c7758dd94b259',\n",
       " 'https://i.scdn.co/image/ab67616d00001e02b46b5fb6fdc6f5c720fcb183',\n",
       " 'https://i.scdn.co/image/ab67616d00001e02891f0552bed344dc2bfe322f',\n",
       " 'https://i.scdn.co/image/ab67616d00001e022e3aeb1879f589ff44304411',\n",
       " 'https://i.scdn.co/image/ab67616d00001e0207aa1426cb2b3cfd8ad67c64',\n",
       " 'https://i.scdn.co/image/ab67616d00001e022cbb5f97a0853d1c7cbbe231',\n",
       " 'https://i.scdn.co/image/ab67616d00001e02f9f2d43ff44bdfbe8c556f8d']"
      ]
     },
     "execution_count": 63,
     "metadata": {},
     "output_type": "execute_result"
    }
   ],
   "source": [
    "names, urls = recommend_id(recommended['id'])\n",
    "urls"
   ]
  }
 ],
 "metadata": {
  "kernelspec": {
   "display_name": "Python 3.8.0 ('.venv': venv)",
   "language": "python",
   "name": "python3"
  },
  "language_info": {
   "codemirror_mode": {
    "name": "ipython",
    "version": 3
   },
   "file_extension": ".py",
   "mimetype": "text/x-python",
   "name": "python",
   "nbconvert_exporter": "python",
   "pygments_lexer": "ipython3",
   "version": "3.8.0"
  },
  "orig_nbformat": 4,
  "vscode": {
   "interpreter": {
    "hash": "9d0b661d29c8a07fec5417655ec45fd7f445e709452ff671571213b53f7fbb8c"
   }
  }
 },
 "nbformat": 4,
 "nbformat_minor": 2
}
